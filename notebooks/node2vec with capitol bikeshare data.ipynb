{
 "cells": [
  {
   "cell_type": "markdown",
   "metadata": {},
   "source": [
    "# Node2vec for network analysis\n",
    "\n",
    "One of the hottest topic of research in deep learning is graph neural networks. The last few years saw the number of publications regarding graph neural networks grow in some of the major conferences such as ICLR and NeurIPS. One of the first models to use neural networks and show a considerable improvement on the tasks of node classification and link prediction is *Node2vec*. The [paper](https://arxiv.org/abs/1607.00653), by researchers at Stanford University, took advantage of advances made in the nlp field to process graph data as a series of nodes generating embeddings of the nodes for use in downstream tasks. The authors avoid some of the difficulties in processing network data by creating random walks the nodes in the graph and using the information about the sequence of nodes traversed as the input data for the embedding algorithm, in this case the *skipgram* model of *word2vec*. This directly addressed one of the complexities of working with graph data the irregularity of the data structures. While images can be represented as are grids of pixels and text can be represented as sequences of symbols, it is not as simple when it comes to graphs. Graphs do not have fixed node ordering or reference point, there is also a wide variation in the structure of the graphs e.g. one node can be connected to 100 nodes while another one may only have one connection. The authors also point to the limitations of more traditional techniques such as dimensionality reduction since they scale poorly to large networks and the resulting representations perform poorly in downstream tasks. See this really great explanation on why *node2vec* excels where previous models failed by [Jure Leskovec](http://web.stanford.edu/class/cs224w/slides/07-noderepr.pdf) one of the authors of the original paper and a lead researcher on the field. \n",
    "\n",
    "Besides the idea of using embeddings to represent the data the model introduces *biased random walks*. The biased random walks and its parameters *p* and *q* allow the random walk to implement different exploration strategies. This [post](https://towardsdatascience.com/node2vec-graph-embedding-method-f306ac87004e) provides a good explanation of the biased random walks and how the distance from the original node and the nodes in the neighborhood of the subsequent node are affected by the *p* and *q* parameter. The return parameter *p* controls the likelihood of inmediately traveling back to a node recently traversed, and as such it can favor a breadth first search (BFS) where we explore local neighborhoods and find embeddings that better capture structural equivalence. The in-out parameter *q* controls the likelihood of walking away from the previous node and as such can favor a depth first search (DFS) which in turn produces embeddings that better capture homophily. To put it simply the authors generate random walks for each node to serve as sentences, and then use those sentences as a input for a shallow embedding model. After those embeddings are obtained they are used in downstream tasks, primarily node and link prediction.\n",
    "\n",
    "The dataset that I will use to test the model is the bike trip data from [Capitol Bike Share](https://s3.amazonaws.com/capitalbikeshare-data/index.html). The data comprises several million trips made between 2010 and 2020. I processed every trip as an adjacency list where the weights correspond to the number of trips made between each pair of nodes. The script to create the data can be found [here](https://github.com/jlealtru/website_tutorials/blob/main/notebooks/%20processing_capital_bikeshare_data.ipynb). To implement the node2vec algorithm I am using the library [stellargraph] (https://github.com/stellargraph/stellargraph), a graph machine learning library written in Python developed by Australia's national science agency. This library contains many graph neural networks models as well as some datasets and demos. I will be using the node2vec implementation that uses gensim as the engine to produce the embeddings with the skip gram algorithm; they also provide a Keras implementation for the word embeddings section.\n",
    "\n",
    "As mentioned in the node2vec paper the authors evaluated the performance of the model on node and link prediction tasks for different datasets. For this task the nodes in the data do not have a natural label to evaluate the performance of the model in a downstream task. So I will limit my analysis to generate embeddings and clustering as demonstrated in the paper with the *Les Miserables* data. Specifically I would like to cluster bike stations based on the role they play in the network (e.g. does a particular station serves as a hub or not)."
   ]
  },
  {
   "cell_type": "code",
   "execution_count": 1,
   "metadata": {},
   "outputs": [],
   "source": [
    "import pandas as pd\n",
    "import networkx as nx\n",
    "from gensim.models import Word2Vec\n",
    "import stellargraph as sg\n",
    "from stellargraph.data import BiasedRandomWalk\n",
    "import os\n",
    "import zipfile\n",
    "import numpy as np\n",
    "import matplotlib as plt\n",
    "from sklearn.manifold import TSNE\n",
    "from sklearn.metrics.pairwise import pairwise_distances\n",
    "from IPython.display import display, HTML\n",
    "import matplotlib.pyplot as plt\n",
    "import igraph as ig\n",
    "%matplotlib inline"
   ]
  },
  {
   "cell_type": "markdown",
   "metadata": {},
   "source": [
    "The first step in the analysis consists on preparing the data to be analyzed in a format that stellargraph can recognize. The library can import an edge list from a dataframe as long as the columns are specified in the right format with the edge pairs named 'source' and 'target' and any additional attribute for the edges after. In this case I saved the data in the appropiate format so importing it into stellargraph is trivial. I simply load the csv file as a dataframe and initialize a weighted directed graph.\n",
    "\n",
    "It is also worth nothing that while other versions of node2vec exists the stellargraph library makes the implementation of biased random walks for directed weighted networks possible."
   ]
  },
  {
   "cell_type": "code",
   "execution_count": 2,
   "metadata": {},
   "outputs": [],
   "source": [
    "# read csv data\n",
    "graph_data = pd.read_csv('../data/capital_bikes/graph_data_full.csv')"
   ]
  },
  {
   "cell_type": "code",
   "execution_count": 3,
   "metadata": {},
   "outputs": [],
   "source": [
    "# instantiate a directed graph with our edge list\n",
    "graph_bikes = sg.StellarDiGraph(edges = graph_data)"
   ]
  },
  {
   "cell_type": "code",
   "execution_count": 4,
   "metadata": {},
   "outputs": [
    {
     "data": {
      "text/plain": [
       "'StellarDiGraph: Directed multigraph\\n Nodes: 708, Edges: 150527\\n\\n Node types:\\n  default: [708]\\n    Features: none\\n    Edge types: default-default->default\\n\\n Edge types:\\n    default-default->default: [150527]\\n        Weights: range=[1, 42863], mean=175.382, std=688.561\\n        Features: none'"
      ]
     },
     "execution_count": 4,
     "metadata": {},
     "output_type": "execute_result"
    }
   ],
   "source": [
    "# check that the attributes are correctly loaded\n",
    "graph_bikes.info()"
   ]
  },
  {
   "cell_type": "markdown",
   "metadata": {},
   "source": [
    "The resulting graph has 708 different nodes (some of the stations in the data no longer exists but I decided to include them in the analysis to get a more complete view of the network) and 150 thousand plus edges. For this graph the weights represent the number of trips between each station so we are in the presence of a directed weighted graph. Node2vec can manage both directed and undirected as well as weighted graphs so there is no need to conduct any additional modifications.\n",
    "\n",
    "The next step in the analysis, and the critical part of it, is to define a list of random walks so we can use this list of *sentences* as the input for the word2vec algorithm. As mentioned in the introduction the main decision we can make revolves around how much do we want to favor the creation of embbeddings that capture homophily (communities) versus embeddings that capture the structural roles that the nodes play in the graph. Since I was interested in identifying bike stations that serve as hubs, meaning stations that serve links to other modes of transportation I decided to encourage exploration of nodes in a breadh first fashion to capture structural similarities. I use the parameters defined in the paper such as length of the random walk set to 80, number of random walks per root node to 10, a return value *p* of 0.25 to foster local exploration and an out parameter *q* with a value of 1. \n",
    "\n",
    "For the word2vec model I use 128 dimensions for the resulting embedding, a window size of 10, 20 epochs of training and the default parameters of the gensim word2vect implementation."
   ]
  },
  {
   "cell_type": "code",
   "execution_count": 5,
   "metadata": {},
   "outputs": [],
   "source": [
    "rw = BiasedRandomWalk(graph_bikes, p = 0.25, q = 1, n = 10, length = 80, \n",
    "                      seed=42, weighted = True)"
   ]
  },
  {
   "cell_type": "code",
   "execution_count": 6,
   "metadata": {},
   "outputs": [
    {
     "name": "stdout",
     "output_type": "stream",
     "text": [
      "Number of random walks: 7080\n"
     ]
    }
   ],
   "source": [
    "walks = rw.run(nodes=list(graph_bikes.nodes())\n",
    "               # root nodes\n",
    "              )\n",
    "print(\"Number of random walks: {}\".format(len(walks)))"
   ]
  },
  {
   "cell_type": "code",
   "execution_count": 7,
   "metadata": {},
   "outputs": [],
   "source": [
    "# we pass the random walks to a list\n",
    "str_walks = [[str(n) for n in walk] for walk in walks]"
   ]
  },
  {
   "cell_type": "markdown",
   "metadata": {},
   "source": [
    "After the random walks have been generated we parse them into lists of lists. This is an easy way to feed the data to word2vec to generate the embeddings. Since we have 708 nodes and we conducted 10 random walks per node we will have 7,080 walks to feed into the model; these walks are anologous to sentences in the word2vec world. "
   ]
  },
  {
   "cell_type": "code",
   "execution_count": 8,
   "metadata": {},
   "outputs": [],
   "source": [
    "# run the model for 20 epochs with a window size of 10.\n",
    "model = Word2Vec(str_walks, size=128, window=10, min_count=1, sg=1, workers=4, iter=20)"
   ]
  },
  {
   "cell_type": "markdown",
   "metadata": {},
   "source": [
    "After the model has run we use some of the same tools available with Gemsim and find the most similar 'nodes' in our network when compared to each other as measured by cosine distance. For example let's see what are the most similar stations to the bike station on the Convention Center in Downtown DC. This station is located in a central part of town, next to a metro station, and in an area with lots of foot traffic. The most similar stations are almost all in downtown DC and many of them have a metro station right next to it. But to really understand if we are capturing homopholy or structural roles I am going to cluster all the embeddings of our nodes and see if the location of those embeddings reveal something about the structure of the data.\n"
   ]
  },
  {
   "cell_type": "code",
   "execution_count": 9,
   "metadata": {},
   "outputs": [
    {
     "data": {
      "text/plain": [
       "[('8th & O St NW', 0.6857138872146606),\n",
       " ('11th & M St NW', 0.6807775497436523),\n",
       " ('Metro Center / 12th & G St NW', 0.6762484312057495),\n",
       " ('Largo Town Center Metro', 0.6759693622589111),\n",
       " ('8th & H St NW', 0.6740933656692505),\n",
       " ('1301 McCormick Dr / Wayne K. Curry Admin Bldg', 0.667463481426239),\n",
       " ('Thomas Circle', 0.6615563631057739),\n",
       " ('15th & K St NW', 0.6581323146820068),\n",
       " ('10th & K St NW', 0.6560524702072144),\n",
       " ('7th & F St NW / National Portrait Gallery', 0.6523153781890869)]"
      ]
     },
     "execution_count": 9,
     "metadata": {},
     "output_type": "execute_result"
    }
   ],
   "source": [
    "# check for the most similar station in the embeddings space\n",
    "model.wv.most_similar('Convention Center / 7th & M St NW')"
   ]
  },
  {
   "cell_type": "code",
   "execution_count": 10,
   "metadata": {},
   "outputs": [],
   "source": [
    "# Retrieve node embeddings and corresponding subjects\n",
    "node_ids = model.wv.index2word  # list of node IDs\n",
    "node_embeddings = (model.wv.vectors) "
   ]
  },
  {
   "cell_type": "markdown",
   "metadata": {},
   "source": [
    "We will use  *k-means*, the work horse of clustering algorithms and also the algorithm implemented in the node2vec paper, as well as *HDBSCAN* to identify clusters of nodes. For k-means we have to rely on the elbow method to identify the optimal number of algorithms. HBSCAN actually does not require that we set the number of clusters in advance. HDBSCAN uses a density-based approach that looks for regions of the data that are denser than the surrounding space and defines clusters based on this. The algorithm creates a circle around each point in the data based on the parameter `min_samples` till it emcompasses the number of points defined by this paramether, in practice this parameter is set to the same value as `min_cluster_size`. The circle will have a radius equal to the longest distance to the fartest point in the neighborhood with the points defined in the previous step; this is known as *core distance*. \n",
    "image\n",
    "\n",
    "source: "
   ]
  },
  {
   "cell_type": "markdown",
   "metadata": {},
   "source": [
    "The algorithm then evaluates how easy it is to get from one circle to other circle this is known as *mutual reachability distance*. The algorithm then uses an implementation of minimum spanning tree to build the hierarchy of clusters. Finally hdbscan walks through the tree and at each split checks if the new cluster created by the split has fewer points than the minimum cluster size, if this is true then drops those points as noise and keep the points in the parent cluster. If the split has the minimun size of points define the algorithm considers the split valid and have new clusters. The algorithm stops once the entire tree has been traversed. The [documentation](https://hdbscan.readthedocs.io/en/latest/how_hdbscan_works.html) of the pyhton library explains this process quite well. Also this [post](https://towardsdatascience.com/understanding-hdbscan-and-density-based-clustering-121dbee1320e)goes more in depth on how the algorithm works."
   ]
  },
  {
   "cell_type": "code",
   "execution_count": 11,
   "metadata": {},
   "outputs": [
    {
     "data": {
      "image/png": "[encoded data removed]",
      "text/plain": [
       "<Figure size 432x288 with 1 Axes>"
      ]
     },
     "metadata": {
      "needs_background": "light"
     },
     "output_type": "display_data"
    }
   ],
   "source": [
    "from sklearn.cluster import KMeans\n",
    "from sklearn import metrics\n",
    "from scipy.spatial.distance import cdist\n",
    "import numpy as np\n",
    "import matplotlib.pyplot as plt\n",
    "\n",
    "distortions = []\n",
    "K = range(3,16)\n",
    "for k in K:\n",
    "    k_cluster = KMeans(n_clusters=k, max_iter=500, random_state=3425).fit(node_embeddings)\n",
    "    k_cluster.fit(node_embeddings)\n",
    "    distortions.append(k_cluster.inertia_)\n",
    "    #distortions.append(sum(np.min(cdist(node_embeddings, k_cluster.cluster_centers_, \n",
    "    #                                    'euclidean'), axis=1)) / node_embeddings.shape[0])\n",
    "\n",
    "# Plot the elbow\n",
    "plt.plot(K, distortions, 'bx-')\n",
    "plt.xlabel('k')\n",
    "plt.ylabel('Distortion')\n",
    "plt.title('The Elbow Method showing the optimal k')\n",
    "plt.show()"
   ]
  },
  {
   "cell_type": "markdown",
   "metadata": {},
   "source": [
    "The elbow method suggest the optimal number of clusters is somethere probably around 10.\n",
    "\n",
    "For HDBSCAN we will select as the minimum cluster size as 5."
   ]
  },
  {
   "cell_type": "code",
   "execution_count": 12,
   "metadata": {},
   "outputs": [],
   "source": [
    "# get clustering for 8 labels\n",
    "kmeans_cluster = KMeans(n_clusters=10, \n",
    "                        init='k-means++', n_init=300, random_state=3425).fit(node_embeddings)\n",
    "kmeans_labels = kmeans_cluster.labels_"
   ]
  },
  {
   "cell_type": "code",
   "execution_count": 32,
   "metadata": {},
   "outputs": [],
   "source": [
    "# run the HDBSCAN cluster\n",
    "import hdbscan\n",
    "hdbs_model = hdbscan.HDBSCAN(min_cluster_size = 5)\n",
    "hdbs_model.fit(node_embeddings)\n",
    "hbds_scan_labels = hdbs_model.labels_"
   ]
  },
  {
   "cell_type": "code",
   "execution_count": 33,
   "metadata": {},
   "outputs": [],
   "source": [
    "# create a dataframe of the nodes with their cluster labels\n",
    "nodes_labels = pd.DataFrame(zip(node_ids, kmeans_labels, hbds_scan_labels), \n",
    "                            columns = ['node_ids','kmeans','hdbscan'])"
   ]
  },
  {
   "cell_type": "markdown",
   "metadata": {},
   "source": [
    "Now that we have our results lets explore the results of the embedding using t-distributed stochastic neighbor embedding (t-SNE). The algorithm converts the high-dimensional euclidean distances between datapoints into conditional probabilities trying to preserve close points together under a Gaussian. The algorithm maximizes the the probability density of a pair of a points where nearby data points will have a high proability while farther points will be separated. Once this is identified t-sne tries to represent the data in a lower dimensionality (usually 2 or 3 dimensions) using gradient descent. Finally the algorithm uses a t distribution to compute the similarity between two points in the low-dimensional space. This [post](https://towardsdatascience.com/t-distributed-stochastic-neighbor-embedding-t-sne-bb60ff109561) summarizes the algorithm in more detail. This technique proposed in a [paper](https://www.jmlr.org/papers/volume9/vandermaaten08a/vandermaaten08a.pdf) by van der Maaten and Hinton (yes the same Hinton that played a key role in deep learning) has become a very common algorith to represent high dimensional data in a 2 dimensional space.\n",
    "\n",
    "The algorithm is easy to implement but does require tinkering to obtain the desired results, specially with the `perplexity` and  `early_exaggeration` parameters. The values shown below are the ones that worked better for me."
   ]
  },
  {
   "cell_type": "code",
   "execution_count": 34,
   "metadata": {},
   "outputs": [],
   "source": [
    "# fit our embeddings with t-SNE\n",
    "from sklearn.manifold import TSNE\n",
    "trans = TSNE(n_components = 2, early_exaggeration = 10,\n",
    "                  perplexity = 35, n_iter = 1000, n_iter_without_progress = 500,\n",
    "                  learning_rate = 600.0, random_state = 42)\n",
    "node_embeddings_2d = trans.fit_transform(node_embeddings)"
   ]
  },
  {
   "cell_type": "code",
   "execution_count": 35,
   "metadata": {},
   "outputs": [],
   "source": [
    "# create the dataframe that has information about the nodes and their x and y coordinates\n",
    "data_tsne = pd.DataFrame(zip(node_ids, list(node_embeddings_2d[:,0]),list(node_embeddings_2d[:,1])),\n",
    "                        columns = ['node_ids','x','y'])\n",
    "data_tsne = pd.merge(data_tsne, nodes_labels, left_on='node_ids', right_on='node_ids',\n",
    "                how = 'left')"
   ]
  },
  {
   "cell_type": "code",
   "execution_count": 36,
   "metadata": {},
   "outputs": [
    {
     "data": {
      "text/plain": [
       "<function matplotlib.pyplot.show(close=None, block=None)>"
      ]
     },
     "execution_count": 36,
     "metadata": {},
     "output_type": "execute_result"
    },
    {
     "data": {
      "image/png": "[encoded data removed]",
      "text/plain": [
       "<Figure size 720x720 with 1 Axes>"
      ]
     },
     "metadata": {
      "needs_background": "light"
     },
     "output_type": "display_data"
    }
   ],
   "source": [
    "# plot using seaborn.\n",
    "import seaborn as sns\n",
    "plt.figure(figsize=(10, 10))\n",
    "sns.scatterplot(data=data_tsne, x='x', y='y',hue='kmeans', palette=\"bright\",\n",
    "               alpha=0.55, s=200).set_title('Node2vec clusters with k-means')\n",
    "plt.savefig('images/kmeans_node2vec.svg')\n",
    "plt.show"
   ]
  },
  {
   "cell_type": "markdown",
   "metadata": {},
   "source": [
    "We can see that kmeans did a decent job at capturing the structure of the clusters and they are clearly separated with a few overlaps. Now lets see how the HBSCAN clusters look. "
   ]
  },
  {
   "cell_type": "code",
   "execution_count": 37,
   "metadata": {},
   "outputs": [
    {
     "data": {
      "text/plain": [
       "<function matplotlib.pyplot.show(close=None, block=None)>"
      ]
     },
     "execution_count": 37,
     "metadata": {},
     "output_type": "execute_result"
    },
    {
     "data": {
      "image/png": "[encoded data removed]",
      "text/plain": [
       "<Figure size 720x720 with 1 Axes>"
      ]
     },
     "metadata": {
      "needs_background": "light"
     },
     "output_type": "display_data"
    }
   ],
   "source": [
    "plt.figure(figsize=(10, 10))\n",
    "sns.scatterplot(data=data_tsne, x='x', y='y',hue='hdbscan', palette=\"bright\",\n",
    "               alpha=0.75, s=200).set_title('Node2vec clusters with hdbscan')\n",
    "plt.savefig('images/hdbscan_node2vec.svg')\n",
    "plt.show"
   ]
  },
  {
   "cell_type": "markdown",
   "metadata": {},
   "source": [
    "We can see that TSNE in tandem with a simple kmean cluster does a good job at creating separable clusters. There is overlap between both techniques with a large central clusyer identified by both techniques. \n"
   ]
  },
  {
   "cell_type": "code",
   "execution_count": 38,
   "metadata": {},
   "outputs": [
    {
     "data": {
      "application/vnd.plotly.v1+json": {
       "config": {
        "plotlyServerURL": "https://plot.ly"
       },
       "data": [
        {
         "customdata": [
          [
           "Connecticut Ave & McKinley St NW"
          ],
          [
           "Yuma St & Tenley Circle NW"
          ],
          [
           "Connecticut Ave & Chevy Chase Lake Dr"
          ],
          [
           "Wisconsin Ave & Ingomar St NW"
          ],
          [
           "Woodmont Ave & Strathmore St"
          ],
          [
           "Connecticut Ave & Yuma St NW"
          ],
          [
           "Wisconsin Ave & Brandywine St NW"
          ],
          [
           "Pooks Hill Rd & Linden Ave"
          ],
          [
           "American University East Campus"
          ],
          [
           "Woodglen Dr & Executive Blvd"
          ],
          [
           "48th Pl & MacArthur Blvd NW"
          ],
          [
           "Van Ness Metro / UDC"
          ],
          [
           "Ward Circle / American University"
          ],
          [
           "Wisconsin Ave & Newark St NW"
          ],
          [
           "Tenleytown / Wisconsin Ave & Albemarle St NW"
          ],
          [
           "39th & Veazey St NW"
          ],
          [
           "Fessenden St & Wisconsin Ave NW"
          ],
          [
           "Connecticut & Nebraska Ave NW"
          ],
          [
           "Bethesda Ave & Arlington Rd"
          ],
          [
           "Norfolk Ave & Fairmont St"
          ],
          [
           "Cordell & Norfolk Ave"
          ],
          [
           "Montgomery & East Ln"
          ],
          [
           "Friendship Hts Metro / Wisconsin Ave & Wisconsin Cir"
          ],
          [
           "47th & Elm St"
          ],
          [
           "Battery Ln & Trolley Trail"
          ],
          [
           "Norfolk & Rugby Ave"
          ],
          [
           "Offutt Ln & Chevy Chase Dr"
          ],
          [
           "Old Georgetown Rd & Southwick St"
          ],
          [
           "Friendship Blvd & Willard Ave"
          ],
          [
           "Connecticut Ave & Tilden St NW"
          ],
          [
           "River Rd & Landy Ln"
          ],
          [
           "Bethesda Metro / Wisconsin Ave & Old Georgetown Rd"
          ],
          [
           "34th & Water St NW"
          ]
         ],
         "hovertemplate": "<b>%{hovertext}</b><br><br>kmeans=9<br>size=%{marker.size}<br>LATITUDE=%{lat}<br>LONGITUDE=%{lon}<br>node_ids=%{customdata[0]}<extra></extra>",
         "hovertext": [
          "Connecticut Ave & McKinley St NW",
          "Yuma St & Tenley Circle NW",
          "Connecticut Ave & Chevy Chase Lake Dr",
          "Wisconsin Ave & Ingomar St NW",
          "Woodmont Ave & Strathmore St",
          "Connecticut Ave & Yuma St NW",
          "Wisconsin Ave & Brandywine St NW",
          "Pooks Hill Rd & Linden Ave",
          "American University East Campus",
          "Woodglen Dr & Executive Blvd",
          "48th Pl & MacArthur Blvd NW",
          "Van Ness Metro / UDC",
          "Ward Circle / American University",
          "Wisconsin Ave & Newark St NW",
          "Tenleytown / Wisconsin Ave & Albemarle St NW",
          "39th & Veazey St NW",
          "Fessenden St & Wisconsin Ave NW",
          "Connecticut & Nebraska Ave NW",
          "Bethesda Ave & Arlington Rd",
          "Norfolk Ave & Fairmont St",
          "Cordell & Norfolk Ave",
          "Montgomery & East Ln",
          "Friendship Hts Metro / Wisconsin Ave & Wisconsin Cir",
          "47th & Elm St",
          "Battery Ln & Trolley Trail",
          "Norfolk & Rugby Ave",
          "Offutt Ln & Chevy Chase Dr",
          "Old Georgetown Rd & Southwick St",
          "Friendship Blvd & Willard Ave",
          "Connecticut Ave & Tilden St NW",
          "River Rd & Landy Ln",
          "Bethesda Metro / Wisconsin Ave & Old Georgetown Rd",
          "34th & Water St NW"
         ],
         "lat": [
          38.964544,
          38.946182,
          38.994113,
          38.958267,
          38.979875,
          38.947156,
          38.949813,
          39.014716,
          38.936298,
          39.04317,
          38.917304,
          38.944551,
          38.938736,
          38.934881,
          38.947607,
          38.943837,
          38.954812,
          38.955016,
          38.981103,
          38.988562,
          38.98954000000001,
          38.983525,
          38.961763,
          38.982456,
          38.992375,
          38.990639,
          38.977093,
          38.999634,
          38.96115,
          38.941139,
          38.964992,
          38.984691,
          38.903663
         ],
         "legendgroup": "9",
         "lon": [
          -77.075135,
          -77.08059,
          -77.076986,
          -77.084636,
          -77.093522,
          -77.065115,
          -77.080217,
          -77.10714300000002,
          -77.087128,
          -77.1135,
          -77.09629,
          -77.063896,
          -77.087171,
          -77.072755,
          -77.079382,
          -77.077078,
          -77.082426,
          -77.069956,
          -77.097426,
          -77.096539,
          -77.098029,
          -77.09536700000002,
          -77.085998,
          -77.09199100000002,
          -77.100104,
          -77.100239,
          -77.094589,
          -77.109647,
          -77.08865899999998,
          -77.061977,
          -77.103381,
          -77.094537,
          -77.06766800000003
         ],
         "marker": {
          "color": "#636EFA",
          "size": [
           5,
           5,
           5,
           5,
           5,
           5,
           5,
           5,
           5,
           5,
           5,
           5,
           5,
           5,
           5,
           5,
           5,
           5,
           5,
           5,
           5,
           5,
           5,
           5,
           5,
           5,
           5,
           5,
           5,
           5,
           5,
           5,
           5
          ],
          "sizemode": "area",
          "sizeref": 0.05
         },
         "mode": "markers",
         "name": "9",
         "showlegend": true,
         "subplot": "mapbox",
         "type": "scattermapbox"
        },
        {
         "customdata": [
          [
           "15th & L St NW"
          ],
          [
           "17th & G St NW"
          ],
          [
           "18th & R St NW"
          ],
          [
           "Union Market"
          ],
          [
           "19th & G St NW"
          ],
          [
           "2nd St & Seaton Pl NE"
          ],
          [
           "31st & Water St NW"
          ],
          [
           "11th & S St NW"
          ],
          [
           "2nd & G St NE"
          ],
          [
           "8th & O St NW"
          ],
          [
           "Oklahoma Ave & D St NE"
          ],
          [
           "Maryland Ave & E St NE"
          ],
          [
           "New York Ave & Hecht Ave NE"
          ],
          [
           "16th & Irving St NW"
          ],
          [
           "16th & R St NW"
          ],
          [
           "14th & L St NW"
          ],
          [
           "1st & O St NW"
          ],
          [
           "18th & C St NW"
          ],
          [
           "22nd & P ST NW"
          ],
          [
           "14th & Girard St NW"
          ],
          [
           "11th & O St NW"
          ],
          [
           "10th St & L'Enfant Plaza SW"
          ],
          [
           "2nd St & Massachusetts Ave NE"
          ],
          [
           "4th St & Madison Dr NW"
          ],
          [
           "Henry Bacon Dr & Lincoln Memorial Circle NW"
          ],
          [
           "17th St & Independence Ave SW"
          ],
          [
           "4th St & K St NW"
          ],
          [
           "14th & Irving St NW"
          ],
          [
           "Vermont Ave & I St NW"
          ],
          [
           "24th & R St NE / National Arboretum"
          ],
          [
           "1st & D St SE"
          ],
          [
           "22nd St & Constitution Ave NW"
          ],
          [
           "15th & W St NW"
          ],
          [
           "12th St & Pennsylvania Ave SE"
          ],
          [
           "6th & K St NE"
          ],
          [
           "7th & E St SW"
          ],
          [
           "Potomac & M St NW"
          ],
          [
           "Columbia & Ontario Rd NW"
          ],
          [
           "Virginia Ave & 25th St NW"
          ],
          [
           "15th & M St NW"
          ],
          [
           "11th & Girard St NW"
          ],
          [
           "Connecticut Ave & R St NW"
          ],
          [
           "15th St & Constitution Ave NW"
          ],
          [
           "23rd & M St NW"
          ],
          [
           "15th St & Pennsylvania Ave NW"
          ],
          [
           "Maine Ave & 9th St SW"
          ],
          [
           "Lincoln Rd & Seaton Pl NE/Harry Thomas Rec Center"
          ],
          [
           "Georgia Ave & Kennedy St NW"
          ],
          [
           "7th St & Massachusetts Ave NE"
          ],
          [
           "1301 McCormick Dr / Wayne K. Curry Admin Bldg"
          ],
          [
           "Largo Town Center Metro"
          ],
          [
           "Potomac Ave & Half St SW"
          ],
          [
           "14th & Newton St NW"
          ],
          [
           "1st & M St SE"
          ],
          [
           "11th & Park Rd NW"
          ],
          [
           "4th & M St SE"
          ],
          [
           "Kansas Ave & Sherman Cr NW"
          ],
          [
           "7th & K St NW"
          ],
          [
           "King Greenleaf Rec Center"
          ],
          [
           "Montello Ave & Holbrook Terr NE"
          ],
          [
           "New Jersey Ave & F St NW"
          ],
          [
           "Maryland Ave & 17th St NE"
          ],
          [
           "Massachusetts Ave & 6th St NE"
          ],
          [
           "Woodley Park Metro / Calvert St & Connecticut Ave NW"
          ],
          [
           "Trinidad Rec Center"
          ],
          [
           "Rosedale Rec Center"
          ],
          [
           "11th & C St SE"
          ],
          [
           "18th & New Hampshire Ave NW"
          ],
          [
           "Georgia Ave & Morton St NW"
          ],
          [
           "7th & S St NW"
          ],
          [
           "North Capitol & R St NE"
          ],
          [
           "17th & Upshur St NW"
          ],
          [
           "Grant Circle"
          ],
          [
           "14th & Otis Pl NW"
          ],
          [
           "Edgewood Rec Center"
          ],
          [
           "8th & K St NE"
          ],
          [
           "Reservoir Rd & 38th St NW"
          ],
          [
           "22nd & H St NW"
          ],
          [
           "8th & H St NE"
          ],
          [
           "Hardy Rec Center"
          ],
          [
           "1st & K St NE"
          ],
          [
           "19th St & Pennsylvania Ave NW"
          ],
          [
           "14th & V St NW"
          ],
          [
           "11th & Kenyon St NW"
          ],
          [
           "16th & Harvard St NW"
          ],
          [
           "Adams Mill & Columbia Rd NW"
          ],
          [
           "14th & Harvard St NW"
          ],
          [
           "Calvert & Biltmore St NW"
          ],
          [
           "Lamont & Mt Pleasant NW"
          ],
          [
           "4th & M St SW"
          ],
          [
           "15th & P St NW"
          ],
          [
           "14th & R St NW"
          ],
          [
           "14th & Rhode Island Ave NW"
          ],
          [
           "20th & E St NW"
          ],
          [
           "21st & I St NW"
          ],
          [
           "Georgia & New Hampshire Ave NW"
          ],
          [
           "14th St & Spring Rd NW"
          ],
          [
           "John McCormack Dr & Michigan Ave NE"
          ],
          [
           "5th & K St NW"
          ],
          [
           "19th & East Capitol St SE"
          ],
          [
           "Park Rd & Holmead Pl NW"
          ],
          [
           "Connecticut Ave & Newark St NW / Cleveland Park"
          ],
          [
           "19th & E Street NW"
          ],
          [
           "4th & W St NE"
          ],
          [
           "10th & U St NW"
          ],
          [
           "Georgia Ave and Fairmont St NW"
          ],
          [
           "1st & N St  SE"
          ],
          [
           "20th St & Florida Ave NW"
          ],
          [
           "7th & T St NW"
          ],
          [
           "M St & New Jersey Ave SE"
          ],
          [
           "Massachusetts Ave & Dupont Circle NW"
          ],
          [
           "1st & M St NE"
          ],
          [
           "New Hampshire Ave & Ward Pl NW"
          ],
          [
           "17th & K St NW"
          ],
          [
           "3rd & H St NW"
          ],
          [
           "3rd & D St SE"
          ],
          [
           "Potomac & Pennsylvania Ave SE"
          ],
          [
           "13th & E St SE"
          ],
          [
           "17th & Corcoran St NW"
          ],
          [
           "Florida Ave & R St NW"
          ],
          [
           "8th & Eye St SE / Barracks Row"
          ],
          [
           "14th St Heights / 14th & Crittenden St NW"
          ],
          [
           "Eastern Market / 7th & North Carolina Ave SE"
          ],
          [
           "14th St & New York Ave NW"
          ],
          [
           "USDA / 12th & C St SW"
          ],
          [
           "Georgetown Harbor / 30th St NW"
          ],
          [
           "12th & Newton St NE"
          ],
          [
           "US Dept of State / Virginia Ave & 21st St NW"
          ],
          [
           "L'Enfant Plaza / 7th & C St SW"
          ],
          [
           "10th St & Constitution Ave NW"
          ],
          [
           "Kennedy Center"
          ],
          [
           "Eastern Market Metro / Pennsylvania Ave & 7th St SE"
          ],
          [
           "18th & M St NW"
          ],
          [
           "13th & H St NE"
          ],
          [
           "5th & F St NW"
          ],
          [
           "New York Ave & 15th St NW"
          ],
          [
           "Convention Center / 7th & M St NW"
          ],
          [
           "Harvard St & Adams Mill Rd NW"
          ],
          [
           "18th & L St NW"
          ],
          [
           "C & O Canal & Wisconsin Ave NW"
          ],
          [
           "Maine Ave & 7th St SW"
          ],
          [
           "D St & Maryland Ave NE"
          ],
          [
           "34th St & Wisconsin Ave NW"
          ],
          [
           "13th St & New York Ave NW"
          ],
          [
           "8th & H St NW"
          ],
          [
           "10th & Monroe St NE"
          ],
          [
           "Eckington Pl & Q St NE"
          ],
          [
           "6th & H St NE"
          ],
          [
           "3rd & H St NE"
          ],
          [
           "Bladensburg Rd & Benning Rd NE"
          ],
          [
           "4th & East Capitol St NE"
          ],
          [
           "13th & D St NE"
          ],
          [
           "New Hampshire Ave & T St NW"
          ],
          [
           "Metro Center / 12th & G St NW"
          ],
          [
           "14th & D St NW / Ronald Reagan Building"
          ],
          [
           "7th & F St NW / National Portrait Gallery"
          ],
          [
           "17th & K St NW / Farragut Square"
          ],
          [
           "20th & O St NW / Dupont South"
          ],
          [
           "4th & D St NW / Judiciary Square"
          ],
          [
           "19th St & Constitution Ave NW"
          ],
          [
           "37th & O St NW / Georgetown University"
          ],
          [
           "11th & H St NE"
          ],
          [
           "25th St & Pennsylvania Ave NW"
          ],
          [
           "Columbus Circle / Union Station"
          ],
          [
           "North Capitol St & F St NW"
          ],
          [
           "11th & M St NW"
          ],
          [
           "36th & Calvert St NW / Glover Park"
          ],
          [
           "14th & G St NW"
          ],
          [
           "Ohio Dr & West Basin Dr SW / MLK & FDR Memorials"
          ],
          [
           "11th & F St NW"
          ],
          [
           "21st St & Constitution Ave NW"
          ],
          [
           "Columbia Rd & Belmont St NW"
          ],
          [
           "Rhode Island & Connecticut Ave NW"
          ],
          [
           "Thomas Circle"
          ],
          [
           "18th St & Pennsylvania Ave NW"
          ],
          [
           "4th & C St SW"
          ],
          [
           "4th & E St SW"
          ],
          [
           "3rd & G St SE"
          ],
          [
           "7th & R St NW / Shaw Library"
          ],
          [
           "9th & Upshur St NW"
          ],
          [
           "1st & Rhode Island Ave NW"
          ],
          [
           "Columbia Rd & Georgia Ave NW"
          ],
          [
           "California St & Florida Ave NW"
          ],
          [
           "3000 Connecticut Ave NW / National Zoo"
          ],
          [
           "M St & Pennsylvania Ave NW"
          ],
          [
           "15th St & Massachusetts Ave SE"
          ],
          [
           "10th & K St NW"
          ],
          [
           "1st & K St SE"
          ],
          [
           "39th & Calvert St NW / Stoddert"
          ],
          [
           "1st & Washington Hospital Center NW"
          ],
          [
           "Jefferson Dr & 14th St SW"
          ],
          [
           "Smithsonian-National Mall / Jefferson Dr & 12th St SW"
          ],
          [
           "6th St & Indiana Ave NW"
          ],
          [
           "Jefferson Memorial"
          ],
          [
           "Gallaudet / 8th St & Florida Ave NE"
          ],
          [
           "20th & L St NW"
          ],
          [
           "12th & L St NW"
          ],
          [
           "21st St & Pennsylvania Ave NW"
          ],
          [
           "19th & K St NW"
          ],
          [
           "15th & K St NW"
          ],
          [
           "24th & N St NW"
          ],
          [
           "10th & E St NW"
          ],
          [
           "22nd & I St NW / Foggy Bottom"
          ],
          [
           "Lincoln Memorial"
          ],
          [
           "20th St & Virginia Ave NW"
          ],
          [
           "5th St & Massachusetts Ave NW"
          ],
          [
           "3rd & M St NE"
          ],
          [
           "18th St & Wyoming Ave NW"
          ],
          [
           "Georgia Ave & Emerson St NW"
          ],
          [
           "14th & Upshur St NW"
          ],
          [
           "Wisconsin Ave & O St NW"
          ],
          [
           "17th St & Massachusetts Ave NW"
          ],
          [
           "15th & Euclid St  NW"
          ],
          [
           "8th & East Capitol St NE"
          ],
          [
           "New Jersey Ave & R St NW"
          ],
          [
           "15th & East Capitol St NE"
          ],
          [
           "8th & F St NE"
          ],
          [
           "18th St & Rhode Island Ave NE"
          ],
          [
           "15th & F St NE"
          ],
          [
           "12th & Irving St NE"
          ],
          [
           "Neal St & Trinidad Ave NE"
          ],
          [
           "12th & U St NW"
          ],
          [
           "3rd St & Pennsylvania Ave SE"
          ],
          [
           "8th & D St NW"
          ],
          [
           "3rd & Elm St NW"
          ],
          [
           "Rhode Island Ave & V St NE"
          ],
          [
           "Constitution Ave & 2nd St NW/DOL"
          ],
          [
           "Washington & Independence Ave SW/HHS"
          ],
          [
           "Independence Ave & L'Enfant Plaza SW/DOE"
          ],
          [
           "Hamlin & 7th St NE"
          ],
          [
           "14th & Belmont St NW"
          ],
          [
           "3rd & Tingey St SE"
          ],
          [
           "10th & Florida Ave NW"
          ],
          [
           "Potomac Ave & 8th St SE"
          ],
          [
           "Calvert St & Woodley Pl NW"
          ],
          [
           "New Jersey Ave & N St NW/Dunbar HS"
          ],
          [
           "Hains Point/Buckeye & Ohio Dr SW"
          ],
          [
           "North Capitol St & G Pl NE"
          ],
          [
           "1st & H St NW"
          ],
          [
           "Rhode Island Ave Metro"
          ],
          [
           "10th & G St NW"
          ],
          [
           "New Hampshire Ave & 24th St NW"
          ]
         ],
         "hovertemplate": "<b>%{hovertext}</b><br><br>kmeans=2<br>size=%{marker.size}<br>LATITUDE=%{lat}<br>LONGITUDE=%{lon}<br>node_ids=%{customdata[0]}<extra></extra>",
         "hovertext": [
          "15th & L St NW",
          "17th & G St NW",
          "18th & R St NW",
          "Union Market",
          "19th & G St NW",
          "2nd St & Seaton Pl NE",
          "31st & Water St NW",
          "11th & S St NW",
          "2nd & G St NE",
          "8th & O St NW",
          "Oklahoma Ave & D St NE",
          "Maryland Ave & E St NE",
          "New York Ave & Hecht Ave NE",
          "16th & Irving St NW",
          "16th & R St NW",
          "14th & L St NW",
          "1st & O St NW",
          "18th & C St NW",
          "22nd & P ST NW",
          "14th & Girard St NW",
          "11th & O St NW",
          "10th St & L'Enfant Plaza SW",
          "2nd St & Massachusetts Ave NE",
          "4th St & Madison Dr NW",
          "Henry Bacon Dr & Lincoln Memorial Circle NW",
          "17th St & Independence Ave SW",
          "4th St & K St NW",
          "14th & Irving St NW",
          "Vermont Ave & I St NW",
          "24th & R St NE / National Arboretum",
          "1st & D St SE",
          "22nd St & Constitution Ave NW",
          "15th & W St NW",
          "12th St & Pennsylvania Ave SE",
          "6th & K St NE",
          "7th & E St SW",
          "Potomac & M St NW",
          "Columbia & Ontario Rd NW",
          "Virginia Ave & 25th St NW",
          "15th & M St NW",
          "11th & Girard St NW",
          "Connecticut Ave & R St NW",
          "15th St & Constitution Ave NW",
          "23rd & M St NW",
          "15th St & Pennsylvania Ave NW",
          "Maine Ave & 9th St SW",
          "Lincoln Rd & Seaton Pl NE/Harry Thomas Rec Center",
          "Georgia Ave & Kennedy St NW",
          "7th St & Massachusetts Ave NE",
          "1301 McCormick Dr / Wayne K. Curry Admin Bldg",
          "Largo Town Center Metro",
          "Potomac Ave & Half St SW",
          "14th & Newton St NW",
          "1st & M St SE",
          "11th & Park Rd NW",
          "4th & M St SE",
          "Kansas Ave & Sherman Cr NW",
          "7th & K St NW",
          "King Greenleaf Rec Center",
          "Montello Ave & Holbrook Terr NE",
          "New Jersey Ave & F St NW",
          "Maryland Ave & 17th St NE",
          "Massachusetts Ave & 6th St NE",
          "Woodley Park Metro / Calvert St & Connecticut Ave NW",
          "Trinidad Rec Center",
          "Rosedale Rec Center",
          "11th & C St SE",
          "18th & New Hampshire Ave NW",
          "Georgia Ave & Morton St NW",
          "7th & S St NW",
          "North Capitol & R St NE",
          "17th & Upshur St NW",
          "Grant Circle",
          "14th & Otis Pl NW",
          "Edgewood Rec Center",
          "8th & K St NE",
          "Reservoir Rd & 38th St NW",
          "22nd & H St NW",
          "8th & H St NE",
          "Hardy Rec Center",
          "1st & K St NE",
          "19th St & Pennsylvania Ave NW",
          "14th & V St NW",
          "11th & Kenyon St NW",
          "16th & Harvard St NW",
          "Adams Mill & Columbia Rd NW",
          "14th & Harvard St NW",
          "Calvert & Biltmore St NW",
          "Lamont & Mt Pleasant NW",
          "4th & M St SW",
          "15th & P St NW",
          "14th & R St NW",
          "14th & Rhode Island Ave NW",
          "20th & E St NW",
          "21st & I St NW",
          "Georgia & New Hampshire Ave NW",
          "14th St & Spring Rd NW",
          "John McCormack Dr & Michigan Ave NE",
          "5th & K St NW",
          "19th & East Capitol St SE",
          "Park Rd & Holmead Pl NW",
          "Connecticut Ave & Newark St NW / Cleveland Park",
          "19th & E Street NW",
          "4th & W St NE",
          "10th & U St NW",
          "Georgia Ave and Fairmont St NW",
          "1st & N St  SE",
          "20th St & Florida Ave NW",
          "7th & T St NW",
          "M St & New Jersey Ave SE",
          "Massachusetts Ave & Dupont Circle NW",
          "1st & M St NE",
          "New Hampshire Ave & Ward Pl NW",
          "17th & K St NW",
          "3rd & H St NW",
          "3rd & D St SE",
          "Potomac & Pennsylvania Ave SE",
          "13th & E St SE",
          "17th & Corcoran St NW",
          "Florida Ave & R St NW",
          "8th & Eye St SE / Barracks Row",
          "14th St Heights / 14th & Crittenden St NW",
          "Eastern Market / 7th & North Carolina Ave SE",
          "14th St & New York Ave NW",
          "USDA / 12th & C St SW",
          "Georgetown Harbor / 30th St NW",
          "12th & Newton St NE",
          "US Dept of State / Virginia Ave & 21st St NW",
          "L'Enfant Plaza / 7th & C St SW",
          "10th St & Constitution Ave NW",
          "Kennedy Center",
          "Eastern Market Metro / Pennsylvania Ave & 7th St SE",
          "18th & M St NW",
          "13th & H St NE",
          "5th & F St NW",
          "New York Ave & 15th St NW",
          "Convention Center / 7th & M St NW",
          "Harvard St & Adams Mill Rd NW",
          "18th & L St NW",
          "C & O Canal & Wisconsin Ave NW",
          "Maine Ave & 7th St SW",
          "D St & Maryland Ave NE",
          "34th St & Wisconsin Ave NW",
          "13th St & New York Ave NW",
          "8th & H St NW",
          "10th & Monroe St NE",
          "Eckington Pl & Q St NE",
          "6th & H St NE",
          "3rd & H St NE",
          "Bladensburg Rd & Benning Rd NE",
          "4th & East Capitol St NE",
          "13th & D St NE",
          "New Hampshire Ave & T St NW",
          "Metro Center / 12th & G St NW",
          "14th & D St NW / Ronald Reagan Building",
          "7th & F St NW / National Portrait Gallery",
          "17th & K St NW / Farragut Square",
          "20th & O St NW / Dupont South",
          "4th & D St NW / Judiciary Square",
          "19th St & Constitution Ave NW",
          "37th & O St NW / Georgetown University",
          "11th & H St NE",
          "25th St & Pennsylvania Ave NW",
          "Columbus Circle / Union Station",
          "North Capitol St & F St NW",
          "11th & M St NW",
          "36th & Calvert St NW / Glover Park",
          "14th & G St NW",
          "Ohio Dr & West Basin Dr SW / MLK & FDR Memorials",
          "11th & F St NW",
          "21st St & Constitution Ave NW",
          "Columbia Rd & Belmont St NW",
          "Rhode Island & Connecticut Ave NW",
          "Thomas Circle",
          "18th St & Pennsylvania Ave NW",
          "4th & C St SW",
          "4th & E St SW",
          "3rd & G St SE",
          "7th & R St NW / Shaw Library",
          "9th & Upshur St NW",
          "1st & Rhode Island Ave NW",
          "Columbia Rd & Georgia Ave NW",
          "California St & Florida Ave NW",
          "3000 Connecticut Ave NW / National Zoo",
          "M St & Pennsylvania Ave NW",
          "15th St & Massachusetts Ave SE",
          "10th & K St NW",
          "1st & K St SE",
          "39th & Calvert St NW / Stoddert",
          "1st & Washington Hospital Center NW",
          "Jefferson Dr & 14th St SW",
          "Smithsonian-National Mall / Jefferson Dr & 12th St SW",
          "6th St & Indiana Ave NW",
          "Jefferson Memorial",
          "Gallaudet / 8th St & Florida Ave NE",
          "20th & L St NW",
          "12th & L St NW",
          "21st St & Pennsylvania Ave NW",
          "19th & K St NW",
          "15th & K St NW",
          "24th & N St NW",
          "10th & E St NW",
          "22nd & I St NW / Foggy Bottom",
          "Lincoln Memorial",
          "20th St & Virginia Ave NW",
          "5th St & Massachusetts Ave NW",
          "3rd & M St NE",
          "18th St & Wyoming Ave NW",
          "Georgia Ave & Emerson St NW",
          "14th & Upshur St NW",
          "Wisconsin Ave & O St NW",
          "17th St & Massachusetts Ave NW",
          "15th & Euclid St  NW",
          "8th & East Capitol St NE",
          "New Jersey Ave & R St NW",
          "15th & East Capitol St NE",
          "8th & F St NE",
          "18th St & Rhode Island Ave NE",
          "15th & F St NE",
          "12th & Irving St NE",
          "Neal St & Trinidad Ave NE",
          "12th & U St NW",
          "3rd St & Pennsylvania Ave SE",
          "8th & D St NW",
          "3rd & Elm St NW",
          "Rhode Island Ave & V St NE",
          "Constitution Ave & 2nd St NW/DOL",
          "Washington & Independence Ave SW/HHS",
          "Independence Ave & L'Enfant Plaza SW/DOE",
          "Hamlin & 7th St NE",
          "14th & Belmont St NW",
          "3rd & Tingey St SE",
          "10th & Florida Ave NW",
          "Potomac Ave & 8th St SE",
          "Calvert St & Woodley Pl NW",
          "New Jersey Ave & N St NW/Dunbar HS",
          "Hains Point/Buckeye & Ohio Dr SW",
          "North Capitol St & G Pl NE",
          "1st & H St NW",
          "Rhode Island Ave Metro",
          "10th & G St NW",
          "New Hampshire Ave & 24th St NW"
         ],
         "lat": [
          38.90366,
          38.8983,
          38.912648,
          38.907908,
          38.898412,
          38.914751,
          38.902814,
          38.913761,
          38.89967,
          38.90864000000001,
          38.894474,
          38.896134,
          38.915604,
          38.928893,
          38.912652,
          38.903658,
          38.908643,
          38.893511,
          38.909394,
          38.92528400000001,
          38.90843,
          38.884323,
          38.894972,
          38.890493,
          38.890544,
          38.888097,
          38.902406,
          38.928552,
          38.901136,
          38.91263,
          38.884916,
          38.892441,
          38.919086,
          38.882489,
          38.902932,
          38.88345,
          38.905368,
          38.924088,
          38.8995,
          38.905424,
          38.925636,
          38.912644,
          38.892244,
          38.905303,
          38.896465,
          38.88044,
          38.915,
          38.95674,
          38.89222,
          38.908391,
          38.899811,
          38.870201,
          38.931991,
          38.876893,
          38.931942,
          38.876751,
          38.948057,
          38.902674,
          38.876211,
          38.907444,
          38.897108,
          38.901935,
          38.892934,
          38.923389,
          38.906299,
          38.89780800000001,
          38.885908,
          38.911268,
          38.93212800000001,
          38.914204,
          38.912524,
          38.942146,
          38.942025,
          38.934405,
          38.924144,
          38.902732,
          38.91261400000001,
          38.898925,
          38.899942,
          38.909701,
          38.902386,
          38.9003,
          38.917931,
          38.929464,
          38.926088,
          38.922925,
          38.9268,
          38.923203,
          38.9319,
          38.8767,
          38.90985,
          38.913046,
          38.9086,
          38.8963,
          38.900711,
          38.936684,
          38.9375,
          38.9346,
          38.90304,
          38.8896,
          38.9308,
          38.934267,
          38.8952,
          38.919077,
          38.9172,
          38.9249,
          38.8743,
          38.9154,
          38.9155,
          38.8763,
          38.9101,
          38.9057,
          38.905711,
          38.90276,
          38.899408,
          38.8851,
          38.8803,
          38.882915,
          38.9121,
          38.9126,
          38.8792,
          38.947774,
          38.886952,
          38.899632,
          38.886277,
          38.902221,
          38.933668,
          38.894919,
          38.886266,
          38.893028,
          38.897293,
          38.884,
          38.905067,
          38.900427,
          38.897222,
          38.899032,
          38.905737,
          38.927872,
          38.903741,
          38.90375,
          38.878694,
          38.894758,
          38.916442,
          38.900283,
          38.8997,
          38.93251400000001,
          38.910972,
          38.899972,
          38.900412,
          38.900413,
          38.889955,
          38.894832,
          38.91554,
          38.898364,
          38.894514,
          38.897283,
          38.902061,
          38.908905,
          38.895344,
          38.8923,
          38.90774,
          38.899983,
          38.903827,
          38.89696,
          38.897446,
          38.905607,
          38.922581,
          38.898409,
          38.88412,
          38.897857,
          38.892459,
          38.920669,
          38.905996,
          38.9059,
          38.89968,
          38.886372,
          38.88412,
          38.881185,
          38.912719,
          38.9418,
          38.915417,
          38.928121,
          38.917761,
          38.930282,
          38.905126,
          38.88732,
          38.9024,
          38.878854,
          38.922649,
          38.928743,
          38.888553,
          38.888767,
          38.894573,
          38.879819,
          38.90509,
          38.903584,
          38.903819,
          38.901539,
          38.902204,
          38.902,
          38.9066,
          38.89591400000001,
          38.90088,
          38.888251,
          38.894722,
          38.90093,
          38.90547,
          38.918809,
          38.949662,
          38.942475,
          38.90849,
          38.908142,
          38.92333,
          38.889988,
          38.91265900000001,
          38.889908,
          38.897274,
          38.927095,
          38.897195,
          38.928644,
          38.903732,
          38.916787,
          38.88737800000001,
          38.894851,
          38.917622,
          38.918155,
          38.892275,
          38.886978000000006,
          38.887312,
          38.927497,
          38.921074,
          38.87501,
          38.920387,
          38.876737,
          38.923583,
          38.907333,
          38.878433,
          38.899703,
          38.900358,
          38.920682,
          38.898243,
          38.901755
         ],
         "legendgroup": "2",
         "lon": [
          -77.034846,
          -77.039732,
          -77.041834,
          -76.99707,
          -77.043182,
          -77.00356,
          -77.06104300000001,
          -77.027025,
          -77.00366600000002,
          -77.02277,
          -76.974828,
          -76.9929,
          -76.983683,
          -77.03625,
          -77.036278,
          -77.03173699999998,
          -77.012365,
          -77.04154399999999,
          -77.048728,
          -77.032375,
          -77.02714,
          -77.02601,
          -77.003135,
          -77.017253,
          -77.049379,
          -77.038325,
          -77.016006,
          -77.032224,
          -77.034451,
          -76.971923,
          -77.005965,
          -77.048947,
          -77.034502,
          -76.990121,
          -76.998405,
          -77.021741,
          -77.065149,
          -77.040787,
          -77.05415500000002,
          -77.034674,
          -77.027112,
          -77.04564,
          -77.033234,
          -77.050264,
          -77.033381,
          -77.02523599999998,
          -77.0078,
          -77.02790999999998,
          -76.99602,
          -76.84326300000002,
          -76.844604,
          -77.010837,
          -77.032956,
          -77.006072,
          -77.028357,
          -77.000736,
          -77.021467,
          -77.021392,
          -77.012443,
          -76.986813,
          -77.011616,
          -76.978627,
          -76.998273,
          -77.051833,
          -76.983221,
          -76.97963399999998,
          -76.991476,
          -77.041829,
          -77.0235,
          -77.022175,
          -77.008798,
          -77.038684,
          -77.018221,
          -77.032687,
          -77.002098,
          -76.99515,
          -77.07432299999998,
          -77.048852,
          -76.994897,
          -77.085646,
          -77.005649,
          -77.0429,
          -77.032112,
          -77.027822,
          -77.036536,
          -77.04258100000001,
          -77.0322,
          -77.047637,
          -77.0388,
          -77.0178,
          -77.034438,
          -77.03200799999998,
          -77.0323,
          -77.045,
          -77.046449,
          -77.024181,
          -77.0328,
          -76.9955,
          -77.01902700000002,
          -76.9769,
          -77.0315,
          -77.057979,
          -77.0436,
          -77.000648,
          -77.0259,
          -77.0222,
          -77.0057,
          -77.0446,
          -77.0222,
          -77.0037,
          -77.0444,
          -77.0056,
          -77.047318,
          -77.03863,
          -77.015289,
          -77.0023,
          -76.9862,
          -76.98790699999998,
          -77.0387,
          -77.0135,
          -76.9953,
          -77.032818,
          -76.996806,
          -77.031686,
          -77.028242,
          -77.059219,
          -76.991016,
          -77.046587,
          -77.02224100000002,
          -77.026013,
          -77.05556999999997,
          -76.995397,
          -77.041779,
          -76.98825,
          -77.019347,
          -77.033354,
          -77.02226999999998,
          -77.043358,
          -77.042452,
          -77.06269,
          -77.023054,
          -76.997114,
          -77.0682,
          -77.029822,
          -77.02308599999998,
          -76.992889,
          -77.00495,
          -76.998347,
          -77.001949,
          -76.982872,
          -77.000349,
          -76.987633,
          -77.03818000000003,
          -77.027869,
          -77.031617,
          -77.022191,
          -77.038322,
          -77.04478,
          -77.01610600000002,
          -77.0436,
          -77.071652,
          -76.991383,
          -77.053485,
          -77.00493,
          -77.009888,
          -77.027137,
          -77.070334,
          -77.032278,
          -77.04656999999997,
          -77.026975,
          -77.04656700000002,
          -77.04368000000002,
          -77.03980200000002,
          -77.0325,
          -77.041539,
          -77.017701,
          -77.017445,
          -77.001828,
          -77.022155,
          -77.0251,
          -77.012289,
          -77.02379499999998,
          -77.04061999999998,
          -77.055599,
          -77.056887,
          -76.98356899999997,
          -77.02622,
          -77.00572700000002,
          -77.077271,
          -77.012457,
          -77.03242900000002,
          -77.02858,
          -77.01994,
          -77.037413,
          -76.9941,
          -77.044789,
          -77.0284,
          -77.046564,
          -77.04337,
          -77.03353,
          -77.05152,
          -77.026064,
          -77.048911,
          -77.049426,
          -77.045128,
          -77.018677,
          -77.00213000000002,
          -77.04157099999998,
          -77.027333,
          -77.032678,
          -77.063586,
          -77.038359,
          -77.0352,
          -76.995193,
          -77.017669,
          -76.983326,
          -76.994749,
          -76.97892399999998,
          -76.983575,
          -76.990955,
          -76.987211,
          -77.028139,
          -77.00195500000002,
          -77.02324,
          -77.01597,
          -77.004746,
          -77.013917,
          -77.013769,
          -77.025762,
          -76.997194,
          -77.031887,
          -77.0024,
          -77.025672,
          -76.99446800000003,
          -77.050046,
          -77.01536,
          -77.03023,
          -77.008911,
          -77.012108,
          -76.995876,
          -77.026235,
          -77.051084
         ],
         "marker": {
          "color": "#EF553B",
          "size": [
           5,
           5,
           5,
           5,
           5,
           5,
           5,
           5,
           5,
           5,
           5,
           5,
           5,
           5,
           5,
           5,
           5,
           5,
           5,
           5,
           5,
           5,
           5,
           5,
           5,
           5,
           5,
           5,
           5,
           5,
           5,
           5,
           5,
           5,
           5,
           5,
           5,
           5,
           5,
           5,
           5,
           5,
           5,
           5,
           5,
           5,
           5,
           5,
           5,
           5,
           5,
           5,
           5,
           5,
           5,
           5,
           5,
           5,
           5,
           5,
           5,
           5,
           5,
           5,
           5,
           5,
           5,
           5,
           5,
           5,
           5,
           5,
           5,
           5,
           5,
           5,
           5,
           5,
           5,
           5,
           5,
           5,
           5,
           5,
           5,
           5,
           5,
           5,
           5,
           5,
           5,
           5,
           5,
           5,
           5,
           5,
           5,
           5,
           5,
           5,
           5,
           5,
           5,
           5,
           5,
           5,
           5,
           5,
           5,
           5,
           5,
           5,
           5,
           5,
           5,
           5,
           5,
           5,
           5,
           5,
           5,
           5,
           5,
           5,
           5,
           5,
           5,
           5,
           5,
           5,
           5,
           5,
           5,
           5,
           5,
           5,
           5,
           5,
           5,
           5,
           5,
           5,
           5,
           5,
           5,
           5,
           5,
           5,
           5,
           5,
           5,
           5,
           5,
           5,
           5,
           5,
           5,
           5,
           5,
           5,
           5,
           5,
           5,
           5,
           5,
           5,
           5,
           5,
           5,
           5,
           5,
           5,
           5,
           5,
           5,
           5,
           5,
           5,
           5,
           5,
           5,
           5,
           5,
           5,
           5,
           5,
           5,
           5,
           5,
           5,
           5,
           5,
           5,
           5,
           5,
           5,
           5,
           5,
           5,
           5,
           5,
           5,
           5,
           5,
           5,
           5,
           5,
           5,
           5,
           5,
           5,
           5,
           5,
           5,
           5,
           5,
           5,
           5,
           5,
           5,
           5,
           5,
           5,
           5,
           5,
           5,
           5,
           5,
           5,
           5,
           5,
           5,
           5,
           5,
           5,
           5,
           5,
           5,
           5,
           5,
           5,
           5
          ],
          "sizemode": "area",
          "sizeref": 0.05
         },
         "mode": "markers",
         "name": "2",
         "showlegend": true,
         "subplot": "mapbox",
         "type": "scattermapbox"
        },
        {
         "customdata": [
          [
           "Spring St & 2nd Ave"
          ],
          [
           "Georgia & Missouri Ave NW"
          ],
          [
           "Lyttonsville Rd & Lyttonsville Pl"
          ],
          [
           "East West Hwy & 16th St"
          ],
          [
           "Georgia Ave & Piney Branch Rd NW"
          ],
          [
           "Sligo Ave & Carroll Ln"
          ],
          [
           "Takoma Park Rec Center"
          ],
          [
           "New Hampshire & Kirklynn Ave"
          ],
          [
           "Wheaton Metro / Georgia Ave & Reedie Dr"
          ],
          [
           "Amherst Ave & Elkins St"
          ],
          [
           "Amherst Ave & Prichard Rd"
          ],
          [
           "Grandview & Blueridge Ave"
          ],
          [
           "Windham Ln & Amherst Ave"
          ],
          [
           "3rd & Underwood St NW"
          ],
          [
           "Blueridge Ave & Elkin St"
          ],
          [
           "Garland Ave & Walden Rd"
          ],
          [
           "14th & Luzon St NW"
          ],
          [
           "New Hampshire Ave & East-West Hwy"
          ],
          [
           "Wheaton Library & Community Rec Center"
          ],
          [
           "5th & Kennedy St NW"
          ],
          [
           "14th St & Colorado Ave NW"
          ],
          [
           "13th St & Eastern Ave"
          ],
          [
           "Philadelphia & Maple Ave"
          ],
          [
           "Maple & Ritchie Ave"
          ],
          [
           "Silver Spring Metro / Colesville Rd & Wayne Ave"
          ],
          [
           "East West Hwy & Blair Mill Rd"
          ],
          [
           "Dennis Ave & Amherst Ave"
          ],
          [
           "Fenton St & Gist Ave"
          ],
          [
           "Carroll & Westmoreland Ave"
          ],
          [
           "Carroll & Ethan Allen Ave"
          ],
          [
           "Silver Spring Transit Center - Top Level"
          ],
          [
           "Georgia Ave & Spring St"
          ],
          [
           "Takoma Metro"
          ],
          [
           "WAU / Flower Ave & Division St"
          ]
         ],
         "hovertemplate": "<b>%{hovertext}</b><br><br>kmeans=7<br>size=%{marker.size}<br>LATITUDE=%{lat}<br>LONGITUDE=%{lon}<br>node_ids=%{customdata[0]}<extra></extra>",
         "hovertext": [
          "Spring St & 2nd Ave",
          "Georgia & Missouri Ave NW",
          "Lyttonsville Rd & Lyttonsville Pl",
          "East West Hwy & 16th St",
          "Georgia Ave & Piney Branch Rd NW",
          "Sligo Ave & Carroll Ln",
          "Takoma Park Rec Center",
          "New Hampshire & Kirklynn Ave",
          "Wheaton Metro / Georgia Ave & Reedie Dr",
          "Amherst Ave & Elkins St",
          "Amherst Ave & Prichard Rd",
          "Grandview & Blueridge Ave",
          "Windham Ln & Amherst Ave",
          "3rd & Underwood St NW",
          "Blueridge Ave & Elkin St",
          "Garland Ave & Walden Rd",
          "14th & Luzon St NW",
          "New Hampshire Ave & East-West Hwy",
          "Wheaton Library & Community Rec Center",
          "5th & Kennedy St NW",
          "14th St & Colorado Ave NW",
          "13th St & Eastern Ave",
          "Philadelphia & Maple Ave",
          "Maple & Ritchie Ave",
          "Silver Spring Metro / Colesville Rd & Wayne Ave",
          "East West Hwy & Blair Mill Rd",
          "Dennis Ave & Amherst Ave",
          "Fenton St & Gist Ave",
          "Carroll & Westmoreland Ave",
          "Carroll & Ethan Allen Ave",
          "Silver Spring Transit Center - Top Level",
          "Georgia Ave & Spring St",
          "Takoma Metro",
          "WAU / Flower Ave & Division St"
         ],
         "lat": [
          38.997653,
          38.961339,
          38.999679,
          38.995681,
          38.967505,
          38.990874,
          38.98265,
          38.988101,
          39.038341,
          39.044887,
          39.035965,
          39.043272,
          39.032029,
          38.968834,
          39.04313,
          39.00048,
          38.969489,
          38.974205,
          39.047323,
          38.956556,
          38.956432,
          38.987,
          38.98128,
          38.983627,
          38.994896,
          38.990249,
          39.025387,
          38.989724,
          38.975,
          38.977933,
          38.994035,
          38.999388,
          38.975219,
          38.986743
         ],
         "legendgroup": "7",
         "lon": [
          -77.034499,
          -77.027855,
          -77.051168,
          -77.038721,
          -77.027976,
          -77.016311,
          -76.988311,
          -76.988422,
          -77.051023,
          -77.047788,
          -77.048395,
          -77.053085,
          -77.04735,
          -77.016258,
          -77.05006,
          -77.00076999999997,
          -77.033509,
          -76.995227,
          -77.051097,
          -77.019814,
          -77.032947,
          -77.02941700000002,
          -77.011336,
          -77.006311,
          -77.02953199999997,
          -77.02935,
          -77.044563,
          -77.023854,
          -77.01120999999998,
          -77.006472,
          -77.030371,
          -77.03155500000003,
          -77.016855,
          -77.000035
         ],
         "marker": {
          "color": "#00CC96",
          "size": [
           5,
           5,
           5,
           5,
           5,
           5,
           5,
           5,
           5,
           5,
           5,
           5,
           5,
           5,
           5,
           5,
           5,
           5,
           5,
           5,
           5,
           5,
           5,
           5,
           5,
           5,
           5,
           5,
           5,
           5,
           5,
           5,
           5,
           5
          ],
          "sizemode": "area",
          "sizeref": 0.05
         },
         "mode": "markers",
         "name": "7",
         "showlegend": true,
         "subplot": "mapbox",
         "type": "scattermapbox"
        },
        {
         "customdata": [
          [
           "Joyce St & 16th St S"
          ],
          [
           "Army Navy Dr & S Nash St"
          ],
          [
           "Saint Asaph St & Madison St"
          ],
          [
           "King St Metro North / Cameron St"
          ],
          [
           "Madison St & N Henry St"
          ],
          [
           "Royal St & Wilkes St"
          ],
          [
           "Potomac Ave & Main Line Blvd"
          ],
          [
           "Radford St & Osage St"
          ],
          [
           "Commonwealth Ave & Oak St"
          ],
          [
           "Commonwealth Ave & E Monroe Ave"
          ],
          [
           "Franklin St & S Washington St"
          ],
          [
           "Mount Vernon Ave & Four Mile Run Park"
          ],
          [
           "Mount Vernon Ave & Bruce St"
          ],
          [
           "Lee Center"
          ],
          [
           "Powhatan St & Bashford Ln"
          ],
          [
           "Potomac Ave & Swann Ave"
          ],
          [
           "Madison St & Fairfax St"
          ],
          [
           "Crystal Dr & Potomac Ave"
          ],
          [
           "Fleet St & Waterfront St"
          ],
          [
           "Tanger Outlets"
          ],
          [
           "National Harbor Carousel"
          ],
          [
           "Eads St & 15th St S"
          ],
          [
           "18th St & S Eads St"
          ],
          [
           "Crystal Dr & 20th St S"
          ],
          [
           "Crystal Dr & 15th St S"
          ],
          [
           "Aurora Hills Cmty Ctr / 18th St & S Hayes St"
          ],
          [
           "Pentagon City Metro / 12th St & S Hayes St"
          ],
          [
           "Army Navy Dr & S Joyce St"
          ],
          [
           "Crystal City Metro / 18th St & S Bell St"
          ],
          [
           "Crystal Dr & 27th St S"
          ],
          [
           "S Glebe Rd & Potomac Ave"
          ],
          [
           "Crystal Dr & 23rd St S"
          ],
          [
           "Clark St & 26th St S"
          ],
          [
           "Eads St & 22nd St S"
          ],
          [
           "Potomac Ave & 35th St S"
          ],
          [
           "Prince St & Union St"
          ],
          [
           "Market Square / King St & Royal St"
          ],
          [
           "Saint Asaph St & Pendleton  St"
          ],
          [
           "King St & Patrick St"
          ],
          [
           "Commerce St & Fayette St"
          ],
          [
           "Henry St & Pendleton St"
          ],
          [
           "Braddock Rd Metro"
          ],
          [
           "King St Metro South"
          ],
          [
           "28th St & S Meade St"
          ],
          [
           "Troy St & 26th St S"
          ],
          [
           "S Arlington Mill Dr & Campbell Ave"
          ],
          [
           "Kenmore St & 24th St S"
          ],
          [
           "Gravelly Point"
          ],
          [
           "Columbia Pike & S Orme St"
          ],
          [
           "Eads St & 12th St S"
          ],
          [
           "31st St & S Woodrow St"
          ],
          [
           "Shirlington Transit Center / Quincy St & Randolph St"
          ],
          [
           "Duke St & John Carlyle St"
          ],
          [
           "Eisenhower Ave & Mill Race Ln"
          ],
          [
           "Potomac Greens Dr & Slaters Ln"
          ],
          [
           "Ballenger Ave & Dulaney St"
          ],
          [
           "Mount Vernon Ave & E Nelson Ave"
          ],
          [
           "Monroe Ave & Leslie Ave"
          ],
          [
           "Mount Vernon Ave & Kennedy St"
          ],
          [
           "Long Bridge Park / Long Bridge Dr & 6th St S"
          ]
         ],
         "hovertemplate": "<b>%{hovertext}</b><br><br>kmeans=3<br>size=%{marker.size}<br>LATITUDE=%{lat}<br>LONGITUDE=%{lon}<br>node_ids=%{customdata[0]}<extra></extra>",
         "hovertext": [
          "Joyce St & 16th St S",
          "Army Navy Dr & S Nash St",
          "Saint Asaph St & Madison St",
          "King St Metro North / Cameron St",
          "Madison St & N Henry St",
          "Royal St & Wilkes St",
          "Potomac Ave & Main Line Blvd",
          "Radford St & Osage St",
          "Commonwealth Ave & Oak St",
          "Commonwealth Ave & E Monroe Ave",
          "Franklin St & S Washington St",
          "Mount Vernon Ave & Four Mile Run Park",
          "Mount Vernon Ave & Bruce St",
          "Lee Center",
          "Powhatan St & Bashford Ln",
          "Potomac Ave & Swann Ave",
          "Madison St & Fairfax St",
          "Crystal Dr & Potomac Ave",
          "Fleet St & Waterfront St",
          "Tanger Outlets",
          "National Harbor Carousel",
          "Eads St & 15th St S",
          "18th St & S Eads St",
          "Crystal Dr & 20th St S",
          "Crystal Dr & 15th St S",
          "Aurora Hills Cmty Ctr / 18th St & S Hayes St",
          "Pentagon City Metro / 12th St & S Hayes St",
          "Army Navy Dr & S Joyce St",
          "Crystal City Metro / 18th St & S Bell St",
          "Crystal Dr & 27th St S",
          "S Glebe Rd & Potomac Ave",
          "Crystal Dr & 23rd St S",
          "Clark St & 26th St S",
          "Eads St & 22nd St S",
          "Potomac Ave & 35th St S",
          "Prince St & Union St",
          "Market Square / King St & Royal St",
          "Saint Asaph St & Pendleton  St",
          "King St & Patrick St",
          "Commerce St & Fayette St",
          "Henry St & Pendleton St",
          "Braddock Rd Metro",
          "King St Metro South",
          "28th St & S Meade St",
          "Troy St & 26th St S",
          "S Arlington Mill Dr & Campbell Ave",
          "Kenmore St & 24th St S",
          "Gravelly Point",
          "Columbia Pike & S Orme St",
          "Eads St & 12th St S",
          "31st St & S Woodrow St",
          "Shirlington Transit Center / Quincy St & Randolph St",
          "Duke St & John Carlyle St",
          "Eisenhower Ave & Mill Race Ln",
          "Potomac Greens Dr & Slaters Ln",
          "Ballenger Ave & Dulaney St",
          "Mount Vernon Ave & E Nelson Ave",
          "Monroe Ave & Leslie Ave",
          "Mount Vernon Ave & Kennedy St",
          "Long Bridge Park / Long Bridge Dr & 6th St S"
         ],
         "lat": [
          38.859254,
          38.86215,
          38.812718,
          38.80704,
          38.813485,
          38.799267,
          38.822738,
          38.828437,
          38.812711,
          38.820058,
          38.798133,
          38.843422,
          38.841291,
          38.797557,
          38.818748,
          38.829545,
          38.812351,
          38.848304,
          38.782633,
          38.7968,
          38.7859,
          38.858971,
          38.85725,
          38.856425,
          38.86017,
          38.857866,
          38.862303,
          38.8637,
          38.857405,
          38.848466,
          38.8426,
          38.8533,
          38.850688,
          38.854381,
          38.844015,
          38.803124,
          38.804718,
          38.810743,
          38.805317,
          38.805648,
          38.811456,
          38.814577,
          38.805763,
          38.846222,
          38.847977,
          38.84232,
          38.848454,
          38.865029,
          38.867262,
          38.86275300000001,
          38.837666,
          38.839912,
          38.804378,
          38.801111,
          38.82175,
          38.802677,
          38.820064,
          38.820932,
          38.833077,
          38.86555300000001
         ],
         "legendgroup": "3",
         "lon": [
          -77.063275,
          -77.06812099999998,
          -77.044097,
          -77.05981700000002,
          -77.049468,
          -77.0447,
          -77.049265,
          -77.086031,
          -77.061715,
          -77.062821,
          -77.0487,
          -77.06401600000002,
          -77.06309300000002,
          -77.05376600000002,
          -77.047783,
          -77.047844,
          -77.04069100000002,
          -77.05122,
          -77.016059,
          -77.0026,
          -77.0167,
          -77.05323,
          -77.05332,
          -77.04923199999998,
          -77.049593,
          -77.05949,
          -77.059936,
          -77.0633,
          -77.051132,
          -77.051514,
          -77.0502,
          -77.0498,
          -77.05152,
          -77.053412,
          -77.050537,
          -77.040363,
          -77.043363,
          -77.044664,
          -77.049883,
          -77.05293,
          -77.050276,
          -77.052808,
          -77.060627,
          -77.069275,
          -77.07510400000002,
          -77.089555,
          -77.084918,
          -77.039511,
          -77.072315,
          -77.05428,
          -77.09482,
          -77.08708299999998,
          -77.060866,
          -77.068952,
          -77.047494,
          -77.063562,
          -77.05761899999997,
          -77.053096,
          -77.059821,
          -77.05003
         ],
         "marker": {
          "color": "#AB63FA",
          "size": [
           5,
           5,
           5,
           5,
           5,
           5,
           5,
           5,
           5,
           5,
           5,
           5,
           5,
           5,
           5,
           5,
           5,
           5,
           5,
           5,
           5,
           5,
           5,
           5,
           5,
           5,
           5,
           5,
           5,
           5,
           5,
           5,
           5,
           5,
           5,
           5,
           5,
           5,
           5,
           5,
           5,
           5,
           5,
           5,
           5,
           5,
           5,
           5,
           5,
           5,
           5,
           5,
           5,
           5,
           5,
           5,
           5,
           5,
           5,
           5
          ],
          "sizemode": "area",
          "sizeref": 0.05
         },
         "mode": "markers",
         "name": "3",
         "showlegend": true,
         "subplot": "mapbox",
         "type": "scattermapbox"
        },
        {
         "customdata": [
          [
           "Lee Hwy & N Monroe St"
          ],
          [
           "21st St & N Pierce St"
          ],
          [
           "Lee Hwy & N Kirkwood Rd"
          ],
          [
           "Walter Reed Dr & 8th St S"
          ],
          [
           "Lee Hwy & N Woodstock St"
          ],
          [
           "Washington Blvd & N Frederick St"
          ],
          [
           "East Falls Church Metro / Sycamore St & 19th St N"
          ],
          [
           "Kennebec St & 11th St N"
          ],
          [
           "N Lynn St & Fairfax Dr"
          ],
          [
           "Carlin Springs Rd & N Thomas St"
          ],
          [
           "Washington-Liberty High School / N Stafford St & Generals Way"
          ],
          [
           "Westover Library / Washington Blvd & N McKinley Rd"
          ],
          [
           "Columbia Pike & S Taylor St"
          ],
          [
           "Wilson Blvd & N Troy St"
          ],
          [
           "George Mason High School / Haycock Rd & Leesburg Pike"
          ],
          [
           "State Theatre / Park Pl & N Washington St"
          ],
          [
           "N Oak St & W Broad St"
          ],
          [
           "Pennsylvania Ave & Park Ave"
          ],
          [
           "E Fairfax St & S Washington St"
          ],
          [
           "N Roosevelt St & Roosevelt Blvd"
          ],
          [
           "W Broad St & Little Falls St"
          ],
          [
           "S Maple Ave & S Washington St"
          ],
          [
           "Falls Church City Hall / Park Ave & Little Falls St"
          ],
          [
           "W Columbia St & N Washington St"
          ],
          [
           "West Falls Church Metro"
          ],
          [
           "Wilson Blvd. & N. Vermont St."
          ],
          [
           "Lynn St & 19th St North"
          ],
          [
           "Rosslyn Metro / Wilson Blvd & Ft Myer Dr"
          ],
          [
           "Clarendon Blvd & Pierce St"
          ],
          [
           "Wilson Blvd & N Uhle St"
          ],
          [
           "Rhodes St & 16th St N"
          ],
          [
           "Wilson Blvd & N Edgewood St"
          ],
          [
           "Wilson Blvd & N Franklin Rd"
          ],
          [
           "Clarendon Blvd & N Fillmore St"
          ],
          [
           "Clarendon Metro / Wilson Blvd & N Highland St"
          ],
          [
           "N Quincy St & Glebe Rd"
          ],
          [
           "Barcroft Community Center"
          ],
          [
           "N Veitch St & 20th St N"
          ],
          [
           "Fairfax Dr & Wilson Blvd"
          ],
          [
           "Key Blvd & N Quinn St"
          ],
          [
           "Virginia Square Metro / Monroe St & 9th St N"
          ],
          [
           "Central Library / Quincy St & 10th St N"
          ],
          [
           "Washington Blvd & 10th St N"
          ],
          [
           "George Mason Dr & Wilson Blvd"
          ],
          [
           "N Veitch St & Key Blvd"
          ],
          [
           "Lee Hwy & N Adams St"
          ],
          [
           "15th St & N Scott St"
          ],
          [
           "Washington Blvd & 7th St N"
          ],
          [
           "Ballston Metro / Stuart St & 9th St N"
          ],
          [
           "Fairfax Dr & N Randolph St"
          ],
          [
           "Glebe Rd & 11th St N"
          ],
          [
           "Wilson Blvd & N Quincy St"
          ],
          [
           "GMU / Fairfax Dr & Kenmore St"
          ],
          [
           "Utah St & 11th St N"
          ],
          [
           "Barton St & 10th St N"
          ],
          [
           "Arlington Blvd & N Queen St"
          ],
          [
           "Columbia Pike & S Courthouse Rd"
          ],
          [
           "Walter Reed Dr & 16th St S"
          ],
          [
           "Four Mile Run Dr & S Shirlington Rd"
          ],
          [
           "Columbia Pike & S Oakland St"
          ],
          [
           "Four Mile Run Dr & S Walter Reed Dr"
          ],
          [
           "Roosevelt Island"
          ],
          [
           "S George Mason & Four Mile Run Dr"
          ],
          [
           "Pershing Dr & Wayne St"
          ],
          [
           "Columbia Pike & S Walter Reed Dr"
          ],
          [
           "Arlington Mill Cmty Center / Columbia Pike & S Dinwiddie St"
          ],
          [
           "Pershing Dr & N George Mason Dr"
          ],
          [
           "Arlington Blvd & Fillmore St"
          ],
          [
           "TJ Cmty Ctr / 2nd St & S Old Glebe Rd"
          ],
          [
           "Rolfe St & 9th St S"
          ],
          [
           "Iwo Jima Memorial / Meade & 14th St N"
          ],
          [
           "Lee Hwy & N Cleveland St"
          ],
          [
           "Arlington Blvd & S George Mason Dr"
          ],
          [
           "Lee Hwy & N Scott St"
          ],
          [
           "Court House Metro / 15th St & N Uhle St"
          ]
         ],
         "hovertemplate": "<b>%{hovertext}</b><br><br>kmeans=8<br>size=%{marker.size}<br>LATITUDE=%{lat}<br>LONGITUDE=%{lon}<br>node_ids=%{customdata[0]}<extra></extra>",
         "hovertext": [
          "Lee Hwy & N Monroe St",
          "21st St & N Pierce St",
          "Lee Hwy & N Kirkwood Rd",
          "Walter Reed Dr & 8th St S",
          "Lee Hwy & N Woodstock St",
          "Washington Blvd & N Frederick St",
          "East Falls Church Metro / Sycamore St & 19th St N",
          "Kennebec St & 11th St N",
          "N Lynn St & Fairfax Dr",
          "Carlin Springs Rd & N Thomas St",
          "Washington-Liberty High School / N Stafford St & Generals Way",
          "Westover Library / Washington Blvd & N McKinley Rd",
          "Columbia Pike & S Taylor St",
          "Wilson Blvd & N Troy St",
          "George Mason High School / Haycock Rd & Leesburg Pike",
          "State Theatre / Park Pl & N Washington St",
          "N Oak St & W Broad St",
          "Pennsylvania Ave & Park Ave",
          "E Fairfax St & S Washington St",
          "N Roosevelt St & Roosevelt Blvd",
          "W Broad St & Little Falls St",
          "S Maple Ave & S Washington St",
          "Falls Church City Hall / Park Ave & Little Falls St",
          "W Columbia St & N Washington St",
          "West Falls Church Metro",
          "Wilson Blvd. & N. Vermont St.",
          "Lynn St & 19th St North",
          "Rosslyn Metro / Wilson Blvd & Ft Myer Dr",
          "Clarendon Blvd & Pierce St",
          "Wilson Blvd & N Uhle St",
          "Rhodes St & 16th St N",
          "Wilson Blvd & N Edgewood St",
          "Wilson Blvd & N Franklin Rd",
          "Clarendon Blvd & N Fillmore St",
          "Clarendon Metro / Wilson Blvd & N Highland St",
          "N Quincy St & Glebe Rd",
          "Barcroft Community Center",
          "N Veitch St & 20th St N",
          "Fairfax Dr & Wilson Blvd",
          "Key Blvd & N Quinn St",
          "Virginia Square Metro / Monroe St & 9th St N",
          "Central Library / Quincy St & 10th St N",
          "Washington Blvd & 10th St N",
          "George Mason Dr & Wilson Blvd",
          "N Veitch St & Key Blvd",
          "Lee Hwy & N Adams St",
          "15th St & N Scott St",
          "Washington Blvd & 7th St N",
          "Ballston Metro / Stuart St & 9th St N",
          "Fairfax Dr & N Randolph St",
          "Glebe Rd & 11th St N",
          "Wilson Blvd & N Quincy St",
          "GMU / Fairfax Dr & Kenmore St",
          "Utah St & 11th St N",
          "Barton St & 10th St N",
          "Arlington Blvd & N Queen St",
          "Columbia Pike & S Courthouse Rd",
          "Walter Reed Dr & 16th St S",
          "Four Mile Run Dr & S Shirlington Rd",
          "Columbia Pike & S Oakland St",
          "Four Mile Run Dr & S Walter Reed Dr",
          "Roosevelt Island",
          "S George Mason & Four Mile Run Dr",
          "Pershing Dr & Wayne St",
          "Columbia Pike & S Walter Reed Dr",
          "Arlington Mill Cmty Center / Columbia Pike & S Dinwiddie St",
          "Pershing Dr & N George Mason Dr",
          "Arlington Blvd & Fillmore St",
          "TJ Cmty Ctr / 2nd St & S Old Glebe Rd",
          "Rolfe St & 9th St S",
          "Iwo Jima Memorial / Meade & 14th St N",
          "Lee Hwy & N Cleveland St",
          "Arlington Blvd & S George Mason Dr",
          "Lee Hwy & N Scott St",
          "Court House Metro / 15th St & N Uhle St"
         ],
         "lat": [
          38.896456,
          38.89898400000001,
          38.895377,
          38.86612,
          38.898301,
          38.884829,
          38.88532100000001,
          38.880992,
          38.89386,
          38.876695,
          38.888282,
          38.886048,
          38.858524,
          38.892556,
          38.895172,
          38.882746,
          38.88837,
          38.887403000000006,
          38.880612,
          38.878085,
          38.883601,
          38.87972,
          38.885434,
          38.885621,
          38.9001,
          38.879477,
          38.897315,
          38.8946,
          38.893438,
          38.891696,
          38.892164,
          38.889,
          38.8904,
          38.8881,
          38.88786,
          38.876393,
          38.850337,
          38.896923,
          38.885801,
          38.896355,
          38.882788,
          38.88397,
          38.884734,
          38.87887,
          38.893237,
          38.89593,
          38.89054,
          38.88081,
          38.881044,
          38.882629,
          38.883921,
          38.880012,
          38.884616,
          38.883669,
          38.884961,
          38.88936500000001,
          38.863833,
          38.857803,
          38.8444,
          38.860789,
          38.84736,
          38.896553,
          38.852248,
          38.880705,
          38.862478,
          38.856319,
          38.871822,
          38.873755,
          38.869418,
          38.866471,
          38.88992,
          38.894941,
          38.869442,
          38.897612,
          38.890612
         ],
         "legendgroup": "8",
         "lon": [
          -77.104562,
          -77.078317,
          -77.09713,
          -77.08787,
          -77.118009,
          -77.12767099999998,
          -77.15642700000002,
          -77.135271,
          -77.070862,
          -77.11298199999997,
          -77.11106600000002,
          -77.142317,
          -77.103728,
          -77.082089,
          -77.190275,
          -77.17003199999998,
          -77.17983199999998,
          -77.176992,
          -77.171891,
          -77.153953,
          -77.173438,
          -77.17840799999998,
          -77.17360500000002,
          -77.166917,
          -77.1887,
          -77.114563,
          -77.070993,
          -77.072305,
          -77.076389,
          -77.0846,
          -77.079375,
          -77.0925,
          -77.0889,
          -77.09308,
          -77.094875,
          -77.10773499999998,
          -77.100989,
          -77.086502,
          -77.09774499999997,
          -77.078408,
          -77.103148,
          -77.10783,
          -77.093485,
          -77.1207,
          -77.086063,
          -77.08900600000003,
          -77.08095,
          -77.09079200000002,
          -77.11176800000001,
          -77.10936600000002,
          -77.116817,
          -77.107854,
          -77.10108000000002,
          -77.113905,
          -77.08776999999998,
          -77.077294,
          -77.08031899999997,
          -77.086733,
          -77.085931,
          -77.09586,
          -77.095431,
          -77.06714000000002,
          -77.10502199999998,
          -77.08596,
          -77.08659899999998,
          -77.11153,
          -77.107906,
          -77.089233,
          -77.095596,
          -77.076131,
          -77.071301,
          -77.09169,
          -77.10450300000002,
          -77.080851,
          -77.084801
         ],
         "marker": {
          "color": "#FFA15A",
          "size": [
           5,
           5,
           5,
           5,
           5,
           5,
           5,
           5,
           5,
           5,
           5,
           5,
           5,
           5,
           5,
           5,
           5,
           5,
           5,
           5,
           5,
           5,
           5,
           5,
           5,
           5,
           5,
           5,
           5,
           5,
           5,
           5,
           5,
           5,
           5,
           5,
           5,
           5,
           5,
           5,
           5,
           5,
           5,
           5,
           5,
           5,
           5,
           5,
           5,
           5,
           5,
           5,
           5,
           5,
           5,
           5,
           5,
           5,
           5,
           5,
           5,
           5,
           5,
           5,
           5,
           5,
           5,
           5,
           5,
           5,
           5,
           5,
           5,
           5,
           5
          ],
          "sizemode": "area",
          "sizeref": 0.05
         },
         "mode": "markers",
         "name": "8",
         "showlegend": true,
         "subplot": "mapbox",
         "type": "scattermapbox"
        },
        {
         "customdata": [
          [
           "Key West Ave & Siesta Key Way"
          ],
          [
           "Shady Grove Metro East"
          ],
          [
           "Columbus Ave & Tribeca St"
          ],
          [
           "Columbus Ave & Gramercy Blvd"
          ],
          [
           "Key West Ave & Great Seneca Hwy"
          ],
          [
           "Corporate Blvd & Omega Dr"
          ],
          [
           "Key West Ave & Diamondback Dr"
          ],
          [
           "Twinbrook Metro"
          ],
          [
           "White Flint Metro"
          ],
          [
           "Citadel Ave & McGrath Blvd"
          ],
          [
           "Rockville Pike & Old Georgetown Rd"
          ],
          [
           "Executive Blvd & E Jefferson St"
          ],
          [
           "Fishers Ln & Rock Creek Mill Rd"
          ],
          [
           "Congressional Ln & E Jefferson St"
          ],
          [
           "Rockville Pike & Meeting St"
          ],
          [
           "Fallsgrove Blvd & Fallsgrove Dr"
          ],
          [
           "Traville Gateway Dr & Gudelsky Dr"
          ],
          [
           "E Montgomery Ave & Maryland Ave"
          ],
          [
           "Frederick Ave & Horners Ln"
          ],
          [
           "Crabbs Branch Way & Redland Rd"
          ],
          [
           "Fallsgrove Dr & W Montgomery Ave"
          ],
          [
           "Monroe St & Monroe Pl"
          ],
          [
           "Needwood Rd & Eagles Head Ct"
          ],
          [
           "Crabbs Branch Way & Calhoun Pl"
          ],
          [
           "Montgomery College / W Campus Dr & Mannakee St"
          ],
          [
           "Broschart & Blackwell Rd"
          ],
          [
           "Fleet St & Ritchie Pkwy"
          ],
          [
           "Piccard & W Gude Dr"
          ],
          [
           "King Farm Blvd & Pleasant Dr"
          ],
          [
           "King Farm Blvd & Piccard Dr"
          ],
          [
           "Medical Center Dr & Key West Ave"
          ],
          [
           "Shady Grove Hospital"
          ],
          [
           "Rockville Metro East"
          ],
          [
           "Shady Grove Metro West"
          ],
          [
           "Rockville Metro West"
          ]
         ],
         "hovertemplate": "<b>%{hovertext}</b><br><br>kmeans=0<br>size=%{marker.size}<br>LATITUDE=%{lat}<br>LONGITUDE=%{lon}<br>node_ids=%{customdata[0]}<extra></extra>",
         "hovertext": [
          "Key West Ave & Siesta Key Way",
          "Shady Grove Metro East",
          "Columbus Ave & Tribeca St",
          "Columbus Ave & Gramercy Blvd",
          "Key West Ave & Great Seneca Hwy",
          "Corporate Blvd & Omega Dr",
          "Key West Ave & Diamondback Dr",
          "Twinbrook Metro",
          "White Flint Metro",
          "Citadel Ave & McGrath Blvd",
          "Rockville Pike & Old Georgetown Rd",
          "Executive Blvd & E Jefferson St",
          "Fishers Ln & Rock Creek Mill Rd",
          "Congressional Ln & E Jefferson St",
          "Rockville Pike & Meeting St",
          "Fallsgrove Blvd & Fallsgrove Dr",
          "Traville Gateway Dr & Gudelsky Dr",
          "E Montgomery Ave & Maryland Ave",
          "Frederick Ave & Horners Ln",
          "Crabbs Branch Way & Redland Rd",
          "Fallsgrove Dr & W Montgomery Ave",
          "Monroe St & Monroe Pl",
          "Needwood Rd & Eagles Head Ct",
          "Crabbs Branch Way & Calhoun Pl",
          "Montgomery College / W Campus Dr & Mannakee St",
          "Broschart & Blackwell Rd",
          "Fleet St & Ritchie Pkwy",
          "Piccard & W Gude Dr",
          "King Farm Blvd & Pleasant Dr",
          "King Farm Blvd & Piccard Dr",
          "Medical Center Dr & Key West Ave",
          "Shady Grove Hospital",
          "Rockville Metro East",
          "Shady Grove Metro West",
          "Rockville Metro West"
         ],
         "lat": [
          39.105295,
          39.121327,
          39.126,
          39.12333,
          39.105642,
          39.106971,
          39.106152,
          39.062041,
          39.04753,
          39.049,
          39.049765,
          39.04873,
          39.0629,
          39.06219,
          39.050539,
          39.096312,
          39.093783,
          39.084125,
          39.094772,
          39.12004500000001,
          39.099376,
          39.083673,
          39.123513,
          39.107709,
          39.095661,
          39.102099,
          39.076331,
          39.102212,
          39.114688,
          39.110314,
          39.103091,
          39.097636,
          39.085394,
          39.119765,
          39.084379
         ],
         "legendgroup": "0",
         "lon": [
          -77.194774,
          -77.164969,
          -77.1673,
          -77.16486,
          -77.20385999999998,
          -77.192645,
          -77.202354,
          -77.120776,
          -77.11287,
          -77.10933,
          -77.11368,
          -77.1257,
          -77.113454,
          -77.129235,
          -77.115212,
          -77.192672,
          -77.202501,
          -77.151291,
          -77.145213,
          -77.15698499999998,
          -77.188014,
          -77.149162,
          -77.15741,
          -77.152072,
          -77.159048,
          -77.200322,
          -77.141378,
          -77.177091,
          -77.171487,
          -77.18266899999998,
          -77.196442,
          -77.196636,
          -77.145803,
          -77.166093,
          -77.146866
         ],
         "marker": {
          "color": "#19D3F3",
          "size": [
           5,
           5,
           5,
           5,
           5,
           5,
           5,
           5,
           5,
           5,
           5,
           5,
           5,
           5,
           5,
           5,
           5,
           5,
           5,
           5,
           5,
           5,
           5,
           5,
           5,
           5,
           5,
           5,
           5,
           5,
           5,
           5,
           5,
           5,
           5
          ],
          "sizemode": "area",
          "sizeref": 0.05
         },
         "mode": "markers",
         "name": "0",
         "showlegend": true,
         "subplot": "mapbox",
         "type": "scattermapbox"
        },
        {
         "customdata": [
          [
           "South Capitol & Atlantic St SW"
          ],
          [
           "Division Ave & Foote St NE"
          ],
          [
           "16th & Q St SE / Anacostia HS"
          ],
          [
           "61st St & Banks Pl NE"
          ],
          [
           "Alabama Ave & Stanton Rd SE / Shops at Park Village"
          ],
          [
           "Mississippi Ave & 19th St SE / THEARC"
          ],
          [
           "19th & Savannah St SE"
          ],
          [
           "4th St & Mississippi Ave SE"
          ],
          [
           "1st & S Capitol St SE / Oxon Run Trail"
          ],
          [
           "Livingston Rd & 3rd St SE"
          ],
          [
           "Joliet St & MLK Ave SW/Bald Eagle Rec Ctr"
          ],
          [
           "37th & Ely Pl SE"
          ],
          [
           "Anacostia Park"
          ],
          [
           "Largo Rd & Campus Way / Prince Georges's Comm Col"
          ],
          [
           "Stanton Square SE"
          ],
          [
           "Oxon Hill Park & Ride"
          ],
          [
           "United Medical Center"
          ],
          [
           "Southern Ave Metro"
          ],
          [
           "Capitol Heights Metro"
          ],
          [
           "Kingman Island/The Fields at RFK"
          ],
          [
           "Kenilworth Terrace & Hayes St. NE"
          ],
          [
           "Valley Ave & Wheeler Rd SE"
          ],
          [
           "Ridge Rd Community Center"
          ],
          [
           "Fort Stanton Rec Center"
          ],
          [
           "Minnesota Ave & R St SE"
          ],
          [
           "Good Hope & Naylor Rd SE"
          ],
          [
           "Randle Circle & Minnesota Ave SE"
          ],
          [
           "Minnesota Ave Metro/DOES"
          ],
          [
           "Nannie Helen Burroughs & Minnesota Ave NE"
          ],
          [
           "Anacostia Metro"
          ],
          [
           "Good Hope Rd & MLK Ave SE"
          ],
          [
           "Anacostia Library"
          ],
          [
           "Pennsylvania & Minnesota Ave SE"
          ],
          [
           "Benning Branch Library"
          ],
          [
           "Branch & Pennsylvania Ave SE"
          ],
          [
           "Fairfax Village"
          ],
          [
           "Benning Rd & East Capitol St NE / Benning Rd Metro"
          ],
          [
           "Congress Heights Metro"
          ],
          [
           "Good Hope Rd & 14th St SE"
          ],
          [
           "Alabama & MLK Ave SE"
          ],
          [
           "Pleasant St & MLK Ave SE"
          ],
          [
           "Nannie Helen Burroughs Ave & 49th St NE"
          ],
          [
           "Deanwood Rec Center"
          ]
         ],
         "hovertemplate": "<b>%{hovertext}</b><br><br>kmeans=4<br>size=%{marker.size}<br>LATITUDE=%{lat}<br>LONGITUDE=%{lon}<br>node_ids=%{customdata[0]}<extra></extra>",
         "hovertext": [
          "South Capitol & Atlantic St SW",
          "Division Ave & Foote St NE",
          "16th & Q St SE / Anacostia HS",
          "61st St & Banks Pl NE",
          "Alabama Ave & Stanton Rd SE / Shops at Park Village",
          "Mississippi Ave & 19th St SE / THEARC",
          "19th & Savannah St SE",
          "4th St & Mississippi Ave SE",
          "1st & S Capitol St SE / Oxon Run Trail",
          "Livingston Rd & 3rd St SE",
          "Joliet St & MLK Ave SW/Bald Eagle Rec Ctr",
          "37th & Ely Pl SE",
          "Anacostia Park",
          "Largo Rd & Campus Way / Prince Georges's Comm Col",
          "Stanton Square SE",
          "Oxon Hill Park & Ride",
          "United Medical Center",
          "Southern Ave Metro",
          "Capitol Heights Metro",
          "Kingman Island/The Fields at RFK",
          "Kenilworth Terrace & Hayes St. NE",
          "Valley Ave & Wheeler Rd SE",
          "Ridge Rd Community Center",
          "Fort Stanton Rec Center",
          "Minnesota Ave & R St SE",
          "Good Hope & Naylor Rd SE",
          "Randle Circle & Minnesota Ave SE",
          "Minnesota Ave Metro/DOES",
          "Nannie Helen Burroughs & Minnesota Ave NE",
          "Anacostia Metro",
          "Good Hope Rd & MLK Ave SE",
          "Anacostia Library",
          "Pennsylvania & Minnesota Ave SE",
          "Benning Branch Library",
          "Branch & Pennsylvania Ave SE",
          "Fairfax Village",
          "Benning Rd & East Capitol St NE / Benning Rd Metro",
          "Congress Heights Metro",
          "Good Hope Rd & 14th St SE",
          "Alabama & MLK Ave SE",
          "Pleasant St & MLK Ave SE",
          "Nannie Helen Burroughs Ave & 49th St NE",
          "Deanwood Rec Center"
         ],
         "lat": [
          38.831516,
          38.897407,
          38.870695,
          38.891805,
          38.84627,
          38.84377,
          38.84623,
          38.836,
          38.824481,
          38.82373,
          38.81909,
          38.883011,
          38.87335,
          38.88994,
          38.855004,
          38.798749,
          38.835737,
          38.840107,
          38.888524,
          38.895955,
          38.900468,
          38.836646,
          38.876227,
          38.857369,
          38.869337,
          38.860227,
          38.878,
          38.897063,
          38.901385,
          38.862669,
          38.867373,
          38.86578400000001,
          38.873057,
          38.894,
          38.8692,
          38.86559000000001,
          38.889935,
          38.844711,
          38.866611,
          38.84323,
          38.863897,
          38.898536,
          38.908473
         ],
         "legendgroup": "4",
         "lon": [
          -77.008133,
          -76.925907,
          -76.982359,
          -76.913563,
          -76.98185,
          -76.97556999999998,
          -76.97703,
          -77.0009,
          -77.00549699999998,
          -77.00223000000003,
          -77.01033000000002,
          -76.949709,
          -76.9834,
          -76.825535,
          -76.984512,
          -77.00103,
          -76.983144,
          -76.9753,
          -76.913188,
          -76.967845,
          -76.947287,
          -76.993589,
          -76.94098100000002,
          -76.977688,
          -76.97851899999998,
          -76.966572,
          -76.9607,
          -76.947446,
          -76.941877,
          -76.994637,
          -76.988039,
          -76.9784,
          -76.97101500000002,
          -76.947974,
          -76.9599,
          -76.95210300000002,
          -76.93723,
          -76.98782299999998,
          -76.985238,
          -76.999376,
          -76.990037,
          -76.931862,
          -76.933099
         ],
         "marker": {
          "color": "#FF6692",
          "size": [
           5,
           5,
           5,
           5,
           5,
           5,
           5,
           5,
           5,
           5,
           5,
           5,
           5,
           5,
           5,
           5,
           5,
           5,
           5,
           5,
           5,
           5,
           5,
           5,
           5,
           5,
           5,
           5,
           5,
           5,
           5,
           5,
           5,
           5,
           5,
           5,
           5,
           5,
           5,
           5,
           5,
           5,
           5
          ],
          "sizemode": "area",
          "sizeref": 0.05
         },
         "mode": "markers",
         "name": "4",
         "showlegend": true,
         "subplot": "mapbox",
         "type": "scattermapbox"
        },
        {
         "customdata": [
          [
           "Spring Hill Metro"
          ],
          [
           "Westpark Dr & Leesburg Pike"
          ],
          [
           "Tysons One Pl & Chain Bridge Rd"
          ],
          [
           "Tysons Corner Station"
          ],
          [
           "Westpark & Jones Branch Dr"
          ],
          [
           "Jones Branch & Westbranch Dr"
          ],
          [
           "Westpark & Park Run Dr"
          ],
          [
           "Tysons West Transit Center"
          ],
          [
           "North Shore & Cameron Crescent Dr/Crescent Apartments"
          ],
          [
           "Town Center Pkwy & Bowman Towne Dr"
          ],
          [
           "Reston Regional Library"
          ],
          [
           "New Dominion Pkwy & Fountain Dr"
          ],
          [
           "Sunset Hills & Old Reston Ave"
          ],
          [
           "Reston Town Center Transit Station"
          ],
          [
           "Wiehle Ave & Reston Station Blvd"
          ],
          [
           "Library St & Freedom Dr"
          ],
          [
           "Sunset Hills Rd & Discovery Square"
          ],
          [
           "Temporary Rd & Old Reston Ave"
          ],
          [
           "Reston YMCA"
          ],
          [
           "Sunset Hills Rd & Isaac Newton Square"
          ],
          [
           "Greensboro & International Dr"
          ],
          [
           "Towers Crescent Dr & Tysons One Pl"
          ],
          [
           "North Shore Dr & Village Rd"
          ],
          [
           "Town Center Pkwy & Sunset Hills Rd"
          ],
          [
           "Reston Pkwy & Spectrum Dr"
          ],
          [
           "Greensboro & Pinnacle Dr"
          ],
          [
           "Campus Commons"
          ],
          [
           "Park Run & Onyx Dr"
          ],
          [
           "McLean Metro"
          ],
          [
           "Dunn Loring Metro"
          ],
          [
           "Jones Branch Drive & Scotts Crossing Rd"
          ],
          [
           "Merrilee Dr & Lauren Elizabeth Lane"
          ],
          [
           "Merrifield Cinema & Merrifield Town Center"
          ],
          [
           "Vy Reston Heights"
          ]
         ],
         "hovertemplate": "<b>%{hovertext}</b><br><br>kmeans=6<br>size=%{marker.size}<br>LATITUDE=%{lat}<br>LONGITUDE=%{lon}<br>node_ids=%{customdata[0]}<extra></extra>",
         "hovertext": [
          "Spring Hill Metro",
          "Westpark Dr & Leesburg Pike",
          "Tysons One Pl & Chain Bridge Rd",
          "Tysons Corner Station",
          "Westpark & Jones Branch Dr",
          "Jones Branch & Westbranch Dr",
          "Westpark & Park Run Dr",
          "Tysons West Transit Center",
          "North Shore & Cameron Crescent Dr/Crescent Apartments",
          "Town Center Pkwy & Bowman Towne Dr",
          "Reston Regional Library",
          "New Dominion Pkwy & Fountain Dr",
          "Sunset Hills & Old Reston Ave",
          "Reston Town Center Transit Station",
          "Wiehle Ave & Reston Station Blvd",
          "Library St & Freedom Dr",
          "Sunset Hills Rd & Discovery Square",
          "Temporary Rd & Old Reston Ave",
          "Reston YMCA",
          "Sunset Hills Rd & Isaac Newton Square",
          "Greensboro & International Dr",
          "Towers Crescent Dr & Tysons One Pl",
          "North Shore Dr & Village Rd",
          "Town Center Pkwy & Sunset Hills Rd",
          "Reston Pkwy & Spectrum Dr",
          "Greensboro & Pinnacle Dr",
          "Campus Commons",
          "Park Run & Onyx Dr",
          "McLean Metro",
          "Dunn Loring Metro",
          "Jones Branch Drive & Scotts Crossing Rd",
          "Merrilee Dr & Lauren Elizabeth Lane",
          "Merrifield Cinema & Merrifield Town Center",
          "Vy Reston Heights"
         ],
         "lat": [
          38.929261,
          38.92403,
          38.919475,
          38.920939,
          38.924437,
          38.931911,
          38.928919,
          38.932636,
          38.970046,
          38.962524,
          38.962095,
          38.960574,
          38.955079,
          38.957037,
          38.94660800000001,
          38.959633,
          38.95534,
          38.960084,
          38.955314,
          38.951443,
          38.923083,
          38.915246,
          38.970412,
          38.955171,
          38.964208,
          38.92245,
          38.944707,
          38.92755,
          38.924002,
          38.8828,
          38.928502,
          38.879355,
          38.870093,
          38.949008
         ],
         "legendgroup": "6",
         "lon": [
          -77.240654,
          -77.235955,
          -77.221179,
          -77.222115,
          -77.217664,
          -77.219261,
          -77.225394,
          -77.231825,
          -77.338686,
          -77.361902,
          -77.358815,
          -77.356324,
          -77.351649,
          -77.359718,
          -77.339391,
          -77.35874100000002,
          -77.357611,
          -77.353414,
          -77.368416,
          -77.340377,
          -77.227417,
          -77.220157,
          -77.340787,
          -77.36309399999998,
          -77.35428,
          -77.23034,
          -77.335425,
          -77.226644,
          -77.208127,
          -77.2283,
          -77.215624,
          -77.230681,
          -77.22997,
          -77.355299
         ],
         "marker": {
          "color": "#B6E880",
          "size": [
           5,
           5,
           5,
           5,
           5,
           5,
           5,
           5,
           5,
           5,
           5,
           5,
           5,
           5,
           5,
           5,
           5,
           5,
           5,
           5,
           5,
           5,
           5,
           5,
           5,
           5,
           5,
           5,
           5,
           5,
           5,
           5,
           5,
           5
          ],
          "sizemode": "area",
          "sizeref": 0.05
         },
         "mode": "markers",
         "name": "6",
         "showlegend": true,
         "subplot": "mapbox",
         "type": "scattermapbox"
        },
        {
         "customdata": [
          [
           "3rd St & Riggs Rd NE"
          ],
          [
           "18th & Monroe St NE"
          ],
          [
           "Baltimore Ave & Van Buren St / Riverdale Park Station"
          ],
          [
           "Baltimore Ave & Jefferson St"
          ],
          [
           "Perry & 35th St"
          ],
          [
           "New Hampshire & Gallatin St NW"
          ],
          [
           "Oglethorpe St & 42nd Ave"
          ],
          [
           "Queens Chapel & Hamilton St"
          ],
          [
           "Northwestern High School"
          ],
          [
           "Rhode Island Ave & 39th St / Brentwood Arts Exchange"
          ],
          [
           "Riggs Rd & East West Hwy"
          ],
          [
           "Chillum Rd & Riggs Rd / Riggs Plaza"
          ],
          [
           "Hyattsville Library / Adelphi Rd & Toledo Rd"
          ],
          [
           "Rhode Island & Montana Ave NE"
          ],
          [
           "John McCormack Rd NE"
          ],
          [
           "West Hyattsville Metro"
          ],
          [
           "Prince George's Plaza Metro"
          ],
          [
           "Riverdale Park Town Center"
          ],
          [
           "The Mall at Prince Georges"
          ],
          [
           "Fort Totten Metro"
          ]
         ],
         "hovertemplate": "<b>%{hovertext}</b><br><br>kmeans=1<br>size=%{marker.size}<br>LATITUDE=%{lat}<br>LONGITUDE=%{lon}<br>node_ids=%{customdata[0]}<extra></extra>",
         "hovertext": [
          "3rd St & Riggs Rd NE",
          "18th & Monroe St NE",
          "Baltimore Ave & Van Buren St / Riverdale Park Station",
          "Baltimore Ave & Jefferson St",
          "Perry & 35th St",
          "New Hampshire & Gallatin St NW",
          "Oglethorpe St & 42nd Ave",
          "Queens Chapel & Hamilton St",
          "Northwestern High School",
          "Rhode Island Ave & 39th St / Brentwood Arts Exchange",
          "Riggs Rd & East West Hwy",
          "Chillum Rd & Riggs Rd / Riggs Plaza",
          "Hyattsville Library / Adelphi Rd & Toledo Rd",
          "Rhode Island & Montana Ave NE",
          "John McCormack Rd NE",
          "West Hyattsville Metro",
          "Prince George's Plaza Metro",
          "Riverdale Park Town Center",
          "The Mall at Prince Georges",
          "Fort Totten Metro"
         ],
         "lat": [
          38.957463,
          38.93293,
          38.969581,
          38.95548,
          38.936213,
          38.951596,
          38.959361,
          38.9546,
          38.975505,
          38.93927100000001,
          38.9725,
          38.961737,
          38.9698,
          38.9243,
          38.938889,
          38.955349,
          38.965742,
          38.962119,
          38.968842,
          38.952369
         ],
         "legendgroup": "1",
         "lon": [
          -77.002239,
          -76.979517,
          -76.937349,
          -76.94013299999997,
          -76.960054,
          -77.01280799999998,
          -76.946361,
          -76.9595,
          -76.952199,
          -76.955047,
          -76.9807,
          -76.995922,
          -76.9493,
          -76.9859,
          -76.997226,
          -76.96808399999998,
          -76.954803,
          -76.935578,
          -76.954171,
          -77.002721
         ],
         "marker": {
          "color": "#FF97FF",
          "size": [
           5,
           5,
           5,
           5,
           5,
           5,
           5,
           5,
           5,
           5,
           5,
           5,
           5,
           5,
           5,
           5,
           5,
           5,
           5,
           5
          ],
          "sizemode": "area",
          "sizeref": 0.05
         },
         "mode": "markers",
         "name": "1",
         "showlegend": true,
         "subplot": "mapbox",
         "type": "scattermapbox"
        },
        {
         "customdata": [
          [
           "The Shoppes @ Burnt Mills"
          ],
          [
           "Briggs Chaney & Castle Dr"
          ],
          [
           "White Oak Rec Center"
          ],
          [
           "Briggs Chaney Park & Ride"
          ],
          [
           "Stewart & April"
          ],
          [
           "Stewart Ln & Old Columbia Pike"
          ],
          [
           "New Hampshire & Lockwood"
          ],
          [
           "Castle Blvd & Castle Ln"
          ],
          [
           "Oak Leaf & Lockwood"
          ],
          [
           "White Oak Transit Center"
          ]
         ],
         "hovertemplate": "<b>%{hovertext}</b><br><br>kmeans=5<br>size=%{marker.size}<br>LATITUDE=%{lat}<br>LONGITUDE=%{lon}<br>node_ids=%{customdata[0]}<extra></extra>",
         "hovertext": [
          "The Shoppes @ Burnt Mills",
          "Briggs Chaney & Castle Dr",
          "White Oak Rec Center",
          "Briggs Chaney Park & Ride",
          "Stewart & April",
          "Stewart Ln & Old Columbia Pike",
          "New Hampshire & Lockwood",
          "Castle Blvd & Castle Ln",
          "Oak Leaf & Lockwood",
          "White Oak Transit Center"
         ],
         "lat": [
          39.031314,
          39.081638,
          39.046144,
          39.077875,
          39.044944,
          39.045652,
          39.039102,
          39.085314,
          39.037981,
          39.04104
         ],
         "legendgroup": "5",
         "lon": [
          -77.004122,
          -76.945495,
          -76.975723,
          -76.941867,
          -76.981155,
          -76.985438,
          -76.991824,
          -76.940547,
          -76.994539,
          -76.987125
         ],
         "marker": {
          "color": "#FECB52",
          "size": [
           5,
           5,
           5,
           5,
           5,
           5,
           5,
           5,
           5,
           5
          ],
          "sizemode": "area",
          "sizeref": 0.05
         },
         "mode": "markers",
         "name": "5",
         "showlegend": true,
         "subplot": "mapbox",
         "type": "scattermapbox"
        }
       ],
       "layout": {
        "height": 600,
        "legend": {
         "itemsizing": "constant",
         "title": {
          "text": "kmeans"
         },
         "tracegroupgap": 0
        },
        "mapbox": {
         "center": {
          "lat": 38.917685412969284,
          "lon": -77.05739412798634
         },
         "domain": {
          "x": [
           0,
           1
          ],
          "y": [
           0,
           1
          ]
         },
         "style": "carto-positron",
         "zoom": 10
        },
        "margin": {
         "b": 0,
         "l": 0,
         "r": 0,
         "t": 0
        },
        "template": {
         "data": {
          "bar": [
           {
            "error_x": {
             "color": "#2a3f5f"
            },
            "error_y": {
             "color": "#2a3f5f"
            },
            "marker": {
             "line": {
              "color": "#E5ECF6",
              "width": 0.5
             }
            },
            "type": "bar"
           }
          ],
          "barpolar": [
           {
            "marker": {
             "line": {
              "color": "#E5ECF6",
              "width": 0.5
             }
            },
            "type": "barpolar"
           }
          ],
          "carpet": [
           {
            "aaxis": {
             "endlinecolor": "#2a3f5f",
             "gridcolor": "white",
             "linecolor": "white",
             "minorgridcolor": "white",
             "startlinecolor": "#2a3f5f"
            },
            "baxis": {
             "endlinecolor": "#2a3f5f",
             "gridcolor": "white",
             "linecolor": "white",
             "minorgridcolor": "white",
             "startlinecolor": "#2a3f5f"
            },
            "type": "carpet"
           }
          ],
          "choropleth": [
           {
            "colorbar": {
             "outlinewidth": 0,
             "ticks": ""
            },
            "type": "choropleth"
           }
          ],
          "contour": [
           {
            "colorbar": {
             "outlinewidth": 0,
             "ticks": ""
            },
            "colorscale": [
             [
              0,
              "#0d0887"
             ],
             [
              0.1111111111111111,
              "#46039f"
             ],
             [
              0.2222222222222222,
              "#7201a8"
             ],
             [
              0.3333333333333333,
              "#9c179e"
             ],
             [
              0.4444444444444444,
              "#bd3786"
             ],
             [
              0.5555555555555556,
              "#d8576b"
             ],
             [
              0.6666666666666666,
              "#ed7953"
             ],
             [
              0.7777777777777778,
              "#fb9f3a"
             ],
             [
              0.8888888888888888,
              "#fdca26"
             ],
             [
              1,
              "#f0f921"
             ]
            ],
            "type": "contour"
           }
          ],
          "contourcarpet": [
           {
            "colorbar": {
             "outlinewidth": 0,
             "ticks": ""
            },
            "type": "contourcarpet"
           }
          ],
          "heatmap": [
           {
            "colorbar": {
             "outlinewidth": 0,
             "ticks": ""
            },
            "colorscale": [
             [
              0,
              "#0d0887"
             ],
             [
              0.1111111111111111,
              "#46039f"
             ],
             [
              0.2222222222222222,
              "#7201a8"
             ],
             [
              0.3333333333333333,
              "#9c179e"
             ],
             [
              0.4444444444444444,
              "#bd3786"
             ],
             [
              0.5555555555555556,
              "#d8576b"
             ],
             [
              0.6666666666666666,
              "#ed7953"
             ],
             [
              0.7777777777777778,
              "#fb9f3a"
             ],
             [
              0.8888888888888888,
              "#fdca26"
             ],
             [
              1,
              "#f0f921"
             ]
            ],
            "type": "heatmap"
           }
          ],
          "heatmapgl": [
           {
            "colorbar": {
             "outlinewidth": 0,
             "ticks": ""
            },
            "colorscale": [
             [
              0,
              "#0d0887"
             ],
             [
              0.1111111111111111,
              "#46039f"
             ],
             [
              0.2222222222222222,
              "#7201a8"
             ],
             [
              0.3333333333333333,
              "#9c179e"
             ],
             [
              0.4444444444444444,
              "#bd3786"
             ],
             [
              0.5555555555555556,
              "#d8576b"
             ],
             [
              0.6666666666666666,
              "#ed7953"
             ],
             [
              0.7777777777777778,
              "#fb9f3a"
             ],
             [
              0.8888888888888888,
              "#fdca26"
             ],
             [
              1,
              "#f0f921"
             ]
            ],
            "type": "heatmapgl"
           }
          ],
          "histogram": [
           {
            "marker": {
             "colorbar": {
              "outlinewidth": 0,
              "ticks": ""
             }
            },
            "type": "histogram"
           }
          ],
          "histogram2d": [
           {
            "colorbar": {
             "outlinewidth": 0,
             "ticks": ""
            },
            "colorscale": [
             [
              0,
              "#0d0887"
             ],
             [
              0.1111111111111111,
              "#46039f"
             ],
             [
              0.2222222222222222,
              "#7201a8"
             ],
             [
              0.3333333333333333,
              "#9c179e"
             ],
             [
              0.4444444444444444,
              "#bd3786"
             ],
             [
              0.5555555555555556,
              "#d8576b"
             ],
             [
              0.6666666666666666,
              "#ed7953"
             ],
             [
              0.7777777777777778,
              "#fb9f3a"
             ],
             [
              0.8888888888888888,
              "#fdca26"
             ],
             [
              1,
              "#f0f921"
             ]
            ],
            "type": "histogram2d"
           }
          ],
          "histogram2dcontour": [
           {
            "colorbar": {
             "outlinewidth": 0,
             "ticks": ""
            },
            "colorscale": [
             [
              0,
              "#0d0887"
             ],
             [
              0.1111111111111111,
              "#46039f"
             ],
             [
              0.2222222222222222,
              "#7201a8"
             ],
             [
              0.3333333333333333,
              "#9c179e"
             ],
             [
              0.4444444444444444,
              "#bd3786"
             ],
             [
              0.5555555555555556,
              "#d8576b"
             ],
             [
              0.6666666666666666,
              "#ed7953"
             ],
             [
              0.7777777777777778,
              "#fb9f3a"
             ],
             [
              0.8888888888888888,
              "#fdca26"
             ],
             [
              1,
              "#f0f921"
             ]
            ],
            "type": "histogram2dcontour"
           }
          ],
          "mesh3d": [
           {
            "colorbar": {
             "outlinewidth": 0,
             "ticks": ""
            },
            "type": "mesh3d"
           }
          ],
          "parcoords": [
           {
            "line": {
             "colorbar": {
              "outlinewidth": 0,
              "ticks": ""
             }
            },
            "type": "parcoords"
           }
          ],
          "pie": [
           {
            "automargin": true,
            "type": "pie"
           }
          ],
          "scatter": [
           {
            "marker": {
             "colorbar": {
              "outlinewidth": 0,
              "ticks": ""
             }
            },
            "type": "scatter"
           }
          ],
          "scatter3d": [
           {
            "line": {
             "colorbar": {
              "outlinewidth": 0,
              "ticks": ""
             }
            },
            "marker": {
             "colorbar": {
              "outlinewidth": 0,
              "ticks": ""
             }
            },
            "type": "scatter3d"
           }
          ],
          "scattercarpet": [
           {
            "marker": {
             "colorbar": {
              "outlinewidth": 0,
              "ticks": ""
             }
            },
            "type": "scattercarpet"
           }
          ],
          "scattergeo": [
           {
            "marker": {
             "colorbar": {
              "outlinewidth": 0,
              "ticks": ""
             }
            },
            "type": "scattergeo"
           }
          ],
          "scattergl": [
           {
            "marker": {
             "colorbar": {
              "outlinewidth": 0,
              "ticks": ""
             }
            },
            "type": "scattergl"
           }
          ],
          "scattermapbox": [
           {
            "marker": {
             "colorbar": {
              "outlinewidth": 0,
              "ticks": ""
             }
            },
            "type": "scattermapbox"
           }
          ],
          "scatterpolar": [
           {
            "marker": {
             "colorbar": {
              "outlinewidth": 0,
              "ticks": ""
             }
            },
            "type": "scatterpolar"
           }
          ],
          "scatterpolargl": [
           {
            "marker": {
             "colorbar": {
              "outlinewidth": 0,
              "ticks": ""
             }
            },
            "type": "scatterpolargl"
           }
          ],
          "scatterternary": [
           {
            "marker": {
             "colorbar": {
              "outlinewidth": 0,
              "ticks": ""
             }
            },
            "type": "scatterternary"
           }
          ],
          "surface": [
           {
            "colorbar": {
             "outlinewidth": 0,
             "ticks": ""
            },
            "colorscale": [
             [
              0,
              "#0d0887"
             ],
             [
              0.1111111111111111,
              "#46039f"
             ],
             [
              0.2222222222222222,
              "#7201a8"
             ],
             [
              0.3333333333333333,
              "#9c179e"
             ],
             [
              0.4444444444444444,
              "#bd3786"
             ],
             [
              0.5555555555555556,
              "#d8576b"
             ],
             [
              0.6666666666666666,
              "#ed7953"
             ],
             [
              0.7777777777777778,
              "#fb9f3a"
             ],
             [
              0.8888888888888888,
              "#fdca26"
             ],
             [
              1,
              "#f0f921"
             ]
            ],
            "type": "surface"
           }
          ],
          "table": [
           {
            "cells": {
             "fill": {
              "color": "#EBF0F8"
             },
             "line": {
              "color": "white"
             }
            },
            "header": {
             "fill": {
              "color": "#C8D4E3"
             },
             "line": {
              "color": "white"
             }
            },
            "type": "table"
           }
          ]
         },
         "layout": {
          "annotationdefaults": {
           "arrowcolor": "#2a3f5f",
           "arrowhead": 0,
           "arrowwidth": 1
          },
          "autotypenumbers": "strict",
          "coloraxis": {
           "colorbar": {
            "outlinewidth": 0,
            "ticks": ""
           }
          },
          "colorscale": {
           "diverging": [
            [
             0,
             "#8e0152"
            ],
            [
             0.1,
             "#c51b7d"
            ],
            [
             0.2,
             "#de77ae"
            ],
            [
             0.3,
             "#f1b6da"
            ],
            [
             0.4,
             "#fde0ef"
            ],
            [
             0.5,
             "#f7f7f7"
            ],
            [
             0.6,
             "#e6f5d0"
            ],
            [
             0.7,
             "#b8e186"
            ],
            [
             0.8,
             "#7fbc41"
            ],
            [
             0.9,
             "#4d9221"
            ],
            [
             1,
             "#276419"
            ]
           ],
           "sequential": [
            [
             0,
             "#0d0887"
            ],
            [
             0.1111111111111111,
             "#46039f"
            ],
            [
             0.2222222222222222,
             "#7201a8"
            ],
            [
             0.3333333333333333,
             "#9c179e"
            ],
            [
             0.4444444444444444,
             "#bd3786"
            ],
            [
             0.5555555555555556,
             "#d8576b"
            ],
            [
             0.6666666666666666,
             "#ed7953"
            ],
            [
             0.7777777777777778,
             "#fb9f3a"
            ],
            [
             0.8888888888888888,
             "#fdca26"
            ],
            [
             1,
             "#f0f921"
            ]
           ],
           "sequentialminus": [
            [
             0,
             "#0d0887"
            ],
            [
             0.1111111111111111,
             "#46039f"
            ],
            [
             0.2222222222222222,
             "#7201a8"
            ],
            [
             0.3333333333333333,
             "#9c179e"
            ],
            [
             0.4444444444444444,
             "#bd3786"
            ],
            [
             0.5555555555555556,
             "#d8576b"
            ],
            [
             0.6666666666666666,
             "#ed7953"
            ],
            [
             0.7777777777777778,
             "#fb9f3a"
            ],
            [
             0.8888888888888888,
             "#fdca26"
            ],
            [
             1,
             "#f0f921"
            ]
           ]
          },
          "colorway": [
           "#636efa",
           "#EF553B",
           "#00cc96",
           "#ab63fa",
           "#FFA15A",
           "#19d3f3",
           "#FF6692",
           "#B6E880",
           "#FF97FF",
           "#FECB52"
          ],
          "font": {
           "color": "#2a3f5f"
          },
          "geo": {
           "bgcolor": "white",
           "lakecolor": "white",
           "landcolor": "#E5ECF6",
           "showlakes": true,
           "showland": true,
           "subunitcolor": "white"
          },
          "hoverlabel": {
           "align": "left"
          },
          "hovermode": "closest",
          "mapbox": {
           "style": "light"
          },
          "paper_bgcolor": "white",
          "plot_bgcolor": "#E5ECF6",
          "polar": {
           "angularaxis": {
            "gridcolor": "white",
            "linecolor": "white",
            "ticks": ""
           },
           "bgcolor": "#E5ECF6",
           "radialaxis": {
            "gridcolor": "white",
            "linecolor": "white",
            "ticks": ""
           }
          },
          "scene": {
           "xaxis": {
            "backgroundcolor": "#E5ECF6",
            "gridcolor": "white",
            "gridwidth": 2,
            "linecolor": "white",
            "showbackground": true,
            "ticks": "",
            "zerolinecolor": "white"
           },
           "yaxis": {
            "backgroundcolor": "#E5ECF6",
            "gridcolor": "white",
            "gridwidth": 2,
            "linecolor": "white",
            "showbackground": true,
            "ticks": "",
            "zerolinecolor": "white"
           },
           "zaxis": {
            "backgroundcolor": "#E5ECF6",
            "gridcolor": "white",
            "gridwidth": 2,
            "linecolor": "white",
            "showbackground": true,
            "ticks": "",
            "zerolinecolor": "white"
           }
          },
          "shapedefaults": {
           "line": {
            "color": "#2a3f5f"
           }
          },
          "ternary": {
           "aaxis": {
            "gridcolor": "white",
            "linecolor": "white",
            "ticks": ""
           },
           "baxis": {
            "gridcolor": "white",
            "linecolor": "white",
            "ticks": ""
           },
           "bgcolor": "#E5ECF6",
           "caxis": {
            "gridcolor": "white",
            "linecolor": "white",
            "ticks": ""
           }
          },
          "title": {
           "x": 0.05
          },
          "xaxis": {
           "automargin": true,
           "gridcolor": "white",
           "linecolor": "white",
           "ticks": "",
           "title": {
            "standoff": 15
           },
           "zerolinecolor": "white",
           "zerolinewidth": 2
          },
          "yaxis": {
           "automargin": true,
           "gridcolor": "white",
           "linecolor": "white",
           "ticks": "",
           "title": {
            "standoff": 15
           },
           "zerolinecolor": "white",
           "zerolinewidth": 2
          }
         }
        },
        "width": 700
       }
      },
      "text/html": [
       "<div>                            <div id=\"3efa0665-4447-4a7c-8fc6-103aedc4cc0a\" class=\"plotly-graph-div\" style=\"height:600px; width:700px;\"></div>            <script type=\"text/javascript\">                require([\"plotly\"], function(Plotly) {                    window.PLOTLYENV=window.PLOTLYENV || {};                                    if (document.getElementById(\"3efa0665-4447-4a7c-8fc6-103aedc4cc0a\")) {                    Plotly.newPlot(                        \"3efa0665-4447-4a7c-8fc6-103aedc4cc0a\",                        [{\"customdata\": [[\"Connecticut Ave & McKinley St NW\"], [\"Yuma St & Tenley Circle NW\"], [\"Connecticut Ave & Chevy Chase Lake Dr\"], [\"Wisconsin Ave & Ingomar St NW\"], [\"Woodmont Ave & Strathmore St\"], [\"Connecticut Ave & Yuma St NW\"], [\"Wisconsin Ave & Brandywine St NW\"], [\"Pooks Hill Rd & Linden Ave\"], [\"American University East Campus\"], [\"Woodglen Dr & Executive Blvd\"], [\"48th Pl & MacArthur Blvd NW\"], [\"Van Ness Metro / UDC\"], [\"Ward Circle / American University\"], [\"Wisconsin Ave & Newark St NW\"], [\"Tenleytown / Wisconsin Ave & Albemarle St NW\"], [\"39th & Veazey St NW\"], [\"Fessenden St & Wisconsin Ave NW\"], [\"Connecticut & Nebraska Ave NW\"], [\"Bethesda Ave & Arlington Rd\"], [\"Norfolk Ave & Fairmont St\"], [\"Cordell & Norfolk Ave\"], [\"Montgomery & East Ln\"], [\"Friendship Hts Metro / Wisconsin Ave & Wisconsin Cir\"], [\"47th & Elm St\"], [\"Battery Ln & Trolley Trail\"], [\"Norfolk & Rugby Ave\"], [\"Offutt Ln & Chevy Chase Dr\"], [\"Old Georgetown Rd & Southwick St\"], [\"Friendship Blvd & Willard Ave\"], [\"Connecticut Ave & Tilden St NW\"], [\"River Rd & Landy Ln\"], [\"Bethesda Metro / Wisconsin Ave & Old Georgetown Rd\"], [\"34th & Water St NW\"]], \"hovertemplate\": \"<b>%{hovertext}</b><br><br>kmeans=9<br>size=%{marker.size}<br>LATITUDE=%{lat}<br>LONGITUDE=%{lon}<br>node_ids=%{customdata[0]}<extra></extra>\", \"hovertext\": [\"Connecticut Ave & McKinley St NW\", \"Yuma St & Tenley Circle NW\", \"Connecticut Ave & Chevy Chase Lake Dr\", \"Wisconsin Ave & Ingomar St NW\", \"Woodmont Ave & Strathmore St\", \"Connecticut Ave & Yuma St NW\", \"Wisconsin Ave & Brandywine St NW\", \"Pooks Hill Rd & Linden Ave\", \"American University East Campus\", \"Woodglen Dr & Executive Blvd\", \"48th Pl & MacArthur Blvd NW\", \"Van Ness Metro / UDC\", \"Ward Circle / American University\", \"Wisconsin Ave & Newark St NW\", \"Tenleytown / Wisconsin Ave & Albemarle St NW\", \"39th & Veazey St NW\", \"Fessenden St & Wisconsin Ave NW\", \"Connecticut & Nebraska Ave NW\", \"Bethesda Ave & Arlington Rd\", \"Norfolk Ave & Fairmont St\", \"Cordell & Norfolk Ave\", \"Montgomery & East Ln\", \"Friendship Hts Metro / Wisconsin Ave & Wisconsin Cir\", \"47th & Elm St\", \"Battery Ln & Trolley Trail\", \"Norfolk & Rugby Ave\", \"Offutt Ln & Chevy Chase Dr\", \"Old Georgetown Rd & Southwick St\", \"Friendship Blvd & Willard Ave\", \"Connecticut Ave & Tilden St NW\", \"River Rd & Landy Ln\", \"Bethesda Metro / Wisconsin Ave & Old Georgetown Rd\", \"34th & Water St NW\"], \"lat\": [38.964544, 38.946182, 38.994113, 38.958267, 38.979875, 38.947156, 38.949813, 39.014716, 38.936298, 39.04317, 38.917304, 38.944551, 38.938736, 38.934881, 38.947607, 38.943837, 38.954812, 38.955016, 38.981103, 38.988562, 38.98954000000001, 38.983525, 38.961763, 38.982456, 38.992375, 38.990639, 38.977093, 38.999634, 38.96115, 38.941139, 38.964992, 38.984691, 38.903663], \"legendgroup\": \"9\", \"lon\": [-77.075135, -77.08059, -77.076986, -77.084636, -77.093522, -77.065115, -77.080217, -77.10714300000002, -77.087128, -77.1135, -77.09629, -77.063896, -77.087171, -77.072755, -77.079382, -77.077078, -77.082426, -77.069956, -77.097426, -77.096539, -77.098029, -77.09536700000002, -77.085998, -77.09199100000002, -77.100104, -77.100239, -77.094589, -77.109647, -77.08865899999998, -77.061977, -77.103381, -77.094537, -77.06766800000003], \"marker\": {\"color\": \"#636EFA\", \"size\": [5, 5, 5, 5, 5, 5, 5, 5, 5, 5, 5, 5, 5, 5, 5, 5, 5, 5, 5, 5, 5, 5, 5, 5, 5, 5, 5, 5, 5, 5, 5, 5, 5], \"sizemode\": \"area\", \"sizeref\": 0.05}, \"mode\": \"markers\", \"name\": \"9\", \"showlegend\": true, \"subplot\": \"mapbox\", \"type\": \"scattermapbox\"}, {\"customdata\": [[\"15th & L St NW\"], [\"17th & G St NW\"], [\"18th & R St NW\"], [\"Union Market\"], [\"19th & G St NW\"], [\"2nd St & Seaton Pl NE\"], [\"31st & Water St NW\"], [\"11th & S St NW\"], [\"2nd & G St NE\"], [\"8th & O St NW\"], [\"Oklahoma Ave & D St NE\"], [\"Maryland Ave & E St NE\"], [\"New York Ave & Hecht Ave NE\"], [\"16th & Irving St NW\"], [\"16th & R St NW\"], [\"14th & L St NW\"], [\"1st & O St NW\"], [\"18th & C St NW\"], [\"22nd & P ST NW\"], [\"14th & Girard St NW\"], [\"11th & O St NW\"], [\"10th St & L'Enfant Plaza SW\"], [\"2nd St & Massachusetts Ave NE\"], [\"4th St & Madison Dr NW\"], [\"Henry Bacon Dr & Lincoln Memorial Circle NW\"], [\"17th St & Independence Ave SW\"], [\"4th St & K St NW\"], [\"14th & Irving St NW\"], [\"Vermont Ave & I St NW\"], [\"24th & R St NE / National Arboretum\"], [\"1st & D St SE\"], [\"22nd St & Constitution Ave NW\"], [\"15th & W St NW\"], [\"12th St & Pennsylvania Ave SE\"], [\"6th & K St NE\"], [\"7th & E St SW\"], [\"Potomac & M St NW\"], [\"Columbia & Ontario Rd NW\"], [\"Virginia Ave & 25th St NW\"], [\"15th & M St NW\"], [\"11th & Girard St NW\"], [\"Connecticut Ave & R St NW\"], [\"15th St & Constitution Ave NW\"], [\"23rd & M St NW\"], [\"15th St & Pennsylvania Ave NW\"], [\"Maine Ave & 9th St SW\"], [\"Lincoln Rd & Seaton Pl NE/Harry Thomas Rec Center\"], [\"Georgia Ave & Kennedy St NW\"], [\"7th St & Massachusetts Ave NE\"], [\"1301 McCormick Dr / Wayne K. Curry Admin Bldg\"], [\"Largo Town Center Metro\"], [\"Potomac Ave & Half St SW\"], [\"14th & Newton St NW\"], [\"1st & M St SE\"], [\"11th & Park Rd NW\"], [\"4th & M St SE\"], [\"Kansas Ave & Sherman Cr NW\"], [\"7th & K St NW\"], [\"King Greenleaf Rec Center\"], [\"Montello Ave & Holbrook Terr NE\"], [\"New Jersey Ave & F St NW\"], [\"Maryland Ave & 17th St NE\"], [\"Massachusetts Ave & 6th St NE\"], [\"Woodley Park Metro / Calvert St & Connecticut Ave NW\"], [\"Trinidad Rec Center\"], [\"Rosedale Rec Center\"], [\"11th & C St SE\"], [\"18th & New Hampshire Ave NW\"], [\"Georgia Ave & Morton St NW\"], [\"7th & S St NW\"], [\"North Capitol & R St NE\"], [\"17th & Upshur St NW\"], [\"Grant Circle\"], [\"14th & Otis Pl NW\"], [\"Edgewood Rec Center\"], [\"8th & K St NE\"], [\"Reservoir Rd & 38th St NW\"], [\"22nd & H St NW\"], [\"8th & H St NE\"], [\"Hardy Rec Center\"], [\"1st & K St NE\"], [\"19th St & Pennsylvania Ave NW\"], [\"14th & V St NW\"], [\"11th & Kenyon St NW\"], [\"16th & Harvard St NW\"], [\"Adams Mill & Columbia Rd NW\"], [\"14th & Harvard St NW\"], [\"Calvert & Biltmore St NW\"], [\"Lamont & Mt Pleasant NW\"], [\"4th & M St SW\"], [\"15th & P St NW\"], [\"14th & R St NW\"], [\"14th & Rhode Island Ave NW\"], [\"20th & E St NW\"], [\"21st & I St NW\"], [\"Georgia & New Hampshire Ave NW\"], [\"14th St & Spring Rd NW\"], [\"John McCormack Dr & Michigan Ave NE\"], [\"5th & K St NW\"], [\"19th & East Capitol St SE\"], [\"Park Rd & Holmead Pl NW\"], [\"Connecticut Ave & Newark St NW / Cleveland Park\"], [\"19th & E Street NW\"], [\"4th & W St NE\"], [\"10th & U St NW\"], [\"Georgia Ave and Fairmont St NW\"], [\"1st & N St  SE\"], [\"20th St & Florida Ave NW\"], [\"7th & T St NW\"], [\"M St & New Jersey Ave SE\"], [\"Massachusetts Ave & Dupont Circle NW\"], [\"1st & M St NE\"], [\"New Hampshire Ave & Ward Pl NW\"], [\"17th & K St NW\"], [\"3rd & H St NW\"], [\"3rd & D St SE\"], [\"Potomac & Pennsylvania Ave SE\"], [\"13th & E St SE\"], [\"17th & Corcoran St NW\"], [\"Florida Ave & R St NW\"], [\"8th & Eye St SE / Barracks Row\"], [\"14th St Heights / 14th & Crittenden St NW\"], [\"Eastern Market / 7th & North Carolina Ave SE\"], [\"14th St & New York Ave NW\"], [\"USDA / 12th & C St SW\"], [\"Georgetown Harbor / 30th St NW\"], [\"12th & Newton St NE\"], [\"US Dept of State / Virginia Ave & 21st St NW\"], [\"L'Enfant Plaza / 7th & C St SW\"], [\"10th St & Constitution Ave NW\"], [\"Kennedy Center\"], [\"Eastern Market Metro / Pennsylvania Ave & 7th St SE\"], [\"18th & M St NW\"], [\"13th & H St NE\"], [\"5th & F St NW\"], [\"New York Ave & 15th St NW\"], [\"Convention Center / 7th & M St NW\"], [\"Harvard St & Adams Mill Rd NW\"], [\"18th & L St NW\"], [\"C & O Canal & Wisconsin Ave NW\"], [\"Maine Ave & 7th St SW\"], [\"D St & Maryland Ave NE\"], [\"34th St & Wisconsin Ave NW\"], [\"13th St & New York Ave NW\"], [\"8th & H St NW\"], [\"10th & Monroe St NE\"], [\"Eckington Pl & Q St NE\"], [\"6th & H St NE\"], [\"3rd & H St NE\"], [\"Bladensburg Rd & Benning Rd NE\"], [\"4th & East Capitol St NE\"], [\"13th & D St NE\"], [\"New Hampshire Ave & T St NW\"], [\"Metro Center / 12th & G St NW\"], [\"14th & D St NW / Ronald Reagan Building\"], [\"7th & F St NW / National Portrait Gallery\"], [\"17th & K St NW / Farragut Square\"], [\"20th & O St NW / Dupont South\"], [\"4th & D St NW / Judiciary Square\"], [\"19th St & Constitution Ave NW\"], [\"37th & O St NW / Georgetown University\"], [\"11th & H St NE\"], [\"25th St & Pennsylvania Ave NW\"], [\"Columbus Circle / Union Station\"], [\"North Capitol St & F St NW\"], [\"11th & M St NW\"], [\"36th & Calvert St NW / Glover Park\"], [\"14th & G St NW\"], [\"Ohio Dr & West Basin Dr SW / MLK & FDR Memorials\"], [\"11th & F St NW\"], [\"21st St & Constitution Ave NW\"], [\"Columbia Rd & Belmont St NW\"], [\"Rhode Island & Connecticut Ave NW\"], [\"Thomas Circle\"], [\"18th St & Pennsylvania Ave NW\"], [\"4th & C St SW\"], [\"4th & E St SW\"], [\"3rd & G St SE\"], [\"7th & R St NW / Shaw Library\"], [\"9th & Upshur St NW\"], [\"1st & Rhode Island Ave NW\"], [\"Columbia Rd & Georgia Ave NW\"], [\"California St & Florida Ave NW\"], [\"3000 Connecticut Ave NW / National Zoo\"], [\"M St & Pennsylvania Ave NW\"], [\"15th St & Massachusetts Ave SE\"], [\"10th & K St NW\"], [\"1st & K St SE\"], [\"39th & Calvert St NW / Stoddert\"], [\"1st & Washington Hospital Center NW\"], [\"Jefferson Dr & 14th St SW\"], [\"Smithsonian-National Mall / Jefferson Dr & 12th St SW\"], [\"6th St & Indiana Ave NW\"], [\"Jefferson Memorial\"], [\"Gallaudet / 8th St & Florida Ave NE\"], [\"20th & L St NW\"], [\"12th & L St NW\"], [\"21st St & Pennsylvania Ave NW\"], [\"19th & K St NW\"], [\"15th & K St NW\"], [\"24th & N St NW\"], [\"10th & E St NW\"], [\"22nd & I St NW / Foggy Bottom\"], [\"Lincoln Memorial\"], [\"20th St & Virginia Ave NW\"], [\"5th St & Massachusetts Ave NW\"], [\"3rd & M St NE\"], [\"18th St & Wyoming Ave NW\"], [\"Georgia Ave & Emerson St NW\"], [\"14th & Upshur St NW\"], [\"Wisconsin Ave & O St NW\"], [\"17th St & Massachusetts Ave NW\"], [\"15th & Euclid St  NW\"], [\"8th & East Capitol St NE\"], [\"New Jersey Ave & R St NW\"], [\"15th & East Capitol St NE\"], [\"8th & F St NE\"], [\"18th St & Rhode Island Ave NE\"], [\"15th & F St NE\"], [\"12th & Irving St NE\"], [\"Neal St & Trinidad Ave NE\"], [\"12th & U St NW\"], [\"3rd St & Pennsylvania Ave SE\"], [\"8th & D St NW\"], [\"3rd & Elm St NW\"], [\"Rhode Island Ave & V St NE\"], [\"Constitution Ave & 2nd St NW/DOL\"], [\"Washington & Independence Ave SW/HHS\"], [\"Independence Ave & L'Enfant Plaza SW/DOE\"], [\"Hamlin & 7th St NE\"], [\"14th & Belmont St NW\"], [\"3rd & Tingey St SE\"], [\"10th & Florida Ave NW\"], [\"Potomac Ave & 8th St SE\"], [\"Calvert St & Woodley Pl NW\"], [\"New Jersey Ave & N St NW/Dunbar HS\"], [\"Hains Point/Buckeye & Ohio Dr SW\"], [\"North Capitol St & G Pl NE\"], [\"1st & H St NW\"], [\"Rhode Island Ave Metro\"], [\"10th & G St NW\"], [\"New Hampshire Ave & 24th St NW\"]], \"hovertemplate\": \"<b>%{hovertext}</b><br><br>kmeans=2<br>size=%{marker.size}<br>LATITUDE=%{lat}<br>LONGITUDE=%{lon}<br>node_ids=%{customdata[0]}<extra></extra>\", \"hovertext\": [\"15th & L St NW\", \"17th & G St NW\", \"18th & R St NW\", \"Union Market\", \"19th & G St NW\", \"2nd St & Seaton Pl NE\", \"31st & Water St NW\", \"11th & S St NW\", \"2nd & G St NE\", \"8th & O St NW\", \"Oklahoma Ave & D St NE\", \"Maryland Ave & E St NE\", \"New York Ave & Hecht Ave NE\", \"16th & Irving St NW\", \"16th & R St NW\", \"14th & L St NW\", \"1st & O St NW\", \"18th & C St NW\", \"22nd & P ST NW\", \"14th & Girard St NW\", \"11th & O St NW\", \"10th St & L'Enfant Plaza SW\", \"2nd St & Massachusetts Ave NE\", \"4th St & Madison Dr NW\", \"Henry Bacon Dr & Lincoln Memorial Circle NW\", \"17th St & Independence Ave SW\", \"4th St & K St NW\", \"14th & Irving St NW\", \"Vermont Ave & I St NW\", \"24th & R St NE / National Arboretum\", \"1st & D St SE\", \"22nd St & Constitution Ave NW\", \"15th & W St NW\", \"12th St & Pennsylvania Ave SE\", \"6th & K St NE\", \"7th & E St SW\", \"Potomac & M St NW\", \"Columbia & Ontario Rd NW\", \"Virginia Ave & 25th St NW\", \"15th & M St NW\", \"11th & Girard St NW\", \"Connecticut Ave & R St NW\", \"15th St & Constitution Ave NW\", \"23rd & M St NW\", \"15th St & Pennsylvania Ave NW\", \"Maine Ave & 9th St SW\", \"Lincoln Rd & Seaton Pl NE/Harry Thomas Rec Center\", \"Georgia Ave & Kennedy St NW\", \"7th St & Massachusetts Ave NE\", \"1301 McCormick Dr / Wayne K. Curry Admin Bldg\", \"Largo Town Center Metro\", \"Potomac Ave & Half St SW\", \"14th & Newton St NW\", \"1st & M St SE\", \"11th & Park Rd NW\", \"4th & M St SE\", \"Kansas Ave & Sherman Cr NW\", \"7th & K St NW\", \"King Greenleaf Rec Center\", \"Montello Ave & Holbrook Terr NE\", \"New Jersey Ave & F St NW\", \"Maryland Ave & 17th St NE\", \"Massachusetts Ave & 6th St NE\", \"Woodley Park Metro / Calvert St & Connecticut Ave NW\", \"Trinidad Rec Center\", \"Rosedale Rec Center\", \"11th & C St SE\", \"18th & New Hampshire Ave NW\", \"Georgia Ave & Morton St NW\", \"7th & S St NW\", \"North Capitol & R St NE\", \"17th & Upshur St NW\", \"Grant Circle\", \"14th & Otis Pl NW\", \"Edgewood Rec Center\", \"8th & K St NE\", \"Reservoir Rd & 38th St NW\", \"22nd & H St NW\", \"8th & H St NE\", \"Hardy Rec Center\", \"1st & K St NE\", \"19th St & Pennsylvania Ave NW\", \"14th & V St NW\", \"11th & Kenyon St NW\", \"16th & Harvard St NW\", \"Adams Mill & Columbia Rd NW\", \"14th & Harvard St NW\", \"Calvert & Biltmore St NW\", \"Lamont & Mt Pleasant NW\", \"4th & M St SW\", \"15th & P St NW\", \"14th & R St NW\", \"14th & Rhode Island Ave NW\", \"20th & E St NW\", \"21st & I St NW\", \"Georgia & New Hampshire Ave NW\", \"14th St & Spring Rd NW\", \"John McCormack Dr & Michigan Ave NE\", \"5th & K St NW\", \"19th & East Capitol St SE\", \"Park Rd & Holmead Pl NW\", \"Connecticut Ave & Newark St NW / Cleveland Park\", \"19th & E Street NW\", \"4th & W St NE\", \"10th & U St NW\", \"Georgia Ave and Fairmont St NW\", \"1st & N St  SE\", \"20th St & Florida Ave NW\", \"7th & T St NW\", \"M St & New Jersey Ave SE\", \"Massachusetts Ave & Dupont Circle NW\", \"1st & M St NE\", \"New Hampshire Ave & Ward Pl NW\", \"17th & K St NW\", \"3rd & H St NW\", \"3rd & D St SE\", \"Potomac & Pennsylvania Ave SE\", \"13th & E St SE\", \"17th & Corcoran St NW\", \"Florida Ave & R St NW\", \"8th & Eye St SE / Barracks Row\", \"14th St Heights / 14th & Crittenden St NW\", \"Eastern Market / 7th & North Carolina Ave SE\", \"14th St & New York Ave NW\", \"USDA / 12th & C St SW\", \"Georgetown Harbor / 30th St NW\", \"12th & Newton St NE\", \"US Dept of State / Virginia Ave & 21st St NW\", \"L'Enfant Plaza / 7th & C St SW\", \"10th St & Constitution Ave NW\", \"Kennedy Center\", \"Eastern Market Metro / Pennsylvania Ave & 7th St SE\", \"18th & M St NW\", \"13th & H St NE\", \"5th & F St NW\", \"New York Ave & 15th St NW\", \"Convention Center / 7th & M St NW\", \"Harvard St & Adams Mill Rd NW\", \"18th & L St NW\", \"C & O Canal & Wisconsin Ave NW\", \"Maine Ave & 7th St SW\", \"D St & Maryland Ave NE\", \"34th St & Wisconsin Ave NW\", \"13th St & New York Ave NW\", \"8th & H St NW\", \"10th & Monroe St NE\", \"Eckington Pl & Q St NE\", \"6th & H St NE\", \"3rd & H St NE\", \"Bladensburg Rd & Benning Rd NE\", \"4th & East Capitol St NE\", \"13th & D St NE\", \"New Hampshire Ave & T St NW\", \"Metro Center / 12th & G St NW\", \"14th & D St NW / Ronald Reagan Building\", \"7th & F St NW / National Portrait Gallery\", \"17th & K St NW / Farragut Square\", \"20th & O St NW / Dupont South\", \"4th & D St NW / Judiciary Square\", \"19th St & Constitution Ave NW\", \"37th & O St NW / Georgetown University\", \"11th & H St NE\", \"25th St & Pennsylvania Ave NW\", \"Columbus Circle / Union Station\", \"North Capitol St & F St NW\", \"11th & M St NW\", \"36th & Calvert St NW / Glover Park\", \"14th & G St NW\", \"Ohio Dr & West Basin Dr SW / MLK & FDR Memorials\", \"11th & F St NW\", \"21st St & Constitution Ave NW\", \"Columbia Rd & Belmont St NW\", \"Rhode Island & Connecticut Ave NW\", \"Thomas Circle\", \"18th St & Pennsylvania Ave NW\", \"4th & C St SW\", \"4th & E St SW\", \"3rd & G St SE\", \"7th & R St NW / Shaw Library\", \"9th & Upshur St NW\", \"1st & Rhode Island Ave NW\", \"Columbia Rd & Georgia Ave NW\", \"California St & Florida Ave NW\", \"3000 Connecticut Ave NW / National Zoo\", \"M St & Pennsylvania Ave NW\", \"15th St & Massachusetts Ave SE\", \"10th & K St NW\", \"1st & K St SE\", \"39th & Calvert St NW / Stoddert\", \"1st & Washington Hospital Center NW\", \"Jefferson Dr & 14th St SW\", \"Smithsonian-National Mall / Jefferson Dr & 12th St SW\", \"6th St & Indiana Ave NW\", \"Jefferson Memorial\", \"Gallaudet / 8th St & Florida Ave NE\", \"20th & L St NW\", \"12th & L St NW\", \"21st St & Pennsylvania Ave NW\", \"19th & K St NW\", \"15th & K St NW\", \"24th & N St NW\", \"10th & E St NW\", \"22nd & I St NW / Foggy Bottom\", \"Lincoln Memorial\", \"20th St & Virginia Ave NW\", \"5th St & Massachusetts Ave NW\", \"3rd & M St NE\", \"18th St & Wyoming Ave NW\", \"Georgia Ave & Emerson St NW\", \"14th & Upshur St NW\", \"Wisconsin Ave & O St NW\", \"17th St & Massachusetts Ave NW\", \"15th & Euclid St  NW\", \"8th & East Capitol St NE\", \"New Jersey Ave & R St NW\", \"15th & East Capitol St NE\", \"8th & F St NE\", \"18th St & Rhode Island Ave NE\", \"15th & F St NE\", \"12th & Irving St NE\", \"Neal St & Trinidad Ave NE\", \"12th & U St NW\", \"3rd St & Pennsylvania Ave SE\", \"8th & D St NW\", \"3rd & Elm St NW\", \"Rhode Island Ave & V St NE\", \"Constitution Ave & 2nd St NW/DOL\", \"Washington & Independence Ave SW/HHS\", \"Independence Ave & L'Enfant Plaza SW/DOE\", \"Hamlin & 7th St NE\", \"14th & Belmont St NW\", \"3rd & Tingey St SE\", \"10th & Florida Ave NW\", \"Potomac Ave & 8th St SE\", \"Calvert St & Woodley Pl NW\", \"New Jersey Ave & N St NW/Dunbar HS\", \"Hains Point/Buckeye & Ohio Dr SW\", \"North Capitol St & G Pl NE\", \"1st & H St NW\", \"Rhode Island Ave Metro\", \"10th & G St NW\", \"New Hampshire Ave & 24th St NW\"], \"lat\": [38.90366, 38.8983, 38.912648, 38.907908, 38.898412, 38.914751, 38.902814, 38.913761, 38.89967, 38.90864000000001, 38.894474, 38.896134, 38.915604, 38.928893, 38.912652, 38.903658, 38.908643, 38.893511, 38.909394, 38.92528400000001, 38.90843, 38.884323, 38.894972, 38.890493, 38.890544, 38.888097, 38.902406, 38.928552, 38.901136, 38.91263, 38.884916, 38.892441, 38.919086, 38.882489, 38.902932, 38.88345, 38.905368, 38.924088, 38.8995, 38.905424, 38.925636, 38.912644, 38.892244, 38.905303, 38.896465, 38.88044, 38.915, 38.95674, 38.89222, 38.908391, 38.899811, 38.870201, 38.931991, 38.876893, 38.931942, 38.876751, 38.948057, 38.902674, 38.876211, 38.907444, 38.897108, 38.901935, 38.892934, 38.923389, 38.906299, 38.89780800000001, 38.885908, 38.911268, 38.93212800000001, 38.914204, 38.912524, 38.942146, 38.942025, 38.934405, 38.924144, 38.902732, 38.91261400000001, 38.898925, 38.899942, 38.909701, 38.902386, 38.9003, 38.917931, 38.929464, 38.926088, 38.922925, 38.9268, 38.923203, 38.9319, 38.8767, 38.90985, 38.913046, 38.9086, 38.8963, 38.900711, 38.936684, 38.9375, 38.9346, 38.90304, 38.8896, 38.9308, 38.934267, 38.8952, 38.919077, 38.9172, 38.9249, 38.8743, 38.9154, 38.9155, 38.8763, 38.9101, 38.9057, 38.905711, 38.90276, 38.899408, 38.8851, 38.8803, 38.882915, 38.9121, 38.9126, 38.8792, 38.947774, 38.886952, 38.899632, 38.886277, 38.902221, 38.933668, 38.894919, 38.886266, 38.893028, 38.897293, 38.884, 38.905067, 38.900427, 38.897222, 38.899032, 38.905737, 38.927872, 38.903741, 38.90375, 38.878694, 38.894758, 38.916442, 38.900283, 38.8997, 38.93251400000001, 38.910972, 38.899972, 38.900412, 38.900413, 38.889955, 38.894832, 38.91554, 38.898364, 38.894514, 38.897283, 38.902061, 38.908905, 38.895344, 38.8923, 38.90774, 38.899983, 38.903827, 38.89696, 38.897446, 38.905607, 38.922581, 38.898409, 38.88412, 38.897857, 38.892459, 38.920669, 38.905996, 38.9059, 38.89968, 38.886372, 38.88412, 38.881185, 38.912719, 38.9418, 38.915417, 38.928121, 38.917761, 38.930282, 38.905126, 38.88732, 38.9024, 38.878854, 38.922649, 38.928743, 38.888553, 38.888767, 38.894573, 38.879819, 38.90509, 38.903584, 38.903819, 38.901539, 38.902204, 38.902, 38.9066, 38.89591400000001, 38.90088, 38.888251, 38.894722, 38.90093, 38.90547, 38.918809, 38.949662, 38.942475, 38.90849, 38.908142, 38.92333, 38.889988, 38.91265900000001, 38.889908, 38.897274, 38.927095, 38.897195, 38.928644, 38.903732, 38.916787, 38.88737800000001, 38.894851, 38.917622, 38.918155, 38.892275, 38.886978000000006, 38.887312, 38.927497, 38.921074, 38.87501, 38.920387, 38.876737, 38.923583, 38.907333, 38.878433, 38.899703, 38.900358, 38.920682, 38.898243, 38.901755], \"legendgroup\": \"2\", \"lon\": [-77.034846, -77.039732, -77.041834, -76.99707, -77.043182, -77.00356, -77.06104300000001, -77.027025, -77.00366600000002, -77.02277, -76.974828, -76.9929, -76.983683, -77.03625, -77.036278, -77.03173699999998, -77.012365, -77.04154399999999, -77.048728, -77.032375, -77.02714, -77.02601, -77.003135, -77.017253, -77.049379, -77.038325, -77.016006, -77.032224, -77.034451, -76.971923, -77.005965, -77.048947, -77.034502, -76.990121, -76.998405, -77.021741, -77.065149, -77.040787, -77.05415500000002, -77.034674, -77.027112, -77.04564, -77.033234, -77.050264, -77.033381, -77.02523599999998, -77.0078, -77.02790999999998, -76.99602, -76.84326300000002, -76.844604, -77.010837, -77.032956, -77.006072, -77.028357, -77.000736, -77.021467, -77.021392, -77.012443, -76.986813, -77.011616, -76.978627, -76.998273, -77.051833, -76.983221, -76.97963399999998, -76.991476, -77.041829, -77.0235, -77.022175, -77.008798, -77.038684, -77.018221, -77.032687, -77.002098, -76.99515, -77.07432299999998, -77.048852, -76.994897, -77.085646, -77.005649, -77.0429, -77.032112, -77.027822, -77.036536, -77.04258100000001, -77.0322, -77.047637, -77.0388, -77.0178, -77.034438, -77.03200799999998, -77.0323, -77.045, -77.046449, -77.024181, -77.0328, -76.9955, -77.01902700000002, -76.9769, -77.0315, -77.057979, -77.0436, -77.000648, -77.0259, -77.0222, -77.0057, -77.0446, -77.0222, -77.0037, -77.0444, -77.0056, -77.047318, -77.03863, -77.015289, -77.0023, -76.9862, -76.98790699999998, -77.0387, -77.0135, -76.9953, -77.032818, -76.996806, -77.031686, -77.028242, -77.059219, -76.991016, -77.046587, -77.02224100000002, -77.026013, -77.05556999999997, -76.995397, -77.041779, -76.98825, -77.019347, -77.033354, -77.02226999999998, -77.043358, -77.042452, -77.06269, -77.023054, -76.997114, -77.0682, -77.029822, -77.02308599999998, -76.992889, -77.00495, -76.998347, -77.001949, -76.982872, -77.000349, -76.987633, -77.03818000000003, -77.027869, -77.031617, -77.022191, -77.038322, -77.04478, -77.01610600000002, -77.0436, -77.071652, -76.991383, -77.053485, -77.00493, -77.009888, -77.027137, -77.070334, -77.032278, -77.04656999999997, -77.026975, -77.04656700000002, -77.04368000000002, -77.03980200000002, -77.0325, -77.041539, -77.017701, -77.017445, -77.001828, -77.022155, -77.0251, -77.012289, -77.02379499999998, -77.04061999999998, -77.055599, -77.056887, -76.98356899999997, -77.02622, -77.00572700000002, -77.077271, -77.012457, -77.03242900000002, -77.02858, -77.01994, -77.037413, -76.9941, -77.044789, -77.0284, -77.046564, -77.04337, -77.03353, -77.05152, -77.026064, -77.048911, -77.049426, -77.045128, -77.018677, -77.00213000000002, -77.04157099999998, -77.027333, -77.032678, -77.063586, -77.038359, -77.0352, -76.995193, -77.017669, -76.983326, -76.994749, -76.97892399999998, -76.983575, -76.990955, -76.987211, -77.028139, -77.00195500000002, -77.02324, -77.01597, -77.004746, -77.013917, -77.013769, -77.025762, -76.997194, -77.031887, -77.0024, -77.025672, -76.99446800000003, -77.050046, -77.01536, -77.03023, -77.008911, -77.012108, -76.995876, -77.026235, -77.051084], \"marker\": {\"color\": \"#EF553B\", \"size\": [5, 5, 5, 5, 5, 5, 5, 5, 5, 5, 5, 5, 5, 5, 5, 5, 5, 5, 5, 5, 5, 5, 5, 5, 5, 5, 5, 5, 5, 5, 5, 5, 5, 5, 5, 5, 5, 5, 5, 5, 5, 5, 5, 5, 5, 5, 5, 5, 5, 5, 5, 5, 5, 5, 5, 5, 5, 5, 5, 5, 5, 5, 5, 5, 5, 5, 5, 5, 5, 5, 5, 5, 5, 5, 5, 5, 5, 5, 5, 5, 5, 5, 5, 5, 5, 5, 5, 5, 5, 5, 5, 5, 5, 5, 5, 5, 5, 5, 5, 5, 5, 5, 5, 5, 5, 5, 5, 5, 5, 5, 5, 5, 5, 5, 5, 5, 5, 5, 5, 5, 5, 5, 5, 5, 5, 5, 5, 5, 5, 5, 5, 5, 5, 5, 5, 5, 5, 5, 5, 5, 5, 5, 5, 5, 5, 5, 5, 5, 5, 5, 5, 5, 5, 5, 5, 5, 5, 5, 5, 5, 5, 5, 5, 5, 5, 5, 5, 5, 5, 5, 5, 5, 5, 5, 5, 5, 5, 5, 5, 5, 5, 5, 5, 5, 5, 5, 5, 5, 5, 5, 5, 5, 5, 5, 5, 5, 5, 5, 5, 5, 5, 5, 5, 5, 5, 5, 5, 5, 5, 5, 5, 5, 5, 5, 5, 5, 5, 5, 5, 5, 5, 5, 5, 5, 5, 5, 5, 5, 5, 5, 5, 5, 5, 5, 5, 5, 5, 5, 5, 5, 5, 5], \"sizemode\": \"area\", \"sizeref\": 0.05}, \"mode\": \"markers\", \"name\": \"2\", \"showlegend\": true, \"subplot\": \"mapbox\", \"type\": \"scattermapbox\"}, {\"customdata\": [[\"Spring St & 2nd Ave\"], [\"Georgia & Missouri Ave NW\"], [\"Lyttonsville Rd & Lyttonsville Pl\"], [\"East West Hwy & 16th St\"], [\"Georgia Ave & Piney Branch Rd NW\"], [\"Sligo Ave & Carroll Ln\"], [\"Takoma Park Rec Center\"], [\"New Hampshire & Kirklynn Ave\"], [\"Wheaton Metro / Georgia Ave & Reedie Dr\"], [\"Amherst Ave & Elkins St\"], [\"Amherst Ave & Prichard Rd\"], [\"Grandview & Blueridge Ave\"], [\"Windham Ln & Amherst Ave\"], [\"3rd & Underwood St NW\"], [\"Blueridge Ave & Elkin St\"], [\"Garland Ave & Walden Rd\"], [\"14th & Luzon St NW\"], [\"New Hampshire Ave & East-West Hwy\"], [\"Wheaton Library & Community Rec Center\"], [\"5th & Kennedy St NW\"], [\"14th St & Colorado Ave NW\"], [\"13th St & Eastern Ave\"], [\"Philadelphia & Maple Ave\"], [\"Maple & Ritchie Ave\"], [\"Silver Spring Metro / Colesville Rd & Wayne Ave\"], [\"East West Hwy & Blair Mill Rd\"], [\"Dennis Ave & Amherst Ave\"], [\"Fenton St & Gist Ave\"], [\"Carroll & Westmoreland Ave\"], [\"Carroll & Ethan Allen Ave\"], [\"Silver Spring Transit Center - Top Level\"], [\"Georgia Ave & Spring St\"], [\"Takoma Metro\"], [\"WAU / Flower Ave & Division St\"]], \"hovertemplate\": \"<b>%{hovertext}</b><br><br>kmeans=7<br>size=%{marker.size}<br>LATITUDE=%{lat}<br>LONGITUDE=%{lon}<br>node_ids=%{customdata[0]}<extra></extra>\", \"hovertext\": [\"Spring St & 2nd Ave\", \"Georgia & Missouri Ave NW\", \"Lyttonsville Rd & Lyttonsville Pl\", \"East West Hwy & 16th St\", \"Georgia Ave & Piney Branch Rd NW\", \"Sligo Ave & Carroll Ln\", \"Takoma Park Rec Center\", \"New Hampshire & Kirklynn Ave\", \"Wheaton Metro / Georgia Ave & Reedie Dr\", \"Amherst Ave & Elkins St\", \"Amherst Ave & Prichard Rd\", \"Grandview & Blueridge Ave\", \"Windham Ln & Amherst Ave\", \"3rd & Underwood St NW\", \"Blueridge Ave & Elkin St\", \"Garland Ave & Walden Rd\", \"14th & Luzon St NW\", \"New Hampshire Ave & East-West Hwy\", \"Wheaton Library & Community Rec Center\", \"5th & Kennedy St NW\", \"14th St & Colorado Ave NW\", \"13th St & Eastern Ave\", \"Philadelphia & Maple Ave\", \"Maple & Ritchie Ave\", \"Silver Spring Metro / Colesville Rd & Wayne Ave\", \"East West Hwy & Blair Mill Rd\", \"Dennis Ave & Amherst Ave\", \"Fenton St & Gist Ave\", \"Carroll & Westmoreland Ave\", \"Carroll & Ethan Allen Ave\", \"Silver Spring Transit Center - Top Level\", \"Georgia Ave & Spring St\", \"Takoma Metro\", \"WAU / Flower Ave & Division St\"], \"lat\": [38.997653, 38.961339, 38.999679, 38.995681, 38.967505, 38.990874, 38.98265, 38.988101, 39.038341, 39.044887, 39.035965, 39.043272, 39.032029, 38.968834, 39.04313, 39.00048, 38.969489, 38.974205, 39.047323, 38.956556, 38.956432, 38.987, 38.98128, 38.983627, 38.994896, 38.990249, 39.025387, 38.989724, 38.975, 38.977933, 38.994035, 38.999388, 38.975219, 38.986743], \"legendgroup\": \"7\", \"lon\": [-77.034499, -77.027855, -77.051168, -77.038721, -77.027976, -77.016311, -76.988311, -76.988422, -77.051023, -77.047788, -77.048395, -77.053085, -77.04735, -77.016258, -77.05006, -77.00076999999997, -77.033509, -76.995227, -77.051097, -77.019814, -77.032947, -77.02941700000002, -77.011336, -77.006311, -77.02953199999997, -77.02935, -77.044563, -77.023854, -77.01120999999998, -77.006472, -77.030371, -77.03155500000003, -77.016855, -77.000035], \"marker\": {\"color\": \"#00CC96\", \"size\": [5, 5, 5, 5, 5, 5, 5, 5, 5, 5, 5, 5, 5, 5, 5, 5, 5, 5, 5, 5, 5, 5, 5, 5, 5, 5, 5, 5, 5, 5, 5, 5, 5, 5], \"sizemode\": \"area\", \"sizeref\": 0.05}, \"mode\": \"markers\", \"name\": \"7\", \"showlegend\": true, \"subplot\": \"mapbox\", \"type\": \"scattermapbox\"}, {\"customdata\": [[\"Joyce St & 16th St S\"], [\"Army Navy Dr & S Nash St\"], [\"Saint Asaph St & Madison St\"], [\"King St Metro North / Cameron St\"], [\"Madison St & N Henry St\"], [\"Royal St & Wilkes St\"], [\"Potomac Ave & Main Line Blvd\"], [\"Radford St & Osage St\"], [\"Commonwealth Ave & Oak St\"], [\"Commonwealth Ave & E Monroe Ave\"], [\"Franklin St & S Washington St\"], [\"Mount Vernon Ave & Four Mile Run Park\"], [\"Mount Vernon Ave & Bruce St\"], [\"Lee Center\"], [\"Powhatan St & Bashford Ln\"], [\"Potomac Ave & Swann Ave\"], [\"Madison St & Fairfax St\"], [\"Crystal Dr & Potomac Ave\"], [\"Fleet St & Waterfront St\"], [\"Tanger Outlets\"], [\"National Harbor Carousel\"], [\"Eads St & 15th St S\"], [\"18th St & S Eads St\"], [\"Crystal Dr & 20th St S\"], [\"Crystal Dr & 15th St S\"], [\"Aurora Hills Cmty Ctr / 18th St & S Hayes St\"], [\"Pentagon City Metro / 12th St & S Hayes St\"], [\"Army Navy Dr & S Joyce St\"], [\"Crystal City Metro / 18th St & S Bell St\"], [\"Crystal Dr & 27th St S\"], [\"S Glebe Rd & Potomac Ave\"], [\"Crystal Dr & 23rd St S\"], [\"Clark St & 26th St S\"], [\"Eads St & 22nd St S\"], [\"Potomac Ave & 35th St S\"], [\"Prince St & Union St\"], [\"Market Square / King St & Royal St\"], [\"Saint Asaph St & Pendleton  St\"], [\"King St & Patrick St\"], [\"Commerce St & Fayette St\"], [\"Henry St & Pendleton St\"], [\"Braddock Rd Metro\"], [\"King St Metro South\"], [\"28th St & S Meade St\"], [\"Troy St & 26th St S\"], [\"S Arlington Mill Dr & Campbell Ave\"], [\"Kenmore St & 24th St S\"], [\"Gravelly Point\"], [\"Columbia Pike & S Orme St\"], [\"Eads St & 12th St S\"], [\"31st St & S Woodrow St\"], [\"Shirlington Transit Center / Quincy St & Randolph St\"], [\"Duke St & John Carlyle St\"], [\"Eisenhower Ave & Mill Race Ln\"], [\"Potomac Greens Dr & Slaters Ln\"], [\"Ballenger Ave & Dulaney St\"], [\"Mount Vernon Ave & E Nelson Ave\"], [\"Monroe Ave & Leslie Ave\"], [\"Mount Vernon Ave & Kennedy St\"], [\"Long Bridge Park / Long Bridge Dr & 6th St S\"]], \"hovertemplate\": \"<b>%{hovertext}</b><br><br>kmeans=3<br>size=%{marker.size}<br>LATITUDE=%{lat}<br>LONGITUDE=%{lon}<br>node_ids=%{customdata[0]}<extra></extra>\", \"hovertext\": [\"Joyce St & 16th St S\", \"Army Navy Dr & S Nash St\", \"Saint Asaph St & Madison St\", \"King St Metro North / Cameron St\", \"Madison St & N Henry St\", \"Royal St & Wilkes St\", \"Potomac Ave & Main Line Blvd\", \"Radford St & Osage St\", \"Commonwealth Ave & Oak St\", \"Commonwealth Ave & E Monroe Ave\", \"Franklin St & S Washington St\", \"Mount Vernon Ave & Four Mile Run Park\", \"Mount Vernon Ave & Bruce St\", \"Lee Center\", \"Powhatan St & Bashford Ln\", \"Potomac Ave & Swann Ave\", \"Madison St & Fairfax St\", \"Crystal Dr & Potomac Ave\", \"Fleet St & Waterfront St\", \"Tanger Outlets\", \"National Harbor Carousel\", \"Eads St & 15th St S\", \"18th St & S Eads St\", \"Crystal Dr & 20th St S\", \"Crystal Dr & 15th St S\", \"Aurora Hills Cmty Ctr / 18th St & S Hayes St\", \"Pentagon City Metro / 12th St & S Hayes St\", \"Army Navy Dr & S Joyce St\", \"Crystal City Metro / 18th St & S Bell St\", \"Crystal Dr & 27th St S\", \"S Glebe Rd & Potomac Ave\", \"Crystal Dr & 23rd St S\", \"Clark St & 26th St S\", \"Eads St & 22nd St S\", \"Potomac Ave & 35th St S\", \"Prince St & Union St\", \"Market Square / King St & Royal St\", \"Saint Asaph St & Pendleton  St\", \"King St & Patrick St\", \"Commerce St & Fayette St\", \"Henry St & Pendleton St\", \"Braddock Rd Metro\", \"King St Metro South\", \"28th St & S Meade St\", \"Troy St & 26th St S\", \"S Arlington Mill Dr & Campbell Ave\", \"Kenmore St & 24th St S\", \"Gravelly Point\", \"Columbia Pike & S Orme St\", \"Eads St & 12th St S\", \"31st St & S Woodrow St\", \"Shirlington Transit Center / Quincy St & Randolph St\", \"Duke St & John Carlyle St\", \"Eisenhower Ave & Mill Race Ln\", \"Potomac Greens Dr & Slaters Ln\", \"Ballenger Ave & Dulaney St\", \"Mount Vernon Ave & E Nelson Ave\", \"Monroe Ave & Leslie Ave\", \"Mount Vernon Ave & Kennedy St\", \"Long Bridge Park / Long Bridge Dr & 6th St S\"], \"lat\": [38.859254, 38.86215, 38.812718, 38.80704, 38.813485, 38.799267, 38.822738, 38.828437, 38.812711, 38.820058, 38.798133, 38.843422, 38.841291, 38.797557, 38.818748, 38.829545, 38.812351, 38.848304, 38.782633, 38.7968, 38.7859, 38.858971, 38.85725, 38.856425, 38.86017, 38.857866, 38.862303, 38.8637, 38.857405, 38.848466, 38.8426, 38.8533, 38.850688, 38.854381, 38.844015, 38.803124, 38.804718, 38.810743, 38.805317, 38.805648, 38.811456, 38.814577, 38.805763, 38.846222, 38.847977, 38.84232, 38.848454, 38.865029, 38.867262, 38.86275300000001, 38.837666, 38.839912, 38.804378, 38.801111, 38.82175, 38.802677, 38.820064, 38.820932, 38.833077, 38.86555300000001], \"legendgroup\": \"3\", \"lon\": [-77.063275, -77.06812099999998, -77.044097, -77.05981700000002, -77.049468, -77.0447, -77.049265, -77.086031, -77.061715, -77.062821, -77.0487, -77.06401600000002, -77.06309300000002, -77.05376600000002, -77.047783, -77.047844, -77.04069100000002, -77.05122, -77.016059, -77.0026, -77.0167, -77.05323, -77.05332, -77.04923199999998, -77.049593, -77.05949, -77.059936, -77.0633, -77.051132, -77.051514, -77.0502, -77.0498, -77.05152, -77.053412, -77.050537, -77.040363, -77.043363, -77.044664, -77.049883, -77.05293, -77.050276, -77.052808, -77.060627, -77.069275, -77.07510400000002, -77.089555, -77.084918, -77.039511, -77.072315, -77.05428, -77.09482, -77.08708299999998, -77.060866, -77.068952, -77.047494, -77.063562, -77.05761899999997, -77.053096, -77.059821, -77.05003], \"marker\": {\"color\": \"#AB63FA\", \"size\": [5, 5, 5, 5, 5, 5, 5, 5, 5, 5, 5, 5, 5, 5, 5, 5, 5, 5, 5, 5, 5, 5, 5, 5, 5, 5, 5, 5, 5, 5, 5, 5, 5, 5, 5, 5, 5, 5, 5, 5, 5, 5, 5, 5, 5, 5, 5, 5, 5, 5, 5, 5, 5, 5, 5, 5, 5, 5, 5, 5], \"sizemode\": \"area\", \"sizeref\": 0.05}, \"mode\": \"markers\", \"name\": \"3\", \"showlegend\": true, \"subplot\": \"mapbox\", \"type\": \"scattermapbox\"}, {\"customdata\": [[\"Lee Hwy & N Monroe St\"], [\"21st St & N Pierce St\"], [\"Lee Hwy & N Kirkwood Rd\"], [\"Walter Reed Dr & 8th St S\"], [\"Lee Hwy & N Woodstock St\"], [\"Washington Blvd & N Frederick St\"], [\"East Falls Church Metro / Sycamore St & 19th St N\"], [\"Kennebec St & 11th St N\"], [\"N Lynn St & Fairfax Dr\"], [\"Carlin Springs Rd & N Thomas St\"], [\"Washington-Liberty High School / N Stafford St & Generals Way\"], [\"Westover Library / Washington Blvd & N McKinley Rd\"], [\"Columbia Pike & S Taylor St\"], [\"Wilson Blvd & N Troy St\"], [\"George Mason High School / Haycock Rd & Leesburg Pike\"], [\"State Theatre / Park Pl & N Washington St\"], [\"N Oak St & W Broad St\"], [\"Pennsylvania Ave & Park Ave\"], [\"E Fairfax St & S Washington St\"], [\"N Roosevelt St & Roosevelt Blvd\"], [\"W Broad St & Little Falls St\"], [\"S Maple Ave & S Washington St\"], [\"Falls Church City Hall / Park Ave & Little Falls St\"], [\"W Columbia St & N Washington St\"], [\"West Falls Church Metro\"], [\"Wilson Blvd. & N. Vermont St.\"], [\"Lynn St & 19th St North\"], [\"Rosslyn Metro / Wilson Blvd & Ft Myer Dr\"], [\"Clarendon Blvd & Pierce St\"], [\"Wilson Blvd & N Uhle St\"], [\"Rhodes St & 16th St N\"], [\"Wilson Blvd & N Edgewood St\"], [\"Wilson Blvd & N Franklin Rd\"], [\"Clarendon Blvd & N Fillmore St\"], [\"Clarendon Metro / Wilson Blvd & N Highland St\"], [\"N Quincy St & Glebe Rd\"], [\"Barcroft Community Center\"], [\"N Veitch St & 20th St N\"], [\"Fairfax Dr & Wilson Blvd\"], [\"Key Blvd & N Quinn St\"], [\"Virginia Square Metro / Monroe St & 9th St N\"], [\"Central Library / Quincy St & 10th St N\"], [\"Washington Blvd & 10th St N\"], [\"George Mason Dr & Wilson Blvd\"], [\"N Veitch St & Key Blvd\"], [\"Lee Hwy & N Adams St\"], [\"15th St & N Scott St\"], [\"Washington Blvd & 7th St N\"], [\"Ballston Metro / Stuart St & 9th St N\"], [\"Fairfax Dr & N Randolph St\"], [\"Glebe Rd & 11th St N\"], [\"Wilson Blvd & N Quincy St\"], [\"GMU / Fairfax Dr & Kenmore St\"], [\"Utah St & 11th St N\"], [\"Barton St & 10th St N\"], [\"Arlington Blvd & N Queen St\"], [\"Columbia Pike & S Courthouse Rd\"], [\"Walter Reed Dr & 16th St S\"], [\"Four Mile Run Dr & S Shirlington Rd\"], [\"Columbia Pike & S Oakland St\"], [\"Four Mile Run Dr & S Walter Reed Dr\"], [\"Roosevelt Island\"], [\"S George Mason & Four Mile Run Dr\"], [\"Pershing Dr & Wayne St\"], [\"Columbia Pike & S Walter Reed Dr\"], [\"Arlington Mill Cmty Center / Columbia Pike & S Dinwiddie St\"], [\"Pershing Dr & N George Mason Dr\"], [\"Arlington Blvd & Fillmore St\"], [\"TJ Cmty Ctr / 2nd St & S Old Glebe Rd\"], [\"Rolfe St & 9th St S\"], [\"Iwo Jima Memorial / Meade & 14th St N\"], [\"Lee Hwy & N Cleveland St\"], [\"Arlington Blvd & S George Mason Dr\"], [\"Lee Hwy & N Scott St\"], [\"Court House Metro / 15th St & N Uhle St\"]], \"hovertemplate\": \"<b>%{hovertext}</b><br><br>kmeans=8<br>size=%{marker.size}<br>LATITUDE=%{lat}<br>LONGITUDE=%{lon}<br>node_ids=%{customdata[0]}<extra></extra>\", \"hovertext\": [\"Lee Hwy & N Monroe St\", \"21st St & N Pierce St\", \"Lee Hwy & N Kirkwood Rd\", \"Walter Reed Dr & 8th St S\", \"Lee Hwy & N Woodstock St\", \"Washington Blvd & N Frederick St\", \"East Falls Church Metro / Sycamore St & 19th St N\", \"Kennebec St & 11th St N\", \"N Lynn St & Fairfax Dr\", \"Carlin Springs Rd & N Thomas St\", \"Washington-Liberty High School / N Stafford St & Generals Way\", \"Westover Library / Washington Blvd & N McKinley Rd\", \"Columbia Pike & S Taylor St\", \"Wilson Blvd & N Troy St\", \"George Mason High School / Haycock Rd & Leesburg Pike\", \"State Theatre / Park Pl & N Washington St\", \"N Oak St & W Broad St\", \"Pennsylvania Ave & Park Ave\", \"E Fairfax St & S Washington St\", \"N Roosevelt St & Roosevelt Blvd\", \"W Broad St & Little Falls St\", \"S Maple Ave & S Washington St\", \"Falls Church City Hall / Park Ave & Little Falls St\", \"W Columbia St & N Washington St\", \"West Falls Church Metro\", \"Wilson Blvd. & N. Vermont St.\", \"Lynn St & 19th St North\", \"Rosslyn Metro / Wilson Blvd & Ft Myer Dr\", \"Clarendon Blvd & Pierce St\", \"Wilson Blvd & N Uhle St\", \"Rhodes St & 16th St N\", \"Wilson Blvd & N Edgewood St\", \"Wilson Blvd & N Franklin Rd\", \"Clarendon Blvd & N Fillmore St\", \"Clarendon Metro / Wilson Blvd & N Highland St\", \"N Quincy St & Glebe Rd\", \"Barcroft Community Center\", \"N Veitch St & 20th St N\", \"Fairfax Dr & Wilson Blvd\", \"Key Blvd & N Quinn St\", \"Virginia Square Metro / Monroe St & 9th St N\", \"Central Library / Quincy St & 10th St N\", \"Washington Blvd & 10th St N\", \"George Mason Dr & Wilson Blvd\", \"N Veitch St & Key Blvd\", \"Lee Hwy & N Adams St\", \"15th St & N Scott St\", \"Washington Blvd & 7th St N\", \"Ballston Metro / Stuart St & 9th St N\", \"Fairfax Dr & N Randolph St\", \"Glebe Rd & 11th St N\", \"Wilson Blvd & N Quincy St\", \"GMU / Fairfax Dr & Kenmore St\", \"Utah St & 11th St N\", \"Barton St & 10th St N\", \"Arlington Blvd & N Queen St\", \"Columbia Pike & S Courthouse Rd\", \"Walter Reed Dr & 16th St S\", \"Four Mile Run Dr & S Shirlington Rd\", \"Columbia Pike & S Oakland St\", \"Four Mile Run Dr & S Walter Reed Dr\", \"Roosevelt Island\", \"S George Mason & Four Mile Run Dr\", \"Pershing Dr & Wayne St\", \"Columbia Pike & S Walter Reed Dr\", \"Arlington Mill Cmty Center / Columbia Pike & S Dinwiddie St\", \"Pershing Dr & N George Mason Dr\", \"Arlington Blvd & Fillmore St\", \"TJ Cmty Ctr / 2nd St & S Old Glebe Rd\", \"Rolfe St & 9th St S\", \"Iwo Jima Memorial / Meade & 14th St N\", \"Lee Hwy & N Cleveland St\", \"Arlington Blvd & S George Mason Dr\", \"Lee Hwy & N Scott St\", \"Court House Metro / 15th St & N Uhle St\"], \"lat\": [38.896456, 38.89898400000001, 38.895377, 38.86612, 38.898301, 38.884829, 38.88532100000001, 38.880992, 38.89386, 38.876695, 38.888282, 38.886048, 38.858524, 38.892556, 38.895172, 38.882746, 38.88837, 38.887403000000006, 38.880612, 38.878085, 38.883601, 38.87972, 38.885434, 38.885621, 38.9001, 38.879477, 38.897315, 38.8946, 38.893438, 38.891696, 38.892164, 38.889, 38.8904, 38.8881, 38.88786, 38.876393, 38.850337, 38.896923, 38.885801, 38.896355, 38.882788, 38.88397, 38.884734, 38.87887, 38.893237, 38.89593, 38.89054, 38.88081, 38.881044, 38.882629, 38.883921, 38.880012, 38.884616, 38.883669, 38.884961, 38.88936500000001, 38.863833, 38.857803, 38.8444, 38.860789, 38.84736, 38.896553, 38.852248, 38.880705, 38.862478, 38.856319, 38.871822, 38.873755, 38.869418, 38.866471, 38.88992, 38.894941, 38.869442, 38.897612, 38.890612], \"legendgroup\": \"8\", \"lon\": [-77.104562, -77.078317, -77.09713, -77.08787, -77.118009, -77.12767099999998, -77.15642700000002, -77.135271, -77.070862, -77.11298199999997, -77.11106600000002, -77.142317, -77.103728, -77.082089, -77.190275, -77.17003199999998, -77.17983199999998, -77.176992, -77.171891, -77.153953, -77.173438, -77.17840799999998, -77.17360500000002, -77.166917, -77.1887, -77.114563, -77.070993, -77.072305, -77.076389, -77.0846, -77.079375, -77.0925, -77.0889, -77.09308, -77.094875, -77.10773499999998, -77.100989, -77.086502, -77.09774499999997, -77.078408, -77.103148, -77.10783, -77.093485, -77.1207, -77.086063, -77.08900600000003, -77.08095, -77.09079200000002, -77.11176800000001, -77.10936600000002, -77.116817, -77.107854, -77.10108000000002, -77.113905, -77.08776999999998, -77.077294, -77.08031899999997, -77.086733, -77.085931, -77.09586, -77.095431, -77.06714000000002, -77.10502199999998, -77.08596, -77.08659899999998, -77.11153, -77.107906, -77.089233, -77.095596, -77.076131, -77.071301, -77.09169, -77.10450300000002, -77.080851, -77.084801], \"marker\": {\"color\": \"#FFA15A\", \"size\": [5, 5, 5, 5, 5, 5, 5, 5, 5, 5, 5, 5, 5, 5, 5, 5, 5, 5, 5, 5, 5, 5, 5, 5, 5, 5, 5, 5, 5, 5, 5, 5, 5, 5, 5, 5, 5, 5, 5, 5, 5, 5, 5, 5, 5, 5, 5, 5, 5, 5, 5, 5, 5, 5, 5, 5, 5, 5, 5, 5, 5, 5, 5, 5, 5, 5, 5, 5, 5, 5, 5, 5, 5, 5, 5], \"sizemode\": \"area\", \"sizeref\": 0.05}, \"mode\": \"markers\", \"name\": \"8\", \"showlegend\": true, \"subplot\": \"mapbox\", \"type\": \"scattermapbox\"}, {\"customdata\": [[\"Key West Ave & Siesta Key Way\"], [\"Shady Grove Metro East\"], [\"Columbus Ave & Tribeca St\"], [\"Columbus Ave & Gramercy Blvd\"], [\"Key West Ave & Great Seneca Hwy\"], [\"Corporate Blvd & Omega Dr\"], [\"Key West Ave & Diamondback Dr\"], [\"Twinbrook Metro\"], [\"White Flint Metro\"], [\"Citadel Ave & McGrath Blvd\"], [\"Rockville Pike & Old Georgetown Rd\"], [\"Executive Blvd & E Jefferson St\"], [\"Fishers Ln & Rock Creek Mill Rd\"], [\"Congressional Ln & E Jefferson St\"], [\"Rockville Pike & Meeting St\"], [\"Fallsgrove Blvd & Fallsgrove Dr\"], [\"Traville Gateway Dr & Gudelsky Dr\"], [\"E Montgomery Ave & Maryland Ave\"], [\"Frederick Ave & Horners Ln\"], [\"Crabbs Branch Way & Redland Rd\"], [\"Fallsgrove Dr & W Montgomery Ave\"], [\"Monroe St & Monroe Pl\"], [\"Needwood Rd & Eagles Head Ct\"], [\"Crabbs Branch Way & Calhoun Pl\"], [\"Montgomery College / W Campus Dr & Mannakee St\"], [\"Broschart & Blackwell Rd\"], [\"Fleet St & Ritchie Pkwy\"], [\"Piccard & W Gude Dr\"], [\"King Farm Blvd & Pleasant Dr\"], [\"King Farm Blvd & Piccard Dr\"], [\"Medical Center Dr & Key West Ave\"], [\"Shady Grove Hospital\"], [\"Rockville Metro East\"], [\"Shady Grove Metro West\"], [\"Rockville Metro West\"]], \"hovertemplate\": \"<b>%{hovertext}</b><br><br>kmeans=0<br>size=%{marker.size}<br>LATITUDE=%{lat}<br>LONGITUDE=%{lon}<br>node_ids=%{customdata[0]}<extra></extra>\", \"hovertext\": [\"Key West Ave & Siesta Key Way\", \"Shady Grove Metro East\", \"Columbus Ave & Tribeca St\", \"Columbus Ave & Gramercy Blvd\", \"Key West Ave & Great Seneca Hwy\", \"Corporate Blvd & Omega Dr\", \"Key West Ave & Diamondback Dr\", \"Twinbrook Metro\", \"White Flint Metro\", \"Citadel Ave & McGrath Blvd\", \"Rockville Pike & Old Georgetown Rd\", \"Executive Blvd & E Jefferson St\", \"Fishers Ln & Rock Creek Mill Rd\", \"Congressional Ln & E Jefferson St\", \"Rockville Pike & Meeting St\", \"Fallsgrove Blvd & Fallsgrove Dr\", \"Traville Gateway Dr & Gudelsky Dr\", \"E Montgomery Ave & Maryland Ave\", \"Frederick Ave & Horners Ln\", \"Crabbs Branch Way & Redland Rd\", \"Fallsgrove Dr & W Montgomery Ave\", \"Monroe St & Monroe Pl\", \"Needwood Rd & Eagles Head Ct\", \"Crabbs Branch Way & Calhoun Pl\", \"Montgomery College / W Campus Dr & Mannakee St\", \"Broschart & Blackwell Rd\", \"Fleet St & Ritchie Pkwy\", \"Piccard & W Gude Dr\", \"King Farm Blvd & Pleasant Dr\", \"King Farm Blvd & Piccard Dr\", \"Medical Center Dr & Key West Ave\", \"Shady Grove Hospital\", \"Rockville Metro East\", \"Shady Grove Metro West\", \"Rockville Metro West\"], \"lat\": [39.105295, 39.121327, 39.126, 39.12333, 39.105642, 39.106971, 39.106152, 39.062041, 39.04753, 39.049, 39.049765, 39.04873, 39.0629, 39.06219, 39.050539, 39.096312, 39.093783, 39.084125, 39.094772, 39.12004500000001, 39.099376, 39.083673, 39.123513, 39.107709, 39.095661, 39.102099, 39.076331, 39.102212, 39.114688, 39.110314, 39.103091, 39.097636, 39.085394, 39.119765, 39.084379], \"legendgroup\": \"0\", \"lon\": [-77.194774, -77.164969, -77.1673, -77.16486, -77.20385999999998, -77.192645, -77.202354, -77.120776, -77.11287, -77.10933, -77.11368, -77.1257, -77.113454, -77.129235, -77.115212, -77.192672, -77.202501, -77.151291, -77.145213, -77.15698499999998, -77.188014, -77.149162, -77.15741, -77.152072, -77.159048, -77.200322, -77.141378, -77.177091, -77.171487, -77.18266899999998, -77.196442, -77.196636, -77.145803, -77.166093, -77.146866], \"marker\": {\"color\": \"#19D3F3\", \"size\": [5, 5, 5, 5, 5, 5, 5, 5, 5, 5, 5, 5, 5, 5, 5, 5, 5, 5, 5, 5, 5, 5, 5, 5, 5, 5, 5, 5, 5, 5, 5, 5, 5, 5, 5], \"sizemode\": \"area\", \"sizeref\": 0.05}, \"mode\": \"markers\", \"name\": \"0\", \"showlegend\": true, \"subplot\": \"mapbox\", \"type\": \"scattermapbox\"}, {\"customdata\": [[\"South Capitol & Atlantic St SW\"], [\"Division Ave & Foote St NE\"], [\"16th & Q St SE / Anacostia HS\"], [\"61st St & Banks Pl NE\"], [\"Alabama Ave & Stanton Rd SE / Shops at Park Village\"], [\"Mississippi Ave & 19th St SE / THEARC\"], [\"19th & Savannah St SE\"], [\"4th St & Mississippi Ave SE\"], [\"1st & S Capitol St SE / Oxon Run Trail\"], [\"Livingston Rd & 3rd St SE\"], [\"Joliet St & MLK Ave SW/Bald Eagle Rec Ctr\"], [\"37th & Ely Pl SE\"], [\"Anacostia Park\"], [\"Largo Rd & Campus Way / Prince Georges's Comm Col\"], [\"Stanton Square SE\"], [\"Oxon Hill Park & Ride\"], [\"United Medical Center\"], [\"Southern Ave Metro\"], [\"Capitol Heights Metro\"], [\"Kingman Island/The Fields at RFK\"], [\"Kenilworth Terrace & Hayes St. NE\"], [\"Valley Ave & Wheeler Rd SE\"], [\"Ridge Rd Community Center\"], [\"Fort Stanton Rec Center\"], [\"Minnesota Ave & R St SE\"], [\"Good Hope & Naylor Rd SE\"], [\"Randle Circle & Minnesota Ave SE\"], [\"Minnesota Ave Metro/DOES\"], [\"Nannie Helen Burroughs & Minnesota Ave NE\"], [\"Anacostia Metro\"], [\"Good Hope Rd & MLK Ave SE\"], [\"Anacostia Library\"], [\"Pennsylvania & Minnesota Ave SE\"], [\"Benning Branch Library\"], [\"Branch & Pennsylvania Ave SE\"], [\"Fairfax Village\"], [\"Benning Rd & East Capitol St NE / Benning Rd Metro\"], [\"Congress Heights Metro\"], [\"Good Hope Rd & 14th St SE\"], [\"Alabama & MLK Ave SE\"], [\"Pleasant St & MLK Ave SE\"], [\"Nannie Helen Burroughs Ave & 49th St NE\"], [\"Deanwood Rec Center\"]], \"hovertemplate\": \"<b>%{hovertext}</b><br><br>kmeans=4<br>size=%{marker.size}<br>LATITUDE=%{lat}<br>LONGITUDE=%{lon}<br>node_ids=%{customdata[0]}<extra></extra>\", \"hovertext\": [\"South Capitol & Atlantic St SW\", \"Division Ave & Foote St NE\", \"16th & Q St SE / Anacostia HS\", \"61st St & Banks Pl NE\", \"Alabama Ave & Stanton Rd SE / Shops at Park Village\", \"Mississippi Ave & 19th St SE / THEARC\", \"19th & Savannah St SE\", \"4th St & Mississippi Ave SE\", \"1st & S Capitol St SE / Oxon Run Trail\", \"Livingston Rd & 3rd St SE\", \"Joliet St & MLK Ave SW/Bald Eagle Rec Ctr\", \"37th & Ely Pl SE\", \"Anacostia Park\", \"Largo Rd & Campus Way / Prince Georges's Comm Col\", \"Stanton Square SE\", \"Oxon Hill Park & Ride\", \"United Medical Center\", \"Southern Ave Metro\", \"Capitol Heights Metro\", \"Kingman Island/The Fields at RFK\", \"Kenilworth Terrace & Hayes St. NE\", \"Valley Ave & Wheeler Rd SE\", \"Ridge Rd Community Center\", \"Fort Stanton Rec Center\", \"Minnesota Ave & R St SE\", \"Good Hope & Naylor Rd SE\", \"Randle Circle & Minnesota Ave SE\", \"Minnesota Ave Metro/DOES\", \"Nannie Helen Burroughs & Minnesota Ave NE\", \"Anacostia Metro\", \"Good Hope Rd & MLK Ave SE\", \"Anacostia Library\", \"Pennsylvania & Minnesota Ave SE\", \"Benning Branch Library\", \"Branch & Pennsylvania Ave SE\", \"Fairfax Village\", \"Benning Rd & East Capitol St NE / Benning Rd Metro\", \"Congress Heights Metro\", \"Good Hope Rd & 14th St SE\", \"Alabama & MLK Ave SE\", \"Pleasant St & MLK Ave SE\", \"Nannie Helen Burroughs Ave & 49th St NE\", \"Deanwood Rec Center\"], \"lat\": [38.831516, 38.897407, 38.870695, 38.891805, 38.84627, 38.84377, 38.84623, 38.836, 38.824481, 38.82373, 38.81909, 38.883011, 38.87335, 38.88994, 38.855004, 38.798749, 38.835737, 38.840107, 38.888524, 38.895955, 38.900468, 38.836646, 38.876227, 38.857369, 38.869337, 38.860227, 38.878, 38.897063, 38.901385, 38.862669, 38.867373, 38.86578400000001, 38.873057, 38.894, 38.8692, 38.86559000000001, 38.889935, 38.844711, 38.866611, 38.84323, 38.863897, 38.898536, 38.908473], \"legendgroup\": \"4\", \"lon\": [-77.008133, -76.925907, -76.982359, -76.913563, -76.98185, -76.97556999999998, -76.97703, -77.0009, -77.00549699999998, -77.00223000000003, -77.01033000000002, -76.949709, -76.9834, -76.825535, -76.984512, -77.00103, -76.983144, -76.9753, -76.913188, -76.967845, -76.947287, -76.993589, -76.94098100000002, -76.977688, -76.97851899999998, -76.966572, -76.9607, -76.947446, -76.941877, -76.994637, -76.988039, -76.9784, -76.97101500000002, -76.947974, -76.9599, -76.95210300000002, -76.93723, -76.98782299999998, -76.985238, -76.999376, -76.990037, -76.931862, -76.933099], \"marker\": {\"color\": \"#FF6692\", \"size\": [5, 5, 5, 5, 5, 5, 5, 5, 5, 5, 5, 5, 5, 5, 5, 5, 5, 5, 5, 5, 5, 5, 5, 5, 5, 5, 5, 5, 5, 5, 5, 5, 5, 5, 5, 5, 5, 5, 5, 5, 5, 5, 5], \"sizemode\": \"area\", \"sizeref\": 0.05}, \"mode\": \"markers\", \"name\": \"4\", \"showlegend\": true, \"subplot\": \"mapbox\", \"type\": \"scattermapbox\"}, {\"customdata\": [[\"Spring Hill Metro\"], [\"Westpark Dr & Leesburg Pike\"], [\"Tysons One Pl & Chain Bridge Rd\"], [\"Tysons Corner Station\"], [\"Westpark & Jones Branch Dr\"], [\"Jones Branch & Westbranch Dr\"], [\"Westpark & Park Run Dr\"], [\"Tysons West Transit Center\"], [\"North Shore & Cameron Crescent Dr/Crescent Apartments\"], [\"Town Center Pkwy & Bowman Towne Dr\"], [\"Reston Regional Library\"], [\"New Dominion Pkwy & Fountain Dr\"], [\"Sunset Hills & Old Reston Ave\"], [\"Reston Town Center Transit Station\"], [\"Wiehle Ave & Reston Station Blvd\"], [\"Library St & Freedom Dr\"], [\"Sunset Hills Rd & Discovery Square\"], [\"Temporary Rd & Old Reston Ave\"], [\"Reston YMCA\"], [\"Sunset Hills Rd & Isaac Newton Square\"], [\"Greensboro & International Dr\"], [\"Towers Crescent Dr & Tysons One Pl\"], [\"North Shore Dr & Village Rd\"], [\"Town Center Pkwy & Sunset Hills Rd\"], [\"Reston Pkwy & Spectrum Dr\"], [\"Greensboro & Pinnacle Dr\"], [\"Campus Commons\"], [\"Park Run & Onyx Dr\"], [\"McLean Metro\"], [\"Dunn Loring Metro\"], [\"Jones Branch Drive & Scotts Crossing Rd\"], [\"Merrilee Dr & Lauren Elizabeth Lane\"], [\"Merrifield Cinema & Merrifield Town Center\"], [\"Vy Reston Heights\"]], \"hovertemplate\": \"<b>%{hovertext}</b><br><br>kmeans=6<br>size=%{marker.size}<br>LATITUDE=%{lat}<br>LONGITUDE=%{lon}<br>node_ids=%{customdata[0]}<extra></extra>\", \"hovertext\": [\"Spring Hill Metro\", \"Westpark Dr & Leesburg Pike\", \"Tysons One Pl & Chain Bridge Rd\", \"Tysons Corner Station\", \"Westpark & Jones Branch Dr\", \"Jones Branch & Westbranch Dr\", \"Westpark & Park Run Dr\", \"Tysons West Transit Center\", \"North Shore & Cameron Crescent Dr/Crescent Apartments\", \"Town Center Pkwy & Bowman Towne Dr\", \"Reston Regional Library\", \"New Dominion Pkwy & Fountain Dr\", \"Sunset Hills & Old Reston Ave\", \"Reston Town Center Transit Station\", \"Wiehle Ave & Reston Station Blvd\", \"Library St & Freedom Dr\", \"Sunset Hills Rd & Discovery Square\", \"Temporary Rd & Old Reston Ave\", \"Reston YMCA\", \"Sunset Hills Rd & Isaac Newton Square\", \"Greensboro & International Dr\", \"Towers Crescent Dr & Tysons One Pl\", \"North Shore Dr & Village Rd\", \"Town Center Pkwy & Sunset Hills Rd\", \"Reston Pkwy & Spectrum Dr\", \"Greensboro & Pinnacle Dr\", \"Campus Commons\", \"Park Run & Onyx Dr\", \"McLean Metro\", \"Dunn Loring Metro\", \"Jones Branch Drive & Scotts Crossing Rd\", \"Merrilee Dr & Lauren Elizabeth Lane\", \"Merrifield Cinema & Merrifield Town Center\", \"Vy Reston Heights\"], \"lat\": [38.929261, 38.92403, 38.919475, 38.920939, 38.924437, 38.931911, 38.928919, 38.932636, 38.970046, 38.962524, 38.962095, 38.960574, 38.955079, 38.957037, 38.94660800000001, 38.959633, 38.95534, 38.960084, 38.955314, 38.951443, 38.923083, 38.915246, 38.970412, 38.955171, 38.964208, 38.92245, 38.944707, 38.92755, 38.924002, 38.8828, 38.928502, 38.879355, 38.870093, 38.949008], \"legendgroup\": \"6\", \"lon\": [-77.240654, -77.235955, -77.221179, -77.222115, -77.217664, -77.219261, -77.225394, -77.231825, -77.338686, -77.361902, -77.358815, -77.356324, -77.351649, -77.359718, -77.339391, -77.35874100000002, -77.357611, -77.353414, -77.368416, -77.340377, -77.227417, -77.220157, -77.340787, -77.36309399999998, -77.35428, -77.23034, -77.335425, -77.226644, -77.208127, -77.2283, -77.215624, -77.230681, -77.22997, -77.355299], \"marker\": {\"color\": \"#B6E880\", \"size\": [5, 5, 5, 5, 5, 5, 5, 5, 5, 5, 5, 5, 5, 5, 5, 5, 5, 5, 5, 5, 5, 5, 5, 5, 5, 5, 5, 5, 5, 5, 5, 5, 5, 5], \"sizemode\": \"area\", \"sizeref\": 0.05}, \"mode\": \"markers\", \"name\": \"6\", \"showlegend\": true, \"subplot\": \"mapbox\", \"type\": \"scattermapbox\"}, {\"customdata\": [[\"3rd St & Riggs Rd NE\"], [\"18th & Monroe St NE\"], [\"Baltimore Ave & Van Buren St / Riverdale Park Station\"], [\"Baltimore Ave & Jefferson St\"], [\"Perry & 35th St\"], [\"New Hampshire & Gallatin St NW\"], [\"Oglethorpe St & 42nd Ave\"], [\"Queens Chapel & Hamilton St\"], [\"Northwestern High School\"], [\"Rhode Island Ave & 39th St / Brentwood Arts Exchange\"], [\"Riggs Rd & East West Hwy\"], [\"Chillum Rd & Riggs Rd / Riggs Plaza\"], [\"Hyattsville Library / Adelphi Rd & Toledo Rd\"], [\"Rhode Island & Montana Ave NE\"], [\"John McCormack Rd NE\"], [\"West Hyattsville Metro\"], [\"Prince George's Plaza Metro\"], [\"Riverdale Park Town Center\"], [\"The Mall at Prince Georges\"], [\"Fort Totten Metro\"]], \"hovertemplate\": \"<b>%{hovertext}</b><br><br>kmeans=1<br>size=%{marker.size}<br>LATITUDE=%{lat}<br>LONGITUDE=%{lon}<br>node_ids=%{customdata[0]}<extra></extra>\", \"hovertext\": [\"3rd St & Riggs Rd NE\", \"18th & Monroe St NE\", \"Baltimore Ave & Van Buren St / Riverdale Park Station\", \"Baltimore Ave & Jefferson St\", \"Perry & 35th St\", \"New Hampshire & Gallatin St NW\", \"Oglethorpe St & 42nd Ave\", \"Queens Chapel & Hamilton St\", \"Northwestern High School\", \"Rhode Island Ave & 39th St / Brentwood Arts Exchange\", \"Riggs Rd & East West Hwy\", \"Chillum Rd & Riggs Rd / Riggs Plaza\", \"Hyattsville Library / Adelphi Rd & Toledo Rd\", \"Rhode Island & Montana Ave NE\", \"John McCormack Rd NE\", \"West Hyattsville Metro\", \"Prince George's Plaza Metro\", \"Riverdale Park Town Center\", \"The Mall at Prince Georges\", \"Fort Totten Metro\"], \"lat\": [38.957463, 38.93293, 38.969581, 38.95548, 38.936213, 38.951596, 38.959361, 38.9546, 38.975505, 38.93927100000001, 38.9725, 38.961737, 38.9698, 38.9243, 38.938889, 38.955349, 38.965742, 38.962119, 38.968842, 38.952369], \"legendgroup\": \"1\", \"lon\": [-77.002239, -76.979517, -76.937349, -76.94013299999997, -76.960054, -77.01280799999998, -76.946361, -76.9595, -76.952199, -76.955047, -76.9807, -76.995922, -76.9493, -76.9859, -76.997226, -76.96808399999998, -76.954803, -76.935578, -76.954171, -77.002721], \"marker\": {\"color\": \"#FF97FF\", \"size\": [5, 5, 5, 5, 5, 5, 5, 5, 5, 5, 5, 5, 5, 5, 5, 5, 5, 5, 5, 5], \"sizemode\": \"area\", \"sizeref\": 0.05}, \"mode\": \"markers\", \"name\": \"1\", \"showlegend\": true, \"subplot\": \"mapbox\", \"type\": \"scattermapbox\"}, {\"customdata\": [[\"The Shoppes @ Burnt Mills\"], [\"Briggs Chaney & Castle Dr\"], [\"White Oak Rec Center\"], [\"Briggs Chaney Park & Ride\"], [\"Stewart & April\"], [\"Stewart Ln & Old Columbia Pike\"], [\"New Hampshire & Lockwood\"], [\"Castle Blvd & Castle Ln\"], [\"Oak Leaf & Lockwood\"], [\"White Oak Transit Center\"]], \"hovertemplate\": \"<b>%{hovertext}</b><br><br>kmeans=5<br>size=%{marker.size}<br>LATITUDE=%{lat}<br>LONGITUDE=%{lon}<br>node_ids=%{customdata[0]}<extra></extra>\", \"hovertext\": [\"The Shoppes @ Burnt Mills\", \"Briggs Chaney & Castle Dr\", \"White Oak Rec Center\", \"Briggs Chaney Park & Ride\", \"Stewart & April\", \"Stewart Ln & Old Columbia Pike\", \"New Hampshire & Lockwood\", \"Castle Blvd & Castle Ln\", \"Oak Leaf & Lockwood\", \"White Oak Transit Center\"], \"lat\": [39.031314, 39.081638, 39.046144, 39.077875, 39.044944, 39.045652, 39.039102, 39.085314, 39.037981, 39.04104], \"legendgroup\": \"5\", \"lon\": [-77.004122, -76.945495, -76.975723, -76.941867, -76.981155, -76.985438, -76.991824, -76.940547, -76.994539, -76.987125], \"marker\": {\"color\": \"#FECB52\", \"size\": [5, 5, 5, 5, 5, 5, 5, 5, 5, 5], \"sizemode\": \"area\", \"sizeref\": 0.05}, \"mode\": \"markers\", \"name\": \"5\", \"showlegend\": true, \"subplot\": \"mapbox\", \"type\": \"scattermapbox\"}],                        {\"height\": 600, \"legend\": {\"itemsizing\": \"constant\", \"title\": {\"text\": \"kmeans\"}, \"tracegroupgap\": 0}, \"mapbox\": {\"center\": {\"lat\": 38.917685412969284, \"lon\": -77.05739412798634}, \"domain\": {\"x\": [0.0, 1.0], \"y\": [0.0, 1.0]}, \"style\": \"carto-positron\", \"zoom\": 10}, \"margin\": {\"b\": 0, \"l\": 0, \"r\": 0, \"t\": 0}, \"template\": {\"data\": {\"bar\": [{\"error_x\": {\"color\": \"#2a3f5f\"}, \"error_y\": {\"color\": \"#2a3f5f\"}, \"marker\": {\"line\": {\"color\": \"#E5ECF6\", \"width\": 0.5}}, \"type\": \"bar\"}], \"barpolar\": [{\"marker\": {\"line\": {\"color\": \"#E5ECF6\", \"width\": 0.5}}, \"type\": \"barpolar\"}], \"carpet\": [{\"aaxis\": {\"endlinecolor\": \"#2a3f5f\", \"gridcolor\": \"white\", \"linecolor\": \"white\", \"minorgridcolor\": \"white\", \"startlinecolor\": \"#2a3f5f\"}, \"baxis\": {\"endlinecolor\": \"#2a3f5f\", \"gridcolor\": \"white\", \"linecolor\": \"white\", \"minorgridcolor\": \"white\", \"startlinecolor\": \"#2a3f5f\"}, \"type\": \"carpet\"}], \"choropleth\": [{\"colorbar\": {\"outlinewidth\": 0, \"ticks\": \"\"}, \"type\": \"choropleth\"}], \"contour\": [{\"colorbar\": {\"outlinewidth\": 0, \"ticks\": \"\"}, \"colorscale\": [[0.0, \"#0d0887\"], [0.1111111111111111, \"#46039f\"], [0.2222222222222222, \"#7201a8\"], [0.3333333333333333, \"#9c179e\"], [0.4444444444444444, \"#bd3786\"], [0.5555555555555556, \"#d8576b\"], [0.6666666666666666, \"#ed7953\"], [0.7777777777777778, \"#fb9f3a\"], [0.8888888888888888, \"#fdca26\"], [1.0, \"#f0f921\"]], \"type\": \"contour\"}], \"contourcarpet\": [{\"colorbar\": {\"outlinewidth\": 0, \"ticks\": \"\"}, \"type\": \"contourcarpet\"}], \"heatmap\": [{\"colorbar\": {\"outlinewidth\": 0, \"ticks\": \"\"}, \"colorscale\": [[0.0, \"#0d0887\"], [0.1111111111111111, \"#46039f\"], [0.2222222222222222, \"#7201a8\"], [0.3333333333333333, \"#9c179e\"], [0.4444444444444444, \"#bd3786\"], [0.5555555555555556, \"#d8576b\"], [0.6666666666666666, \"#ed7953\"], [0.7777777777777778, \"#fb9f3a\"], [0.8888888888888888, \"#fdca26\"], [1.0, \"#f0f921\"]], \"type\": \"heatmap\"}], \"heatmapgl\": [{\"colorbar\": {\"outlinewidth\": 0, \"ticks\": \"\"}, \"colorscale\": [[0.0, \"#0d0887\"], [0.1111111111111111, \"#46039f\"], [0.2222222222222222, \"#7201a8\"], [0.3333333333333333, \"#9c179e\"], [0.4444444444444444, \"#bd3786\"], [0.5555555555555556, \"#d8576b\"], [0.6666666666666666, \"#ed7953\"], [0.7777777777777778, \"#fb9f3a\"], [0.8888888888888888, \"#fdca26\"], [1.0, \"#f0f921\"]], \"type\": \"heatmapgl\"}], \"histogram\": [{\"marker\": {\"colorbar\": {\"outlinewidth\": 0, \"ticks\": \"\"}}, \"type\": \"histogram\"}], \"histogram2d\": [{\"colorbar\": {\"outlinewidth\": 0, \"ticks\": \"\"}, \"colorscale\": [[0.0, \"#0d0887\"], [0.1111111111111111, \"#46039f\"], [0.2222222222222222, \"#7201a8\"], [0.3333333333333333, \"#9c179e\"], [0.4444444444444444, \"#bd3786\"], [0.5555555555555556, \"#d8576b\"], [0.6666666666666666, \"#ed7953\"], [0.7777777777777778, \"#fb9f3a\"], [0.8888888888888888, \"#fdca26\"], [1.0, \"#f0f921\"]], \"type\": \"histogram2d\"}], \"histogram2dcontour\": [{\"colorbar\": {\"outlinewidth\": 0, \"ticks\": \"\"}, \"colorscale\": [[0.0, \"#0d0887\"], [0.1111111111111111, \"#46039f\"], [0.2222222222222222, \"#7201a8\"], [0.3333333333333333, \"#9c179e\"], [0.4444444444444444, \"#bd3786\"], [0.5555555555555556, \"#d8576b\"], [0.6666666666666666, \"#ed7953\"], [0.7777777777777778, \"#fb9f3a\"], [0.8888888888888888, \"#fdca26\"], [1.0, \"#f0f921\"]], \"type\": \"histogram2dcontour\"}], \"mesh3d\": [{\"colorbar\": {\"outlinewidth\": 0, \"ticks\": \"\"}, \"type\": \"mesh3d\"}], \"parcoords\": [{\"line\": {\"colorbar\": {\"outlinewidth\": 0, \"ticks\": \"\"}}, \"type\": \"parcoords\"}], \"pie\": [{\"automargin\": true, \"type\": \"pie\"}], \"scatter\": [{\"marker\": {\"colorbar\": {\"outlinewidth\": 0, \"ticks\": \"\"}}, \"type\": \"scatter\"}], \"scatter3d\": [{\"line\": {\"colorbar\": {\"outlinewidth\": 0, \"ticks\": \"\"}}, \"marker\": {\"colorbar\": {\"outlinewidth\": 0, \"ticks\": \"\"}}, \"type\": \"scatter3d\"}], \"scattercarpet\": [{\"marker\": {\"colorbar\": {\"outlinewidth\": 0, \"ticks\": \"\"}}, \"type\": \"scattercarpet\"}], \"scattergeo\": [{\"marker\": {\"colorbar\": {\"outlinewidth\": 0, \"ticks\": \"\"}}, \"type\": \"scattergeo\"}], \"scattergl\": [{\"marker\": {\"colorbar\": {\"outlinewidth\": 0, \"ticks\": \"\"}}, \"type\": \"scattergl\"}], \"scattermapbox\": [{\"marker\": {\"colorbar\": {\"outlinewidth\": 0, \"ticks\": \"\"}}, \"type\": \"scattermapbox\"}], \"scatterpolar\": [{\"marker\": {\"colorbar\": {\"outlinewidth\": 0, \"ticks\": \"\"}}, \"type\": \"scatterpolar\"}], \"scatterpolargl\": [{\"marker\": {\"colorbar\": {\"outlinewidth\": 0, \"ticks\": \"\"}}, \"type\": \"scatterpolargl\"}], \"scatterternary\": [{\"marker\": {\"colorbar\": {\"outlinewidth\": 0, \"ticks\": \"\"}}, \"type\": \"scatterternary\"}], \"surface\": [{\"colorbar\": {\"outlinewidth\": 0, \"ticks\": \"\"}, \"colorscale\": [[0.0, \"#0d0887\"], [0.1111111111111111, \"#46039f\"], [0.2222222222222222, \"#7201a8\"], [0.3333333333333333, \"#9c179e\"], [0.4444444444444444, \"#bd3786\"], [0.5555555555555556, \"#d8576b\"], [0.6666666666666666, \"#ed7953\"], [0.7777777777777778, \"#fb9f3a\"], [0.8888888888888888, \"#fdca26\"], [1.0, \"#f0f921\"]], \"type\": \"surface\"}], \"table\": [{\"cells\": {\"fill\": {\"color\": \"#EBF0F8\"}, \"line\": {\"color\": \"white\"}}, \"header\": {\"fill\": {\"color\": \"#C8D4E3\"}, \"line\": {\"color\": \"white\"}}, \"type\": \"table\"}]}, \"layout\": {\"annotationdefaults\": {\"arrowcolor\": \"#2a3f5f\", \"arrowhead\": 0, \"arrowwidth\": 1}, \"autotypenumbers\": \"strict\", \"coloraxis\": {\"colorbar\": {\"outlinewidth\": 0, \"ticks\": \"\"}}, \"colorscale\": {\"diverging\": [[0, \"#8e0152\"], [0.1, \"#c51b7d\"], [0.2, \"#de77ae\"], [0.3, \"#f1b6da\"], [0.4, \"#fde0ef\"], [0.5, \"#f7f7f7\"], [0.6, \"#e6f5d0\"], [0.7, \"#b8e186\"], [0.8, \"#7fbc41\"], [0.9, \"#4d9221\"], [1, \"#276419\"]], \"sequential\": [[0.0, \"#0d0887\"], [0.1111111111111111, \"#46039f\"], [0.2222222222222222, \"#7201a8\"], [0.3333333333333333, \"#9c179e\"], [0.4444444444444444, \"#bd3786\"], [0.5555555555555556, \"#d8576b\"], [0.6666666666666666, \"#ed7953\"], [0.7777777777777778, \"#fb9f3a\"], [0.8888888888888888, \"#fdca26\"], [1.0, \"#f0f921\"]], \"sequentialminus\": [[0.0, \"#0d0887\"], [0.1111111111111111, \"#46039f\"], [0.2222222222222222, \"#7201a8\"], [0.3333333333333333, \"#9c179e\"], [0.4444444444444444, \"#bd3786\"], [0.5555555555555556, \"#d8576b\"], [0.6666666666666666, \"#ed7953\"], [0.7777777777777778, \"#fb9f3a\"], [0.8888888888888888, \"#fdca26\"], [1.0, \"#f0f921\"]]}, \"colorway\": [\"#636efa\", \"#EF553B\", \"#00cc96\", \"#ab63fa\", \"#FFA15A\", \"#19d3f3\", \"#FF6692\", \"#B6E880\", \"#FF97FF\", \"#FECB52\"], \"font\": {\"color\": \"#2a3f5f\"}, \"geo\": {\"bgcolor\": \"white\", \"lakecolor\": \"white\", \"landcolor\": \"#E5ECF6\", \"showlakes\": true, \"showland\": true, \"subunitcolor\": \"white\"}, \"hoverlabel\": {\"align\": \"left\"}, \"hovermode\": \"closest\", \"mapbox\": {\"style\": \"light\"}, \"paper_bgcolor\": \"white\", \"plot_bgcolor\": \"#E5ECF6\", \"polar\": {\"angularaxis\": {\"gridcolor\": \"white\", \"linecolor\": \"white\", \"ticks\": \"\"}, \"bgcolor\": \"#E5ECF6\", \"radialaxis\": {\"gridcolor\": \"white\", \"linecolor\": \"white\", \"ticks\": \"\"}}, \"scene\": {\"xaxis\": {\"backgroundcolor\": \"#E5ECF6\", \"gridcolor\": \"white\", \"gridwidth\": 2, \"linecolor\": \"white\", \"showbackground\": true, \"ticks\": \"\", \"zerolinecolor\": \"white\"}, \"yaxis\": {\"backgroundcolor\": \"#E5ECF6\", \"gridcolor\": \"white\", \"gridwidth\": 2, \"linecolor\": \"white\", \"showbackground\": true, \"ticks\": \"\", \"zerolinecolor\": \"white\"}, \"zaxis\": {\"backgroundcolor\": \"#E5ECF6\", \"gridcolor\": \"white\", \"gridwidth\": 2, \"linecolor\": \"white\", \"showbackground\": true, \"ticks\": \"\", \"zerolinecolor\": \"white\"}}, \"shapedefaults\": {\"line\": {\"color\": \"#2a3f5f\"}}, \"ternary\": {\"aaxis\": {\"gridcolor\": \"white\", \"linecolor\": \"white\", \"ticks\": \"\"}, \"baxis\": {\"gridcolor\": \"white\", \"linecolor\": \"white\", \"ticks\": \"\"}, \"bgcolor\": \"#E5ECF6\", \"caxis\": {\"gridcolor\": \"white\", \"linecolor\": \"white\", \"ticks\": \"\"}}, \"title\": {\"x\": 0.05}, \"xaxis\": {\"automargin\": true, \"gridcolor\": \"white\", \"linecolor\": \"white\", \"ticks\": \"\", \"title\": {\"standoff\": 15}, \"zerolinecolor\": \"white\", \"zerolinewidth\": 2}, \"yaxis\": {\"automargin\": true, \"gridcolor\": \"white\", \"linecolor\": \"white\", \"ticks\": \"\", \"title\": {\"standoff\": 15}, \"zerolinecolor\": \"white\", \"zerolinewidth\": 2}}}, \"width\": 700},                        {\"responsive\": true}                    ).then(function(){\n",
       "                            \n",
       "var gd = document.getElementById('3efa0665-4447-4a7c-8fc6-103aedc4cc0a');\n",
       "var x = new MutationObserver(function (mutations, observer) {{\n",
       "        var display = window.getComputedStyle(gd).display;\n",
       "        if (!display || display === 'none') {{\n",
       "            console.log([gd, 'removed!']);\n",
       "            Plotly.purge(gd);\n",
       "            observer.disconnect();\n",
       "        }}\n",
       "}});\n",
       "\n",
       "// Listen for the removal of the full notebook cells\n",
       "var notebookContainer = gd.closest('#notebook-container');\n",
       "if (notebookContainer) {{\n",
       "    x.observe(notebookContainer, {childList: true});\n",
       "}}\n",
       "\n",
       "// Listen for the clearing of the current output cell\n",
       "var outputEl = gd.closest('.output');\n",
       "if (outputEl) {{\n",
       "    x.observe(outputEl, {childList: true});\n",
       "}}\n",
       "\n",
       "                        })                };                });            </script>        </div>"
      ]
     },
     "metadata": {},
     "output_type": "display_data"
    }
   ],
   "source": [
    "import plotly.express as px\n",
    "\n",
    "stations = pd.read_csv('../data/capital_bikes/bike_locations.csv')\n",
    "stations = pd.merge(stations, nodes_labels, left_on='ADDRESS', right_on='node_ids',\n",
    "                how = 'inner')\n",
    "stations['kmeans'] = stations['kmeans'].astype(str)\n",
    "stations['size'] = 5 \n",
    "fig = px.scatter_mapbox(stations, lat=\"LATITUDE\", lon=\"LONGITUDE\", hover_name=\"node_ids\", \n",
    "                        hover_data=['node_ids'],\n",
    "                        size = 'size',\n",
    "                        size_max = 10,\n",
    "                        zoom=10, \n",
    "                        width=700, height=600, \n",
    "                        color_discrete_sequence=px.colors.qualitative.Plotly,\n",
    "                        color = 'kmeans',\n",
    "                       )\n",
    "fig.update_layout(mapbox_style=\"carto-positron\")\n",
    "fig.update_layout(margin={\"r\":0,\"t\":0,\"l\":0,\"b\":0})\n",
    "fig.show()"
   ]
  },
  {
   "cell_type": "markdown",
   "metadata": {},
   "source": [
    "discussion of the neighborhoods and how this resembles homophily.\n",
    "\n",
    "Lets check hdbscan"
   ]
  },
  {
   "cell_type": "code",
   "execution_count": 39,
   "metadata": {},
   "outputs": [
    {
     "data": {
      "application/vnd.plotly.v1+json": {
       "config": {
        "plotlyServerURL": "https://plot.ly"
       },
       "data": [
        {
         "customdata": [
          [
           "Connecticut Ave & McKinley St NW"
          ],
          [
           "Joyce St & 16th St S"
          ],
          [
           "Lee Hwy & N Monroe St"
          ],
          [
           "21st St & N Pierce St"
          ],
          [
           "Lee Hwy & N Kirkwood Rd"
          ],
          [
           "Army Navy Dr & S Nash St"
          ],
          [
           "Walter Reed Dr & 8th St S"
          ],
          [
           "Georgia & Missouri Ave NW"
          ],
          [
           "Lee Hwy & N Woodstock St"
          ],
          [
           "Lyttonsville Rd & Lyttonsville Pl"
          ],
          [
           "East West Hwy & 16th St"
          ],
          [
           "Kennebec St & 11th St N"
          ],
          [
           "Wisconsin Ave & Brandywine St NW"
          ],
          [
           "Georgia Ave & Piney Branch Rd NW"
          ],
          [
           "Sligo Ave & Carroll Ln"
          ],
          [
           "3rd St & Riggs Rd NE"
          ],
          [
           "Pooks Hill Rd & Linden Ave"
          ],
          [
           "Takoma Park Rec Center"
          ],
          [
           "New Hampshire & Kirklynn Ave"
          ],
          [
           "Wheaton Metro / Georgia Ave & Reedie Dr"
          ],
          [
           "Amherst Ave & Prichard Rd"
          ],
          [
           "3rd & Underwood St NW"
          ],
          [
           "18th & Monroe St NE"
          ],
          [
           "Twinbrook Metro"
          ],
          [
           "Fishers Ln & Rock Creek Mill Rd"
          ],
          [
           "1301 McCormick Dr / Wayne K. Curry Admin Bldg"
          ],
          [
           "Largo Town Center Metro"
          ],
          [
           "Baltimore Ave & Van Buren St / Riverdale Park Station"
          ],
          [
           "Baltimore Ave & Jefferson St"
          ],
          [
           "Crystal Dr & Potomac Ave"
          ],
          [
           "Largo Rd & Campus Way / Prince Georges's Comm Col"
          ],
          [
           "14th & Luzon St NW"
          ],
          [
           "Fleet St & Waterfront St"
          ],
          [
           "King Greenleaf Rec Center"
          ],
          [
           "New Hampshire & Gallatin St NW"
          ],
          [
           "Dunn Loring Metro"
          ],
          [
           "Queens Chapel & Hamilton St"
          ],
          [
           "Northwestern High School"
          ],
          [
           "Rhode Island Ave & 39th St / Brentwood Arts Exchange"
          ],
          [
           "Chillum Rd & Riggs Rd / Riggs Plaza"
          ],
          [
           "Hyattsville Library / Adelphi Rd & Toledo Rd"
          ],
          [
           "Merrilee Dr & Lauren Elizabeth Lane"
          ],
          [
           "Merrifield Cinema & Merrifield Town Center"
          ],
          [
           "Rhode Island & Montana Ave NE"
          ],
          [
           "John McCormack Rd NE"
          ],
          [
           "West Hyattsville Metro"
          ],
          [
           "Prince George's Plaza Metro"
          ],
          [
           "Riverdale Park Town Center"
          ],
          [
           "Reservoir Rd & 38th St NW"
          ],
          [
           "The Shoppes @ Burnt Mills"
          ],
          [
           "New Hampshire & Lockwood"
          ],
          [
           "Wilson Blvd. & N. Vermont St."
          ],
          [
           "Crystal Dr & 20th St S"
          ],
          [
           "Crystal Dr & 15th St S"
          ],
          [
           "Aurora Hills Cmty Ctr / 18th St & S Hayes St"
          ],
          [
           "Pentagon City Metro / 12th St & S Hayes St"
          ],
          [
           "Army Navy Dr & S Joyce St"
          ],
          [
           "Crystal City Metro / 18th St & S Bell St"
          ],
          [
           "Crystal Dr & 27th St S"
          ],
          [
           "Crystal Dr & 23rd St S"
          ],
          [
           "Clark St & 26th St S"
          ],
          [
           "Good Hope & Naylor Rd SE"
          ],
          [
           "Minnesota Ave Metro/DOES"
          ],
          [
           "Nannie Helen Burroughs & Minnesota Ave NE"
          ],
          [
           "Eads St & 22nd St S"
          ],
          [
           "Benning Branch Library"
          ],
          [
           "Rhodes St & 16th St N"
          ],
          [
           "Wilson Blvd & N Franklin Rd"
          ],
          [
           "Benning Rd & East Capitol St NE / Benning Rd Metro"
          ],
          [
           "Congress Heights Metro"
          ],
          [
           "N Veitch St & 20th St N"
          ],
          [
           "N Veitch St & Key Blvd"
          ],
          [
           "15th St & N Scott St"
          ],
          [
           "Fairfax Dr & N Randolph St"
          ],
          [
           "Good Hope Rd & 14th St SE"
          ],
          [
           "GMU / Fairfax Dr & Kenmore St"
          ],
          [
           "Utah St & 11th St N"
          ],
          [
           "Troy St & 26th St S"
          ],
          [
           "Four Mile Run Dr & S Shirlington Rd"
          ],
          [
           "13th St & Eastern Ave"
          ],
          [
           "Roosevelt Island"
          ],
          [
           "18th St & Rhode Island Ave NE"
          ],
          [
           "Pleasant St & MLK Ave SE"
          ],
          [
           "S George Mason & Four Mile Run Dr"
          ],
          [
           "Arlington Mill Cmty Center / Columbia Pike & S Dinwiddie St"
          ],
          [
           "Pershing Dr & N George Mason Dr"
          ],
          [
           "Norfolk Ave & Fairmont St"
          ],
          [
           "Maple & Ritchie Ave"
          ],
          [
           "Silver Spring Metro / Colesville Rd & Wayne Ave"
          ],
          [
           "Friendship Hts Metro / Wisconsin Ave & Wisconsin Cir"
          ],
          [
           "East West Hwy & Blair Mill Rd"
          ],
          [
           "47th & Elm St"
          ],
          [
           "Fenton St & Gist Ave"
          ],
          [
           "Carroll & Westmoreland Ave"
          ],
          [
           "Offutt Ln & Chevy Chase Dr"
          ],
          [
           "Georgia Ave & Spring St"
          ],
          [
           "Deanwood Rec Center"
          ],
          [
           "Arlington Blvd & Fillmore St"
          ],
          [
           "Eads St & 12th St S"
          ],
          [
           "Friendship Blvd & Willard Ave"
          ],
          [
           "Fort Totten Metro"
          ],
          [
           "Bethesda Metro / Wisconsin Ave & Old Georgetown Rd"
          ],
          [
           "Iwo Jima Memorial / Meade & 14th St N"
          ],
          [
           "Arlington Blvd & S George Mason Dr"
          ]
         ],
         "hovertemplate": "<b>%{hovertext}</b><br><br>hdbscan=-1<br>size=%{marker.size}<br>LATITUDE=%{lat}<br>LONGITUDE=%{lon}<br>node_ids=%{customdata[0]}<extra></extra>",
         "hovertext": [
          "Connecticut Ave & McKinley St NW",
          "Joyce St & 16th St S",
          "Lee Hwy & N Monroe St",
          "21st St & N Pierce St",
          "Lee Hwy & N Kirkwood Rd",
          "Army Navy Dr & S Nash St",
          "Walter Reed Dr & 8th St S",
          "Georgia & Missouri Ave NW",
          "Lee Hwy & N Woodstock St",
          "Lyttonsville Rd & Lyttonsville Pl",
          "East West Hwy & 16th St",
          "Kennebec St & 11th St N",
          "Wisconsin Ave & Brandywine St NW",
          "Georgia Ave & Piney Branch Rd NW",
          "Sligo Ave & Carroll Ln",
          "3rd St & Riggs Rd NE",
          "Pooks Hill Rd & Linden Ave",
          "Takoma Park Rec Center",
          "New Hampshire & Kirklynn Ave",
          "Wheaton Metro / Georgia Ave & Reedie Dr",
          "Amherst Ave & Prichard Rd",
          "3rd & Underwood St NW",
          "18th & Monroe St NE",
          "Twinbrook Metro",
          "Fishers Ln & Rock Creek Mill Rd",
          "1301 McCormick Dr / Wayne K. Curry Admin Bldg",
          "Largo Town Center Metro",
          "Baltimore Ave & Van Buren St / Riverdale Park Station",
          "Baltimore Ave & Jefferson St",
          "Crystal Dr & Potomac Ave",
          "Largo Rd & Campus Way / Prince Georges's Comm Col",
          "14th & Luzon St NW",
          "Fleet St & Waterfront St",
          "King Greenleaf Rec Center",
          "New Hampshire & Gallatin St NW",
          "Dunn Loring Metro",
          "Queens Chapel & Hamilton St",
          "Northwestern High School",
          "Rhode Island Ave & 39th St / Brentwood Arts Exchange",
          "Chillum Rd & Riggs Rd / Riggs Plaza",
          "Hyattsville Library / Adelphi Rd & Toledo Rd",
          "Merrilee Dr & Lauren Elizabeth Lane",
          "Merrifield Cinema & Merrifield Town Center",
          "Rhode Island & Montana Ave NE",
          "John McCormack Rd NE",
          "West Hyattsville Metro",
          "Prince George's Plaza Metro",
          "Riverdale Park Town Center",
          "Reservoir Rd & 38th St NW",
          "The Shoppes @ Burnt Mills",
          "New Hampshire & Lockwood",
          "Wilson Blvd. & N. Vermont St.",
          "Crystal Dr & 20th St S",
          "Crystal Dr & 15th St S",
          "Aurora Hills Cmty Ctr / 18th St & S Hayes St",
          "Pentagon City Metro / 12th St & S Hayes St",
          "Army Navy Dr & S Joyce St",
          "Crystal City Metro / 18th St & S Bell St",
          "Crystal Dr & 27th St S",
          "Crystal Dr & 23rd St S",
          "Clark St & 26th St S",
          "Good Hope & Naylor Rd SE",
          "Minnesota Ave Metro/DOES",
          "Nannie Helen Burroughs & Minnesota Ave NE",
          "Eads St & 22nd St S",
          "Benning Branch Library",
          "Rhodes St & 16th St N",
          "Wilson Blvd & N Franklin Rd",
          "Benning Rd & East Capitol St NE / Benning Rd Metro",
          "Congress Heights Metro",
          "N Veitch St & 20th St N",
          "N Veitch St & Key Blvd",
          "15th St & N Scott St",
          "Fairfax Dr & N Randolph St",
          "Good Hope Rd & 14th St SE",
          "GMU / Fairfax Dr & Kenmore St",
          "Utah St & 11th St N",
          "Troy St & 26th St S",
          "Four Mile Run Dr & S Shirlington Rd",
          "13th St & Eastern Ave",
          "Roosevelt Island",
          "18th St & Rhode Island Ave NE",
          "Pleasant St & MLK Ave SE",
          "S George Mason & Four Mile Run Dr",
          "Arlington Mill Cmty Center / Columbia Pike & S Dinwiddie St",
          "Pershing Dr & N George Mason Dr",
          "Norfolk Ave & Fairmont St",
          "Maple & Ritchie Ave",
          "Silver Spring Metro / Colesville Rd & Wayne Ave",
          "Friendship Hts Metro / Wisconsin Ave & Wisconsin Cir",
          "East West Hwy & Blair Mill Rd",
          "47th & Elm St",
          "Fenton St & Gist Ave",
          "Carroll & Westmoreland Ave",
          "Offutt Ln & Chevy Chase Dr",
          "Georgia Ave & Spring St",
          "Deanwood Rec Center",
          "Arlington Blvd & Fillmore St",
          "Eads St & 12th St S",
          "Friendship Blvd & Willard Ave",
          "Fort Totten Metro",
          "Bethesda Metro / Wisconsin Ave & Old Georgetown Rd",
          "Iwo Jima Memorial / Meade & 14th St N",
          "Arlington Blvd & S George Mason Dr"
         ],
         "lat": [
          38.964544,
          38.859254,
          38.896456,
          38.89898400000001,
          38.895377,
          38.86215,
          38.86612,
          38.961339,
          38.898301,
          38.999679,
          38.995681,
          38.880992,
          38.949813,
          38.967505,
          38.990874,
          38.957463,
          39.014716,
          38.98265,
          38.988101,
          39.038341,
          39.035965,
          38.968834,
          38.93293,
          39.062041,
          39.0629,
          38.908391,
          38.899811,
          38.969581,
          38.95548,
          38.848304,
          38.88994,
          38.969489,
          38.782633,
          38.876211,
          38.951596,
          38.8828,
          38.9546,
          38.975505,
          38.93927100000001,
          38.961737,
          38.9698,
          38.879355,
          38.870093,
          38.9243,
          38.938889,
          38.955349,
          38.965742,
          38.962119,
          38.91261400000001,
          39.031314,
          39.039102,
          38.879477,
          38.856425,
          38.86017,
          38.857866,
          38.862303,
          38.8637,
          38.857405,
          38.848466,
          38.8533,
          38.850688,
          38.860227,
          38.897063,
          38.901385,
          38.854381,
          38.894,
          38.892164,
          38.8904,
          38.889935,
          38.844711,
          38.896923,
          38.893237,
          38.89054,
          38.882629,
          38.866611,
          38.884616,
          38.883669,
          38.847977,
          38.8444,
          38.987,
          38.896553,
          38.927095,
          38.863897,
          38.852248,
          38.856319,
          38.871822,
          38.988562,
          38.983627,
          38.994896,
          38.961763,
          38.990249,
          38.982456,
          38.989724,
          38.975,
          38.977093,
          38.999388,
          38.908473,
          38.873755,
          38.86275300000001,
          38.96115,
          38.952369,
          38.984691,
          38.88992,
          38.869442
         ],
         "legendgroup": "-1",
         "lon": [
          -77.075135,
          -77.063275,
          -77.104562,
          -77.078317,
          -77.09713,
          -77.06812099999998,
          -77.08787,
          -77.027855,
          -77.118009,
          -77.051168,
          -77.038721,
          -77.135271,
          -77.080217,
          -77.027976,
          -77.016311,
          -77.002239,
          -77.10714300000002,
          -76.988311,
          -76.988422,
          -77.051023,
          -77.048395,
          -77.016258,
          -76.979517,
          -77.120776,
          -77.113454,
          -76.84326300000002,
          -76.844604,
          -76.937349,
          -76.94013299999997,
          -77.05122,
          -76.825535,
          -77.033509,
          -77.016059,
          -77.012443,
          -77.01280799999998,
          -77.2283,
          -76.9595,
          -76.952199,
          -76.955047,
          -76.995922,
          -76.9493,
          -77.230681,
          -77.22997,
          -76.9859,
          -76.997226,
          -76.96808399999998,
          -76.954803,
          -76.935578,
          -77.07432299999998,
          -77.004122,
          -76.991824,
          -77.114563,
          -77.04923199999998,
          -77.049593,
          -77.05949,
          -77.059936,
          -77.0633,
          -77.051132,
          -77.051514,
          -77.0498,
          -77.05152,
          -76.966572,
          -76.947446,
          -76.941877,
          -77.053412,
          -76.947974,
          -77.079375,
          -77.0889,
          -76.93723,
          -76.98782299999998,
          -77.086502,
          -77.086063,
          -77.08095,
          -77.10936600000002,
          -76.985238,
          -77.10108000000002,
          -77.113905,
          -77.07510400000002,
          -77.085931,
          -77.02941700000002,
          -77.06714000000002,
          -76.97892399999998,
          -76.990037,
          -77.10502199999998,
          -77.11153,
          -77.107906,
          -77.096539,
          -77.006311,
          -77.02953199999997,
          -77.085998,
          -77.02935,
          -77.09199100000002,
          -77.023854,
          -77.01120999999998,
          -77.094589,
          -77.03155500000003,
          -76.933099,
          -77.089233,
          -77.05428,
          -77.08865899999998,
          -77.002721,
          -77.094537,
          -77.071301,
          -77.10450300000002
         ],
         "marker": {
          "color": "#636EFA",
          "size": [
           5,
           5,
           5,
           5,
           5,
           5,
           5,
           5,
           5,
           5,
           5,
           5,
           5,
           5,
           5,
           5,
           5,
           5,
           5,
           5,
           5,
           5,
           5,
           5,
           5,
           5,
           5,
           5,
           5,
           5,
           5,
           5,
           5,
           5,
           5,
           5,
           5,
           5,
           5,
           5,
           5,
           5,
           5,
           5,
           5,
           5,
           5,
           5,
           5,
           5,
           5,
           5,
           5,
           5,
           5,
           5,
           5,
           5,
           5,
           5,
           5,
           5,
           5,
           5,
           5,
           5,
           5,
           5,
           5,
           5,
           5,
           5,
           5,
           5,
           5,
           5,
           5,
           5,
           5,
           5,
           5,
           5,
           5,
           5,
           5,
           5,
           5,
           5,
           5,
           5,
           5,
           5,
           5,
           5,
           5,
           5,
           5,
           5,
           5,
           5,
           5,
           5,
           5,
           5
          ],
          "sizemode": "area",
          "sizeref": 0.05
         },
         "mode": "markers",
         "name": "-1",
         "showlegend": true,
         "subplot": "mapbox",
         "type": "scattermapbox"
        },
        {
         "customdata": [
          [
           "15th & L St NW"
          ],
          [
           "17th & G St NW"
          ],
          [
           "18th & R St NW"
          ],
          [
           "Union Market"
          ],
          [
           "19th & G St NW"
          ],
          [
           "2nd St & Seaton Pl NE"
          ],
          [
           "31st & Water St NW"
          ],
          [
           "11th & S St NW"
          ],
          [
           "2nd & G St NE"
          ],
          [
           "8th & O St NW"
          ],
          [
           "Oklahoma Ave & D St NE"
          ],
          [
           "Maryland Ave & E St NE"
          ],
          [
           "New York Ave & Hecht Ave NE"
          ],
          [
           "Yuma St & Tenley Circle NW"
          ],
          [
           "Connecticut Ave & Chevy Chase Lake Dr"
          ],
          [
           "Saint Asaph St & Madison St"
          ],
          [
           "King St Metro North / Cameron St"
          ],
          [
           "Madison St & N Henry St"
          ],
          [
           "Washington Blvd & N Frederick St"
          ],
          [
           "Wisconsin Ave & Ingomar St NW"
          ],
          [
           "16th & Irving St NW"
          ],
          [
           "16th & R St NW"
          ],
          [
           "Woodmont Ave & Strathmore St"
          ],
          [
           "14th & L St NW"
          ],
          [
           "1st & O St NW"
          ],
          [
           "South Capitol & Atlantic St SW"
          ],
          [
           "18th & C St NW"
          ],
          [
           "22nd & P ST NW"
          ],
          [
           "Royal St & Wilkes St"
          ],
          [
           "14th & Girard St NW"
          ],
          [
           "Potomac Ave & Main Line Blvd"
          ],
          [
           "11th & O St NW"
          ],
          [
           "10th St & L'Enfant Plaza SW"
          ],
          [
           "Connecticut Ave & Yuma St NW"
          ],
          [
           "2nd St & Massachusetts Ave NE"
          ],
          [
           "Radford St & Osage St"
          ],
          [
           "Commonwealth Ave & Oak St"
          ],
          [
           "Commonwealth Ave & E Monroe Ave"
          ],
          [
           "4th St & Madison Dr NW"
          ],
          [
           "Henry Bacon Dr & Lincoln Memorial Circle NW"
          ],
          [
           "17th St & Independence Ave SW"
          ],
          [
           "Franklin St & S Washington St"
          ],
          [
           "Mount Vernon Ave & Four Mile Run Park"
          ],
          [
           "4th St & K St NW"
          ],
          [
           "Mount Vernon Ave & Bruce St"
          ],
          [
           "Lee Center"
          ],
          [
           "Powhatan St & Bashford Ln"
          ],
          [
           "Potomac Ave & Swann Ave"
          ],
          [
           "14th & Irving St NW"
          ],
          [
           "Vermont Ave & I St NW"
          ],
          [
           "24th & R St NE / National Arboretum"
          ],
          [
           "Division Ave & Foote St NE"
          ],
          [
           "16th & Q St SE / Anacostia HS"
          ],
          [
           "1st & D St SE"
          ],
          [
           "22nd St & Constitution Ave NW"
          ],
          [
           "61st St & Banks Pl NE"
          ],
          [
           "N Lynn St & Fairfax Dr"
          ],
          [
           "Madison St & Fairfax St"
          ],
          [
           "15th & W St NW"
          ],
          [
           "12th St & Pennsylvania Ave SE"
          ],
          [
           "Carlin Springs Rd & N Thomas St"
          ],
          [
           "6th & K St NE"
          ],
          [
           "7th & E St SW"
          ],
          [
           "Potomac & M St NW"
          ],
          [
           "Columbia & Ontario Rd NW"
          ],
          [
           "Washington-Liberty High School / N Stafford St & Generals Way"
          ],
          [
           "Columbia Pike & S Taylor St"
          ],
          [
           "Virginia Ave & 25th St NW"
          ],
          [
           "15th & M St NW"
          ],
          [
           "11th & Girard St NW"
          ],
          [
           "Connecticut Ave & R St NW"
          ],
          [
           "Wilson Blvd & N Troy St"
          ],
          [
           "American University East Campus"
          ],
          [
           "15th St & Constitution Ave NW"
          ],
          [
           "23rd & M St NW"
          ],
          [
           "Alabama Ave & Stanton Rd SE / Shops at Park Village"
          ],
          [
           "Mississippi Ave & 19th St SE / THEARC"
          ],
          [
           "19th & Savannah St SE"
          ],
          [
           "4th St & Mississippi Ave SE"
          ],
          [
           "1st & S Capitol St SE / Oxon Run Trail"
          ],
          [
           "Livingston Rd & 3rd St SE"
          ],
          [
           "Joliet St & MLK Ave SW/Bald Eagle Rec Ctr"
          ],
          [
           "37th & Ely Pl SE"
          ],
          [
           "15th St & Pennsylvania Ave NW"
          ],
          [
           "Maine Ave & 9th St SW"
          ],
          [
           "Lincoln Rd & Seaton Pl NE/Harry Thomas Rec Center"
          ],
          [
           "Georgia Ave & Kennedy St NW"
          ],
          [
           "7th St & Massachusetts Ave NE"
          ],
          [
           "Anacostia Park"
          ],
          [
           "Potomac Ave & Half St SW"
          ],
          [
           "Stanton Square SE"
          ],
          [
           "14th & Newton St NW"
          ],
          [
           "48th Pl & MacArthur Blvd NW"
          ],
          [
           "1st & M St SE"
          ],
          [
           "Oxon Hill Park & Ride"
          ],
          [
           "11th & Park Rd NW"
          ],
          [
           "4th & M St SE"
          ],
          [
           "Kansas Ave & Sherman Cr NW"
          ],
          [
           "7th & K St NW"
          ],
          [
           "Montello Ave & Holbrook Terr NE"
          ],
          [
           "New Jersey Ave & F St NW"
          ],
          [
           "Maryland Ave & 17th St NE"
          ],
          [
           "Massachusetts Ave & 6th St NE"
          ],
          [
           "Woodley Park Metro / Calvert St & Connecticut Ave NW"
          ],
          [
           "Trinidad Rec Center"
          ],
          [
           "Rosedale Rec Center"
          ],
          [
           "11th & C St SE"
          ],
          [
           "United Medical Center"
          ],
          [
           "18th & New Hampshire Ave NW"
          ],
          [
           "Southern Ave Metro"
          ],
          [
           "Tanger Outlets"
          ],
          [
           "Georgia Ave & Morton St NW"
          ],
          [
           "7th & S St NW"
          ],
          [
           "North Capitol & R St NE"
          ],
          [
           "17th & Upshur St NW"
          ],
          [
           "Grant Circle"
          ],
          [
           "14th & Otis Pl NW"
          ],
          [
           "Capitol Heights Metro"
          ],
          [
           "Edgewood Rec Center"
          ],
          [
           "8th & K St NE"
          ],
          [
           "Kingman Island/The Fields at RFK"
          ],
          [
           "Kenilworth Terrace & Hayes St. NE"
          ],
          [
           "National Harbor Carousel"
          ],
          [
           "Valley Ave & Wheeler Rd SE"
          ],
          [
           "Ridge Rd Community Center"
          ],
          [
           "Fort Stanton Rec Center"
          ],
          [
           "22nd & H St NW"
          ],
          [
           "8th & H St NE"
          ],
          [
           "Hardy Rec Center"
          ],
          [
           "Minnesota Ave & R St SE"
          ],
          [
           "1st & K St NE"
          ],
          [
           "Eads St & 15th St S"
          ],
          [
           "18th St & S Eads St"
          ],
          [
           "S Glebe Rd & Potomac Ave"
          ],
          [
           "19th St & Pennsylvania Ave NW"
          ],
          [
           "14th & V St NW"
          ],
          [
           "11th & Kenyon St NW"
          ],
          [
           "16th & Harvard St NW"
          ],
          [
           "Adams Mill & Columbia Rd NW"
          ],
          [
           "14th & Harvard St NW"
          ],
          [
           "Calvert & Biltmore St NW"
          ],
          [
           "Lamont & Mt Pleasant NW"
          ],
          [
           "4th & M St SW"
          ],
          [
           "15th & P St NW"
          ],
          [
           "14th & R St NW"
          ],
          [
           "14th & Rhode Island Ave NW"
          ],
          [
           "20th & E St NW"
          ],
          [
           "21st & I St NW"
          ],
          [
           "Georgia & New Hampshire Ave NW"
          ],
          [
           "14th St & Spring Rd NW"
          ],
          [
           "John McCormack Dr & Michigan Ave NE"
          ],
          [
           "5th & K St NW"
          ],
          [
           "19th & East Capitol St SE"
          ],
          [
           "Park Rd & Holmead Pl NW"
          ],
          [
           "Connecticut Ave & Newark St NW / Cleveland Park"
          ],
          [
           "Randle Circle & Minnesota Ave SE"
          ],
          [
           "Anacostia Metro"
          ],
          [
           "Good Hope Rd & MLK Ave SE"
          ],
          [
           "19th & E Street NW"
          ],
          [
           "4th & W St NE"
          ],
          [
           "10th & U St NW"
          ],
          [
           "Georgia Ave and Fairmont St NW"
          ],
          [
           "1st & N St  SE"
          ],
          [
           "20th St & Florida Ave NW"
          ],
          [
           "7th & T St NW"
          ],
          [
           "M St & New Jersey Ave SE"
          ],
          [
           "Massachusetts Ave & Dupont Circle NW"
          ],
          [
           "1st & M St NE"
          ],
          [
           "New Hampshire Ave & Ward Pl NW"
          ],
          [
           "17th & K St NW"
          ],
          [
           "3rd & H St NW"
          ],
          [
           "3rd & D St SE"
          ],
          [
           "Potomac & Pennsylvania Ave SE"
          ],
          [
           "13th & E St SE"
          ],
          [
           "17th & Corcoran St NW"
          ],
          [
           "Van Ness Metro / UDC"
          ],
          [
           "Florida Ave & R St NW"
          ],
          [
           "8th & Eye St SE / Barracks Row"
          ],
          [
           "Ward Circle / American University"
          ],
          [
           "Wisconsin Ave & Newark St NW"
          ],
          [
           "14th St Heights / 14th & Crittenden St NW"
          ],
          [
           "Anacostia Library"
          ],
          [
           "Pennsylvania & Minnesota Ave SE"
          ],
          [
           "Eastern Market / 7th & North Carolina Ave SE"
          ],
          [
           "14th St & New York Ave NW"
          ],
          [
           "USDA / 12th & C St SW"
          ],
          [
           "Georgetown Harbor / 30th St NW"
          ],
          [
           "12th & Newton St NE"
          ],
          [
           "US Dept of State / Virginia Ave & 21st St NW"
          ],
          [
           "L'Enfant Plaza / 7th & C St SW"
          ],
          [
           "10th St & Constitution Ave NW"
          ],
          [
           "Kennedy Center"
          ],
          [
           "Eastern Market Metro / Pennsylvania Ave & 7th St SE"
          ],
          [
           "18th & M St NW"
          ],
          [
           "Tenleytown / Wisconsin Ave & Albemarle St NW"
          ],
          [
           "13th & H St NE"
          ],
          [
           "5th & F St NW"
          ],
          [
           "New York Ave & 15th St NW"
          ],
          [
           "Convention Center / 7th & M St NW"
          ],
          [
           "Harvard St & Adams Mill Rd NW"
          ],
          [
           "18th & L St NW"
          ],
          [
           "C & O Canal & Wisconsin Ave NW"
          ],
          [
           "Maine Ave & 7th St SW"
          ],
          [
           "D St & Maryland Ave NE"
          ],
          [
           "34th St & Wisconsin Ave NW"
          ],
          [
           "13th St & New York Ave NW"
          ],
          [
           "8th & H St NW"
          ],
          [
           "10th & Monroe St NE"
          ],
          [
           "Eckington Pl & Q St NE"
          ],
          [
           "6th & H St NE"
          ],
          [
           "3rd & H St NE"
          ],
          [
           "Bladensburg Rd & Benning Rd NE"
          ],
          [
           "4th & East Capitol St NE"
          ],
          [
           "Branch & Pennsylvania Ave SE"
          ],
          [
           "13th & D St NE"
          ],
          [
           "New Hampshire Ave & T St NW"
          ],
          [
           "Metro Center / 12th & G St NW"
          ],
          [
           "14th & D St NW / Ronald Reagan Building"
          ],
          [
           "7th & F St NW / National Portrait Gallery"
          ],
          [
           "17th & K St NW / Farragut Square"
          ],
          [
           "20th & O St NW / Dupont South"
          ],
          [
           "4th & D St NW / Judiciary Square"
          ],
          [
           "19th St & Constitution Ave NW"
          ],
          [
           "37th & O St NW / Georgetown University"
          ],
          [
           "11th & H St NE"
          ],
          [
           "25th St & Pennsylvania Ave NW"
          ],
          [
           "Columbus Circle / Union Station"
          ],
          [
           "North Capitol St & F St NW"
          ],
          [
           "11th & M St NW"
          ],
          [
           "36th & Calvert St NW / Glover Park"
          ],
          [
           "14th & G St NW"
          ],
          [
           "Potomac Ave & 35th St S"
          ],
          [
           "Ohio Dr & West Basin Dr SW / MLK & FDR Memorials"
          ],
          [
           "11th & F St NW"
          ],
          [
           "Lynn St & 19th St North"
          ],
          [
           "Rosslyn Metro / Wilson Blvd & Ft Myer Dr"
          ],
          [
           "Clarendon Blvd & Pierce St"
          ],
          [
           "Wilson Blvd & N Uhle St"
          ],
          [
           "Fairfax Village"
          ],
          [
           "21st St & Constitution Ave NW"
          ],
          [
           "Wilson Blvd & N Edgewood St"
          ],
          [
           "Columbia Rd & Belmont St NW"
          ],
          [
           "Rhode Island & Connecticut Ave NW"
          ],
          [
           "Thomas Circle"
          ],
          [
           "Clarendon Blvd & N Fillmore St"
          ],
          [
           "Clarendon Metro / Wilson Blvd & N Highland St"
          ],
          [
           "18th St & Pennsylvania Ave NW"
          ],
          [
           "4th & C St SW"
          ],
          [
           "4th & E St SW"
          ],
          [
           "3rd & G St SE"
          ],
          [
           "7th & R St NW / Shaw Library"
          ],
          [
           "9th & Upshur St NW"
          ],
          [
           "1st & Rhode Island Ave NW"
          ],
          [
           "Columbia Rd & Georgia Ave NW"
          ],
          [
           "California St & Florida Ave NW"
          ],
          [
           "3000 Connecticut Ave NW / National Zoo"
          ],
          [
           "M St & Pennsylvania Ave NW"
          ],
          [
           "15th St & Massachusetts Ave SE"
          ],
          [
           "N Quincy St & Glebe Rd"
          ],
          [
           "Barcroft Community Center"
          ],
          [
           "10th & K St NW"
          ],
          [
           "Fairfax Dr & Wilson Blvd"
          ],
          [
           "Key Blvd & N Quinn St"
          ],
          [
           "1st & K St SE"
          ],
          [
           "39th & Calvert St NW / Stoddert"
          ],
          [
           "1st & Washington Hospital Center NW"
          ],
          [
           "Virginia Square Metro / Monroe St & 9th St N"
          ],
          [
           "Central Library / Quincy St & 10th St N"
          ],
          [
           "Washington Blvd & 10th St N"
          ],
          [
           "Jefferson Dr & 14th St SW"
          ],
          [
           "Smithsonian-National Mall / Jefferson Dr & 12th St SW"
          ],
          [
           "George Mason Dr & Wilson Blvd"
          ],
          [
           "6th St & Indiana Ave NW"
          ],
          [
           "Lee Hwy & N Adams St"
          ],
          [
           "Washington Blvd & 7th St N"
          ],
          [
           "Ballston Metro / Stuart St & 9th St N"
          ],
          [
           "Jefferson Memorial"
          ],
          [
           "Glebe Rd & 11th St N"
          ],
          [
           "Wilson Blvd & N Quincy St"
          ],
          [
           "Gallaudet / 8th St & Florida Ave NE"
          ],
          [
           "20th & L St NW"
          ],
          [
           "12th & L St NW"
          ],
          [
           "21st St & Pennsylvania Ave NW"
          ],
          [
           "19th & K St NW"
          ],
          [
           "Prince St & Union St"
          ],
          [
           "Market Square / King St & Royal St"
          ],
          [
           "Saint Asaph St & Pendleton  St"
          ],
          [
           "King St & Patrick St"
          ],
          [
           "15th & K St NW"
          ],
          [
           "Commerce St & Fayette St"
          ],
          [
           "Henry St & Pendleton St"
          ],
          [
           "Braddock Rd Metro"
          ],
          [
           "King St Metro South"
          ],
          [
           "24th & N St NW"
          ],
          [
           "10th & E St NW"
          ],
          [
           "22nd & I St NW / Foggy Bottom"
          ],
          [
           "Barton St & 10th St N"
          ],
          [
           "Arlington Blvd & N Queen St"
          ],
          [
           "Lincoln Memorial"
          ],
          [
           "20th St & Virginia Ave NW"
          ],
          [
           "5th St & Massachusetts Ave NW"
          ],
          [
           "39th & Veazey St NW"
          ],
          [
           "Fessenden St & Wisconsin Ave NW"
          ],
          [
           "3rd & M St NE"
          ],
          [
           "Columbia Pike & S Courthouse Rd"
          ],
          [
           "Walter Reed Dr & 16th St S"
          ],
          [
           "28th St & S Meade St"
          ],
          [
           "18th St & Wyoming Ave NW"
          ],
          [
           "5th & Kennedy St NW"
          ],
          [
           "Georgia Ave & Emerson St NW"
          ],
          [
           "14th & Upshur St NW"
          ],
          [
           "14th St & Colorado Ave NW"
          ],
          [
           "Columbia Pike & S Oakland St"
          ],
          [
           "Four Mile Run Dr & S Walter Reed Dr"
          ],
          [
           "S Arlington Mill Dr & Campbell Ave"
          ],
          [
           "Kenmore St & 24th St S"
          ],
          [
           "Wisconsin Ave & O St NW"
          ],
          [
           "Connecticut & Nebraska Ave NW"
          ],
          [
           "17th St & Massachusetts Ave NW"
          ],
          [
           "15th & Euclid St  NW"
          ],
          [
           "8th & East Capitol St NE"
          ],
          [
           "New Jersey Ave & R St NW"
          ],
          [
           "15th & East Capitol St NE"
          ],
          [
           "8th & F St NE"
          ],
          [
           "15th & F St NE"
          ],
          [
           "12th & Irving St NE"
          ],
          [
           "Alabama & MLK Ave SE"
          ],
          [
           "Neal St & Trinidad Ave NE"
          ],
          [
           "12th & U St NW"
          ],
          [
           "Gravelly Point"
          ],
          [
           "Pershing Dr & Wayne St"
          ],
          [
           "Columbia Pike & S Orme St"
          ],
          [
           "3rd St & Pennsylvania Ave SE"
          ],
          [
           "8th & D St NW"
          ],
          [
           "3rd & Elm St NW"
          ],
          [
           "Rhode Island Ave & V St NE"
          ],
          [
           "Constitution Ave & 2nd St NW/DOL"
          ],
          [
           "Washington & Independence Ave SW/HHS"
          ],
          [
           "Independence Ave & L'Enfant Plaza SW/DOE"
          ],
          [
           "Hamlin & 7th St NE"
          ],
          [
           "Columbia Pike & S Walter Reed Dr"
          ],
          [
           "Bethesda Ave & Arlington Rd"
          ],
          [
           "Cordell & Norfolk Ave"
          ],
          [
           "Montgomery & East Ln"
          ],
          [
           "14th & Belmont St NW"
          ],
          [
           "3rd & Tingey St SE"
          ],
          [
           "10th & Florida Ave NW"
          ],
          [
           "Potomac Ave & 8th St SE"
          ],
          [
           "Battery Ln & Trolley Trail"
          ],
          [
           "Norfolk & Rugby Ave"
          ],
          [
           "Calvert St & Woodley Pl NW"
          ],
          [
           "New Jersey Ave & N St NW/Dunbar HS"
          ],
          [
           "Nannie Helen Burroughs Ave & 49th St NE"
          ],
          [
           "Hains Point/Buckeye & Ohio Dr SW"
          ],
          [
           "Old Georgetown Rd & Southwick St"
          ],
          [
           "North Capitol St & G Pl NE"
          ],
          [
           "31st St & S Woodrow St"
          ],
          [
           "TJ Cmty Ctr / 2nd St & S Old Glebe Rd"
          ],
          [
           "Connecticut Ave & Tilden St NW"
          ],
          [
           "1st & H St NW"
          ],
          [
           "Rhode Island Ave Metro"
          ],
          [
           "Rolfe St & 9th St S"
          ],
          [
           "Shirlington Transit Center / Quincy St & Randolph St"
          ],
          [
           "River Rd & Landy Ln"
          ],
          [
           "34th & Water St NW"
          ],
          [
           "Duke St & John Carlyle St"
          ],
          [
           "Lee Hwy & N Cleveland St"
          ],
          [
           "10th & G St NW"
          ],
          [
           "Lee Hwy & N Scott St"
          ],
          [
           "New Hampshire Ave & 24th St NW"
          ],
          [
           "Eisenhower Ave & Mill Race Ln"
          ],
          [
           "Potomac Greens Dr & Slaters Ln"
          ],
          [
           "Ballenger Ave & Dulaney St"
          ],
          [
           "Mount Vernon Ave & E Nelson Ave"
          ],
          [
           "Monroe Ave & Leslie Ave"
          ],
          [
           "Mount Vernon Ave & Kennedy St"
          ],
          [
           "Court House Metro / 15th St & N Uhle St"
          ],
          [
           "Long Bridge Park / Long Bridge Dr & 6th St S"
          ]
         ],
         "hovertemplate": "<b>%{hovertext}</b><br><br>hdbscan=6<br>size=%{marker.size}<br>LATITUDE=%{lat}<br>LONGITUDE=%{lon}<br>node_ids=%{customdata[0]}<extra></extra>",
         "hovertext": [
          "15th & L St NW",
          "17th & G St NW",
          "18th & R St NW",
          "Union Market",
          "19th & G St NW",
          "2nd St & Seaton Pl NE",
          "31st & Water St NW",
          "11th & S St NW",
          "2nd & G St NE",
          "8th & O St NW",
          "Oklahoma Ave & D St NE",
          "Maryland Ave & E St NE",
          "New York Ave & Hecht Ave NE",
          "Yuma St & Tenley Circle NW",
          "Connecticut Ave & Chevy Chase Lake Dr",
          "Saint Asaph St & Madison St",
          "King St Metro North / Cameron St",
          "Madison St & N Henry St",
          "Washington Blvd & N Frederick St",
          "Wisconsin Ave & Ingomar St NW",
          "16th & Irving St NW",
          "16th & R St NW",
          "Woodmont Ave & Strathmore St",
          "14th & L St NW",
          "1st & O St NW",
          "South Capitol & Atlantic St SW",
          "18th & C St NW",
          "22nd & P ST NW",
          "Royal St & Wilkes St",
          "14th & Girard St NW",
          "Potomac Ave & Main Line Blvd",
          "11th & O St NW",
          "10th St & L'Enfant Plaza SW",
          "Connecticut Ave & Yuma St NW",
          "2nd St & Massachusetts Ave NE",
          "Radford St & Osage St",
          "Commonwealth Ave & Oak St",
          "Commonwealth Ave & E Monroe Ave",
          "4th St & Madison Dr NW",
          "Henry Bacon Dr & Lincoln Memorial Circle NW",
          "17th St & Independence Ave SW",
          "Franklin St & S Washington St",
          "Mount Vernon Ave & Four Mile Run Park",
          "4th St & K St NW",
          "Mount Vernon Ave & Bruce St",
          "Lee Center",
          "Powhatan St & Bashford Ln",
          "Potomac Ave & Swann Ave",
          "14th & Irving St NW",
          "Vermont Ave & I St NW",
          "24th & R St NE / National Arboretum",
          "Division Ave & Foote St NE",
          "16th & Q St SE / Anacostia HS",
          "1st & D St SE",
          "22nd St & Constitution Ave NW",
          "61st St & Banks Pl NE",
          "N Lynn St & Fairfax Dr",
          "Madison St & Fairfax St",
          "15th & W St NW",
          "12th St & Pennsylvania Ave SE",
          "Carlin Springs Rd & N Thomas St",
          "6th & K St NE",
          "7th & E St SW",
          "Potomac & M St NW",
          "Columbia & Ontario Rd NW",
          "Washington-Liberty High School / N Stafford St & Generals Way",
          "Columbia Pike & S Taylor St",
          "Virginia Ave & 25th St NW",
          "15th & M St NW",
          "11th & Girard St NW",
          "Connecticut Ave & R St NW",
          "Wilson Blvd & N Troy St",
          "American University East Campus",
          "15th St & Constitution Ave NW",
          "23rd & M St NW",
          "Alabama Ave & Stanton Rd SE / Shops at Park Village",
          "Mississippi Ave & 19th St SE / THEARC",
          "19th & Savannah St SE",
          "4th St & Mississippi Ave SE",
          "1st & S Capitol St SE / Oxon Run Trail",
          "Livingston Rd & 3rd St SE",
          "Joliet St & MLK Ave SW/Bald Eagle Rec Ctr",
          "37th & Ely Pl SE",
          "15th St & Pennsylvania Ave NW",
          "Maine Ave & 9th St SW",
          "Lincoln Rd & Seaton Pl NE/Harry Thomas Rec Center",
          "Georgia Ave & Kennedy St NW",
          "7th St & Massachusetts Ave NE",
          "Anacostia Park",
          "Potomac Ave & Half St SW",
          "Stanton Square SE",
          "14th & Newton St NW",
          "48th Pl & MacArthur Blvd NW",
          "1st & M St SE",
          "Oxon Hill Park & Ride",
          "11th & Park Rd NW",
          "4th & M St SE",
          "Kansas Ave & Sherman Cr NW",
          "7th & K St NW",
          "Montello Ave & Holbrook Terr NE",
          "New Jersey Ave & F St NW",
          "Maryland Ave & 17th St NE",
          "Massachusetts Ave & 6th St NE",
          "Woodley Park Metro / Calvert St & Connecticut Ave NW",
          "Trinidad Rec Center",
          "Rosedale Rec Center",
          "11th & C St SE",
          "United Medical Center",
          "18th & New Hampshire Ave NW",
          "Southern Ave Metro",
          "Tanger Outlets",
          "Georgia Ave & Morton St NW",
          "7th & S St NW",
          "North Capitol & R St NE",
          "17th & Upshur St NW",
          "Grant Circle",
          "14th & Otis Pl NW",
          "Capitol Heights Metro",
          "Edgewood Rec Center",
          "8th & K St NE",
          "Kingman Island/The Fields at RFK",
          "Kenilworth Terrace & Hayes St. NE",
          "National Harbor Carousel",
          "Valley Ave & Wheeler Rd SE",
          "Ridge Rd Community Center",
          "Fort Stanton Rec Center",
          "22nd & H St NW",
          "8th & H St NE",
          "Hardy Rec Center",
          "Minnesota Ave & R St SE",
          "1st & K St NE",
          "Eads St & 15th St S",
          "18th St & S Eads St",
          "S Glebe Rd & Potomac Ave",
          "19th St & Pennsylvania Ave NW",
          "14th & V St NW",
          "11th & Kenyon St NW",
          "16th & Harvard St NW",
          "Adams Mill & Columbia Rd NW",
          "14th & Harvard St NW",
          "Calvert & Biltmore St NW",
          "Lamont & Mt Pleasant NW",
          "4th & M St SW",
          "15th & P St NW",
          "14th & R St NW",
          "14th & Rhode Island Ave NW",
          "20th & E St NW",
          "21st & I St NW",
          "Georgia & New Hampshire Ave NW",
          "14th St & Spring Rd NW",
          "John McCormack Dr & Michigan Ave NE",
          "5th & K St NW",
          "19th & East Capitol St SE",
          "Park Rd & Holmead Pl NW",
          "Connecticut Ave & Newark St NW / Cleveland Park",
          "Randle Circle & Minnesota Ave SE",
          "Anacostia Metro",
          "Good Hope Rd & MLK Ave SE",
          "19th & E Street NW",
          "4th & W St NE",
          "10th & U St NW",
          "Georgia Ave and Fairmont St NW",
          "1st & N St  SE",
          "20th St & Florida Ave NW",
          "7th & T St NW",
          "M St & New Jersey Ave SE",
          "Massachusetts Ave & Dupont Circle NW",
          "1st & M St NE",
          "New Hampshire Ave & Ward Pl NW",
          "17th & K St NW",
          "3rd & H St NW",
          "3rd & D St SE",
          "Potomac & Pennsylvania Ave SE",
          "13th & E St SE",
          "17th & Corcoran St NW",
          "Van Ness Metro / UDC",
          "Florida Ave & R St NW",
          "8th & Eye St SE / Barracks Row",
          "Ward Circle / American University",
          "Wisconsin Ave & Newark St NW",
          "14th St Heights / 14th & Crittenden St NW",
          "Anacostia Library",
          "Pennsylvania & Minnesota Ave SE",
          "Eastern Market / 7th & North Carolina Ave SE",
          "14th St & New York Ave NW",
          "USDA / 12th & C St SW",
          "Georgetown Harbor / 30th St NW",
          "12th & Newton St NE",
          "US Dept of State / Virginia Ave & 21st St NW",
          "L'Enfant Plaza / 7th & C St SW",
          "10th St & Constitution Ave NW",
          "Kennedy Center",
          "Eastern Market Metro / Pennsylvania Ave & 7th St SE",
          "18th & M St NW",
          "Tenleytown / Wisconsin Ave & Albemarle St NW",
          "13th & H St NE",
          "5th & F St NW",
          "New York Ave & 15th St NW",
          "Convention Center / 7th & M St NW",
          "Harvard St & Adams Mill Rd NW",
          "18th & L St NW",
          "C & O Canal & Wisconsin Ave NW",
          "Maine Ave & 7th St SW",
          "D St & Maryland Ave NE",
          "34th St & Wisconsin Ave NW",
          "13th St & New York Ave NW",
          "8th & H St NW",
          "10th & Monroe St NE",
          "Eckington Pl & Q St NE",
          "6th & H St NE",
          "3rd & H St NE",
          "Bladensburg Rd & Benning Rd NE",
          "4th & East Capitol St NE",
          "Branch & Pennsylvania Ave SE",
          "13th & D St NE",
          "New Hampshire Ave & T St NW",
          "Metro Center / 12th & G St NW",
          "14th & D St NW / Ronald Reagan Building",
          "7th & F St NW / National Portrait Gallery",
          "17th & K St NW / Farragut Square",
          "20th & O St NW / Dupont South",
          "4th & D St NW / Judiciary Square",
          "19th St & Constitution Ave NW",
          "37th & O St NW / Georgetown University",
          "11th & H St NE",
          "25th St & Pennsylvania Ave NW",
          "Columbus Circle / Union Station",
          "North Capitol St & F St NW",
          "11th & M St NW",
          "36th & Calvert St NW / Glover Park",
          "14th & G St NW",
          "Potomac Ave & 35th St S",
          "Ohio Dr & West Basin Dr SW / MLK & FDR Memorials",
          "11th & F St NW",
          "Lynn St & 19th St North",
          "Rosslyn Metro / Wilson Blvd & Ft Myer Dr",
          "Clarendon Blvd & Pierce St",
          "Wilson Blvd & N Uhle St",
          "Fairfax Village",
          "21st St & Constitution Ave NW",
          "Wilson Blvd & N Edgewood St",
          "Columbia Rd & Belmont St NW",
          "Rhode Island & Connecticut Ave NW",
          "Thomas Circle",
          "Clarendon Blvd & N Fillmore St",
          "Clarendon Metro / Wilson Blvd & N Highland St",
          "18th St & Pennsylvania Ave NW",
          "4th & C St SW",
          "4th & E St SW",
          "3rd & G St SE",
          "7th & R St NW / Shaw Library",
          "9th & Upshur St NW",
          "1st & Rhode Island Ave NW",
          "Columbia Rd & Georgia Ave NW",
          "California St & Florida Ave NW",
          "3000 Connecticut Ave NW / National Zoo",
          "M St & Pennsylvania Ave NW",
          "15th St & Massachusetts Ave SE",
          "N Quincy St & Glebe Rd",
          "Barcroft Community Center",
          "10th & K St NW",
          "Fairfax Dr & Wilson Blvd",
          "Key Blvd & N Quinn St",
          "1st & K St SE",
          "39th & Calvert St NW / Stoddert",
          "1st & Washington Hospital Center NW",
          "Virginia Square Metro / Monroe St & 9th St N",
          "Central Library / Quincy St & 10th St N",
          "Washington Blvd & 10th St N",
          "Jefferson Dr & 14th St SW",
          "Smithsonian-National Mall / Jefferson Dr & 12th St SW",
          "George Mason Dr & Wilson Blvd",
          "6th St & Indiana Ave NW",
          "Lee Hwy & N Adams St",
          "Washington Blvd & 7th St N",
          "Ballston Metro / Stuart St & 9th St N",
          "Jefferson Memorial",
          "Glebe Rd & 11th St N",
          "Wilson Blvd & N Quincy St",
          "Gallaudet / 8th St & Florida Ave NE",
          "20th & L St NW",
          "12th & L St NW",
          "21st St & Pennsylvania Ave NW",
          "19th & K St NW",
          "Prince St & Union St",
          "Market Square / King St & Royal St",
          "Saint Asaph St & Pendleton  St",
          "King St & Patrick St",
          "15th & K St NW",
          "Commerce St & Fayette St",
          "Henry St & Pendleton St",
          "Braddock Rd Metro",
          "King St Metro South",
          "24th & N St NW",
          "10th & E St NW",
          "22nd & I St NW / Foggy Bottom",
          "Barton St & 10th St N",
          "Arlington Blvd & N Queen St",
          "Lincoln Memorial",
          "20th St & Virginia Ave NW",
          "5th St & Massachusetts Ave NW",
          "39th & Veazey St NW",
          "Fessenden St & Wisconsin Ave NW",
          "3rd & M St NE",
          "Columbia Pike & S Courthouse Rd",
          "Walter Reed Dr & 16th St S",
          "28th St & S Meade St",
          "18th St & Wyoming Ave NW",
          "5th & Kennedy St NW",
          "Georgia Ave & Emerson St NW",
          "14th & Upshur St NW",
          "14th St & Colorado Ave NW",
          "Columbia Pike & S Oakland St",
          "Four Mile Run Dr & S Walter Reed Dr",
          "S Arlington Mill Dr & Campbell Ave",
          "Kenmore St & 24th St S",
          "Wisconsin Ave & O St NW",
          "Connecticut & Nebraska Ave NW",
          "17th St & Massachusetts Ave NW",
          "15th & Euclid St  NW",
          "8th & East Capitol St NE",
          "New Jersey Ave & R St NW",
          "15th & East Capitol St NE",
          "8th & F St NE",
          "15th & F St NE",
          "12th & Irving St NE",
          "Alabama & MLK Ave SE",
          "Neal St & Trinidad Ave NE",
          "12th & U St NW",
          "Gravelly Point",
          "Pershing Dr & Wayne St",
          "Columbia Pike & S Orme St",
          "3rd St & Pennsylvania Ave SE",
          "8th & D St NW",
          "3rd & Elm St NW",
          "Rhode Island Ave & V St NE",
          "Constitution Ave & 2nd St NW/DOL",
          "Washington & Independence Ave SW/HHS",
          "Independence Ave & L'Enfant Plaza SW/DOE",
          "Hamlin & 7th St NE",
          "Columbia Pike & S Walter Reed Dr",
          "Bethesda Ave & Arlington Rd",
          "Cordell & Norfolk Ave",
          "Montgomery & East Ln",
          "14th & Belmont St NW",
          "3rd & Tingey St SE",
          "10th & Florida Ave NW",
          "Potomac Ave & 8th St SE",
          "Battery Ln & Trolley Trail",
          "Norfolk & Rugby Ave",
          "Calvert St & Woodley Pl NW",
          "New Jersey Ave & N St NW/Dunbar HS",
          "Nannie Helen Burroughs Ave & 49th St NE",
          "Hains Point/Buckeye & Ohio Dr SW",
          "Old Georgetown Rd & Southwick St",
          "North Capitol St & G Pl NE",
          "31st St & S Woodrow St",
          "TJ Cmty Ctr / 2nd St & S Old Glebe Rd",
          "Connecticut Ave & Tilden St NW",
          "1st & H St NW",
          "Rhode Island Ave Metro",
          "Rolfe St & 9th St S",
          "Shirlington Transit Center / Quincy St & Randolph St",
          "River Rd & Landy Ln",
          "34th & Water St NW",
          "Duke St & John Carlyle St",
          "Lee Hwy & N Cleveland St",
          "10th & G St NW",
          "Lee Hwy & N Scott St",
          "New Hampshire Ave & 24th St NW",
          "Eisenhower Ave & Mill Race Ln",
          "Potomac Greens Dr & Slaters Ln",
          "Ballenger Ave & Dulaney St",
          "Mount Vernon Ave & E Nelson Ave",
          "Monroe Ave & Leslie Ave",
          "Mount Vernon Ave & Kennedy St",
          "Court House Metro / 15th St & N Uhle St",
          "Long Bridge Park / Long Bridge Dr & 6th St S"
         ],
         "lat": [
          38.90366,
          38.8983,
          38.912648,
          38.907908,
          38.898412,
          38.914751,
          38.902814,
          38.913761,
          38.89967,
          38.90864000000001,
          38.894474,
          38.896134,
          38.915604,
          38.946182,
          38.994113,
          38.812718,
          38.80704,
          38.813485,
          38.884829,
          38.958267,
          38.928893,
          38.912652,
          38.979875,
          38.903658,
          38.908643,
          38.831516,
          38.893511,
          38.909394,
          38.799267,
          38.92528400000001,
          38.822738,
          38.90843,
          38.884323,
          38.947156,
          38.894972,
          38.828437,
          38.812711,
          38.820058,
          38.890493,
          38.890544,
          38.888097,
          38.798133,
          38.843422,
          38.902406,
          38.841291,
          38.797557,
          38.818748,
          38.829545,
          38.928552,
          38.901136,
          38.91263,
          38.897407,
          38.870695,
          38.884916,
          38.892441,
          38.891805,
          38.89386,
          38.812351,
          38.919086,
          38.882489,
          38.876695,
          38.902932,
          38.88345,
          38.905368,
          38.924088,
          38.888282,
          38.858524,
          38.8995,
          38.905424,
          38.925636,
          38.912644,
          38.892556,
          38.936298,
          38.892244,
          38.905303,
          38.84627,
          38.84377,
          38.84623,
          38.836,
          38.824481,
          38.82373,
          38.81909,
          38.883011,
          38.896465,
          38.88044,
          38.915,
          38.95674,
          38.89222,
          38.87335,
          38.870201,
          38.855004,
          38.931991,
          38.917304,
          38.876893,
          38.798749,
          38.931942,
          38.876751,
          38.948057,
          38.902674,
          38.907444,
          38.897108,
          38.901935,
          38.892934,
          38.923389,
          38.906299,
          38.89780800000001,
          38.885908,
          38.835737,
          38.911268,
          38.840107,
          38.7968,
          38.93212800000001,
          38.914204,
          38.912524,
          38.942146,
          38.942025,
          38.934405,
          38.888524,
          38.924144,
          38.902732,
          38.895955,
          38.900468,
          38.7859,
          38.836646,
          38.876227,
          38.857369,
          38.898925,
          38.899942,
          38.909701,
          38.869337,
          38.902386,
          38.858971,
          38.85725,
          38.8426,
          38.9003,
          38.917931,
          38.929464,
          38.926088,
          38.922925,
          38.9268,
          38.923203,
          38.9319,
          38.8767,
          38.90985,
          38.913046,
          38.9086,
          38.8963,
          38.900711,
          38.936684,
          38.9375,
          38.9346,
          38.90304,
          38.8896,
          38.9308,
          38.934267,
          38.878,
          38.862669,
          38.867373,
          38.8952,
          38.919077,
          38.9172,
          38.9249,
          38.8743,
          38.9154,
          38.9155,
          38.8763,
          38.9101,
          38.9057,
          38.905711,
          38.90276,
          38.899408,
          38.8851,
          38.8803,
          38.882915,
          38.9121,
          38.944551,
          38.9126,
          38.8792,
          38.938736,
          38.934881,
          38.947774,
          38.86578400000001,
          38.873057,
          38.886952,
          38.899632,
          38.886277,
          38.902221,
          38.933668,
          38.894919,
          38.886266,
          38.893028,
          38.897293,
          38.884,
          38.905067,
          38.947607,
          38.900427,
          38.897222,
          38.899032,
          38.905737,
          38.927872,
          38.903741,
          38.90375,
          38.878694,
          38.894758,
          38.916442,
          38.900283,
          38.8997,
          38.93251400000001,
          38.910972,
          38.899972,
          38.900412,
          38.900413,
          38.889955,
          38.8692,
          38.894832,
          38.91554,
          38.898364,
          38.894514,
          38.897283,
          38.902061,
          38.908905,
          38.895344,
          38.8923,
          38.90774,
          38.899983,
          38.903827,
          38.89696,
          38.897446,
          38.905607,
          38.922581,
          38.898409,
          38.844015,
          38.88412,
          38.897857,
          38.897315,
          38.8946,
          38.893438,
          38.891696,
          38.86559000000001,
          38.892459,
          38.889,
          38.920669,
          38.905996,
          38.9059,
          38.8881,
          38.88786,
          38.89968,
          38.886372,
          38.88412,
          38.881185,
          38.912719,
          38.9418,
          38.915417,
          38.928121,
          38.917761,
          38.930282,
          38.905126,
          38.88732,
          38.876393,
          38.850337,
          38.9024,
          38.885801,
          38.896355,
          38.878854,
          38.922649,
          38.928743,
          38.882788,
          38.88397,
          38.884734,
          38.888553,
          38.888767,
          38.87887,
          38.894573,
          38.89593,
          38.88081,
          38.881044,
          38.879819,
          38.883921,
          38.880012,
          38.90509,
          38.903584,
          38.903819,
          38.901539,
          38.902204,
          38.803124,
          38.804718,
          38.810743,
          38.805317,
          38.902,
          38.805648,
          38.811456,
          38.814577,
          38.805763,
          38.9066,
          38.89591400000001,
          38.90088,
          38.884961,
          38.88936500000001,
          38.888251,
          38.894722,
          38.90093,
          38.943837,
          38.954812,
          38.90547,
          38.863833,
          38.857803,
          38.846222,
          38.918809,
          38.956556,
          38.949662,
          38.942475,
          38.956432,
          38.860789,
          38.84736,
          38.84232,
          38.848454,
          38.90849,
          38.955016,
          38.908142,
          38.92333,
          38.889988,
          38.91265900000001,
          38.889908,
          38.897274,
          38.897195,
          38.928644,
          38.84323,
          38.903732,
          38.916787,
          38.865029,
          38.880705,
          38.867262,
          38.88737800000001,
          38.894851,
          38.917622,
          38.918155,
          38.892275,
          38.886978000000006,
          38.887312,
          38.927497,
          38.862478,
          38.981103,
          38.98954000000001,
          38.983525,
          38.921074,
          38.87501,
          38.920387,
          38.876737,
          38.992375,
          38.990639,
          38.923583,
          38.907333,
          38.898536,
          38.878433,
          38.999634,
          38.899703,
          38.837666,
          38.869418,
          38.941139,
          38.900358,
          38.920682,
          38.866471,
          38.839912,
          38.964992,
          38.903663,
          38.804378,
          38.894941,
          38.898243,
          38.897612,
          38.901755,
          38.801111,
          38.82175,
          38.802677,
          38.820064,
          38.820932,
          38.833077,
          38.890612,
          38.86555300000001
         ],
         "legendgroup": "6",
         "lon": [
          -77.034846,
          -77.039732,
          -77.041834,
          -76.99707,
          -77.043182,
          -77.00356,
          -77.06104300000001,
          -77.027025,
          -77.00366600000002,
          -77.02277,
          -76.974828,
          -76.9929,
          -76.983683,
          -77.08059,
          -77.076986,
          -77.044097,
          -77.05981700000002,
          -77.049468,
          -77.12767099999998,
          -77.084636,
          -77.03625,
          -77.036278,
          -77.093522,
          -77.03173699999998,
          -77.012365,
          -77.008133,
          -77.04154399999999,
          -77.048728,
          -77.0447,
          -77.032375,
          -77.049265,
          -77.02714,
          -77.02601,
          -77.065115,
          -77.003135,
          -77.086031,
          -77.061715,
          -77.062821,
          -77.017253,
          -77.049379,
          -77.038325,
          -77.0487,
          -77.06401600000002,
          -77.016006,
          -77.06309300000002,
          -77.05376600000002,
          -77.047783,
          -77.047844,
          -77.032224,
          -77.034451,
          -76.971923,
          -76.925907,
          -76.982359,
          -77.005965,
          -77.048947,
          -76.913563,
          -77.070862,
          -77.04069100000002,
          -77.034502,
          -76.990121,
          -77.11298199999997,
          -76.998405,
          -77.021741,
          -77.065149,
          -77.040787,
          -77.11106600000002,
          -77.103728,
          -77.05415500000002,
          -77.034674,
          -77.027112,
          -77.04564,
          -77.082089,
          -77.087128,
          -77.033234,
          -77.050264,
          -76.98185,
          -76.97556999999998,
          -76.97703,
          -77.0009,
          -77.00549699999998,
          -77.00223000000003,
          -77.01033000000002,
          -76.949709,
          -77.033381,
          -77.02523599999998,
          -77.0078,
          -77.02790999999998,
          -76.99602,
          -76.9834,
          -77.010837,
          -76.984512,
          -77.032956,
          -77.09629,
          -77.006072,
          -77.00103,
          -77.028357,
          -77.000736,
          -77.021467,
          -77.021392,
          -76.986813,
          -77.011616,
          -76.978627,
          -76.998273,
          -77.051833,
          -76.983221,
          -76.97963399999998,
          -76.991476,
          -76.983144,
          -77.041829,
          -76.9753,
          -77.0026,
          -77.0235,
          -77.022175,
          -77.008798,
          -77.038684,
          -77.018221,
          -77.032687,
          -76.913188,
          -77.002098,
          -76.99515,
          -76.967845,
          -76.947287,
          -77.0167,
          -76.993589,
          -76.94098100000002,
          -76.977688,
          -77.048852,
          -76.994897,
          -77.085646,
          -76.97851899999998,
          -77.005649,
          -77.05323,
          -77.05332,
          -77.0502,
          -77.0429,
          -77.032112,
          -77.027822,
          -77.036536,
          -77.04258100000001,
          -77.0322,
          -77.047637,
          -77.0388,
          -77.0178,
          -77.034438,
          -77.03200799999998,
          -77.0323,
          -77.045,
          -77.046449,
          -77.024181,
          -77.0328,
          -76.9955,
          -77.01902700000002,
          -76.9769,
          -77.0315,
          -77.057979,
          -76.9607,
          -76.994637,
          -76.988039,
          -77.0436,
          -77.000648,
          -77.0259,
          -77.0222,
          -77.0057,
          -77.0446,
          -77.0222,
          -77.0037,
          -77.0444,
          -77.0056,
          -77.047318,
          -77.03863,
          -77.015289,
          -77.0023,
          -76.9862,
          -76.98790699999998,
          -77.0387,
          -77.063896,
          -77.0135,
          -76.9953,
          -77.087171,
          -77.072755,
          -77.032818,
          -76.9784,
          -76.97101500000002,
          -76.996806,
          -77.031686,
          -77.028242,
          -77.059219,
          -76.991016,
          -77.046587,
          -77.02224100000002,
          -77.026013,
          -77.05556999999997,
          -76.995397,
          -77.041779,
          -77.079382,
          -76.98825,
          -77.019347,
          -77.033354,
          -77.02226999999998,
          -77.043358,
          -77.042452,
          -77.06269,
          -77.023054,
          -76.997114,
          -77.0682,
          -77.029822,
          -77.02308599999998,
          -76.992889,
          -77.00495,
          -76.998347,
          -77.001949,
          -76.982872,
          -77.000349,
          -76.9599,
          -76.987633,
          -77.03818000000003,
          -77.027869,
          -77.031617,
          -77.022191,
          -77.038322,
          -77.04478,
          -77.01610600000002,
          -77.0436,
          -77.071652,
          -76.991383,
          -77.053485,
          -77.00493,
          -77.009888,
          -77.027137,
          -77.070334,
          -77.032278,
          -77.050537,
          -77.04656999999997,
          -77.026975,
          -77.070993,
          -77.072305,
          -77.076389,
          -77.0846,
          -76.95210300000002,
          -77.04656700000002,
          -77.0925,
          -77.04368000000002,
          -77.03980200000002,
          -77.0325,
          -77.09308,
          -77.094875,
          -77.041539,
          -77.017701,
          -77.017445,
          -77.001828,
          -77.022155,
          -77.0251,
          -77.012289,
          -77.02379499999998,
          -77.04061999999998,
          -77.055599,
          -77.056887,
          -76.98356899999997,
          -77.10773499999998,
          -77.100989,
          -77.02622,
          -77.09774499999997,
          -77.078408,
          -77.00572700000002,
          -77.077271,
          -77.012457,
          -77.103148,
          -77.10783,
          -77.093485,
          -77.03242900000002,
          -77.02858,
          -77.1207,
          -77.01994,
          -77.08900600000003,
          -77.09079200000002,
          -77.11176800000001,
          -77.037413,
          -77.116817,
          -77.107854,
          -76.9941,
          -77.044789,
          -77.0284,
          -77.046564,
          -77.04337,
          -77.040363,
          -77.043363,
          -77.044664,
          -77.049883,
          -77.03353,
          -77.05293,
          -77.050276,
          -77.052808,
          -77.060627,
          -77.05152,
          -77.026064,
          -77.048911,
          -77.08776999999998,
          -77.077294,
          -77.049426,
          -77.045128,
          -77.018677,
          -77.077078,
          -77.082426,
          -77.00213000000002,
          -77.08031899999997,
          -77.086733,
          -77.069275,
          -77.04157099999998,
          -77.019814,
          -77.027333,
          -77.032678,
          -77.032947,
          -77.09586,
          -77.095431,
          -77.089555,
          -77.084918,
          -77.063586,
          -77.069956,
          -77.038359,
          -77.0352,
          -76.995193,
          -77.017669,
          -76.983326,
          -76.994749,
          -76.983575,
          -76.990955,
          -76.999376,
          -76.987211,
          -77.028139,
          -77.039511,
          -77.08596,
          -77.072315,
          -77.00195500000002,
          -77.02324,
          -77.01597,
          -77.004746,
          -77.013917,
          -77.013769,
          -77.025762,
          -76.997194,
          -77.08659899999998,
          -77.097426,
          -77.098029,
          -77.09536700000002,
          -77.031887,
          -77.0024,
          -77.025672,
          -76.99446800000003,
          -77.100104,
          -77.100239,
          -77.050046,
          -77.01536,
          -76.931862,
          -77.03023,
          -77.109647,
          -77.008911,
          -77.09482,
          -77.095596,
          -77.061977,
          -77.012108,
          -76.995876,
          -77.076131,
          -77.08708299999998,
          -77.103381,
          -77.06766800000003,
          -77.060866,
          -77.09169,
          -77.026235,
          -77.080851,
          -77.051084,
          -77.068952,
          -77.047494,
          -77.063562,
          -77.05761899999997,
          -77.053096,
          -77.059821,
          -77.084801,
          -77.05003
         ],
         "marker": {
          "color": "#EF553B",
          "size": [
           5,
           5,
           5,
           5,
           5,
           5,
           5,
           5,
           5,
           5,
           5,
           5,
           5,
           5,
           5,
           5,
           5,
           5,
           5,
           5,
           5,
           5,
           5,
           5,
           5,
           5,
           5,
           5,
           5,
           5,
           5,
           5,
           5,
           5,
           5,
           5,
           5,
           5,
           5,
           5,
           5,
           5,
           5,
           5,
           5,
           5,
           5,
           5,
           5,
           5,
           5,
           5,
           5,
           5,
           5,
           5,
           5,
           5,
           5,
           5,
           5,
           5,
           5,
           5,
           5,
           5,
           5,
           5,
           5,
           5,
           5,
           5,
           5,
           5,
           5,
           5,
           5,
           5,
           5,
           5,
           5,
           5,
           5,
           5,
           5,
           5,
           5,
           5,
           5,
           5,
           5,
           5,
           5,
           5,
           5,
           5,
           5,
           5,
           5,
           5,
           5,
           5,
           5,
           5,
           5,
           5,
           5,
           5,
           5,
           5,
           5,
           5,
           5,
           5,
           5,
           5,
           5,
           5,
           5,
           5,
           5,
           5,
           5,
           5,
           5,
           5,
           5,
           5,
           5,
           5,
           5,
           5,
           5,
           5,
           5,
           5,
           5,
           5,
           5,
           5,
           5,
           5,
           5,
           5,
           5,
           5,
           5,
           5,
           5,
           5,
           5,
           5,
           5,
           5,
           5,
           5,
           5,
           5,
           5,
           5,
           5,
           5,
           5,
           5,
           5,
           5,
           5,
           5,
           5,
           5,
           5,
           5,
           5,
           5,
           5,
           5,
           5,
           5,
           5,
           5,
           5,
           5,
           5,
           5,
           5,
           5,
           5,
           5,
           5,
           5,
           5,
           5,
           5,
           5,
           5,
           5,
           5,
           5,
           5,
           5,
           5,
           5,
           5,
           5,
           5,
           5,
           5,
           5,
           5,
           5,
           5,
           5,
           5,
           5,
           5,
           5,
           5,
           5,
           5,
           5,
           5,
           5,
           5,
           5,
           5,
           5,
           5,
           5,
           5,
           5,
           5,
           5,
           5,
           5,
           5,
           5,
           5,
           5,
           5,
           5,
           5,
           5,
           5,
           5,
           5,
           5,
           5,
           5,
           5,
           5,
           5,
           5,
           5,
           5,
           5,
           5,
           5,
           5,
           5,
           5,
           5,
           5,
           5,
           5,
           5,
           5,
           5,
           5,
           5,
           5,
           5,
           5,
           5,
           5,
           5,
           5,
           5,
           5,
           5,
           5,
           5,
           5,
           5,
           5,
           5,
           5,
           5,
           5,
           5,
           5,
           5,
           5,
           5,
           5,
           5,
           5,
           5,
           5,
           5,
           5,
           5,
           5,
           5,
           5,
           5,
           5,
           5,
           5,
           5,
           5,
           5,
           5,
           5,
           5,
           5,
           5,
           5,
           5,
           5,
           5,
           5,
           5,
           5,
           5,
           5,
           5,
           5,
           5,
           5,
           5,
           5,
           5,
           5,
           5,
           5,
           5,
           5,
           5,
           5,
           5,
           5,
           5,
           5,
           5,
           5,
           5,
           5,
           5,
           5,
           5,
           5,
           5,
           5,
           5,
           5,
           5,
           5,
           5,
           5,
           5,
           5,
           5,
           5,
           5,
           5,
           5,
           5,
           5,
           5,
           5,
           5,
           5,
           5,
           5,
           5,
           5,
           5,
           5
          ],
          "sizemode": "area",
          "sizeref": 0.05
         },
         "mode": "markers",
         "name": "6",
         "showlegend": true,
         "subplot": "mapbox",
         "type": "scattermapbox"
        },
        {
         "customdata": [
          [
           "Spring St & 2nd Ave"
          ],
          [
           "Amherst Ave & Elkins St"
          ],
          [
           "Grandview & Blueridge Ave"
          ],
          [
           "Windham Ln & Amherst Ave"
          ],
          [
           "Blueridge Ave & Elkin St"
          ],
          [
           "Garland Ave & Walden Rd"
          ],
          [
           "Perry & 35th St"
          ],
          [
           "Oglethorpe St & 42nd Ave"
          ],
          [
           "New Hampshire Ave & East-West Hwy"
          ],
          [
           "Riggs Rd & East West Hwy"
          ],
          [
           "The Mall at Prince Georges"
          ],
          [
           "Wheaton Library & Community Rec Center"
          ],
          [
           "Philadelphia & Maple Ave"
          ],
          [
           "Dennis Ave & Amherst Ave"
          ],
          [
           "Carroll & Ethan Allen Ave"
          ],
          [
           "Silver Spring Transit Center - Top Level"
          ],
          [
           "Takoma Metro"
          ],
          [
           "WAU / Flower Ave & Division St"
          ]
         ],
         "hovertemplate": "<b>%{hovertext}</b><br><br>hdbscan=7<br>size=%{marker.size}<br>LATITUDE=%{lat}<br>LONGITUDE=%{lon}<br>node_ids=%{customdata[0]}<extra></extra>",
         "hovertext": [
          "Spring St & 2nd Ave",
          "Amherst Ave & Elkins St",
          "Grandview & Blueridge Ave",
          "Windham Ln & Amherst Ave",
          "Blueridge Ave & Elkin St",
          "Garland Ave & Walden Rd",
          "Perry & 35th St",
          "Oglethorpe St & 42nd Ave",
          "New Hampshire Ave & East-West Hwy",
          "Riggs Rd & East West Hwy",
          "The Mall at Prince Georges",
          "Wheaton Library & Community Rec Center",
          "Philadelphia & Maple Ave",
          "Dennis Ave & Amherst Ave",
          "Carroll & Ethan Allen Ave",
          "Silver Spring Transit Center - Top Level",
          "Takoma Metro",
          "WAU / Flower Ave & Division St"
         ],
         "lat": [
          38.997653,
          39.044887,
          39.043272,
          39.032029,
          39.04313,
          39.00048,
          38.936213,
          38.959361,
          38.974205,
          38.9725,
          38.968842,
          39.047323,
          38.98128,
          39.025387,
          38.977933,
          38.994035,
          38.975219,
          38.986743
         ],
         "legendgroup": "7",
         "lon": [
          -77.034499,
          -77.047788,
          -77.053085,
          -77.04735,
          -77.05006,
          -77.00076999999997,
          -76.960054,
          -76.946361,
          -76.995227,
          -76.9807,
          -76.954171,
          -77.051097,
          -77.011336,
          -77.044563,
          -77.006472,
          -77.030371,
          -77.016855,
          -77.000035
         ],
         "marker": {
          "color": "#00CC96",
          "size": [
           5,
           5,
           5,
           5,
           5,
           5,
           5,
           5,
           5,
           5,
           5,
           5,
           5,
           5,
           5,
           5,
           5,
           5
          ],
          "sizemode": "area",
          "sizeref": 0.05
         },
         "mode": "markers",
         "name": "7",
         "showlegend": true,
         "subplot": "mapbox",
         "type": "scattermapbox"
        },
        {
         "customdata": [
          [
           "Key West Ave & Siesta Key Way"
          ],
          [
           "Shady Grove Metro East"
          ],
          [
           "Columbus Ave & Tribeca St"
          ],
          [
           "Columbus Ave & Gramercy Blvd"
          ],
          [
           "Key West Ave & Great Seneca Hwy"
          ],
          [
           "Corporate Blvd & Omega Dr"
          ],
          [
           "Key West Ave & Diamondback Dr"
          ],
          [
           "Fallsgrove Blvd & Fallsgrove Dr"
          ],
          [
           "Traville Gateway Dr & Gudelsky Dr"
          ],
          [
           "E Montgomery Ave & Maryland Ave"
          ],
          [
           "Frederick Ave & Horners Ln"
          ],
          [
           "Crabbs Branch Way & Redland Rd"
          ],
          [
           "Fallsgrove Dr & W Montgomery Ave"
          ],
          [
           "Monroe St & Monroe Pl"
          ],
          [
           "Needwood Rd & Eagles Head Ct"
          ],
          [
           "Crabbs Branch Way & Calhoun Pl"
          ],
          [
           "Montgomery College / W Campus Dr & Mannakee St"
          ],
          [
           "Broschart & Blackwell Rd"
          ],
          [
           "Fleet St & Ritchie Pkwy"
          ],
          [
           "Piccard & W Gude Dr"
          ],
          [
           "King Farm Blvd & Pleasant Dr"
          ],
          [
           "King Farm Blvd & Piccard Dr"
          ],
          [
           "Medical Center Dr & Key West Ave"
          ],
          [
           "Shady Grove Hospital"
          ],
          [
           "Rockville Metro East"
          ],
          [
           "Shady Grove Metro West"
          ],
          [
           "Rockville Metro West"
          ]
         ],
         "hovertemplate": "<b>%{hovertext}</b><br><br>hdbscan=4<br>size=%{marker.size}<br>LATITUDE=%{lat}<br>LONGITUDE=%{lon}<br>node_ids=%{customdata[0]}<extra></extra>",
         "hovertext": [
          "Key West Ave & Siesta Key Way",
          "Shady Grove Metro East",
          "Columbus Ave & Tribeca St",
          "Columbus Ave & Gramercy Blvd",
          "Key West Ave & Great Seneca Hwy",
          "Corporate Blvd & Omega Dr",
          "Key West Ave & Diamondback Dr",
          "Fallsgrove Blvd & Fallsgrove Dr",
          "Traville Gateway Dr & Gudelsky Dr",
          "E Montgomery Ave & Maryland Ave",
          "Frederick Ave & Horners Ln",
          "Crabbs Branch Way & Redland Rd",
          "Fallsgrove Dr & W Montgomery Ave",
          "Monroe St & Monroe Pl",
          "Needwood Rd & Eagles Head Ct",
          "Crabbs Branch Way & Calhoun Pl",
          "Montgomery College / W Campus Dr & Mannakee St",
          "Broschart & Blackwell Rd",
          "Fleet St & Ritchie Pkwy",
          "Piccard & W Gude Dr",
          "King Farm Blvd & Pleasant Dr",
          "King Farm Blvd & Piccard Dr",
          "Medical Center Dr & Key West Ave",
          "Shady Grove Hospital",
          "Rockville Metro East",
          "Shady Grove Metro West",
          "Rockville Metro West"
         ],
         "lat": [
          39.105295,
          39.121327,
          39.126,
          39.12333,
          39.105642,
          39.106971,
          39.106152,
          39.096312,
          39.093783,
          39.084125,
          39.094772,
          39.12004500000001,
          39.099376,
          39.083673,
          39.123513,
          39.107709,
          39.095661,
          39.102099,
          39.076331,
          39.102212,
          39.114688,
          39.110314,
          39.103091,
          39.097636,
          39.085394,
          39.119765,
          39.084379
         ],
         "legendgroup": "4",
         "lon": [
          -77.194774,
          -77.164969,
          -77.1673,
          -77.16486,
          -77.20385999999998,
          -77.192645,
          -77.202354,
          -77.192672,
          -77.202501,
          -77.151291,
          -77.145213,
          -77.15698499999998,
          -77.188014,
          -77.149162,
          -77.15741,
          -77.152072,
          -77.159048,
          -77.200322,
          -77.141378,
          -77.177091,
          -77.171487,
          -77.18266899999998,
          -77.196442,
          -77.196636,
          -77.145803,
          -77.166093,
          -77.146866
         ],
         "marker": {
          "color": "#AB63FA",
          "size": [
           5,
           5,
           5,
           5,
           5,
           5,
           5,
           5,
           5,
           5,
           5,
           5,
           5,
           5,
           5,
           5,
           5,
           5,
           5,
           5,
           5,
           5,
           5,
           5,
           5,
           5,
           5
          ],
          "sizemode": "area",
          "sizeref": 0.05
         },
         "mode": "markers",
         "name": "4",
         "showlegend": true,
         "subplot": "mapbox",
         "type": "scattermapbox"
        },
        {
         "customdata": [
          [
           "East Falls Church Metro / Sycamore St & 19th St N"
          ],
          [
           "Westover Library / Washington Blvd & N McKinley Rd"
          ],
          [
           "George Mason High School / Haycock Rd & Leesburg Pike"
          ],
          [
           "State Theatre / Park Pl & N Washington St"
          ],
          [
           "N Oak St & W Broad St"
          ],
          [
           "Pennsylvania Ave & Park Ave"
          ],
          [
           "E Fairfax St & S Washington St"
          ],
          [
           "N Roosevelt St & Roosevelt Blvd"
          ],
          [
           "W Broad St & Little Falls St"
          ],
          [
           "S Maple Ave & S Washington St"
          ],
          [
           "Falls Church City Hall / Park Ave & Little Falls St"
          ],
          [
           "W Columbia St & N Washington St"
          ],
          [
           "West Falls Church Metro"
          ]
         ],
         "hovertemplate": "<b>%{hovertext}</b><br><br>hdbscan=3<br>size=%{marker.size}<br>LATITUDE=%{lat}<br>LONGITUDE=%{lon}<br>node_ids=%{customdata[0]}<extra></extra>",
         "hovertext": [
          "East Falls Church Metro / Sycamore St & 19th St N",
          "Westover Library / Washington Blvd & N McKinley Rd",
          "George Mason High School / Haycock Rd & Leesburg Pike",
          "State Theatre / Park Pl & N Washington St",
          "N Oak St & W Broad St",
          "Pennsylvania Ave & Park Ave",
          "E Fairfax St & S Washington St",
          "N Roosevelt St & Roosevelt Blvd",
          "W Broad St & Little Falls St",
          "S Maple Ave & S Washington St",
          "Falls Church City Hall / Park Ave & Little Falls St",
          "W Columbia St & N Washington St",
          "West Falls Church Metro"
         ],
         "lat": [
          38.88532100000001,
          38.886048,
          38.895172,
          38.882746,
          38.88837,
          38.887403000000006,
          38.880612,
          38.878085,
          38.883601,
          38.87972,
          38.885434,
          38.885621,
          38.9001
         ],
         "legendgroup": "3",
         "lon": [
          -77.15642700000002,
          -77.142317,
          -77.190275,
          -77.17003199999998,
          -77.17983199999998,
          -77.176992,
          -77.171891,
          -77.153953,
          -77.173438,
          -77.17840799999998,
          -77.17360500000002,
          -77.166917,
          -77.1887
         ],
         "marker": {
          "color": "#FFA15A",
          "size": [
           5,
           5,
           5,
           5,
           5,
           5,
           5,
           5,
           5,
           5,
           5,
           5,
           5
          ],
          "sizemode": "area",
          "sizeref": 0.05
         },
         "mode": "markers",
         "name": "3",
         "showlegend": true,
         "subplot": "mapbox",
         "type": "scattermapbox"
        },
        {
         "customdata": [
          [
           "Spring Hill Metro"
          ],
          [
           "Westpark Dr & Leesburg Pike"
          ],
          [
           "Tysons One Pl & Chain Bridge Rd"
          ],
          [
           "Tysons Corner Station"
          ],
          [
           "Westpark & Jones Branch Dr"
          ],
          [
           "Jones Branch & Westbranch Dr"
          ],
          [
           "Westpark & Park Run Dr"
          ],
          [
           "Tysons West Transit Center"
          ],
          [
           "Greensboro & International Dr"
          ],
          [
           "Towers Crescent Dr & Tysons One Pl"
          ],
          [
           "Greensboro & Pinnacle Dr"
          ],
          [
           "Park Run & Onyx Dr"
          ],
          [
           "McLean Metro"
          ],
          [
           "Jones Branch Drive & Scotts Crossing Rd"
          ]
         ],
         "hovertemplate": "<b>%{hovertext}</b><br><br>hdbscan=1<br>size=%{marker.size}<br>LATITUDE=%{lat}<br>LONGITUDE=%{lon}<br>node_ids=%{customdata[0]}<extra></extra>",
         "hovertext": [
          "Spring Hill Metro",
          "Westpark Dr & Leesburg Pike",
          "Tysons One Pl & Chain Bridge Rd",
          "Tysons Corner Station",
          "Westpark & Jones Branch Dr",
          "Jones Branch & Westbranch Dr",
          "Westpark & Park Run Dr",
          "Tysons West Transit Center",
          "Greensboro & International Dr",
          "Towers Crescent Dr & Tysons One Pl",
          "Greensboro & Pinnacle Dr",
          "Park Run & Onyx Dr",
          "McLean Metro",
          "Jones Branch Drive & Scotts Crossing Rd"
         ],
         "lat": [
          38.929261,
          38.92403,
          38.919475,
          38.920939,
          38.924437,
          38.931911,
          38.928919,
          38.932636,
          38.923083,
          38.915246,
          38.92245,
          38.92755,
          38.924002,
          38.928502
         ],
         "legendgroup": "1",
         "lon": [
          -77.240654,
          -77.235955,
          -77.221179,
          -77.222115,
          -77.217664,
          -77.219261,
          -77.225394,
          -77.231825,
          -77.227417,
          -77.220157,
          -77.23034,
          -77.226644,
          -77.208127,
          -77.215624
         ],
         "marker": {
          "color": "#19D3F3",
          "size": [
           5,
           5,
           5,
           5,
           5,
           5,
           5,
           5,
           5,
           5,
           5,
           5,
           5,
           5
          ],
          "sizemode": "area",
          "sizeref": 0.05
         },
         "mode": "markers",
         "name": "1",
         "showlegend": true,
         "subplot": "mapbox",
         "type": "scattermapbox"
        },
        {
         "customdata": [
          [
           "North Shore & Cameron Crescent Dr/Crescent Apartments"
          ],
          [
           "Town Center Pkwy & Bowman Towne Dr"
          ],
          [
           "Reston Regional Library"
          ],
          [
           "New Dominion Pkwy & Fountain Dr"
          ],
          [
           "Sunset Hills & Old Reston Ave"
          ],
          [
           "Reston Town Center Transit Station"
          ],
          [
           "Wiehle Ave & Reston Station Blvd"
          ],
          [
           "Library St & Freedom Dr"
          ],
          [
           "Sunset Hills Rd & Discovery Square"
          ],
          [
           "Temporary Rd & Old Reston Ave"
          ],
          [
           "Reston YMCA"
          ],
          [
           "Sunset Hills Rd & Isaac Newton Square"
          ],
          [
           "North Shore Dr & Village Rd"
          ],
          [
           "Town Center Pkwy & Sunset Hills Rd"
          ],
          [
           "Reston Pkwy & Spectrum Dr"
          ],
          [
           "Campus Commons"
          ],
          [
           "Vy Reston Heights"
          ]
         ],
         "hovertemplate": "<b>%{hovertext}</b><br><br>hdbscan=2<br>size=%{marker.size}<br>LATITUDE=%{lat}<br>LONGITUDE=%{lon}<br>node_ids=%{customdata[0]}<extra></extra>",
         "hovertext": [
          "North Shore & Cameron Crescent Dr/Crescent Apartments",
          "Town Center Pkwy & Bowman Towne Dr",
          "Reston Regional Library",
          "New Dominion Pkwy & Fountain Dr",
          "Sunset Hills & Old Reston Ave",
          "Reston Town Center Transit Station",
          "Wiehle Ave & Reston Station Blvd",
          "Library St & Freedom Dr",
          "Sunset Hills Rd & Discovery Square",
          "Temporary Rd & Old Reston Ave",
          "Reston YMCA",
          "Sunset Hills Rd & Isaac Newton Square",
          "North Shore Dr & Village Rd",
          "Town Center Pkwy & Sunset Hills Rd",
          "Reston Pkwy & Spectrum Dr",
          "Campus Commons",
          "Vy Reston Heights"
         ],
         "lat": [
          38.970046,
          38.962524,
          38.962095,
          38.960574,
          38.955079,
          38.957037,
          38.94660800000001,
          38.959633,
          38.95534,
          38.960084,
          38.955314,
          38.951443,
          38.970412,
          38.955171,
          38.964208,
          38.944707,
          38.949008
         ],
         "legendgroup": "2",
         "lon": [
          -77.338686,
          -77.361902,
          -77.358815,
          -77.356324,
          -77.351649,
          -77.359718,
          -77.339391,
          -77.35874100000002,
          -77.357611,
          -77.353414,
          -77.368416,
          -77.340377,
          -77.340787,
          -77.36309399999998,
          -77.35428,
          -77.335425,
          -77.355299
         ],
         "marker": {
          "color": "#FF6692",
          "size": [
           5,
           5,
           5,
           5,
           5,
           5,
           5,
           5,
           5,
           5,
           5,
           5,
           5,
           5,
           5,
           5,
           5
          ],
          "sizemode": "area",
          "sizeref": 0.05
         },
         "mode": "markers",
         "name": "2",
         "showlegend": true,
         "subplot": "mapbox",
         "type": "scattermapbox"
        },
        {
         "customdata": [
          [
           "White Flint Metro"
          ],
          [
           "Citadel Ave & McGrath Blvd"
          ],
          [
           "Rockville Pike & Old Georgetown Rd"
          ],
          [
           "Woodglen Dr & Executive Blvd"
          ],
          [
           "Executive Blvd & E Jefferson St"
          ],
          [
           "Congressional Ln & E Jefferson St"
          ],
          [
           "Rockville Pike & Meeting St"
          ]
         ],
         "hovertemplate": "<b>%{hovertext}</b><br><br>hdbscan=5<br>size=%{marker.size}<br>LATITUDE=%{lat}<br>LONGITUDE=%{lon}<br>node_ids=%{customdata[0]}<extra></extra>",
         "hovertext": [
          "White Flint Metro",
          "Citadel Ave & McGrath Blvd",
          "Rockville Pike & Old Georgetown Rd",
          "Woodglen Dr & Executive Blvd",
          "Executive Blvd & E Jefferson St",
          "Congressional Ln & E Jefferson St",
          "Rockville Pike & Meeting St"
         ],
         "lat": [
          39.04753,
          39.049,
          39.049765,
          39.04317,
          39.04873,
          39.06219,
          39.050539
         ],
         "legendgroup": "5",
         "lon": [
          -77.11287,
          -77.10933,
          -77.11368,
          -77.1135,
          -77.1257,
          -77.129235,
          -77.115212
         ],
         "marker": {
          "color": "#B6E880",
          "size": [
           5,
           5,
           5,
           5,
           5,
           5,
           5
          ],
          "sizemode": "area",
          "sizeref": 0.05
         },
         "mode": "markers",
         "name": "5",
         "showlegend": true,
         "subplot": "mapbox",
         "type": "scattermapbox"
        },
        {
         "customdata": [
          [
           "Briggs Chaney & Castle Dr"
          ],
          [
           "White Oak Rec Center"
          ],
          [
           "Briggs Chaney Park & Ride"
          ],
          [
           "Stewart & April"
          ],
          [
           "Stewart Ln & Old Columbia Pike"
          ],
          [
           "Castle Blvd & Castle Ln"
          ],
          [
           "Oak Leaf & Lockwood"
          ],
          [
           "White Oak Transit Center"
          ]
         ],
         "hovertemplate": "<b>%{hovertext}</b><br><br>hdbscan=0<br>size=%{marker.size}<br>LATITUDE=%{lat}<br>LONGITUDE=%{lon}<br>node_ids=%{customdata[0]}<extra></extra>",
         "hovertext": [
          "Briggs Chaney & Castle Dr",
          "White Oak Rec Center",
          "Briggs Chaney Park & Ride",
          "Stewart & April",
          "Stewart Ln & Old Columbia Pike",
          "Castle Blvd & Castle Ln",
          "Oak Leaf & Lockwood",
          "White Oak Transit Center"
         ],
         "lat": [
          39.081638,
          39.046144,
          39.077875,
          39.044944,
          39.045652,
          39.085314,
          39.037981,
          39.04104
         ],
         "legendgroup": "0",
         "lon": [
          -76.945495,
          -76.975723,
          -76.941867,
          -76.981155,
          -76.985438,
          -76.940547,
          -76.994539,
          -76.987125
         ],
         "marker": {
          "color": "#FF97FF",
          "size": [
           5,
           5,
           5,
           5,
           5,
           5,
           5,
           5
          ],
          "sizemode": "area",
          "sizeref": 0.05
         },
         "mode": "markers",
         "name": "0",
         "showlegend": true,
         "subplot": "mapbox",
         "type": "scattermapbox"
        }
       ],
       "layout": {
        "height": 600,
        "legend": {
         "itemsizing": "constant",
         "title": {
          "text": "hdbscan"
         },
         "tracegroupgap": 0
        },
        "mapbox": {
         "center": {
          "lat": 38.917685412969284,
          "lon": -77.05739412798634
         },
         "domain": {
          "x": [
           0,
           1
          ],
          "y": [
           0,
           1
          ]
         },
         "style": "carto-positron",
         "zoom": 10
        },
        "margin": {
         "b": 0,
         "l": 0,
         "r": 0,
         "t": 0
        },
        "template": {
         "data": {
          "bar": [
           {
            "error_x": {
             "color": "#2a3f5f"
            },
            "error_y": {
             "color": "#2a3f5f"
            },
            "marker": {
             "line": {
              "color": "#E5ECF6",
              "width": 0.5
             }
            },
            "type": "bar"
           }
          ],
          "barpolar": [
           {
            "marker": {
             "line": {
              "color": "#E5ECF6",
              "width": 0.5
             }
            },
            "type": "barpolar"
           }
          ],
          "carpet": [
           {
            "aaxis": {
             "endlinecolor": "#2a3f5f",
             "gridcolor": "white",
             "linecolor": "white",
             "minorgridcolor": "white",
             "startlinecolor": "#2a3f5f"
            },
            "baxis": {
             "endlinecolor": "#2a3f5f",
             "gridcolor": "white",
             "linecolor": "white",
             "minorgridcolor": "white",
             "startlinecolor": "#2a3f5f"
            },
            "type": "carpet"
           }
          ],
          "choropleth": [
           {
            "colorbar": {
             "outlinewidth": 0,
             "ticks": ""
            },
            "type": "choropleth"
           }
          ],
          "contour": [
           {
            "colorbar": {
             "outlinewidth": 0,
             "ticks": ""
            },
            "colorscale": [
             [
              0,
              "#0d0887"
             ],
             [
              0.1111111111111111,
              "#46039f"
             ],
             [
              0.2222222222222222,
              "#7201a8"
             ],
             [
              0.3333333333333333,
              "#9c179e"
             ],
             [
              0.4444444444444444,
              "#bd3786"
             ],
             [
              0.5555555555555556,
              "#d8576b"
             ],
             [
              0.6666666666666666,
              "#ed7953"
             ],
             [
              0.7777777777777778,
              "#fb9f3a"
             ],
             [
              0.8888888888888888,
              "#fdca26"
             ],
             [
              1,
              "#f0f921"
             ]
            ],
            "type": "contour"
           }
          ],
          "contourcarpet": [
           {
            "colorbar": {
             "outlinewidth": 0,
             "ticks": ""
            },
            "type": "contourcarpet"
           }
          ],
          "heatmap": [
           {
            "colorbar": {
             "outlinewidth": 0,
             "ticks": ""
            },
            "colorscale": [
             [
              0,
              "#0d0887"
             ],
             [
              0.1111111111111111,
              "#46039f"
             ],
             [
              0.2222222222222222,
              "#7201a8"
             ],
             [
              0.3333333333333333,
              "#9c179e"
             ],
             [
              0.4444444444444444,
              "#bd3786"
             ],
             [
              0.5555555555555556,
              "#d8576b"
             ],
             [
              0.6666666666666666,
              "#ed7953"
             ],
             [
              0.7777777777777778,
              "#fb9f3a"
             ],
             [
              0.8888888888888888,
              "#fdca26"
             ],
             [
              1,
              "#f0f921"
             ]
            ],
            "type": "heatmap"
           }
          ],
          "heatmapgl": [
           {
            "colorbar": {
             "outlinewidth": 0,
             "ticks": ""
            },
            "colorscale": [
             [
              0,
              "#0d0887"
             ],
             [
              0.1111111111111111,
              "#46039f"
             ],
             [
              0.2222222222222222,
              "#7201a8"
             ],
             [
              0.3333333333333333,
              "#9c179e"
             ],
             [
              0.4444444444444444,
              "#bd3786"
             ],
             [
              0.5555555555555556,
              "#d8576b"
             ],
             [
              0.6666666666666666,
              "#ed7953"
             ],
             [
              0.7777777777777778,
              "#fb9f3a"
             ],
             [
              0.8888888888888888,
              "#fdca26"
             ],
             [
              1,
              "#f0f921"
             ]
            ],
            "type": "heatmapgl"
           }
          ],
          "histogram": [
           {
            "marker": {
             "colorbar": {
              "outlinewidth": 0,
              "ticks": ""
             }
            },
            "type": "histogram"
           }
          ],
          "histogram2d": [
           {
            "colorbar": {
             "outlinewidth": 0,
             "ticks": ""
            },
            "colorscale": [
             [
              0,
              "#0d0887"
             ],
             [
              0.1111111111111111,
              "#46039f"
             ],
             [
              0.2222222222222222,
              "#7201a8"
             ],
             [
              0.3333333333333333,
              "#9c179e"
             ],
             [
              0.4444444444444444,
              "#bd3786"
             ],
             [
              0.5555555555555556,
              "#d8576b"
             ],
             [
              0.6666666666666666,
              "#ed7953"
             ],
             [
              0.7777777777777778,
              "#fb9f3a"
             ],
             [
              0.8888888888888888,
              "#fdca26"
             ],
             [
              1,
              "#f0f921"
             ]
            ],
            "type": "histogram2d"
           }
          ],
          "histogram2dcontour": [
           {
            "colorbar": {
             "outlinewidth": 0,
             "ticks": ""
            },
            "colorscale": [
             [
              0,
              "#0d0887"
             ],
             [
              0.1111111111111111,
              "#46039f"
             ],
             [
              0.2222222222222222,
              "#7201a8"
             ],
             [
              0.3333333333333333,
              "#9c179e"
             ],
             [
              0.4444444444444444,
              "#bd3786"
             ],
             [
              0.5555555555555556,
              "#d8576b"
             ],
             [
              0.6666666666666666,
              "#ed7953"
             ],
             [
              0.7777777777777778,
              "#fb9f3a"
             ],
             [
              0.8888888888888888,
              "#fdca26"
             ],
             [
              1,
              "#f0f921"
             ]
            ],
            "type": "histogram2dcontour"
           }
          ],
          "mesh3d": [
           {
            "colorbar": {
             "outlinewidth": 0,
             "ticks": ""
            },
            "type": "mesh3d"
           }
          ],
          "parcoords": [
           {
            "line": {
             "colorbar": {
              "outlinewidth": 0,
              "ticks": ""
             }
            },
            "type": "parcoords"
           }
          ],
          "pie": [
           {
            "automargin": true,
            "type": "pie"
           }
          ],
          "scatter": [
           {
            "marker": {
             "colorbar": {
              "outlinewidth": 0,
              "ticks": ""
             }
            },
            "type": "scatter"
           }
          ],
          "scatter3d": [
           {
            "line": {
             "colorbar": {
              "outlinewidth": 0,
              "ticks": ""
             }
            },
            "marker": {
             "colorbar": {
              "outlinewidth": 0,
              "ticks": ""
             }
            },
            "type": "scatter3d"
           }
          ],
          "scattercarpet": [
           {
            "marker": {
             "colorbar": {
              "outlinewidth": 0,
              "ticks": ""
             }
            },
            "type": "scattercarpet"
           }
          ],
          "scattergeo": [
           {
            "marker": {
             "colorbar": {
              "outlinewidth": 0,
              "ticks": ""
             }
            },
            "type": "scattergeo"
           }
          ],
          "scattergl": [
           {
            "marker": {
             "colorbar": {
              "outlinewidth": 0,
              "ticks": ""
             }
            },
            "type": "scattergl"
           }
          ],
          "scattermapbox": [
           {
            "marker": {
             "colorbar": {
              "outlinewidth": 0,
              "ticks": ""
             }
            },
            "type": "scattermapbox"
           }
          ],
          "scatterpolar": [
           {
            "marker": {
             "colorbar": {
              "outlinewidth": 0,
              "ticks": ""
             }
            },
            "type": "scatterpolar"
           }
          ],
          "scatterpolargl": [
           {
            "marker": {
             "colorbar": {
              "outlinewidth": 0,
              "ticks": ""
             }
            },
            "type": "scatterpolargl"
           }
          ],
          "scatterternary": [
           {
            "marker": {
             "colorbar": {
              "outlinewidth": 0,
              "ticks": ""
             }
            },
            "type": "scatterternary"
           }
          ],
          "surface": [
           {
            "colorbar": {
             "outlinewidth": 0,
             "ticks": ""
            },
            "colorscale": [
             [
              0,
              "#0d0887"
             ],
             [
              0.1111111111111111,
              "#46039f"
             ],
             [
              0.2222222222222222,
              "#7201a8"
             ],
             [
              0.3333333333333333,
              "#9c179e"
             ],
             [
              0.4444444444444444,
              "#bd3786"
             ],
             [
              0.5555555555555556,
              "#d8576b"
             ],
             [
              0.6666666666666666,
              "#ed7953"
             ],
             [
              0.7777777777777778,
              "#fb9f3a"
             ],
             [
              0.8888888888888888,
              "#fdca26"
             ],
             [
              1,
              "#f0f921"
             ]
            ],
            "type": "surface"
           }
          ],
          "table": [
           {
            "cells": {
             "fill": {
              "color": "#EBF0F8"
             },
             "line": {
              "color": "white"
             }
            },
            "header": {
             "fill": {
              "color": "#C8D4E3"
             },
             "line": {
              "color": "white"
             }
            },
            "type": "table"
           }
          ]
         },
         "layout": {
          "annotationdefaults": {
           "arrowcolor": "#2a3f5f",
           "arrowhead": 0,
           "arrowwidth": 1
          },
          "autotypenumbers": "strict",
          "coloraxis": {
           "colorbar": {
            "outlinewidth": 0,
            "ticks": ""
           }
          },
          "colorscale": {
           "diverging": [
            [
             0,
             "#8e0152"
            ],
            [
             0.1,
             "#c51b7d"
            ],
            [
             0.2,
             "#de77ae"
            ],
            [
             0.3,
             "#f1b6da"
            ],
            [
             0.4,
             "#fde0ef"
            ],
            [
             0.5,
             "#f7f7f7"
            ],
            [
             0.6,
             "#e6f5d0"
            ],
            [
             0.7,
             "#b8e186"
            ],
            [
             0.8,
             "#7fbc41"
            ],
            [
             0.9,
             "#4d9221"
            ],
            [
             1,
             "#276419"
            ]
           ],
           "sequential": [
            [
             0,
             "#0d0887"
            ],
            [
             0.1111111111111111,
             "#46039f"
            ],
            [
             0.2222222222222222,
             "#7201a8"
            ],
            [
             0.3333333333333333,
             "#9c179e"
            ],
            [
             0.4444444444444444,
             "#bd3786"
            ],
            [
             0.5555555555555556,
             "#d8576b"
            ],
            [
             0.6666666666666666,
             "#ed7953"
            ],
            [
             0.7777777777777778,
             "#fb9f3a"
            ],
            [
             0.8888888888888888,
             "#fdca26"
            ],
            [
             1,
             "#f0f921"
            ]
           ],
           "sequentialminus": [
            [
             0,
             "#0d0887"
            ],
            [
             0.1111111111111111,
             "#46039f"
            ],
            [
             0.2222222222222222,
             "#7201a8"
            ],
            [
             0.3333333333333333,
             "#9c179e"
            ],
            [
             0.4444444444444444,
             "#bd3786"
            ],
            [
             0.5555555555555556,
             "#d8576b"
            ],
            [
             0.6666666666666666,
             "#ed7953"
            ],
            [
             0.7777777777777778,
             "#fb9f3a"
            ],
            [
             0.8888888888888888,
             "#fdca26"
            ],
            [
             1,
             "#f0f921"
            ]
           ]
          },
          "colorway": [
           "#636efa",
           "#EF553B",
           "#00cc96",
           "#ab63fa",
           "#FFA15A",
           "#19d3f3",
           "#FF6692",
           "#B6E880",
           "#FF97FF",
           "#FECB52"
          ],
          "font": {
           "color": "#2a3f5f"
          },
          "geo": {
           "bgcolor": "white",
           "lakecolor": "white",
           "landcolor": "#E5ECF6",
           "showlakes": true,
           "showland": true,
           "subunitcolor": "white"
          },
          "hoverlabel": {
           "align": "left"
          },
          "hovermode": "closest",
          "mapbox": {
           "style": "light"
          },
          "paper_bgcolor": "white",
          "plot_bgcolor": "#E5ECF6",
          "polar": {
           "angularaxis": {
            "gridcolor": "white",
            "linecolor": "white",
            "ticks": ""
           },
           "bgcolor": "#E5ECF6",
           "radialaxis": {
            "gridcolor": "white",
            "linecolor": "white",
            "ticks": ""
           }
          },
          "scene": {
           "xaxis": {
            "backgroundcolor": "#E5ECF6",
            "gridcolor": "white",
            "gridwidth": 2,
            "linecolor": "white",
            "showbackground": true,
            "ticks": "",
            "zerolinecolor": "white"
           },
           "yaxis": {
            "backgroundcolor": "#E5ECF6",
            "gridcolor": "white",
            "gridwidth": 2,
            "linecolor": "white",
            "showbackground": true,
            "ticks": "",
            "zerolinecolor": "white"
           },
           "zaxis": {
            "backgroundcolor": "#E5ECF6",
            "gridcolor": "white",
            "gridwidth": 2,
            "linecolor": "white",
            "showbackground": true,
            "ticks": "",
            "zerolinecolor": "white"
           }
          },
          "shapedefaults": {
           "line": {
            "color": "#2a3f5f"
           }
          },
          "ternary": {
           "aaxis": {
            "gridcolor": "white",
            "linecolor": "white",
            "ticks": ""
           },
           "baxis": {
            "gridcolor": "white",
            "linecolor": "white",
            "ticks": ""
           },
           "bgcolor": "#E5ECF6",
           "caxis": {
            "gridcolor": "white",
            "linecolor": "white",
            "ticks": ""
           }
          },
          "title": {
           "x": 0.05
          },
          "xaxis": {
           "automargin": true,
           "gridcolor": "white",
           "linecolor": "white",
           "ticks": "",
           "title": {
            "standoff": 15
           },
           "zerolinecolor": "white",
           "zerolinewidth": 2
          },
          "yaxis": {
           "automargin": true,
           "gridcolor": "white",
           "linecolor": "white",
           "ticks": "",
           "title": {
            "standoff": 15
           },
           "zerolinecolor": "white",
           "zerolinewidth": 2
          }
         }
        },
        "width": 700
       }
      },
      "text/html": [
       "<div>                            <div id=\"4290aeab-229a-4973-86fc-5fa959539367\" class=\"plotly-graph-div\" style=\"height:600px; width:700px;\"></div>            <script type=\"text/javascript\">                require([\"plotly\"], function(Plotly) {                    window.PLOTLYENV=window.PLOTLYENV || {};                                    if (document.getElementById(\"4290aeab-229a-4973-86fc-5fa959539367\")) {                    Plotly.newPlot(                        \"4290aeab-229a-4973-86fc-5fa959539367\",                        [{\"customdata\": [[\"Connecticut Ave & McKinley St NW\"], [\"Joyce St & 16th St S\"], [\"Lee Hwy & N Monroe St\"], [\"21st St & N Pierce St\"], [\"Lee Hwy & N Kirkwood Rd\"], [\"Army Navy Dr & S Nash St\"], [\"Walter Reed Dr & 8th St S\"], [\"Georgia & Missouri Ave NW\"], [\"Lee Hwy & N Woodstock St\"], [\"Lyttonsville Rd & Lyttonsville Pl\"], [\"East West Hwy & 16th St\"], [\"Kennebec St & 11th St N\"], [\"Wisconsin Ave & Brandywine St NW\"], [\"Georgia Ave & Piney Branch Rd NW\"], [\"Sligo Ave & Carroll Ln\"], [\"3rd St & Riggs Rd NE\"], [\"Pooks Hill Rd & Linden Ave\"], [\"Takoma Park Rec Center\"], [\"New Hampshire & Kirklynn Ave\"], [\"Wheaton Metro / Georgia Ave & Reedie Dr\"], [\"Amherst Ave & Prichard Rd\"], [\"3rd & Underwood St NW\"], [\"18th & Monroe St NE\"], [\"Twinbrook Metro\"], [\"Fishers Ln & Rock Creek Mill Rd\"], [\"1301 McCormick Dr / Wayne K. Curry Admin Bldg\"], [\"Largo Town Center Metro\"], [\"Baltimore Ave & Van Buren St / Riverdale Park Station\"], [\"Baltimore Ave & Jefferson St\"], [\"Crystal Dr & Potomac Ave\"], [\"Largo Rd & Campus Way / Prince Georges's Comm Col\"], [\"14th & Luzon St NW\"], [\"Fleet St & Waterfront St\"], [\"King Greenleaf Rec Center\"], [\"New Hampshire & Gallatin St NW\"], [\"Dunn Loring Metro\"], [\"Queens Chapel & Hamilton St\"], [\"Northwestern High School\"], [\"Rhode Island Ave & 39th St / Brentwood Arts Exchange\"], [\"Chillum Rd & Riggs Rd / Riggs Plaza\"], [\"Hyattsville Library / Adelphi Rd & Toledo Rd\"], [\"Merrilee Dr & Lauren Elizabeth Lane\"], [\"Merrifield Cinema & Merrifield Town Center\"], [\"Rhode Island & Montana Ave NE\"], [\"John McCormack Rd NE\"], [\"West Hyattsville Metro\"], [\"Prince George's Plaza Metro\"], [\"Riverdale Park Town Center\"], [\"Reservoir Rd & 38th St NW\"], [\"The Shoppes @ Burnt Mills\"], [\"New Hampshire & Lockwood\"], [\"Wilson Blvd. & N. Vermont St.\"], [\"Crystal Dr & 20th St S\"], [\"Crystal Dr & 15th St S\"], [\"Aurora Hills Cmty Ctr / 18th St & S Hayes St\"], [\"Pentagon City Metro / 12th St & S Hayes St\"], [\"Army Navy Dr & S Joyce St\"], [\"Crystal City Metro / 18th St & S Bell St\"], [\"Crystal Dr & 27th St S\"], [\"Crystal Dr & 23rd St S\"], [\"Clark St & 26th St S\"], [\"Good Hope & Naylor Rd SE\"], [\"Minnesota Ave Metro/DOES\"], [\"Nannie Helen Burroughs & Minnesota Ave NE\"], [\"Eads St & 22nd St S\"], [\"Benning Branch Library\"], [\"Rhodes St & 16th St N\"], [\"Wilson Blvd & N Franklin Rd\"], [\"Benning Rd & East Capitol St NE / Benning Rd Metro\"], [\"Congress Heights Metro\"], [\"N Veitch St & 20th St N\"], [\"N Veitch St & Key Blvd\"], [\"15th St & N Scott St\"], [\"Fairfax Dr & N Randolph St\"], [\"Good Hope Rd & 14th St SE\"], [\"GMU / Fairfax Dr & Kenmore St\"], [\"Utah St & 11th St N\"], [\"Troy St & 26th St S\"], [\"Four Mile Run Dr & S Shirlington Rd\"], [\"13th St & Eastern Ave\"], [\"Roosevelt Island\"], [\"18th St & Rhode Island Ave NE\"], [\"Pleasant St & MLK Ave SE\"], [\"S George Mason & Four Mile Run Dr\"], [\"Arlington Mill Cmty Center / Columbia Pike & S Dinwiddie St\"], [\"Pershing Dr & N George Mason Dr\"], [\"Norfolk Ave & Fairmont St\"], [\"Maple & Ritchie Ave\"], [\"Silver Spring Metro / Colesville Rd & Wayne Ave\"], [\"Friendship Hts Metro / Wisconsin Ave & Wisconsin Cir\"], [\"East West Hwy & Blair Mill Rd\"], [\"47th & Elm St\"], [\"Fenton St & Gist Ave\"], [\"Carroll & Westmoreland Ave\"], [\"Offutt Ln & Chevy Chase Dr\"], [\"Georgia Ave & Spring St\"], [\"Deanwood Rec Center\"], [\"Arlington Blvd & Fillmore St\"], [\"Eads St & 12th St S\"], [\"Friendship Blvd & Willard Ave\"], [\"Fort Totten Metro\"], [\"Bethesda Metro / Wisconsin Ave & Old Georgetown Rd\"], [\"Iwo Jima Memorial / Meade & 14th St N\"], [\"Arlington Blvd & S George Mason Dr\"]], \"hovertemplate\": \"<b>%{hovertext}</b><br><br>hdbscan=-1<br>size=%{marker.size}<br>LATITUDE=%{lat}<br>LONGITUDE=%{lon}<br>node_ids=%{customdata[0]}<extra></extra>\", \"hovertext\": [\"Connecticut Ave & McKinley St NW\", \"Joyce St & 16th St S\", \"Lee Hwy & N Monroe St\", \"21st St & N Pierce St\", \"Lee Hwy & N Kirkwood Rd\", \"Army Navy Dr & S Nash St\", \"Walter Reed Dr & 8th St S\", \"Georgia & Missouri Ave NW\", \"Lee Hwy & N Woodstock St\", \"Lyttonsville Rd & Lyttonsville Pl\", \"East West Hwy & 16th St\", \"Kennebec St & 11th St N\", \"Wisconsin Ave & Brandywine St NW\", \"Georgia Ave & Piney Branch Rd NW\", \"Sligo Ave & Carroll Ln\", \"3rd St & Riggs Rd NE\", \"Pooks Hill Rd & Linden Ave\", \"Takoma Park Rec Center\", \"New Hampshire & Kirklynn Ave\", \"Wheaton Metro / Georgia Ave & Reedie Dr\", \"Amherst Ave & Prichard Rd\", \"3rd & Underwood St NW\", \"18th & Monroe St NE\", \"Twinbrook Metro\", \"Fishers Ln & Rock Creek Mill Rd\", \"1301 McCormick Dr / Wayne K. Curry Admin Bldg\", \"Largo Town Center Metro\", \"Baltimore Ave & Van Buren St / Riverdale Park Station\", \"Baltimore Ave & Jefferson St\", \"Crystal Dr & Potomac Ave\", \"Largo Rd & Campus Way / Prince Georges's Comm Col\", \"14th & Luzon St NW\", \"Fleet St & Waterfront St\", \"King Greenleaf Rec Center\", \"New Hampshire & Gallatin St NW\", \"Dunn Loring Metro\", \"Queens Chapel & Hamilton St\", \"Northwestern High School\", \"Rhode Island Ave & 39th St / Brentwood Arts Exchange\", \"Chillum Rd & Riggs Rd / Riggs Plaza\", \"Hyattsville Library / Adelphi Rd & Toledo Rd\", \"Merrilee Dr & Lauren Elizabeth Lane\", \"Merrifield Cinema & Merrifield Town Center\", \"Rhode Island & Montana Ave NE\", \"John McCormack Rd NE\", \"West Hyattsville Metro\", \"Prince George's Plaza Metro\", \"Riverdale Park Town Center\", \"Reservoir Rd & 38th St NW\", \"The Shoppes @ Burnt Mills\", \"New Hampshire & Lockwood\", \"Wilson Blvd. & N. Vermont St.\", \"Crystal Dr & 20th St S\", \"Crystal Dr & 15th St S\", \"Aurora Hills Cmty Ctr / 18th St & S Hayes St\", \"Pentagon City Metro / 12th St & S Hayes St\", \"Army Navy Dr & S Joyce St\", \"Crystal City Metro / 18th St & S Bell St\", \"Crystal Dr & 27th St S\", \"Crystal Dr & 23rd St S\", \"Clark St & 26th St S\", \"Good Hope & Naylor Rd SE\", \"Minnesota Ave Metro/DOES\", \"Nannie Helen Burroughs & Minnesota Ave NE\", \"Eads St & 22nd St S\", \"Benning Branch Library\", \"Rhodes St & 16th St N\", \"Wilson Blvd & N Franklin Rd\", \"Benning Rd & East Capitol St NE / Benning Rd Metro\", \"Congress Heights Metro\", \"N Veitch St & 20th St N\", \"N Veitch St & Key Blvd\", \"15th St & N Scott St\", \"Fairfax Dr & N Randolph St\", \"Good Hope Rd & 14th St SE\", \"GMU / Fairfax Dr & Kenmore St\", \"Utah St & 11th St N\", \"Troy St & 26th St S\", \"Four Mile Run Dr & S Shirlington Rd\", \"13th St & Eastern Ave\", \"Roosevelt Island\", \"18th St & Rhode Island Ave NE\", \"Pleasant St & MLK Ave SE\", \"S George Mason & Four Mile Run Dr\", \"Arlington Mill Cmty Center / Columbia Pike & S Dinwiddie St\", \"Pershing Dr & N George Mason Dr\", \"Norfolk Ave & Fairmont St\", \"Maple & Ritchie Ave\", \"Silver Spring Metro / Colesville Rd & Wayne Ave\", \"Friendship Hts Metro / Wisconsin Ave & Wisconsin Cir\", \"East West Hwy & Blair Mill Rd\", \"47th & Elm St\", \"Fenton St & Gist Ave\", \"Carroll & Westmoreland Ave\", \"Offutt Ln & Chevy Chase Dr\", \"Georgia Ave & Spring St\", \"Deanwood Rec Center\", \"Arlington Blvd & Fillmore St\", \"Eads St & 12th St S\", \"Friendship Blvd & Willard Ave\", \"Fort Totten Metro\", \"Bethesda Metro / Wisconsin Ave & Old Georgetown Rd\", \"Iwo Jima Memorial / Meade & 14th St N\", \"Arlington Blvd & S George Mason Dr\"], \"lat\": [38.964544, 38.859254, 38.896456, 38.89898400000001, 38.895377, 38.86215, 38.86612, 38.961339, 38.898301, 38.999679, 38.995681, 38.880992, 38.949813, 38.967505, 38.990874, 38.957463, 39.014716, 38.98265, 38.988101, 39.038341, 39.035965, 38.968834, 38.93293, 39.062041, 39.0629, 38.908391, 38.899811, 38.969581, 38.95548, 38.848304, 38.88994, 38.969489, 38.782633, 38.876211, 38.951596, 38.8828, 38.9546, 38.975505, 38.93927100000001, 38.961737, 38.9698, 38.879355, 38.870093, 38.9243, 38.938889, 38.955349, 38.965742, 38.962119, 38.91261400000001, 39.031314, 39.039102, 38.879477, 38.856425, 38.86017, 38.857866, 38.862303, 38.8637, 38.857405, 38.848466, 38.8533, 38.850688, 38.860227, 38.897063, 38.901385, 38.854381, 38.894, 38.892164, 38.8904, 38.889935, 38.844711, 38.896923, 38.893237, 38.89054, 38.882629, 38.866611, 38.884616, 38.883669, 38.847977, 38.8444, 38.987, 38.896553, 38.927095, 38.863897, 38.852248, 38.856319, 38.871822, 38.988562, 38.983627, 38.994896, 38.961763, 38.990249, 38.982456, 38.989724, 38.975, 38.977093, 38.999388, 38.908473, 38.873755, 38.86275300000001, 38.96115, 38.952369, 38.984691, 38.88992, 38.869442], \"legendgroup\": \"-1\", \"lon\": [-77.075135, -77.063275, -77.104562, -77.078317, -77.09713, -77.06812099999998, -77.08787, -77.027855, -77.118009, -77.051168, -77.038721, -77.135271, -77.080217, -77.027976, -77.016311, -77.002239, -77.10714300000002, -76.988311, -76.988422, -77.051023, -77.048395, -77.016258, -76.979517, -77.120776, -77.113454, -76.84326300000002, -76.844604, -76.937349, -76.94013299999997, -77.05122, -76.825535, -77.033509, -77.016059, -77.012443, -77.01280799999998, -77.2283, -76.9595, -76.952199, -76.955047, -76.995922, -76.9493, -77.230681, -77.22997, -76.9859, -76.997226, -76.96808399999998, -76.954803, -76.935578, -77.07432299999998, -77.004122, -76.991824, -77.114563, -77.04923199999998, -77.049593, -77.05949, -77.059936, -77.0633, -77.051132, -77.051514, -77.0498, -77.05152, -76.966572, -76.947446, -76.941877, -77.053412, -76.947974, -77.079375, -77.0889, -76.93723, -76.98782299999998, -77.086502, -77.086063, -77.08095, -77.10936600000002, -76.985238, -77.10108000000002, -77.113905, -77.07510400000002, -77.085931, -77.02941700000002, -77.06714000000002, -76.97892399999998, -76.990037, -77.10502199999998, -77.11153, -77.107906, -77.096539, -77.006311, -77.02953199999997, -77.085998, -77.02935, -77.09199100000002, -77.023854, -77.01120999999998, -77.094589, -77.03155500000003, -76.933099, -77.089233, -77.05428, -77.08865899999998, -77.002721, -77.094537, -77.071301, -77.10450300000002], \"marker\": {\"color\": \"#636EFA\", \"size\": [5, 5, 5, 5, 5, 5, 5, 5, 5, 5, 5, 5, 5, 5, 5, 5, 5, 5, 5, 5, 5, 5, 5, 5, 5, 5, 5, 5, 5, 5, 5, 5, 5, 5, 5, 5, 5, 5, 5, 5, 5, 5, 5, 5, 5, 5, 5, 5, 5, 5, 5, 5, 5, 5, 5, 5, 5, 5, 5, 5, 5, 5, 5, 5, 5, 5, 5, 5, 5, 5, 5, 5, 5, 5, 5, 5, 5, 5, 5, 5, 5, 5, 5, 5, 5, 5, 5, 5, 5, 5, 5, 5, 5, 5, 5, 5, 5, 5, 5, 5, 5, 5, 5, 5], \"sizemode\": \"area\", \"sizeref\": 0.05}, \"mode\": \"markers\", \"name\": \"-1\", \"showlegend\": true, \"subplot\": \"mapbox\", \"type\": \"scattermapbox\"}, {\"customdata\": [[\"15th & L St NW\"], [\"17th & G St NW\"], [\"18th & R St NW\"], [\"Union Market\"], [\"19th & G St NW\"], [\"2nd St & Seaton Pl NE\"], [\"31st & Water St NW\"], [\"11th & S St NW\"], [\"2nd & G St NE\"], [\"8th & O St NW\"], [\"Oklahoma Ave & D St NE\"], [\"Maryland Ave & E St NE\"], [\"New York Ave & Hecht Ave NE\"], [\"Yuma St & Tenley Circle NW\"], [\"Connecticut Ave & Chevy Chase Lake Dr\"], [\"Saint Asaph St & Madison St\"], [\"King St Metro North / Cameron St\"], [\"Madison St & N Henry St\"], [\"Washington Blvd & N Frederick St\"], [\"Wisconsin Ave & Ingomar St NW\"], [\"16th & Irving St NW\"], [\"16th & R St NW\"], [\"Woodmont Ave & Strathmore St\"], [\"14th & L St NW\"], [\"1st & O St NW\"], [\"South Capitol & Atlantic St SW\"], [\"18th & C St NW\"], [\"22nd & P ST NW\"], [\"Royal St & Wilkes St\"], [\"14th & Girard St NW\"], [\"Potomac Ave & Main Line Blvd\"], [\"11th & O St NW\"], [\"10th St & L'Enfant Plaza SW\"], [\"Connecticut Ave & Yuma St NW\"], [\"2nd St & Massachusetts Ave NE\"], [\"Radford St & Osage St\"], [\"Commonwealth Ave & Oak St\"], [\"Commonwealth Ave & E Monroe Ave\"], [\"4th St & Madison Dr NW\"], [\"Henry Bacon Dr & Lincoln Memorial Circle NW\"], [\"17th St & Independence Ave SW\"], [\"Franklin St & S Washington St\"], [\"Mount Vernon Ave & Four Mile Run Park\"], [\"4th St & K St NW\"], [\"Mount Vernon Ave & Bruce St\"], [\"Lee Center\"], [\"Powhatan St & Bashford Ln\"], [\"Potomac Ave & Swann Ave\"], [\"14th & Irving St NW\"], [\"Vermont Ave & I St NW\"], [\"24th & R St NE / National Arboretum\"], [\"Division Ave & Foote St NE\"], [\"16th & Q St SE / Anacostia HS\"], [\"1st & D St SE\"], [\"22nd St & Constitution Ave NW\"], [\"61st St & Banks Pl NE\"], [\"N Lynn St & Fairfax Dr\"], [\"Madison St & Fairfax St\"], [\"15th & W St NW\"], [\"12th St & Pennsylvania Ave SE\"], [\"Carlin Springs Rd & N Thomas St\"], [\"6th & K St NE\"], [\"7th & E St SW\"], [\"Potomac & M St NW\"], [\"Columbia & Ontario Rd NW\"], [\"Washington-Liberty High School / N Stafford St & Generals Way\"], [\"Columbia Pike & S Taylor St\"], [\"Virginia Ave & 25th St NW\"], [\"15th & M St NW\"], [\"11th & Girard St NW\"], [\"Connecticut Ave & R St NW\"], [\"Wilson Blvd & N Troy St\"], [\"American University East Campus\"], [\"15th St & Constitution Ave NW\"], [\"23rd & M St NW\"], [\"Alabama Ave & Stanton Rd SE / Shops at Park Village\"], [\"Mississippi Ave & 19th St SE / THEARC\"], [\"19th & Savannah St SE\"], [\"4th St & Mississippi Ave SE\"], [\"1st & S Capitol St SE / Oxon Run Trail\"], [\"Livingston Rd & 3rd St SE\"], [\"Joliet St & MLK Ave SW/Bald Eagle Rec Ctr\"], [\"37th & Ely Pl SE\"], [\"15th St & Pennsylvania Ave NW\"], [\"Maine Ave & 9th St SW\"], [\"Lincoln Rd & Seaton Pl NE/Harry Thomas Rec Center\"], [\"Georgia Ave & Kennedy St NW\"], [\"7th St & Massachusetts Ave NE\"], [\"Anacostia Park\"], [\"Potomac Ave & Half St SW\"], [\"Stanton Square SE\"], [\"14th & Newton St NW\"], [\"48th Pl & MacArthur Blvd NW\"], [\"1st & M St SE\"], [\"Oxon Hill Park & Ride\"], [\"11th & Park Rd NW\"], [\"4th & M St SE\"], [\"Kansas Ave & Sherman Cr NW\"], [\"7th & K St NW\"], [\"Montello Ave & Holbrook Terr NE\"], [\"New Jersey Ave & F St NW\"], [\"Maryland Ave & 17th St NE\"], [\"Massachusetts Ave & 6th St NE\"], [\"Woodley Park Metro / Calvert St & Connecticut Ave NW\"], [\"Trinidad Rec Center\"], [\"Rosedale Rec Center\"], [\"11th & C St SE\"], [\"United Medical Center\"], [\"18th & New Hampshire Ave NW\"], [\"Southern Ave Metro\"], [\"Tanger Outlets\"], [\"Georgia Ave & Morton St NW\"], [\"7th & S St NW\"], [\"North Capitol & R St NE\"], [\"17th & Upshur St NW\"], [\"Grant Circle\"], [\"14th & Otis Pl NW\"], [\"Capitol Heights Metro\"], [\"Edgewood Rec Center\"], [\"8th & K St NE\"], [\"Kingman Island/The Fields at RFK\"], [\"Kenilworth Terrace & Hayes St. NE\"], [\"National Harbor Carousel\"], [\"Valley Ave & Wheeler Rd SE\"], [\"Ridge Rd Community Center\"], [\"Fort Stanton Rec Center\"], [\"22nd & H St NW\"], [\"8th & H St NE\"], [\"Hardy Rec Center\"], [\"Minnesota Ave & R St SE\"], [\"1st & K St NE\"], [\"Eads St & 15th St S\"], [\"18th St & S Eads St\"], [\"S Glebe Rd & Potomac Ave\"], [\"19th St & Pennsylvania Ave NW\"], [\"14th & V St NW\"], [\"11th & Kenyon St NW\"], [\"16th & Harvard St NW\"], [\"Adams Mill & Columbia Rd NW\"], [\"14th & Harvard St NW\"], [\"Calvert & Biltmore St NW\"], [\"Lamont & Mt Pleasant NW\"], [\"4th & M St SW\"], [\"15th & P St NW\"], [\"14th & R St NW\"], [\"14th & Rhode Island Ave NW\"], [\"20th & E St NW\"], [\"21st & I St NW\"], [\"Georgia & New Hampshire Ave NW\"], [\"14th St & Spring Rd NW\"], [\"John McCormack Dr & Michigan Ave NE\"], [\"5th & K St NW\"], [\"19th & East Capitol St SE\"], [\"Park Rd & Holmead Pl NW\"], [\"Connecticut Ave & Newark St NW / Cleveland Park\"], [\"Randle Circle & Minnesota Ave SE\"], [\"Anacostia Metro\"], [\"Good Hope Rd & MLK Ave SE\"], [\"19th & E Street NW\"], [\"4th & W St NE\"], [\"10th & U St NW\"], [\"Georgia Ave and Fairmont St NW\"], [\"1st & N St  SE\"], [\"20th St & Florida Ave NW\"], [\"7th & T St NW\"], [\"M St & New Jersey Ave SE\"], [\"Massachusetts Ave & Dupont Circle NW\"], [\"1st & M St NE\"], [\"New Hampshire Ave & Ward Pl NW\"], [\"17th & K St NW\"], [\"3rd & H St NW\"], [\"3rd & D St SE\"], [\"Potomac & Pennsylvania Ave SE\"], [\"13th & E St SE\"], [\"17th & Corcoran St NW\"], [\"Van Ness Metro / UDC\"], [\"Florida Ave & R St NW\"], [\"8th & Eye St SE / Barracks Row\"], [\"Ward Circle / American University\"], [\"Wisconsin Ave & Newark St NW\"], [\"14th St Heights / 14th & Crittenden St NW\"], [\"Anacostia Library\"], [\"Pennsylvania & Minnesota Ave SE\"], [\"Eastern Market / 7th & North Carolina Ave SE\"], [\"14th St & New York Ave NW\"], [\"USDA / 12th & C St SW\"], [\"Georgetown Harbor / 30th St NW\"], [\"12th & Newton St NE\"], [\"US Dept of State / Virginia Ave & 21st St NW\"], [\"L'Enfant Plaza / 7th & C St SW\"], [\"10th St & Constitution Ave NW\"], [\"Kennedy Center\"], [\"Eastern Market Metro / Pennsylvania Ave & 7th St SE\"], [\"18th & M St NW\"], [\"Tenleytown / Wisconsin Ave & Albemarle St NW\"], [\"13th & H St NE\"], [\"5th & F St NW\"], [\"New York Ave & 15th St NW\"], [\"Convention Center / 7th & M St NW\"], [\"Harvard St & Adams Mill Rd NW\"], [\"18th & L St NW\"], [\"C & O Canal & Wisconsin Ave NW\"], [\"Maine Ave & 7th St SW\"], [\"D St & Maryland Ave NE\"], [\"34th St & Wisconsin Ave NW\"], [\"13th St & New York Ave NW\"], [\"8th & H St NW\"], [\"10th & Monroe St NE\"], [\"Eckington Pl & Q St NE\"], [\"6th & H St NE\"], [\"3rd & H St NE\"], [\"Bladensburg Rd & Benning Rd NE\"], [\"4th & East Capitol St NE\"], [\"Branch & Pennsylvania Ave SE\"], [\"13th & D St NE\"], [\"New Hampshire Ave & T St NW\"], [\"Metro Center / 12th & G St NW\"], [\"14th & D St NW / Ronald Reagan Building\"], [\"7th & F St NW / National Portrait Gallery\"], [\"17th & K St NW / Farragut Square\"], [\"20th & O St NW / Dupont South\"], [\"4th & D St NW / Judiciary Square\"], [\"19th St & Constitution Ave NW\"], [\"37th & O St NW / Georgetown University\"], [\"11th & H St NE\"], [\"25th St & Pennsylvania Ave NW\"], [\"Columbus Circle / Union Station\"], [\"North Capitol St & F St NW\"], [\"11th & M St NW\"], [\"36th & Calvert St NW / Glover Park\"], [\"14th & G St NW\"], [\"Potomac Ave & 35th St S\"], [\"Ohio Dr & West Basin Dr SW / MLK & FDR Memorials\"], [\"11th & F St NW\"], [\"Lynn St & 19th St North\"], [\"Rosslyn Metro / Wilson Blvd & Ft Myer Dr\"], [\"Clarendon Blvd & Pierce St\"], [\"Wilson Blvd & N Uhle St\"], [\"Fairfax Village\"], [\"21st St & Constitution Ave NW\"], [\"Wilson Blvd & N Edgewood St\"], [\"Columbia Rd & Belmont St NW\"], [\"Rhode Island & Connecticut Ave NW\"], [\"Thomas Circle\"], [\"Clarendon Blvd & N Fillmore St\"], [\"Clarendon Metro / Wilson Blvd & N Highland St\"], [\"18th St & Pennsylvania Ave NW\"], [\"4th & C St SW\"], [\"4th & E St SW\"], [\"3rd & G St SE\"], [\"7th & R St NW / Shaw Library\"], [\"9th & Upshur St NW\"], [\"1st & Rhode Island Ave NW\"], [\"Columbia Rd & Georgia Ave NW\"], [\"California St & Florida Ave NW\"], [\"3000 Connecticut Ave NW / National Zoo\"], [\"M St & Pennsylvania Ave NW\"], [\"15th St & Massachusetts Ave SE\"], [\"N Quincy St & Glebe Rd\"], [\"Barcroft Community Center\"], [\"10th & K St NW\"], [\"Fairfax Dr & Wilson Blvd\"], [\"Key Blvd & N Quinn St\"], [\"1st & K St SE\"], [\"39th & Calvert St NW / Stoddert\"], [\"1st & Washington Hospital Center NW\"], [\"Virginia Square Metro / Monroe St & 9th St N\"], [\"Central Library / Quincy St & 10th St N\"], [\"Washington Blvd & 10th St N\"], [\"Jefferson Dr & 14th St SW\"], [\"Smithsonian-National Mall / Jefferson Dr & 12th St SW\"], [\"George Mason Dr & Wilson Blvd\"], [\"6th St & Indiana Ave NW\"], [\"Lee Hwy & N Adams St\"], [\"Washington Blvd & 7th St N\"], [\"Ballston Metro / Stuart St & 9th St N\"], [\"Jefferson Memorial\"], [\"Glebe Rd & 11th St N\"], [\"Wilson Blvd & N Quincy St\"], [\"Gallaudet / 8th St & Florida Ave NE\"], [\"20th & L St NW\"], [\"12th & L St NW\"], [\"21st St & Pennsylvania Ave NW\"], [\"19th & K St NW\"], [\"Prince St & Union St\"], [\"Market Square / King St & Royal St\"], [\"Saint Asaph St & Pendleton  St\"], [\"King St & Patrick St\"], [\"15th & K St NW\"], [\"Commerce St & Fayette St\"], [\"Henry St & Pendleton St\"], [\"Braddock Rd Metro\"], [\"King St Metro South\"], [\"24th & N St NW\"], [\"10th & E St NW\"], [\"22nd & I St NW / Foggy Bottom\"], [\"Barton St & 10th St N\"], [\"Arlington Blvd & N Queen St\"], [\"Lincoln Memorial\"], [\"20th St & Virginia Ave NW\"], [\"5th St & Massachusetts Ave NW\"], [\"39th & Veazey St NW\"], [\"Fessenden St & Wisconsin Ave NW\"], [\"3rd & M St NE\"], [\"Columbia Pike & S Courthouse Rd\"], [\"Walter Reed Dr & 16th St S\"], [\"28th St & S Meade St\"], [\"18th St & Wyoming Ave NW\"], [\"5th & Kennedy St NW\"], [\"Georgia Ave & Emerson St NW\"], [\"14th & Upshur St NW\"], [\"14th St & Colorado Ave NW\"], [\"Columbia Pike & S Oakland St\"], [\"Four Mile Run Dr & S Walter Reed Dr\"], [\"S Arlington Mill Dr & Campbell Ave\"], [\"Kenmore St & 24th St S\"], [\"Wisconsin Ave & O St NW\"], [\"Connecticut & Nebraska Ave NW\"], [\"17th St & Massachusetts Ave NW\"], [\"15th & Euclid St  NW\"], [\"8th & East Capitol St NE\"], [\"New Jersey Ave & R St NW\"], [\"15th & East Capitol St NE\"], [\"8th & F St NE\"], [\"15th & F St NE\"], [\"12th & Irving St NE\"], [\"Alabama & MLK Ave SE\"], [\"Neal St & Trinidad Ave NE\"], [\"12th & U St NW\"], [\"Gravelly Point\"], [\"Pershing Dr & Wayne St\"], [\"Columbia Pike & S Orme St\"], [\"3rd St & Pennsylvania Ave SE\"], [\"8th & D St NW\"], [\"3rd & Elm St NW\"], [\"Rhode Island Ave & V St NE\"], [\"Constitution Ave & 2nd St NW/DOL\"], [\"Washington & Independence Ave SW/HHS\"], [\"Independence Ave & L'Enfant Plaza SW/DOE\"], [\"Hamlin & 7th St NE\"], [\"Columbia Pike & S Walter Reed Dr\"], [\"Bethesda Ave & Arlington Rd\"], [\"Cordell & Norfolk Ave\"], [\"Montgomery & East Ln\"], [\"14th & Belmont St NW\"], [\"3rd & Tingey St SE\"], [\"10th & Florida Ave NW\"], [\"Potomac Ave & 8th St SE\"], [\"Battery Ln & Trolley Trail\"], [\"Norfolk & Rugby Ave\"], [\"Calvert St & Woodley Pl NW\"], [\"New Jersey Ave & N St NW/Dunbar HS\"], [\"Nannie Helen Burroughs Ave & 49th St NE\"], [\"Hains Point/Buckeye & Ohio Dr SW\"], [\"Old Georgetown Rd & Southwick St\"], [\"North Capitol St & G Pl NE\"], [\"31st St & S Woodrow St\"], [\"TJ Cmty Ctr / 2nd St & S Old Glebe Rd\"], [\"Connecticut Ave & Tilden St NW\"], [\"1st & H St NW\"], [\"Rhode Island Ave Metro\"], [\"Rolfe St & 9th St S\"], [\"Shirlington Transit Center / Quincy St & Randolph St\"], [\"River Rd & Landy Ln\"], [\"34th & Water St NW\"], [\"Duke St & John Carlyle St\"], [\"Lee Hwy & N Cleveland St\"], [\"10th & G St NW\"], [\"Lee Hwy & N Scott St\"], [\"New Hampshire Ave & 24th St NW\"], [\"Eisenhower Ave & Mill Race Ln\"], [\"Potomac Greens Dr & Slaters Ln\"], [\"Ballenger Ave & Dulaney St\"], [\"Mount Vernon Ave & E Nelson Ave\"], [\"Monroe Ave & Leslie Ave\"], [\"Mount Vernon Ave & Kennedy St\"], [\"Court House Metro / 15th St & N Uhle St\"], [\"Long Bridge Park / Long Bridge Dr & 6th St S\"]], \"hovertemplate\": \"<b>%{hovertext}</b><br><br>hdbscan=6<br>size=%{marker.size}<br>LATITUDE=%{lat}<br>LONGITUDE=%{lon}<br>node_ids=%{customdata[0]}<extra></extra>\", \"hovertext\": [\"15th & L St NW\", \"17th & G St NW\", \"18th & R St NW\", \"Union Market\", \"19th & G St NW\", \"2nd St & Seaton Pl NE\", \"31st & Water St NW\", \"11th & S St NW\", \"2nd & G St NE\", \"8th & O St NW\", \"Oklahoma Ave & D St NE\", \"Maryland Ave & E St NE\", \"New York Ave & Hecht Ave NE\", \"Yuma St & Tenley Circle NW\", \"Connecticut Ave & Chevy Chase Lake Dr\", \"Saint Asaph St & Madison St\", \"King St Metro North / Cameron St\", \"Madison St & N Henry St\", \"Washington Blvd & N Frederick St\", \"Wisconsin Ave & Ingomar St NW\", \"16th & Irving St NW\", \"16th & R St NW\", \"Woodmont Ave & Strathmore St\", \"14th & L St NW\", \"1st & O St NW\", \"South Capitol & Atlantic St SW\", \"18th & C St NW\", \"22nd & P ST NW\", \"Royal St & Wilkes St\", \"14th & Girard St NW\", \"Potomac Ave & Main Line Blvd\", \"11th & O St NW\", \"10th St & L'Enfant Plaza SW\", \"Connecticut Ave & Yuma St NW\", \"2nd St & Massachusetts Ave NE\", \"Radford St & Osage St\", \"Commonwealth Ave & Oak St\", \"Commonwealth Ave & E Monroe Ave\", \"4th St & Madison Dr NW\", \"Henry Bacon Dr & Lincoln Memorial Circle NW\", \"17th St & Independence Ave SW\", \"Franklin St & S Washington St\", \"Mount Vernon Ave & Four Mile Run Park\", \"4th St & K St NW\", \"Mount Vernon Ave & Bruce St\", \"Lee Center\", \"Powhatan St & Bashford Ln\", \"Potomac Ave & Swann Ave\", \"14th & Irving St NW\", \"Vermont Ave & I St NW\", \"24th & R St NE / National Arboretum\", \"Division Ave & Foote St NE\", \"16th & Q St SE / Anacostia HS\", \"1st & D St SE\", \"22nd St & Constitution Ave NW\", \"61st St & Banks Pl NE\", \"N Lynn St & Fairfax Dr\", \"Madison St & Fairfax St\", \"15th & W St NW\", \"12th St & Pennsylvania Ave SE\", \"Carlin Springs Rd & N Thomas St\", \"6th & K St NE\", \"7th & E St SW\", \"Potomac & M St NW\", \"Columbia & Ontario Rd NW\", \"Washington-Liberty High School / N Stafford St & Generals Way\", \"Columbia Pike & S Taylor St\", \"Virginia Ave & 25th St NW\", \"15th & M St NW\", \"11th & Girard St NW\", \"Connecticut Ave & R St NW\", \"Wilson Blvd & N Troy St\", \"American University East Campus\", \"15th St & Constitution Ave NW\", \"23rd & M St NW\", \"Alabama Ave & Stanton Rd SE / Shops at Park Village\", \"Mississippi Ave & 19th St SE / THEARC\", \"19th & Savannah St SE\", \"4th St & Mississippi Ave SE\", \"1st & S Capitol St SE / Oxon Run Trail\", \"Livingston Rd & 3rd St SE\", \"Joliet St & MLK Ave SW/Bald Eagle Rec Ctr\", \"37th & Ely Pl SE\", \"15th St & Pennsylvania Ave NW\", \"Maine Ave & 9th St SW\", \"Lincoln Rd & Seaton Pl NE/Harry Thomas Rec Center\", \"Georgia Ave & Kennedy St NW\", \"7th St & Massachusetts Ave NE\", \"Anacostia Park\", \"Potomac Ave & Half St SW\", \"Stanton Square SE\", \"14th & Newton St NW\", \"48th Pl & MacArthur Blvd NW\", \"1st & M St SE\", \"Oxon Hill Park & Ride\", \"11th & Park Rd NW\", \"4th & M St SE\", \"Kansas Ave & Sherman Cr NW\", \"7th & K St NW\", \"Montello Ave & Holbrook Terr NE\", \"New Jersey Ave & F St NW\", \"Maryland Ave & 17th St NE\", \"Massachusetts Ave & 6th St NE\", \"Woodley Park Metro / Calvert St & Connecticut Ave NW\", \"Trinidad Rec Center\", \"Rosedale Rec Center\", \"11th & C St SE\", \"United Medical Center\", \"18th & New Hampshire Ave NW\", \"Southern Ave Metro\", \"Tanger Outlets\", \"Georgia Ave & Morton St NW\", \"7th & S St NW\", \"North Capitol & R St NE\", \"17th & Upshur St NW\", \"Grant Circle\", \"14th & Otis Pl NW\", \"Capitol Heights Metro\", \"Edgewood Rec Center\", \"8th & K St NE\", \"Kingman Island/The Fields at RFK\", \"Kenilworth Terrace & Hayes St. NE\", \"National Harbor Carousel\", \"Valley Ave & Wheeler Rd SE\", \"Ridge Rd Community Center\", \"Fort Stanton Rec Center\", \"22nd & H St NW\", \"8th & H St NE\", \"Hardy Rec Center\", \"Minnesota Ave & R St SE\", \"1st & K St NE\", \"Eads St & 15th St S\", \"18th St & S Eads St\", \"S Glebe Rd & Potomac Ave\", \"19th St & Pennsylvania Ave NW\", \"14th & V St NW\", \"11th & Kenyon St NW\", \"16th & Harvard St NW\", \"Adams Mill & Columbia Rd NW\", \"14th & Harvard St NW\", \"Calvert & Biltmore St NW\", \"Lamont & Mt Pleasant NW\", \"4th & M St SW\", \"15th & P St NW\", \"14th & R St NW\", \"14th & Rhode Island Ave NW\", \"20th & E St NW\", \"21st & I St NW\", \"Georgia & New Hampshire Ave NW\", \"14th St & Spring Rd NW\", \"John McCormack Dr & Michigan Ave NE\", \"5th & K St NW\", \"19th & East Capitol St SE\", \"Park Rd & Holmead Pl NW\", \"Connecticut Ave & Newark St NW / Cleveland Park\", \"Randle Circle & Minnesota Ave SE\", \"Anacostia Metro\", \"Good Hope Rd & MLK Ave SE\", \"19th & E Street NW\", \"4th & W St NE\", \"10th & U St NW\", \"Georgia Ave and Fairmont St NW\", \"1st & N St  SE\", \"20th St & Florida Ave NW\", \"7th & T St NW\", \"M St & New Jersey Ave SE\", \"Massachusetts Ave & Dupont Circle NW\", \"1st & M St NE\", \"New Hampshire Ave & Ward Pl NW\", \"17th & K St NW\", \"3rd & H St NW\", \"3rd & D St SE\", \"Potomac & Pennsylvania Ave SE\", \"13th & E St SE\", \"17th & Corcoran St NW\", \"Van Ness Metro / UDC\", \"Florida Ave & R St NW\", \"8th & Eye St SE / Barracks Row\", \"Ward Circle / American University\", \"Wisconsin Ave & Newark St NW\", \"14th St Heights / 14th & Crittenden St NW\", \"Anacostia Library\", \"Pennsylvania & Minnesota Ave SE\", \"Eastern Market / 7th & North Carolina Ave SE\", \"14th St & New York Ave NW\", \"USDA / 12th & C St SW\", \"Georgetown Harbor / 30th St NW\", \"12th & Newton St NE\", \"US Dept of State / Virginia Ave & 21st St NW\", \"L'Enfant Plaza / 7th & C St SW\", \"10th St & Constitution Ave NW\", \"Kennedy Center\", \"Eastern Market Metro / Pennsylvania Ave & 7th St SE\", \"18th & M St NW\", \"Tenleytown / Wisconsin Ave & Albemarle St NW\", \"13th & H St NE\", \"5th & F St NW\", \"New York Ave & 15th St NW\", \"Convention Center / 7th & M St NW\", \"Harvard St & Adams Mill Rd NW\", \"18th & L St NW\", \"C & O Canal & Wisconsin Ave NW\", \"Maine Ave & 7th St SW\", \"D St & Maryland Ave NE\", \"34th St & Wisconsin Ave NW\", \"13th St & New York Ave NW\", \"8th & H St NW\", \"10th & Monroe St NE\", \"Eckington Pl & Q St NE\", \"6th & H St NE\", \"3rd & H St NE\", \"Bladensburg Rd & Benning Rd NE\", \"4th & East Capitol St NE\", \"Branch & Pennsylvania Ave SE\", \"13th & D St NE\", \"New Hampshire Ave & T St NW\", \"Metro Center / 12th & G St NW\", \"14th & D St NW / Ronald Reagan Building\", \"7th & F St NW / National Portrait Gallery\", \"17th & K St NW / Farragut Square\", \"20th & O St NW / Dupont South\", \"4th & D St NW / Judiciary Square\", \"19th St & Constitution Ave NW\", \"37th & O St NW / Georgetown University\", \"11th & H St NE\", \"25th St & Pennsylvania Ave NW\", \"Columbus Circle / Union Station\", \"North Capitol St & F St NW\", \"11th & M St NW\", \"36th & Calvert St NW / Glover Park\", \"14th & G St NW\", \"Potomac Ave & 35th St S\", \"Ohio Dr & West Basin Dr SW / MLK & FDR Memorials\", \"11th & F St NW\", \"Lynn St & 19th St North\", \"Rosslyn Metro / Wilson Blvd & Ft Myer Dr\", \"Clarendon Blvd & Pierce St\", \"Wilson Blvd & N Uhle St\", \"Fairfax Village\", \"21st St & Constitution Ave NW\", \"Wilson Blvd & N Edgewood St\", \"Columbia Rd & Belmont St NW\", \"Rhode Island & Connecticut Ave NW\", \"Thomas Circle\", \"Clarendon Blvd & N Fillmore St\", \"Clarendon Metro / Wilson Blvd & N Highland St\", \"18th St & Pennsylvania Ave NW\", \"4th & C St SW\", \"4th & E St SW\", \"3rd & G St SE\", \"7th & R St NW / Shaw Library\", \"9th & Upshur St NW\", \"1st & Rhode Island Ave NW\", \"Columbia Rd & Georgia Ave NW\", \"California St & Florida Ave NW\", \"3000 Connecticut Ave NW / National Zoo\", \"M St & Pennsylvania Ave NW\", \"15th St & Massachusetts Ave SE\", \"N Quincy St & Glebe Rd\", \"Barcroft Community Center\", \"10th & K St NW\", \"Fairfax Dr & Wilson Blvd\", \"Key Blvd & N Quinn St\", \"1st & K St SE\", \"39th & Calvert St NW / Stoddert\", \"1st & Washington Hospital Center NW\", \"Virginia Square Metro / Monroe St & 9th St N\", \"Central Library / Quincy St & 10th St N\", \"Washington Blvd & 10th St N\", \"Jefferson Dr & 14th St SW\", \"Smithsonian-National Mall / Jefferson Dr & 12th St SW\", \"George Mason Dr & Wilson Blvd\", \"6th St & Indiana Ave NW\", \"Lee Hwy & N Adams St\", \"Washington Blvd & 7th St N\", \"Ballston Metro / Stuart St & 9th St N\", \"Jefferson Memorial\", \"Glebe Rd & 11th St N\", \"Wilson Blvd & N Quincy St\", \"Gallaudet / 8th St & Florida Ave NE\", \"20th & L St NW\", \"12th & L St NW\", \"21st St & Pennsylvania Ave NW\", \"19th & K St NW\", \"Prince St & Union St\", \"Market Square / King St & Royal St\", \"Saint Asaph St & Pendleton  St\", \"King St & Patrick St\", \"15th & K St NW\", \"Commerce St & Fayette St\", \"Henry St & Pendleton St\", \"Braddock Rd Metro\", \"King St Metro South\", \"24th & N St NW\", \"10th & E St NW\", \"22nd & I St NW / Foggy Bottom\", \"Barton St & 10th St N\", \"Arlington Blvd & N Queen St\", \"Lincoln Memorial\", \"20th St & Virginia Ave NW\", \"5th St & Massachusetts Ave NW\", \"39th & Veazey St NW\", \"Fessenden St & Wisconsin Ave NW\", \"3rd & M St NE\", \"Columbia Pike & S Courthouse Rd\", \"Walter Reed Dr & 16th St S\", \"28th St & S Meade St\", \"18th St & Wyoming Ave NW\", \"5th & Kennedy St NW\", \"Georgia Ave & Emerson St NW\", \"14th & Upshur St NW\", \"14th St & Colorado Ave NW\", \"Columbia Pike & S Oakland St\", \"Four Mile Run Dr & S Walter Reed Dr\", \"S Arlington Mill Dr & Campbell Ave\", \"Kenmore St & 24th St S\", \"Wisconsin Ave & O St NW\", \"Connecticut & Nebraska Ave NW\", \"17th St & Massachusetts Ave NW\", \"15th & Euclid St  NW\", \"8th & East Capitol St NE\", \"New Jersey Ave & R St NW\", \"15th & East Capitol St NE\", \"8th & F St NE\", \"15th & F St NE\", \"12th & Irving St NE\", \"Alabama & MLK Ave SE\", \"Neal St & Trinidad Ave NE\", \"12th & U St NW\", \"Gravelly Point\", \"Pershing Dr & Wayne St\", \"Columbia Pike & S Orme St\", \"3rd St & Pennsylvania Ave SE\", \"8th & D St NW\", \"3rd & Elm St NW\", \"Rhode Island Ave & V St NE\", \"Constitution Ave & 2nd St NW/DOL\", \"Washington & Independence Ave SW/HHS\", \"Independence Ave & L'Enfant Plaza SW/DOE\", \"Hamlin & 7th St NE\", \"Columbia Pike & S Walter Reed Dr\", \"Bethesda Ave & Arlington Rd\", \"Cordell & Norfolk Ave\", \"Montgomery & East Ln\", \"14th & Belmont St NW\", \"3rd & Tingey St SE\", \"10th & Florida Ave NW\", \"Potomac Ave & 8th St SE\", \"Battery Ln & Trolley Trail\", \"Norfolk & Rugby Ave\", \"Calvert St & Woodley Pl NW\", \"New Jersey Ave & N St NW/Dunbar HS\", \"Nannie Helen Burroughs Ave & 49th St NE\", \"Hains Point/Buckeye & Ohio Dr SW\", \"Old Georgetown Rd & Southwick St\", \"North Capitol St & G Pl NE\", \"31st St & S Woodrow St\", \"TJ Cmty Ctr / 2nd St & S Old Glebe Rd\", \"Connecticut Ave & Tilden St NW\", \"1st & H St NW\", \"Rhode Island Ave Metro\", \"Rolfe St & 9th St S\", \"Shirlington Transit Center / Quincy St & Randolph St\", \"River Rd & Landy Ln\", \"34th & Water St NW\", \"Duke St & John Carlyle St\", \"Lee Hwy & N Cleveland St\", \"10th & G St NW\", \"Lee Hwy & N Scott St\", \"New Hampshire Ave & 24th St NW\", \"Eisenhower Ave & Mill Race Ln\", \"Potomac Greens Dr & Slaters Ln\", \"Ballenger Ave & Dulaney St\", \"Mount Vernon Ave & E Nelson Ave\", \"Monroe Ave & Leslie Ave\", \"Mount Vernon Ave & Kennedy St\", \"Court House Metro / 15th St & N Uhle St\", \"Long Bridge Park / Long Bridge Dr & 6th St S\"], \"lat\": [38.90366, 38.8983, 38.912648, 38.907908, 38.898412, 38.914751, 38.902814, 38.913761, 38.89967, 38.90864000000001, 38.894474, 38.896134, 38.915604, 38.946182, 38.994113, 38.812718, 38.80704, 38.813485, 38.884829, 38.958267, 38.928893, 38.912652, 38.979875, 38.903658, 38.908643, 38.831516, 38.893511, 38.909394, 38.799267, 38.92528400000001, 38.822738, 38.90843, 38.884323, 38.947156, 38.894972, 38.828437, 38.812711, 38.820058, 38.890493, 38.890544, 38.888097, 38.798133, 38.843422, 38.902406, 38.841291, 38.797557, 38.818748, 38.829545, 38.928552, 38.901136, 38.91263, 38.897407, 38.870695, 38.884916, 38.892441, 38.891805, 38.89386, 38.812351, 38.919086, 38.882489, 38.876695, 38.902932, 38.88345, 38.905368, 38.924088, 38.888282, 38.858524, 38.8995, 38.905424, 38.925636, 38.912644, 38.892556, 38.936298, 38.892244, 38.905303, 38.84627, 38.84377, 38.84623, 38.836, 38.824481, 38.82373, 38.81909, 38.883011, 38.896465, 38.88044, 38.915, 38.95674, 38.89222, 38.87335, 38.870201, 38.855004, 38.931991, 38.917304, 38.876893, 38.798749, 38.931942, 38.876751, 38.948057, 38.902674, 38.907444, 38.897108, 38.901935, 38.892934, 38.923389, 38.906299, 38.89780800000001, 38.885908, 38.835737, 38.911268, 38.840107, 38.7968, 38.93212800000001, 38.914204, 38.912524, 38.942146, 38.942025, 38.934405, 38.888524, 38.924144, 38.902732, 38.895955, 38.900468, 38.7859, 38.836646, 38.876227, 38.857369, 38.898925, 38.899942, 38.909701, 38.869337, 38.902386, 38.858971, 38.85725, 38.8426, 38.9003, 38.917931, 38.929464, 38.926088, 38.922925, 38.9268, 38.923203, 38.9319, 38.8767, 38.90985, 38.913046, 38.9086, 38.8963, 38.900711, 38.936684, 38.9375, 38.9346, 38.90304, 38.8896, 38.9308, 38.934267, 38.878, 38.862669, 38.867373, 38.8952, 38.919077, 38.9172, 38.9249, 38.8743, 38.9154, 38.9155, 38.8763, 38.9101, 38.9057, 38.905711, 38.90276, 38.899408, 38.8851, 38.8803, 38.882915, 38.9121, 38.944551, 38.9126, 38.8792, 38.938736, 38.934881, 38.947774, 38.86578400000001, 38.873057, 38.886952, 38.899632, 38.886277, 38.902221, 38.933668, 38.894919, 38.886266, 38.893028, 38.897293, 38.884, 38.905067, 38.947607, 38.900427, 38.897222, 38.899032, 38.905737, 38.927872, 38.903741, 38.90375, 38.878694, 38.894758, 38.916442, 38.900283, 38.8997, 38.93251400000001, 38.910972, 38.899972, 38.900412, 38.900413, 38.889955, 38.8692, 38.894832, 38.91554, 38.898364, 38.894514, 38.897283, 38.902061, 38.908905, 38.895344, 38.8923, 38.90774, 38.899983, 38.903827, 38.89696, 38.897446, 38.905607, 38.922581, 38.898409, 38.844015, 38.88412, 38.897857, 38.897315, 38.8946, 38.893438, 38.891696, 38.86559000000001, 38.892459, 38.889, 38.920669, 38.905996, 38.9059, 38.8881, 38.88786, 38.89968, 38.886372, 38.88412, 38.881185, 38.912719, 38.9418, 38.915417, 38.928121, 38.917761, 38.930282, 38.905126, 38.88732, 38.876393, 38.850337, 38.9024, 38.885801, 38.896355, 38.878854, 38.922649, 38.928743, 38.882788, 38.88397, 38.884734, 38.888553, 38.888767, 38.87887, 38.894573, 38.89593, 38.88081, 38.881044, 38.879819, 38.883921, 38.880012, 38.90509, 38.903584, 38.903819, 38.901539, 38.902204, 38.803124, 38.804718, 38.810743, 38.805317, 38.902, 38.805648, 38.811456, 38.814577, 38.805763, 38.9066, 38.89591400000001, 38.90088, 38.884961, 38.88936500000001, 38.888251, 38.894722, 38.90093, 38.943837, 38.954812, 38.90547, 38.863833, 38.857803, 38.846222, 38.918809, 38.956556, 38.949662, 38.942475, 38.956432, 38.860789, 38.84736, 38.84232, 38.848454, 38.90849, 38.955016, 38.908142, 38.92333, 38.889988, 38.91265900000001, 38.889908, 38.897274, 38.897195, 38.928644, 38.84323, 38.903732, 38.916787, 38.865029, 38.880705, 38.867262, 38.88737800000001, 38.894851, 38.917622, 38.918155, 38.892275, 38.886978000000006, 38.887312, 38.927497, 38.862478, 38.981103, 38.98954000000001, 38.983525, 38.921074, 38.87501, 38.920387, 38.876737, 38.992375, 38.990639, 38.923583, 38.907333, 38.898536, 38.878433, 38.999634, 38.899703, 38.837666, 38.869418, 38.941139, 38.900358, 38.920682, 38.866471, 38.839912, 38.964992, 38.903663, 38.804378, 38.894941, 38.898243, 38.897612, 38.901755, 38.801111, 38.82175, 38.802677, 38.820064, 38.820932, 38.833077, 38.890612, 38.86555300000001], \"legendgroup\": \"6\", \"lon\": [-77.034846, -77.039732, -77.041834, -76.99707, -77.043182, -77.00356, -77.06104300000001, -77.027025, -77.00366600000002, -77.02277, -76.974828, -76.9929, -76.983683, -77.08059, -77.076986, -77.044097, -77.05981700000002, -77.049468, -77.12767099999998, -77.084636, -77.03625, -77.036278, -77.093522, -77.03173699999998, -77.012365, -77.008133, -77.04154399999999, -77.048728, -77.0447, -77.032375, -77.049265, -77.02714, -77.02601, -77.065115, -77.003135, -77.086031, -77.061715, -77.062821, -77.017253, -77.049379, -77.038325, -77.0487, -77.06401600000002, -77.016006, -77.06309300000002, -77.05376600000002, -77.047783, -77.047844, -77.032224, -77.034451, -76.971923, -76.925907, -76.982359, -77.005965, -77.048947, -76.913563, -77.070862, -77.04069100000002, -77.034502, -76.990121, -77.11298199999997, -76.998405, -77.021741, -77.065149, -77.040787, -77.11106600000002, -77.103728, -77.05415500000002, -77.034674, -77.027112, -77.04564, -77.082089, -77.087128, -77.033234, -77.050264, -76.98185, -76.97556999999998, -76.97703, -77.0009, -77.00549699999998, -77.00223000000003, -77.01033000000002, -76.949709, -77.033381, -77.02523599999998, -77.0078, -77.02790999999998, -76.99602, -76.9834, -77.010837, -76.984512, -77.032956, -77.09629, -77.006072, -77.00103, -77.028357, -77.000736, -77.021467, -77.021392, -76.986813, -77.011616, -76.978627, -76.998273, -77.051833, -76.983221, -76.97963399999998, -76.991476, -76.983144, -77.041829, -76.9753, -77.0026, -77.0235, -77.022175, -77.008798, -77.038684, -77.018221, -77.032687, -76.913188, -77.002098, -76.99515, -76.967845, -76.947287, -77.0167, -76.993589, -76.94098100000002, -76.977688, -77.048852, -76.994897, -77.085646, -76.97851899999998, -77.005649, -77.05323, -77.05332, -77.0502, -77.0429, -77.032112, -77.027822, -77.036536, -77.04258100000001, -77.0322, -77.047637, -77.0388, -77.0178, -77.034438, -77.03200799999998, -77.0323, -77.045, -77.046449, -77.024181, -77.0328, -76.9955, -77.01902700000002, -76.9769, -77.0315, -77.057979, -76.9607, -76.994637, -76.988039, -77.0436, -77.000648, -77.0259, -77.0222, -77.0057, -77.0446, -77.0222, -77.0037, -77.0444, -77.0056, -77.047318, -77.03863, -77.015289, -77.0023, -76.9862, -76.98790699999998, -77.0387, -77.063896, -77.0135, -76.9953, -77.087171, -77.072755, -77.032818, -76.9784, -76.97101500000002, -76.996806, -77.031686, -77.028242, -77.059219, -76.991016, -77.046587, -77.02224100000002, -77.026013, -77.05556999999997, -76.995397, -77.041779, -77.079382, -76.98825, -77.019347, -77.033354, -77.02226999999998, -77.043358, -77.042452, -77.06269, -77.023054, -76.997114, -77.0682, -77.029822, -77.02308599999998, -76.992889, -77.00495, -76.998347, -77.001949, -76.982872, -77.000349, -76.9599, -76.987633, -77.03818000000003, -77.027869, -77.031617, -77.022191, -77.038322, -77.04478, -77.01610600000002, -77.0436, -77.071652, -76.991383, -77.053485, -77.00493, -77.009888, -77.027137, -77.070334, -77.032278, -77.050537, -77.04656999999997, -77.026975, -77.070993, -77.072305, -77.076389, -77.0846, -76.95210300000002, -77.04656700000002, -77.0925, -77.04368000000002, -77.03980200000002, -77.0325, -77.09308, -77.094875, -77.041539, -77.017701, -77.017445, -77.001828, -77.022155, -77.0251, -77.012289, -77.02379499999998, -77.04061999999998, -77.055599, -77.056887, -76.98356899999997, -77.10773499999998, -77.100989, -77.02622, -77.09774499999997, -77.078408, -77.00572700000002, -77.077271, -77.012457, -77.103148, -77.10783, -77.093485, -77.03242900000002, -77.02858, -77.1207, -77.01994, -77.08900600000003, -77.09079200000002, -77.11176800000001, -77.037413, -77.116817, -77.107854, -76.9941, -77.044789, -77.0284, -77.046564, -77.04337, -77.040363, -77.043363, -77.044664, -77.049883, -77.03353, -77.05293, -77.050276, -77.052808, -77.060627, -77.05152, -77.026064, -77.048911, -77.08776999999998, -77.077294, -77.049426, -77.045128, -77.018677, -77.077078, -77.082426, -77.00213000000002, -77.08031899999997, -77.086733, -77.069275, -77.04157099999998, -77.019814, -77.027333, -77.032678, -77.032947, -77.09586, -77.095431, -77.089555, -77.084918, -77.063586, -77.069956, -77.038359, -77.0352, -76.995193, -77.017669, -76.983326, -76.994749, -76.983575, -76.990955, -76.999376, -76.987211, -77.028139, -77.039511, -77.08596, -77.072315, -77.00195500000002, -77.02324, -77.01597, -77.004746, -77.013917, -77.013769, -77.025762, -76.997194, -77.08659899999998, -77.097426, -77.098029, -77.09536700000002, -77.031887, -77.0024, -77.025672, -76.99446800000003, -77.100104, -77.100239, -77.050046, -77.01536, -76.931862, -77.03023, -77.109647, -77.008911, -77.09482, -77.095596, -77.061977, -77.012108, -76.995876, -77.076131, -77.08708299999998, -77.103381, -77.06766800000003, -77.060866, -77.09169, -77.026235, -77.080851, -77.051084, -77.068952, -77.047494, -77.063562, -77.05761899999997, -77.053096, -77.059821, -77.084801, -77.05003], \"marker\": {\"color\": \"#EF553B\", \"size\": [5, 5, 5, 5, 5, 5, 5, 5, 5, 5, 5, 5, 5, 5, 5, 5, 5, 5, 5, 5, 5, 5, 5, 5, 5, 5, 5, 5, 5, 5, 5, 5, 5, 5, 5, 5, 5, 5, 5, 5, 5, 5, 5, 5, 5, 5, 5, 5, 5, 5, 5, 5, 5, 5, 5, 5, 5, 5, 5, 5, 5, 5, 5, 5, 5, 5, 5, 5, 5, 5, 5, 5, 5, 5, 5, 5, 5, 5, 5, 5, 5, 5, 5, 5, 5, 5, 5, 5, 5, 5, 5, 5, 5, 5, 5, 5, 5, 5, 5, 5, 5, 5, 5, 5, 5, 5, 5, 5, 5, 5, 5, 5, 5, 5, 5, 5, 5, 5, 5, 5, 5, 5, 5, 5, 5, 5, 5, 5, 5, 5, 5, 5, 5, 5, 5, 5, 5, 5, 5, 5, 5, 5, 5, 5, 5, 5, 5, 5, 5, 5, 5, 5, 5, 5, 5, 5, 5, 5, 5, 5, 5, 5, 5, 5, 5, 5, 5, 5, 5, 5, 5, 5, 5, 5, 5, 5, 5, 5, 5, 5, 5, 5, 5, 5, 5, 5, 5, 5, 5, 5, 5, 5, 5, 5, 5, 5, 5, 5, 5, 5, 5, 5, 5, 5, 5, 5, 5, 5, 5, 5, 5, 5, 5, 5, 5, 5, 5, 5, 5, 5, 5, 5, 5, 5, 5, 5, 5, 5, 5, 5, 5, 5, 5, 5, 5, 5, 5, 5, 5, 5, 5, 5, 5, 5, 5, 5, 5, 5, 5, 5, 5, 5, 5, 5, 5, 5, 5, 5, 5, 5, 5, 5, 5, 5, 5, 5, 5, 5, 5, 5, 5, 5, 5, 5, 5, 5, 5, 5, 5, 5, 5, 5, 5, 5, 5, 5, 5, 5, 5, 5, 5, 5, 5, 5, 5, 5, 5, 5, 5, 5, 5, 5, 5, 5, 5, 5, 5, 5, 5, 5, 5, 5, 5, 5, 5, 5, 5, 5, 5, 5, 5, 5, 5, 5, 5, 5, 5, 5, 5, 5, 5, 5, 5, 5, 5, 5, 5, 5, 5, 5, 5, 5, 5, 5, 5, 5, 5, 5, 5, 5, 5, 5, 5, 5, 5, 5, 5, 5, 5, 5, 5, 5, 5, 5, 5, 5, 5, 5, 5, 5, 5, 5, 5, 5, 5, 5, 5, 5], \"sizemode\": \"area\", \"sizeref\": 0.05}, \"mode\": \"markers\", \"name\": \"6\", \"showlegend\": true, \"subplot\": \"mapbox\", \"type\": \"scattermapbox\"}, {\"customdata\": [[\"Spring St & 2nd Ave\"], [\"Amherst Ave & Elkins St\"], [\"Grandview & Blueridge Ave\"], [\"Windham Ln & Amherst Ave\"], [\"Blueridge Ave & Elkin St\"], [\"Garland Ave & Walden Rd\"], [\"Perry & 35th St\"], [\"Oglethorpe St & 42nd Ave\"], [\"New Hampshire Ave & East-West Hwy\"], [\"Riggs Rd & East West Hwy\"], [\"The Mall at Prince Georges\"], [\"Wheaton Library & Community Rec Center\"], [\"Philadelphia & Maple Ave\"], [\"Dennis Ave & Amherst Ave\"], [\"Carroll & Ethan Allen Ave\"], [\"Silver Spring Transit Center - Top Level\"], [\"Takoma Metro\"], [\"WAU / Flower Ave & Division St\"]], \"hovertemplate\": \"<b>%{hovertext}</b><br><br>hdbscan=7<br>size=%{marker.size}<br>LATITUDE=%{lat}<br>LONGITUDE=%{lon}<br>node_ids=%{customdata[0]}<extra></extra>\", \"hovertext\": [\"Spring St & 2nd Ave\", \"Amherst Ave & Elkins St\", \"Grandview & Blueridge Ave\", \"Windham Ln & Amherst Ave\", \"Blueridge Ave & Elkin St\", \"Garland Ave & Walden Rd\", \"Perry & 35th St\", \"Oglethorpe St & 42nd Ave\", \"New Hampshire Ave & East-West Hwy\", \"Riggs Rd & East West Hwy\", \"The Mall at Prince Georges\", \"Wheaton Library & Community Rec Center\", \"Philadelphia & Maple Ave\", \"Dennis Ave & Amherst Ave\", \"Carroll & Ethan Allen Ave\", \"Silver Spring Transit Center - Top Level\", \"Takoma Metro\", \"WAU / Flower Ave & Division St\"], \"lat\": [38.997653, 39.044887, 39.043272, 39.032029, 39.04313, 39.00048, 38.936213, 38.959361, 38.974205, 38.9725, 38.968842, 39.047323, 38.98128, 39.025387, 38.977933, 38.994035, 38.975219, 38.986743], \"legendgroup\": \"7\", \"lon\": [-77.034499, -77.047788, -77.053085, -77.04735, -77.05006, -77.00076999999997, -76.960054, -76.946361, -76.995227, -76.9807, -76.954171, -77.051097, -77.011336, -77.044563, -77.006472, -77.030371, -77.016855, -77.000035], \"marker\": {\"color\": \"#00CC96\", \"size\": [5, 5, 5, 5, 5, 5, 5, 5, 5, 5, 5, 5, 5, 5, 5, 5, 5, 5], \"sizemode\": \"area\", \"sizeref\": 0.05}, \"mode\": \"markers\", \"name\": \"7\", \"showlegend\": true, \"subplot\": \"mapbox\", \"type\": \"scattermapbox\"}, {\"customdata\": [[\"Key West Ave & Siesta Key Way\"], [\"Shady Grove Metro East\"], [\"Columbus Ave & Tribeca St\"], [\"Columbus Ave & Gramercy Blvd\"], [\"Key West Ave & Great Seneca Hwy\"], [\"Corporate Blvd & Omega Dr\"], [\"Key West Ave & Diamondback Dr\"], [\"Fallsgrove Blvd & Fallsgrove Dr\"], [\"Traville Gateway Dr & Gudelsky Dr\"], [\"E Montgomery Ave & Maryland Ave\"], [\"Frederick Ave & Horners Ln\"], [\"Crabbs Branch Way & Redland Rd\"], [\"Fallsgrove Dr & W Montgomery Ave\"], [\"Monroe St & Monroe Pl\"], [\"Needwood Rd & Eagles Head Ct\"], [\"Crabbs Branch Way & Calhoun Pl\"], [\"Montgomery College / W Campus Dr & Mannakee St\"], [\"Broschart & Blackwell Rd\"], [\"Fleet St & Ritchie Pkwy\"], [\"Piccard & W Gude Dr\"], [\"King Farm Blvd & Pleasant Dr\"], [\"King Farm Blvd & Piccard Dr\"], [\"Medical Center Dr & Key West Ave\"], [\"Shady Grove Hospital\"], [\"Rockville Metro East\"], [\"Shady Grove Metro West\"], [\"Rockville Metro West\"]], \"hovertemplate\": \"<b>%{hovertext}</b><br><br>hdbscan=4<br>size=%{marker.size}<br>LATITUDE=%{lat}<br>LONGITUDE=%{lon}<br>node_ids=%{customdata[0]}<extra></extra>\", \"hovertext\": [\"Key West Ave & Siesta Key Way\", \"Shady Grove Metro East\", \"Columbus Ave & Tribeca St\", \"Columbus Ave & Gramercy Blvd\", \"Key West Ave & Great Seneca Hwy\", \"Corporate Blvd & Omega Dr\", \"Key West Ave & Diamondback Dr\", \"Fallsgrove Blvd & Fallsgrove Dr\", \"Traville Gateway Dr & Gudelsky Dr\", \"E Montgomery Ave & Maryland Ave\", \"Frederick Ave & Horners Ln\", \"Crabbs Branch Way & Redland Rd\", \"Fallsgrove Dr & W Montgomery Ave\", \"Monroe St & Monroe Pl\", \"Needwood Rd & Eagles Head Ct\", \"Crabbs Branch Way & Calhoun Pl\", \"Montgomery College / W Campus Dr & Mannakee St\", \"Broschart & Blackwell Rd\", \"Fleet St & Ritchie Pkwy\", \"Piccard & W Gude Dr\", \"King Farm Blvd & Pleasant Dr\", \"King Farm Blvd & Piccard Dr\", \"Medical Center Dr & Key West Ave\", \"Shady Grove Hospital\", \"Rockville Metro East\", \"Shady Grove Metro West\", \"Rockville Metro West\"], \"lat\": [39.105295, 39.121327, 39.126, 39.12333, 39.105642, 39.106971, 39.106152, 39.096312, 39.093783, 39.084125, 39.094772, 39.12004500000001, 39.099376, 39.083673, 39.123513, 39.107709, 39.095661, 39.102099, 39.076331, 39.102212, 39.114688, 39.110314, 39.103091, 39.097636, 39.085394, 39.119765, 39.084379], \"legendgroup\": \"4\", \"lon\": [-77.194774, -77.164969, -77.1673, -77.16486, -77.20385999999998, -77.192645, -77.202354, -77.192672, -77.202501, -77.151291, -77.145213, -77.15698499999998, -77.188014, -77.149162, -77.15741, -77.152072, -77.159048, -77.200322, -77.141378, -77.177091, -77.171487, -77.18266899999998, -77.196442, -77.196636, -77.145803, -77.166093, -77.146866], \"marker\": {\"color\": \"#AB63FA\", \"size\": [5, 5, 5, 5, 5, 5, 5, 5, 5, 5, 5, 5, 5, 5, 5, 5, 5, 5, 5, 5, 5, 5, 5, 5, 5, 5, 5], \"sizemode\": \"area\", \"sizeref\": 0.05}, \"mode\": \"markers\", \"name\": \"4\", \"showlegend\": true, \"subplot\": \"mapbox\", \"type\": \"scattermapbox\"}, {\"customdata\": [[\"East Falls Church Metro / Sycamore St & 19th St N\"], [\"Westover Library / Washington Blvd & N McKinley Rd\"], [\"George Mason High School / Haycock Rd & Leesburg Pike\"], [\"State Theatre / Park Pl & N Washington St\"], [\"N Oak St & W Broad St\"], [\"Pennsylvania Ave & Park Ave\"], [\"E Fairfax St & S Washington St\"], [\"N Roosevelt St & Roosevelt Blvd\"], [\"W Broad St & Little Falls St\"], [\"S Maple Ave & S Washington St\"], [\"Falls Church City Hall / Park Ave & Little Falls St\"], [\"W Columbia St & N Washington St\"], [\"West Falls Church Metro\"]], \"hovertemplate\": \"<b>%{hovertext}</b><br><br>hdbscan=3<br>size=%{marker.size}<br>LATITUDE=%{lat}<br>LONGITUDE=%{lon}<br>node_ids=%{customdata[0]}<extra></extra>\", \"hovertext\": [\"East Falls Church Metro / Sycamore St & 19th St N\", \"Westover Library / Washington Blvd & N McKinley Rd\", \"George Mason High School / Haycock Rd & Leesburg Pike\", \"State Theatre / Park Pl & N Washington St\", \"N Oak St & W Broad St\", \"Pennsylvania Ave & Park Ave\", \"E Fairfax St & S Washington St\", \"N Roosevelt St & Roosevelt Blvd\", \"W Broad St & Little Falls St\", \"S Maple Ave & S Washington St\", \"Falls Church City Hall / Park Ave & Little Falls St\", \"W Columbia St & N Washington St\", \"West Falls Church Metro\"], \"lat\": [38.88532100000001, 38.886048, 38.895172, 38.882746, 38.88837, 38.887403000000006, 38.880612, 38.878085, 38.883601, 38.87972, 38.885434, 38.885621, 38.9001], \"legendgroup\": \"3\", \"lon\": [-77.15642700000002, -77.142317, -77.190275, -77.17003199999998, -77.17983199999998, -77.176992, -77.171891, -77.153953, -77.173438, -77.17840799999998, -77.17360500000002, -77.166917, -77.1887], \"marker\": {\"color\": \"#FFA15A\", \"size\": [5, 5, 5, 5, 5, 5, 5, 5, 5, 5, 5, 5, 5], \"sizemode\": \"area\", \"sizeref\": 0.05}, \"mode\": \"markers\", \"name\": \"3\", \"showlegend\": true, \"subplot\": \"mapbox\", \"type\": \"scattermapbox\"}, {\"customdata\": [[\"Spring Hill Metro\"], [\"Westpark Dr & Leesburg Pike\"], [\"Tysons One Pl & Chain Bridge Rd\"], [\"Tysons Corner Station\"], [\"Westpark & Jones Branch Dr\"], [\"Jones Branch & Westbranch Dr\"], [\"Westpark & Park Run Dr\"], [\"Tysons West Transit Center\"], [\"Greensboro & International Dr\"], [\"Towers Crescent Dr & Tysons One Pl\"], [\"Greensboro & Pinnacle Dr\"], [\"Park Run & Onyx Dr\"], [\"McLean Metro\"], [\"Jones Branch Drive & Scotts Crossing Rd\"]], \"hovertemplate\": \"<b>%{hovertext}</b><br><br>hdbscan=1<br>size=%{marker.size}<br>LATITUDE=%{lat}<br>LONGITUDE=%{lon}<br>node_ids=%{customdata[0]}<extra></extra>\", \"hovertext\": [\"Spring Hill Metro\", \"Westpark Dr & Leesburg Pike\", \"Tysons One Pl & Chain Bridge Rd\", \"Tysons Corner Station\", \"Westpark & Jones Branch Dr\", \"Jones Branch & Westbranch Dr\", \"Westpark & Park Run Dr\", \"Tysons West Transit Center\", \"Greensboro & International Dr\", \"Towers Crescent Dr & Tysons One Pl\", \"Greensboro & Pinnacle Dr\", \"Park Run & Onyx Dr\", \"McLean Metro\", \"Jones Branch Drive & Scotts Crossing Rd\"], \"lat\": [38.929261, 38.92403, 38.919475, 38.920939, 38.924437, 38.931911, 38.928919, 38.932636, 38.923083, 38.915246, 38.92245, 38.92755, 38.924002, 38.928502], \"legendgroup\": \"1\", \"lon\": [-77.240654, -77.235955, -77.221179, -77.222115, -77.217664, -77.219261, -77.225394, -77.231825, -77.227417, -77.220157, -77.23034, -77.226644, -77.208127, -77.215624], \"marker\": {\"color\": \"#19D3F3\", \"size\": [5, 5, 5, 5, 5, 5, 5, 5, 5, 5, 5, 5, 5, 5], \"sizemode\": \"area\", \"sizeref\": 0.05}, \"mode\": \"markers\", \"name\": \"1\", \"showlegend\": true, \"subplot\": \"mapbox\", \"type\": \"scattermapbox\"}, {\"customdata\": [[\"North Shore & Cameron Crescent Dr/Crescent Apartments\"], [\"Town Center Pkwy & Bowman Towne Dr\"], [\"Reston Regional Library\"], [\"New Dominion Pkwy & Fountain Dr\"], [\"Sunset Hills & Old Reston Ave\"], [\"Reston Town Center Transit Station\"], [\"Wiehle Ave & Reston Station Blvd\"], [\"Library St & Freedom Dr\"], [\"Sunset Hills Rd & Discovery Square\"], [\"Temporary Rd & Old Reston Ave\"], [\"Reston YMCA\"], [\"Sunset Hills Rd & Isaac Newton Square\"], [\"North Shore Dr & Village Rd\"], [\"Town Center Pkwy & Sunset Hills Rd\"], [\"Reston Pkwy & Spectrum Dr\"], [\"Campus Commons\"], [\"Vy Reston Heights\"]], \"hovertemplate\": \"<b>%{hovertext}</b><br><br>hdbscan=2<br>size=%{marker.size}<br>LATITUDE=%{lat}<br>LONGITUDE=%{lon}<br>node_ids=%{customdata[0]}<extra></extra>\", \"hovertext\": [\"North Shore & Cameron Crescent Dr/Crescent Apartments\", \"Town Center Pkwy & Bowman Towne Dr\", \"Reston Regional Library\", \"New Dominion Pkwy & Fountain Dr\", \"Sunset Hills & Old Reston Ave\", \"Reston Town Center Transit Station\", \"Wiehle Ave & Reston Station Blvd\", \"Library St & Freedom Dr\", \"Sunset Hills Rd & Discovery Square\", \"Temporary Rd & Old Reston Ave\", \"Reston YMCA\", \"Sunset Hills Rd & Isaac Newton Square\", \"North Shore Dr & Village Rd\", \"Town Center Pkwy & Sunset Hills Rd\", \"Reston Pkwy & Spectrum Dr\", \"Campus Commons\", \"Vy Reston Heights\"], \"lat\": [38.970046, 38.962524, 38.962095, 38.960574, 38.955079, 38.957037, 38.94660800000001, 38.959633, 38.95534, 38.960084, 38.955314, 38.951443, 38.970412, 38.955171, 38.964208, 38.944707, 38.949008], \"legendgroup\": \"2\", \"lon\": [-77.338686, -77.361902, -77.358815, -77.356324, -77.351649, -77.359718, -77.339391, -77.35874100000002, -77.357611, -77.353414, -77.368416, -77.340377, -77.340787, -77.36309399999998, -77.35428, -77.335425, -77.355299], \"marker\": {\"color\": \"#FF6692\", \"size\": [5, 5, 5, 5, 5, 5, 5, 5, 5, 5, 5, 5, 5, 5, 5, 5, 5], \"sizemode\": \"area\", \"sizeref\": 0.05}, \"mode\": \"markers\", \"name\": \"2\", \"showlegend\": true, \"subplot\": \"mapbox\", \"type\": \"scattermapbox\"}, {\"customdata\": [[\"White Flint Metro\"], [\"Citadel Ave & McGrath Blvd\"], [\"Rockville Pike & Old Georgetown Rd\"], [\"Woodglen Dr & Executive Blvd\"], [\"Executive Blvd & E Jefferson St\"], [\"Congressional Ln & E Jefferson St\"], [\"Rockville Pike & Meeting St\"]], \"hovertemplate\": \"<b>%{hovertext}</b><br><br>hdbscan=5<br>size=%{marker.size}<br>LATITUDE=%{lat}<br>LONGITUDE=%{lon}<br>node_ids=%{customdata[0]}<extra></extra>\", \"hovertext\": [\"White Flint Metro\", \"Citadel Ave & McGrath Blvd\", \"Rockville Pike & Old Georgetown Rd\", \"Woodglen Dr & Executive Blvd\", \"Executive Blvd & E Jefferson St\", \"Congressional Ln & E Jefferson St\", \"Rockville Pike & Meeting St\"], \"lat\": [39.04753, 39.049, 39.049765, 39.04317, 39.04873, 39.06219, 39.050539], \"legendgroup\": \"5\", \"lon\": [-77.11287, -77.10933, -77.11368, -77.1135, -77.1257, -77.129235, -77.115212], \"marker\": {\"color\": \"#B6E880\", \"size\": [5, 5, 5, 5, 5, 5, 5], \"sizemode\": \"area\", \"sizeref\": 0.05}, \"mode\": \"markers\", \"name\": \"5\", \"showlegend\": true, \"subplot\": \"mapbox\", \"type\": \"scattermapbox\"}, {\"customdata\": [[\"Briggs Chaney & Castle Dr\"], [\"White Oak Rec Center\"], [\"Briggs Chaney Park & Ride\"], [\"Stewart & April\"], [\"Stewart Ln & Old Columbia Pike\"], [\"Castle Blvd & Castle Ln\"], [\"Oak Leaf & Lockwood\"], [\"White Oak Transit Center\"]], \"hovertemplate\": \"<b>%{hovertext}</b><br><br>hdbscan=0<br>size=%{marker.size}<br>LATITUDE=%{lat}<br>LONGITUDE=%{lon}<br>node_ids=%{customdata[0]}<extra></extra>\", \"hovertext\": [\"Briggs Chaney & Castle Dr\", \"White Oak Rec Center\", \"Briggs Chaney Park & Ride\", \"Stewart & April\", \"Stewart Ln & Old Columbia Pike\", \"Castle Blvd & Castle Ln\", \"Oak Leaf & Lockwood\", \"White Oak Transit Center\"], \"lat\": [39.081638, 39.046144, 39.077875, 39.044944, 39.045652, 39.085314, 39.037981, 39.04104], \"legendgroup\": \"0\", \"lon\": [-76.945495, -76.975723, -76.941867, -76.981155, -76.985438, -76.940547, -76.994539, -76.987125], \"marker\": {\"color\": \"#FF97FF\", \"size\": [5, 5, 5, 5, 5, 5, 5, 5], \"sizemode\": \"area\", \"sizeref\": 0.05}, \"mode\": \"markers\", \"name\": \"0\", \"showlegend\": true, \"subplot\": \"mapbox\", \"type\": \"scattermapbox\"}],                        {\"height\": 600, \"legend\": {\"itemsizing\": \"constant\", \"title\": {\"text\": \"hdbscan\"}, \"tracegroupgap\": 0}, \"mapbox\": {\"center\": {\"lat\": 38.917685412969284, \"lon\": -77.05739412798634}, \"domain\": {\"x\": [0.0, 1.0], \"y\": [0.0, 1.0]}, \"style\": \"carto-positron\", \"zoom\": 10}, \"margin\": {\"b\": 0, \"l\": 0, \"r\": 0, \"t\": 0}, \"template\": {\"data\": {\"bar\": [{\"error_x\": {\"color\": \"#2a3f5f\"}, \"error_y\": {\"color\": \"#2a3f5f\"}, \"marker\": {\"line\": {\"color\": \"#E5ECF6\", \"width\": 0.5}}, \"type\": \"bar\"}], \"barpolar\": [{\"marker\": {\"line\": {\"color\": \"#E5ECF6\", \"width\": 0.5}}, \"type\": \"barpolar\"}], \"carpet\": [{\"aaxis\": {\"endlinecolor\": \"#2a3f5f\", \"gridcolor\": \"white\", \"linecolor\": \"white\", \"minorgridcolor\": \"white\", \"startlinecolor\": \"#2a3f5f\"}, \"baxis\": {\"endlinecolor\": \"#2a3f5f\", \"gridcolor\": \"white\", \"linecolor\": \"white\", \"minorgridcolor\": \"white\", \"startlinecolor\": \"#2a3f5f\"}, \"type\": \"carpet\"}], \"choropleth\": [{\"colorbar\": {\"outlinewidth\": 0, \"ticks\": \"\"}, \"type\": \"choropleth\"}], \"contour\": [{\"colorbar\": {\"outlinewidth\": 0, \"ticks\": \"\"}, \"colorscale\": [[0.0, \"#0d0887\"], [0.1111111111111111, \"#46039f\"], [0.2222222222222222, \"#7201a8\"], [0.3333333333333333, \"#9c179e\"], [0.4444444444444444, \"#bd3786\"], [0.5555555555555556, \"#d8576b\"], [0.6666666666666666, \"#ed7953\"], [0.7777777777777778, \"#fb9f3a\"], [0.8888888888888888, \"#fdca26\"], [1.0, \"#f0f921\"]], \"type\": \"contour\"}], \"contourcarpet\": [{\"colorbar\": {\"outlinewidth\": 0, \"ticks\": \"\"}, \"type\": \"contourcarpet\"}], \"heatmap\": [{\"colorbar\": {\"outlinewidth\": 0, \"ticks\": \"\"}, \"colorscale\": [[0.0, \"#0d0887\"], [0.1111111111111111, \"#46039f\"], [0.2222222222222222, \"#7201a8\"], [0.3333333333333333, \"#9c179e\"], [0.4444444444444444, \"#bd3786\"], [0.5555555555555556, \"#d8576b\"], [0.6666666666666666, \"#ed7953\"], [0.7777777777777778, \"#fb9f3a\"], [0.8888888888888888, \"#fdca26\"], [1.0, \"#f0f921\"]], \"type\": \"heatmap\"}], \"heatmapgl\": [{\"colorbar\": {\"outlinewidth\": 0, \"ticks\": \"\"}, \"colorscale\": [[0.0, \"#0d0887\"], [0.1111111111111111, \"#46039f\"], [0.2222222222222222, \"#7201a8\"], [0.3333333333333333, \"#9c179e\"], [0.4444444444444444, \"#bd3786\"], [0.5555555555555556, \"#d8576b\"], [0.6666666666666666, \"#ed7953\"], [0.7777777777777778, \"#fb9f3a\"], [0.8888888888888888, \"#fdca26\"], [1.0, \"#f0f921\"]], \"type\": \"heatmapgl\"}], \"histogram\": [{\"marker\": {\"colorbar\": {\"outlinewidth\": 0, \"ticks\": \"\"}}, \"type\": \"histogram\"}], \"histogram2d\": [{\"colorbar\": {\"outlinewidth\": 0, \"ticks\": \"\"}, \"colorscale\": [[0.0, \"#0d0887\"], [0.1111111111111111, \"#46039f\"], [0.2222222222222222, \"#7201a8\"], [0.3333333333333333, \"#9c179e\"], [0.4444444444444444, \"#bd3786\"], [0.5555555555555556, \"#d8576b\"], [0.6666666666666666, \"#ed7953\"], [0.7777777777777778, \"#fb9f3a\"], [0.8888888888888888, \"#fdca26\"], [1.0, \"#f0f921\"]], \"type\": \"histogram2d\"}], \"histogram2dcontour\": [{\"colorbar\": {\"outlinewidth\": 0, \"ticks\": \"\"}, \"colorscale\": [[0.0, \"#0d0887\"], [0.1111111111111111, \"#46039f\"], [0.2222222222222222, \"#7201a8\"], [0.3333333333333333, \"#9c179e\"], [0.4444444444444444, \"#bd3786\"], [0.5555555555555556, \"#d8576b\"], [0.6666666666666666, \"#ed7953\"], [0.7777777777777778, \"#fb9f3a\"], [0.8888888888888888, \"#fdca26\"], [1.0, \"#f0f921\"]], \"type\": \"histogram2dcontour\"}], \"mesh3d\": [{\"colorbar\": {\"outlinewidth\": 0, \"ticks\": \"\"}, \"type\": \"mesh3d\"}], \"parcoords\": [{\"line\": {\"colorbar\": {\"outlinewidth\": 0, \"ticks\": \"\"}}, \"type\": \"parcoords\"}], \"pie\": [{\"automargin\": true, \"type\": \"pie\"}], \"scatter\": [{\"marker\": {\"colorbar\": {\"outlinewidth\": 0, \"ticks\": \"\"}}, \"type\": \"scatter\"}], \"scatter3d\": [{\"line\": {\"colorbar\": {\"outlinewidth\": 0, \"ticks\": \"\"}}, \"marker\": {\"colorbar\": {\"outlinewidth\": 0, \"ticks\": \"\"}}, \"type\": \"scatter3d\"}], \"scattercarpet\": [{\"marker\": {\"colorbar\": {\"outlinewidth\": 0, \"ticks\": \"\"}}, \"type\": \"scattercarpet\"}], \"scattergeo\": [{\"marker\": {\"colorbar\": {\"outlinewidth\": 0, \"ticks\": \"\"}}, \"type\": \"scattergeo\"}], \"scattergl\": [{\"marker\": {\"colorbar\": {\"outlinewidth\": 0, \"ticks\": \"\"}}, \"type\": \"scattergl\"}], \"scattermapbox\": [{\"marker\": {\"colorbar\": {\"outlinewidth\": 0, \"ticks\": \"\"}}, \"type\": \"scattermapbox\"}], \"scatterpolar\": [{\"marker\": {\"colorbar\": {\"outlinewidth\": 0, \"ticks\": \"\"}}, \"type\": \"scatterpolar\"}], \"scatterpolargl\": [{\"marker\": {\"colorbar\": {\"outlinewidth\": 0, \"ticks\": \"\"}}, \"type\": \"scatterpolargl\"}], \"scatterternary\": [{\"marker\": {\"colorbar\": {\"outlinewidth\": 0, \"ticks\": \"\"}}, \"type\": \"scatterternary\"}], \"surface\": [{\"colorbar\": {\"outlinewidth\": 0, \"ticks\": \"\"}, \"colorscale\": [[0.0, \"#0d0887\"], [0.1111111111111111, \"#46039f\"], [0.2222222222222222, \"#7201a8\"], [0.3333333333333333, \"#9c179e\"], [0.4444444444444444, \"#bd3786\"], [0.5555555555555556, \"#d8576b\"], [0.6666666666666666, \"#ed7953\"], [0.7777777777777778, \"#fb9f3a\"], [0.8888888888888888, \"#fdca26\"], [1.0, \"#f0f921\"]], \"type\": \"surface\"}], \"table\": [{\"cells\": {\"fill\": {\"color\": \"#EBF0F8\"}, \"line\": {\"color\": \"white\"}}, \"header\": {\"fill\": {\"color\": \"#C8D4E3\"}, \"line\": {\"color\": \"white\"}}, \"type\": \"table\"}]}, \"layout\": {\"annotationdefaults\": {\"arrowcolor\": \"#2a3f5f\", \"arrowhead\": 0, \"arrowwidth\": 1}, \"autotypenumbers\": \"strict\", \"coloraxis\": {\"colorbar\": {\"outlinewidth\": 0, \"ticks\": \"\"}}, \"colorscale\": {\"diverging\": [[0, \"#8e0152\"], [0.1, \"#c51b7d\"], [0.2, \"#de77ae\"], [0.3, \"#f1b6da\"], [0.4, \"#fde0ef\"], [0.5, \"#f7f7f7\"], [0.6, \"#e6f5d0\"], [0.7, \"#b8e186\"], [0.8, \"#7fbc41\"], [0.9, \"#4d9221\"], [1, \"#276419\"]], \"sequential\": [[0.0, \"#0d0887\"], [0.1111111111111111, \"#46039f\"], [0.2222222222222222, \"#7201a8\"], [0.3333333333333333, \"#9c179e\"], [0.4444444444444444, \"#bd3786\"], [0.5555555555555556, \"#d8576b\"], [0.6666666666666666, \"#ed7953\"], [0.7777777777777778, \"#fb9f3a\"], [0.8888888888888888, \"#fdca26\"], [1.0, \"#f0f921\"]], \"sequentialminus\": [[0.0, \"#0d0887\"], [0.1111111111111111, \"#46039f\"], [0.2222222222222222, \"#7201a8\"], [0.3333333333333333, \"#9c179e\"], [0.4444444444444444, \"#bd3786\"], [0.5555555555555556, \"#d8576b\"], [0.6666666666666666, \"#ed7953\"], [0.7777777777777778, \"#fb9f3a\"], [0.8888888888888888, \"#fdca26\"], [1.0, \"#f0f921\"]]}, \"colorway\": [\"#636efa\", \"#EF553B\", \"#00cc96\", \"#ab63fa\", \"#FFA15A\", \"#19d3f3\", \"#FF6692\", \"#B6E880\", \"#FF97FF\", \"#FECB52\"], \"font\": {\"color\": \"#2a3f5f\"}, \"geo\": {\"bgcolor\": \"white\", \"lakecolor\": \"white\", \"landcolor\": \"#E5ECF6\", \"showlakes\": true, \"showland\": true, \"subunitcolor\": \"white\"}, \"hoverlabel\": {\"align\": \"left\"}, \"hovermode\": \"closest\", \"mapbox\": {\"style\": \"light\"}, \"paper_bgcolor\": \"white\", \"plot_bgcolor\": \"#E5ECF6\", \"polar\": {\"angularaxis\": {\"gridcolor\": \"white\", \"linecolor\": \"white\", \"ticks\": \"\"}, \"bgcolor\": \"#E5ECF6\", \"radialaxis\": {\"gridcolor\": \"white\", \"linecolor\": \"white\", \"ticks\": \"\"}}, \"scene\": {\"xaxis\": {\"backgroundcolor\": \"#E5ECF6\", \"gridcolor\": \"white\", \"gridwidth\": 2, \"linecolor\": \"white\", \"showbackground\": true, \"ticks\": \"\", \"zerolinecolor\": \"white\"}, \"yaxis\": {\"backgroundcolor\": \"#E5ECF6\", \"gridcolor\": \"white\", \"gridwidth\": 2, \"linecolor\": \"white\", \"showbackground\": true, \"ticks\": \"\", \"zerolinecolor\": \"white\"}, \"zaxis\": {\"backgroundcolor\": \"#E5ECF6\", \"gridcolor\": \"white\", \"gridwidth\": 2, \"linecolor\": \"white\", \"showbackground\": true, \"ticks\": \"\", \"zerolinecolor\": \"white\"}}, \"shapedefaults\": {\"line\": {\"color\": \"#2a3f5f\"}}, \"ternary\": {\"aaxis\": {\"gridcolor\": \"white\", \"linecolor\": \"white\", \"ticks\": \"\"}, \"baxis\": {\"gridcolor\": \"white\", \"linecolor\": \"white\", \"ticks\": \"\"}, \"bgcolor\": \"#E5ECF6\", \"caxis\": {\"gridcolor\": \"white\", \"linecolor\": \"white\", \"ticks\": \"\"}}, \"title\": {\"x\": 0.05}, \"xaxis\": {\"automargin\": true, \"gridcolor\": \"white\", \"linecolor\": \"white\", \"ticks\": \"\", \"title\": {\"standoff\": 15}, \"zerolinecolor\": \"white\", \"zerolinewidth\": 2}, \"yaxis\": {\"automargin\": true, \"gridcolor\": \"white\", \"linecolor\": \"white\", \"ticks\": \"\", \"title\": {\"standoff\": 15}, \"zerolinecolor\": \"white\", \"zerolinewidth\": 2}}}, \"width\": 700},                        {\"responsive\": true}                    ).then(function(){\n",
       "                            \n",
       "var gd = document.getElementById('4290aeab-229a-4973-86fc-5fa959539367');\n",
       "var x = new MutationObserver(function (mutations, observer) {{\n",
       "        var display = window.getComputedStyle(gd).display;\n",
       "        if (!display || display === 'none') {{\n",
       "            console.log([gd, 'removed!']);\n",
       "            Plotly.purge(gd);\n",
       "            observer.disconnect();\n",
       "        }}\n",
       "}});\n",
       "\n",
       "// Listen for the removal of the full notebook cells\n",
       "var notebookContainer = gd.closest('#notebook-container');\n",
       "if (notebookContainer) {{\n",
       "    x.observe(notebookContainer, {childList: true});\n",
       "}}\n",
       "\n",
       "// Listen for the clearing of the current output cell\n",
       "var outputEl = gd.closest('.output');\n",
       "if (outputEl) {{\n",
       "    x.observe(outputEl, {childList: true});\n",
       "}}\n",
       "\n",
       "                        })                };                });            </script>        </div>"
      ]
     },
     "metadata": {},
     "output_type": "display_data"
    }
   ],
   "source": [
    "import plotly.express as px\n",
    "\n",
    "stations = pd.read_csv('../data/capital_bikes/bike_locations.csv')\n",
    "stations = pd.merge(stations, nodes_labels, left_on='ADDRESS', right_on='node_ids',\n",
    "                how = 'inner')\n",
    "stations['hdbscan'] = stations['hdbscan'].astype(str)\n",
    "stations['size'] = 5 \n",
    "fig = px.scatter_mapbox(stations, lat=\"LATITUDE\", lon=\"LONGITUDE\", hover_name=\"node_ids\", \n",
    "                        hover_data=['node_ids'],\n",
    "                        size = 'size',\n",
    "                        size_max = 10,\n",
    "                        zoom=10, \n",
    "                        width=700, height=600, \n",
    "                        color_discrete_sequence=px.colors.qualitative.Plotly,\n",
    "                        color = 'hdbscan',\n",
    "                       )\n",
    "fig.update_layout(mapbox_style=\"carto-positron\")\n",
    "fig.update_layout(margin={\"r\":0,\"t\":0,\"l\":0,\"b\":0})\n",
    "fig.show()"
   ]
  },
  {
   "cell_type": "markdown",
   "metadata": {},
   "source": [
    "Since we do not have ground truth labels of the nodes from the embeddings, lets get some summary statistics of the clusters and see how intuitive the results are based on these summary statistics. \n",
    "\n",
    "One of the drabacks of the node2vec and the deepwalk algorithms is that the results you obtain from these algorithms is shaped by structural characteristics. [Researchers from Hannover University and University of Stavanger](https://arxiv.org/abs/1903.07902) showed that for directed graphs with low clustering, low transitivity and low reciprocity the biased random walks wouldn't offer additional information that can be used during the creation of the embeddings. For this part of the analysis I will use the python implementation of igraph a popular network analysis library. I am interested in understanding if the embeddings are able to effectively capture structural similarities between nodes."
   ]
  },
  {
   "cell_type": "code",
   "execution_count": 23,
   "metadata": {},
   "outputs": [
    {
     "name": "stdout",
     "output_type": "stream",
     "text": [
      "{'clustering coefficient': 0.0009101886691383708, 'transitivity_coefficient': 0.6945816318976256, 'reciprocity': 0.840115062414052}\n"
     ]
    }
   ],
   "source": [
    "# check the structural characteristics of the graph\n",
    "import networkx as nx\n",
    "graph_bikes_nx = nx.from_pandas_edgelist(graph_data, 'source', 'target', ['weight'], create_using=nx.DiGraph)\n",
    "graph_bikes_clustering_coefficient  = nx.average_clustering(graph_bikes_nx, weight='weight')\n",
    "graph_bikes_transitivity_coefficient = nx.transitivity(graph_bikes_nx)\n",
    "graph_bikes_reciprocity  = nx.reciprocity(graph_bikes_nx)\n",
    "graph_bike_properties = {'clustering coefficient':graph_bikes_clustering_coefficient, \n",
    "                    'transitivity_coefficient': graph_bikes_transitivity_coefficient, \n",
    "                    'reciprocity': graph_bikes_reciprocity}\n",
    "print(graph_bike_properties)"
   ]
  },
  {
   "cell_type": "markdown",
   "metadata": {},
   "source": [
    "discussion on why the graph seems to have failed at capturing structural equalities but capture local homophily quite well. low clustering coefficient."
   ]
  },
  {
   "cell_type": "markdown",
   "metadata": {},
   "source": [
    "## Conclussion\n"
   ]
  }
 ],
 "metadata": {
  "kernelspec": {
   "display_name": "Python [conda env:torch]",
   "language": "python",
   "name": "conda-env-torch-py"
  },
  "language_info": {
   "codemirror_mode": {
    "name": "ipython",
    "version": 3
   },
   "file_extension": ".py",
   "mimetype": "text/x-python",
   "name": "python",
   "nbconvert_exporter": "python",
   "pygments_lexer": "ipython3",
   "version": "3.7.9"
  }
 },
 "nbformat": 4,
 "nbformat_minor": 4
}
