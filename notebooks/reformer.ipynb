{
 "cells": [
  {
   "cell_type": "markdown",
   "metadata": {},
   "source": [
    "# Exploring Reformer the efficient transformer for text classification\n",
    "\n",
    "One of the most exciting developments on the deep learning for NLP over the past year was the publication of the [Reformer: The Efficient Transformer](https://arxiv.org/abs/2001.04451) a paper by researchers at Google. This model solves one of the biggest bottle necks of the attention based models; the limitation on how many tokens can the model pay attention to. In the original BERT model the max lenght of a sentence was 512 (mention the computation cost of longer sequences). The researches propose as a solution using three differen mechanisms\n",
    "LSH attention \n",
    "reversible network \n",
    "chunking\n",
    "\n",
    "If you wish an in depth explanation of what this model does I recommend (link).\n",
    "\n",
    "Why does we need long text attention.\n",
    "\n",
    "In this post I will explore the performance of the model on one of the standard datasets for text classification."
   ]
  },
  {
   "cell_type": "code",
   "execution_count": null,
   "metadata": {},
   "outputs": [],
   "source": [
    "import pandas as pd\n",
    "import torch"
   ]
  },
  {
   "cell_type": "code",
   "execution_count": null,
   "metadata": {},
   "outputs": [],
   "source": []
  },
  {
   "cell_type": "code",
   "execution_count": null,
   "metadata": {},
   "outputs": [],
   "source": []
  },
  {
   "cell_type": "code",
   "execution_count": null,
   "metadata": {},
   "outputs": [],
   "source": []
  },
  {
   "cell_type": "code",
   "execution_count": null,
   "metadata": {},
   "outputs": [],
   "source": []
  },
  {
   "cell_type": "code",
   "execution_count": null,
   "metadata": {},
   "outputs": [],
   "source": []
  }
 ],
 "metadata": {
  "kernelspec": {
   "display_name": "Python [conda env:torch] *",
   "language": "python",
   "name": "conda-env-torch-py"
  },
  "language_info": {
   "codemirror_mode": {
    "name": "ipython",
    "version": 3
   },
   "file_extension": ".py",
   "mimetype": "text/x-python",
   "name": "python",
   "nbconvert_exporter": "python",
   "pygments_lexer": "ipython3",
   "version": "3.6.9"
  }
 },
 "nbformat": 4,
 "nbformat_minor": 4
}
