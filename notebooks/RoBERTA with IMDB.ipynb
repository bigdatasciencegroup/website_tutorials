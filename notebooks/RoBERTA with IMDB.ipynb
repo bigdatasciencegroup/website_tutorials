{
 "cells": [
  {
   "cell_type": "markdown",
   "metadata": {},
   "source": [
    "# Using RoBERTA for text classification with Hugging Face `Trainer`\n",
    "\n",
    "One of the most interesting architectures derived from the BERT revolution is RoBERTA, which stands for [Robustly Optimized BERT Pretraining Approach](https://arxiv.org/abs/1907.11692). The authors of the paper found that while BERT provided and impressive performance boost across multiple tasks it was undertrained. They suggest a series of modifications to the original BERT architecture to achieve SOTA across multiple tasks such as:\n",
    "\n",
    "* Training the model for longer with bigger batches and more data\n",
    "* Removing the next sentence prediction objective\n",
    "* Dynamically masking during pretraining.\n",
    "\n",
    "RoBERTa also uses a different tokenizer, byte-level BPE (same as GPT-2), than BERT and has a larger vocabulary (50k vs 30k). The authors of the paper recognize that having larger vocabulary that allows the model to represent any word results in more parameters (15 million more for base RoBERTA), but the increase in complexity is justified by gains in performance. For a nice overview of BERT I recommend this tutorial with in depth explanation by [Chris McCormick](https://mccormickml.com/2019/11/11/bert-research-ep-1-key-concepts-and-sources/). \n",
    "\n",
    "In this post I will explore how to use RoBERTa for text classification with the Huggingface libraries *Transformers* as well as *Datasets* (formerly known as nlp). For this tutorial I chose the famous IMDB dataset. I made this decision two reasons 1)IMDB is a standard dataset used in many papers so our average reader is more likely to know or have worked with this dataset; 2) This is a good pretext to get to know better the datasets library. I also wanted to get more familiar with some of the new tools introduced by the Transformers library such as the native [Trainer class](https://huggingface.co/transformers/training.html#trainer). The most recent version of the Hugging Face library highlights how easy it is to train a model for text classification with this new helper class.\n",
    "\n",
    "This is not an extensive exploration of neither RoBERTa or BERT but should be seen as a practical guide on how to use it for your own projects."
   ]
  },
  {
   "cell_type": "code",
   "execution_count": 1,
   "metadata": {},
   "outputs": [],
   "source": [
    "import pandas as pd\n",
    "import datasets\n",
    "from transformers import RobertaTokenizerFast, RobertaForSequenceClassification,Trainer, TrainingArguments\n",
    "import torch.nn as nn\n",
    "import torch\n",
    "from torch.utils.data import Dataset, DataLoader\n",
    "import numpy as np\n",
    "from sklearn.metrics import accuracy_score, precision_recall_fscore_support\n",
    "from tqdm import tqdm\n",
    "import wandb\n",
    "import os"
   ]
  },
  {
   "cell_type": "markdown",
   "metadata": {},
   "source": [
    "The datasets library handles the hassle of downloading and processing nlp datasets which is quite convenient to save time in processing and use it for modelling. First we need to instantiate the class by calling the method `load_dataset`. In case the dataset is not loaded, the library downloads it and saves it in the datasets default folder. \n",
    "\n",
    "This example provided by HuggingFace uses an older version of datasets (still called nlp) and demonstrates how to user the [trainer class with BERT](https://colab.research.google.com/drive/1-JIJlao4dI-Ilww_NnTc0rxtp-ymgDgM?usp=sharing#scrollTo=5DEWNilys9Ty). Todays tutorial will follow several of the concepts described there.\n",
    "\n",
    "The dataset class has multiple useful methods to easily load, process and apply transformations to the dataset. We can even load the data and split it into train and test feeding a list to the split argument. "
   ]
  },
  {
   "cell_type": "code",
   "execution_count": 2,
   "metadata": {},
   "outputs": [
    {
     "name": "stderr",
     "output_type": "stream",
     "text": [
      "Reusing dataset imdb (/home/jlealtru/.cache/huggingface/datasets/imdb/plain_text/1.0.0/90099cb476936b753383ba2ae6ab2eae419b2e87f71cd5189cb9c8e5814d12a3)\n"
     ]
    }
   ],
   "source": [
    "train_data, test_data = datasets.load_dataset('imdb', split =['train', 'test'])"
   ]
  },
  {
   "cell_type": "markdown",
   "metadata": {},
   "source": [
    "The resulting objects contains an [arrow dataset](https://arrow.apache.org/docs/python/dataset.html)a format optimized to work with  all the attributes of the original dataset, including the original text, label, types, number of rows, etc. "
   ]
  },
  {
   "cell_type": "code",
   "execution_count": 3,
   "metadata": {},
   "outputs": [
    {
     "data": {
      "text/plain": [
       "Dataset(features: {'text': Value(dtype='string', id=None), 'label': ClassLabel(num_classes=2, names=['neg', 'pos'], names_file=None, id=None)}, num_rows: 25000)"
      ]
     },
     "execution_count": 3,
     "metadata": {},
     "output_type": "execute_result"
    }
   ],
   "source": [
    "train_data"
   ]
  },
  {
   "cell_type": "markdown",
   "metadata": {},
   "source": [
    "We can operate straigh into the dataset and tokenize the text using another one of the Hugging Face libraries [Tokenizers](https://github.com/huggingface/tokenizers). That library provides Rust optimized code to process the data and return all the necessary inputs for the model such as masks, token ids, etc. We simply load the corresponding model by specifying the name of the model and the tokenizer; if we want to use a finetuned model or a model trained from scratch simply change the name of the model to the location of the pretrained model.\n",
    "\n",
    "We can apply the tokenizer to the train and test subsets using the FastTokenizerFromPretrained class from the Transformers library. To do that we simply define a function that makes a call to the tokenizer class. We can specify if we want to add `padding`, if we want to truncate sentences that are longer than the maximum lenght established, etc. The method returns a `batch_encode` class that holds all the necessary inputs for the model such as `tokens`, `attention_masks`, etc.  We then can use the `map` function and apply the tokenizer function to all the elements of all the splits in dataset."
   ]
  },
  {
   "cell_type": "code",
   "execution_count": 4,
   "metadata": {},
   "outputs": [
    {
     "name": "stderr",
     "output_type": "stream",
     "text": [
      "Some weights of the model checkpoint at roberta-base were not used when initializing RobertaForSequenceClassification: ['lm_head.bias', 'lm_head.dense.weight', 'lm_head.dense.bias', 'lm_head.layer_norm.weight', 'lm_head.layer_norm.bias', 'lm_head.decoder.weight', 'roberta.pooler.dense.weight', 'roberta.pooler.dense.bias']\n",
      "- This IS expected if you are initializing RobertaForSequenceClassification from the checkpoint of a model trained on another task or with another architecture (e.g. initializing a BertForSequenceClassification model from a BertForPretraining model).\n",
      "- This IS NOT expected if you are initializing RobertaForSequenceClassification from the checkpoint of a model that you expect to be exactly identical (initializing a BertForSequenceClassification model from a BertForSequenceClassification model).\n",
      "Some weights of RobertaForSequenceClassification were not initialized from the model checkpoint at roberta-base and are newly initialized: ['classifier.dense.weight', 'classifier.dense.bias', 'classifier.out_proj.weight', 'classifier.out_proj.bias']\n",
      "You should probably TRAIN this model on a down-stream task to be able to use it for predictions and inference.\n"
     ]
    }
   ],
   "source": [
    "# load model and tokenizer and define length of the text sequence\n",
    "model = RobertaForSequenceClassification.from_pretrained('roberta-base')\n",
    "tokenizer = RobertaTokenizerFast.from_pretrained('roberta-base', max_length = 512)"
   ]
  },
  {
   "cell_type": "code",
   "execution_count": 5,
   "metadata": {},
   "outputs": [
    {
     "name": "stderr",
     "output_type": "stream",
     "text": [
      "Loading cached processed dataset at /home/jlealtru/.cache/huggingface/datasets/imdb/plain_text/1.0.0/90099cb476936b753383ba2ae6ab2eae419b2e87f71cd5189cb9c8e5814d12a3/cache-ab2d9b34134ace93.arrow\n",
      "Loading cached processed dataset at /home/jlealtru/.cache/huggingface/datasets/imdb/plain_text/1.0.0/90099cb476936b753383ba2ae6ab2eae419b2e87f71cd5189cb9c8e5814d12a3/cache-c5d247d12942bf47.arrow\n"
     ]
    }
   ],
   "source": [
    "# define a function that will tokenize the model, and will return the relevant inputs for the model\n",
    "def tokenization(batched_text):\n",
    "    return tokenizer(batched_text['text'], padding = True, truncation=True)\n",
    "\n",
    "\n",
    "train_data = train_data.map(tokenization, batched = True, batch_size = len(train_data))\n",
    "test_data = test_data.map(tokenization, batched = True, batch_size = len(test_data))"
   ]
  },
  {
   "cell_type": "markdown",
   "metadata": {},
   "source": [
    "Once the tokenization process is finished we can use the set the column names and types."
   ]
  },
  {
   "cell_type": "code",
   "execution_count": 6,
   "metadata": {},
   "outputs": [],
   "source": [
    "train_data.set_format('torch', columns=['input_ids', 'attention_mask', 'label'])\n",
    "test_data.set_format('torch', columns=['input_ids', 'attention_mask', 'label'])"
   ]
  },
  {
   "cell_type": "markdown",
   "metadata": {},
   "source": [
    "The trainer helper class is designed to facilitate the finetuning of models using the Transformers library. The `Trainer`  class depends on another class called `TrainingArguments` that contains all the attributes to customize the training. `TrainingArguments` contains useful parameter such as output directory to save the state of the model, number of epochs to fine tune a model, use of mixed precision tensors (available with the [Apex](https://github.com/NVIDIA/apex) library), warmup steps, etc. Using the same class we can also ask the model to evaluate the model at the end of each training epoch rather than after a determined amount of steps. To make sure we evaluate at the end of the training epoch we set `evaluation_strategy = 'Epoch'`. For this case we also set the option `load_best_model_at_end` to true, this will guarantee that we will load the best model for evaluation\n",
    "(according to the metrics defined) at the end of training.\n",
    "\n",
    "The `Trainer` class provides also allows to implement more sophisticated optmizers and learning rates which can be fed in the `optimizer` option. For this tutorial I use the default gradient descent optimization algorithm provided by the library *AdamW*. AdamW is an optimization based on the original Adam(Adaptive Moment Estimation) that incorporates a regularization term designed to work well with adaptive optimizers; a pretty good discussion of Adam, AdamW and the importance of regularization can be found [here](https://towardsdatascience.com/why-adamw-matters-736223f31b5d). The class also uses a default scheduler to modify the learning rate as the training of the model progresses. The default scheduler on the trainer class is [`get_linear_schedule_with_warmup`](https://huggingface.co/transformers/_modules/transformers/optimization.html#get_linear_schedule_with_warmup) an scheduler that decreases the learning rate linearly until it reaches zero. As mentioned before we can also modify the default values to use a different scheduler. For the learning rate I chose the default of 5e-5 as I wanted to be conservative since this an already pretrained model. Further [Sun et al](https://arxiv.org/pdf/1905.05583.pdf) found that a learning rate of 5e-5 works well for text classification.  I did not modify any of the other parameters of AdamW. \n",
    "\n",
    "`Trainer` also makes accumulating gradient steps pretty straightforward. This is relevant when we need to train models on smaller GPU's. For this tutorial I will be using a [GeForce GTX 1080](https://www.nvidia.com/en-sg/geforce/products/10series/geforce-gtx-1080/) that has 8GB of RAM. Given the size of the models (in this case 125 million parameters) and the limitation of the memory.\n",
    "\n",
    "We can also define if we want to log the training into wanddb. Wandb, short for [Weights and Biasis](https://www.wandb.com/), is a service that allows you visualize the performance of your model and parameters ina very nice dashboad. In this tutorial I assumed you have wandb installed and configured to log the information of weights and parameters. A detailed tutorial of wandb can be found [here](https://wandb.ai/jxmorris12/huggingface-demo/reports/A-Step-by-Step-Guide-to-Tracking-Hugging-Face-Model-Performance--VmlldzoxMDE2MTU). We define the name of the run with `run_name` in the `TrainingArguments` class to easily keep track of the model.\n",
    "\n",
    "Finally we can also specify the metrics to evaluate the performance of the model on the test set with the `compute_metrics` argument in the `Trainer` class. In this example I selected accuracy, f1 score, precision and recall as suggested in the tutorial by Hugging Face and wrapped them in a functiont hat returns the values for these metrics. This set of metrics provide a very good idea on the performance of the model."
   ]
  },
  {
   "cell_type": "code",
   "execution_count": 7,
   "metadata": {},
   "outputs": [],
   "source": [
    "# define accuracy metrics\n",
    "def compute_metrics(pred):\n",
    "    labels = pred.label_ids\n",
    "    preds = pred.predictions.argmax(-1)\n",
    "    precision, recall, f1, _ = precision_recall_fscore_support(labels, preds, average='binary')\n",
    "    acc = accuracy_score(labels, preds)\n",
    "    return {\n",
    "        'accuracy': acc,\n",
    "        'f1': f1,\n",
    "        'precision': precision,\n",
    "        'recall': recall\n",
    "    }"
   ]
  },
  {
   "cell_type": "code",
   "execution_count": 8,
   "metadata": {},
   "outputs": [],
   "source": [
    "# define the training arguments\n",
    "training_args = TrainingArguments(\n",
    "    output_dir = '/media/jlealtru/data_files/github/website_tutorials/results',\n",
    "    num_train_epochs=3,\n",
    "    per_device_train_batch_size = 4,\n",
    "    gradient_accumulation_steps = 16,    \n",
    "    per_device_eval_batch_size= 8,\n",
    "    evaluation_strategy = \"epoch\",\n",
    "    disable_tqdm = False, \n",
    "    load_best_model_at_end=True,\n",
    "    warmup_steps=500,\n",
    "    weight_decay=0.01,\n",
    "    logging_steps = 8,\n",
    "    fp16 = True,\n",
    "    logging_dir='/media/jlealtru/data_files/github/website_tutorials/logs',\n",
    "    dataloader_num_workers = 8,\n",
    "    run_name = 'roberta-classification'\n",
    ")"
   ]
  },
  {
   "cell_type": "code",
   "execution_count": 9,
   "metadata": {
    "scrolled": true
   },
   "outputs": [
    {
     "data": {
      "text/plain": [
       "'cuda'"
      ]
     },
     "execution_count": 9,
     "metadata": {},
     "output_type": "execute_result"
    }
   ],
   "source": [
    "# instantiate the trainer class and check for available devices\n",
    "trainer = Trainer(\n",
    "    model=model,\n",
    "    args=training_args,\n",
    "    compute_metrics=compute_metrics,\n",
    "    train_dataset=train_data,\n",
    "    eval_dataset=test_data\n",
    ")\n",
    "device = 'cuda' if torch.cuda.is_available() else 'cpu'\n",
    "device"
   ]
  },
  {
   "cell_type": "code",
   "execution_count": 10,
   "metadata": {},
   "outputs": [
    {
     "name": "stdout",
     "output_type": "stream",
     "text": [
      "Selected optimization level O1:  Insert automatic casts around Pytorch functions and Tensor methods.\n",
      "\n",
      "Defaults for this optimization level are:\n",
      "enabled                : True\n",
      "opt_level              : O1\n",
      "cast_model_type        : None\n",
      "patch_torch_functions  : True\n",
      "keep_batchnorm_fp32    : None\n",
      "master_weights         : None\n",
      "loss_scale             : dynamic\n",
      "Processing user overrides (additional kwargs that are not None)...\n",
      "After processing overrides, optimization options are:\n",
      "enabled                : True\n",
      "opt_level              : O1\n",
      "cast_model_type        : None\n",
      "patch_torch_functions  : True\n",
      "keep_batchnorm_fp32    : None\n",
      "master_weights         : None\n",
      "loss_scale             : dynamic\n"
     ]
    },
    {
     "data": {
      "application/vnd.jupyter.widget-view+json": {
       "model_id": "5102d37806284470a4f1a5de46e61a1a",
       "version_major": 2,
       "version_minor": 0
      },
      "text/plain": [
       "HBox(children=(FloatProgress(value=0.0, description='Epoch', max=3.0, style=ProgressStyle(description_width='i…"
      ]
     },
     "metadata": {},
     "output_type": "display_data"
    },
    {
     "data": {
      "application/vnd.jupyter.widget-view+json": {
       "model_id": "2922646836504739a2fbe1065ac48abb",
       "version_major": 2,
       "version_minor": 0
      },
      "text/plain": [
       "HBox(children=(FloatProgress(value=0.0, description='Iteration', max=6250.0, style=ProgressStyle(description_w…"
      ]
     },
     "metadata": {},
     "output_type": "display_data"
    },
    {
     "name": "stderr",
     "output_type": "stream",
     "text": [
      "/opt/conda/conda-bld/pytorch_1587428270644/work/torch/csrc/utils/tensor_numpy.cpp:141: UserWarning: The given NumPy array is not writeable, and PyTorch does not support non-writeable tensors. This means you can write to the underlying (supposedly non-writeable) NumPy array using the tensor. You may want to copy the array to protect its data or make it writeable before converting it to a tensor. This type of warning will be suppressed for the rest of this program.\n",
      "/opt/conda/conda-bld/pytorch_1587428270644/work/torch/csrc/utils/tensor_numpy.cpp:141: UserWarning: The given NumPy array is not writeable, and PyTorch does not support non-writeable tensors. This means you can write to the underlying (supposedly non-writeable) NumPy array using the tensor. You may want to copy the array to protect its data or make it writeable before converting it to a tensor. This type of warning will be suppressed for the rest of this program.\n",
      "/opt/conda/conda-bld/pytorch_1587428270644/work/torch/csrc/utils/tensor_numpy.cpp:141: UserWarning: The given NumPy array is not writeable, and PyTorch does not support non-writeable tensors. This means you can write to the underlying (supposedly non-writeable) NumPy array using the tensor. You may want to copy the array to protect its data or make it writeable before converting it to a tensor. This type of warning will be suppressed for the rest of this program.\n",
      "/opt/conda/conda-bld/pytorch_1587428270644/work/torch/csrc/utils/tensor_numpy.cpp:141: UserWarning: The given NumPy array is not writeable, and PyTorch does not support non-writeable tensors. This means you can write to the underlying (supposedly non-writeable) NumPy array using the tensor. You may want to copy the array to protect its data or make it writeable before converting it to a tensor. This type of warning will be suppressed for the rest of this program.\n",
      "/opt/conda/conda-bld/pytorch_1587428270644/work/torch/csrc/utils/tensor_numpy.cpp:141: UserWarning: The given NumPy array is not writeable, and PyTorch does not support non-writeable tensors. This means you can write to the underlying (supposedly non-writeable) NumPy array using the tensor. You may want to copy the array to protect its data or make it writeable before converting it to a tensor. This type of warning will be suppressed for the rest of this program.\n",
      "/opt/conda/conda-bld/pytorch_1587428270644/work/torch/csrc/utils/tensor_numpy.cpp:141: UserWarning: The given NumPy array is not writeable, and PyTorch does not support non-writeable tensors. This means you can write to the underlying (supposedly non-writeable) NumPy array using the tensor. You may want to copy the array to protect its data or make it writeable before converting it to a tensor. This type of warning will be suppressed for the rest of this program.\n",
      "/opt/conda/conda-bld/pytorch_1587428270644/work/torch/csrc/utils/tensor_numpy.cpp:141: UserWarning: The given NumPy array is not writeable, and PyTorch does not support non-writeable tensors. This means you can write to the underlying (supposedly non-writeable) NumPy array using the tensor. You may want to copy the array to protect its data or make it writeable before converting it to a tensor. This type of warning will be suppressed for the rest of this program.\n",
      "/opt/conda/conda-bld/pytorch_1587428270644/work/torch/csrc/utils/tensor_numpy.cpp:141: UserWarning: The given NumPy array is not writeable, and PyTorch does not support non-writeable tensors. This means you can write to the underlying (supposedly non-writeable) NumPy array using the tensor. You may want to copy the array to protect its data or make it writeable before converting it to a tensor. This type of warning will be suppressed for the rest of this program.\n",
      "/home/jlealtru/anaconda3/envs/torch/lib/python3.6/site-packages/torch/optim/lr_scheduler.py:114: UserWarning: Seems like `optimizer.step()` has been overridden after learning rate scheduler initialization. Please, make sure to call `optimizer.step()` before `lr_scheduler.step()`. See more details at https://pytorch.org/docs/stable/optim.html#how-to-adjust-learning-rate\n",
      "  \"https://pytorch.org/docs/stable/optim.html#how-to-adjust-learning-rate\", UserWarning)\n"
     ]
    },
    {
     "data": {
      "text/html": [
       "\n",
       "                Logging results to <a href=\"https://wandb.com\" target=\"_blank\">Weights & Biases</a> <a href=\"https://docs.wandb.com/integrations/jupyter.html\" target=\"_blank\">(Documentation)</a>.<br/>\n",
       "                Project page: <a href=\"https://app.wandb.ai/jlealtru/huggingface\" target=\"_blank\">https://app.wandb.ai/jlealtru/huggingface</a><br/>\n",
       "                Run page: <a href=\"https://app.wandb.ai/jlealtru/huggingface/runs/4ltoce5o\" target=\"_blank\">https://app.wandb.ai/jlealtru/huggingface/runs/4ltoce5o</a><br/>\n",
       "            "
      ],
      "text/plain": [
       "<IPython.core.display.HTML object>"
      ]
     },
     "metadata": {},
     "output_type": "display_data"
    },
    {
     "name": "stderr",
     "output_type": "stream",
     "text": [
      "wandb: Wandb version 0.10.7 is available!  To upgrade, please run:\n",
      "wandb:  $ pip install wandb --upgrade\n"
     ]
    },
    {
     "name": "stdout",
     "output_type": "stream",
     "text": [
      "{'loss': 0.6973956823348999, 'learning_rate': 8.000000000000001e-07, 'epoch': 0.02048, 'total_flos': 196053046394880, 'step': 8}\n",
      "{'loss': 0.695753812789917, 'learning_rate': 1.6000000000000001e-06, 'epoch': 0.04096, 'total_flos': 392106092789760, 'step': 16}\n",
      "{'loss': 0.6970165967941284, 'learning_rate': 2.4000000000000003e-06, 'epoch': 0.06144, 'total_flos': 588159139184640, 'step': 24}\n",
      "{'loss': 0.6950232982635498, 'learning_rate': 3.2000000000000003e-06, 'epoch': 0.08192, 'total_flos': 784212185579520, 'step': 32}\n",
      "{'loss': 0.693880558013916, 'learning_rate': 4.000000000000001e-06, 'epoch': 0.1024, 'total_flos': 980265231974400, 'step': 40}\n",
      "{'loss': 0.6881611347198486, 'learning_rate': 4.800000000000001e-06, 'epoch': 0.12288, 'total_flos': 1176318278369280, 'step': 48}\n",
      "{'loss': 0.6892123222351074, 'learning_rate': 5.600000000000001e-06, 'epoch': 0.14336, 'total_flos': 1372371324764160, 'step': 56}\n",
      "{'loss': 0.6792354583740234, 'learning_rate': 6.4000000000000006e-06, 'epoch': 0.16384, 'total_flos': 1568424371159040, 'step': 64}\n",
      "{'loss': 0.6596169471740723, 'learning_rate': 7.2e-06, 'epoch': 0.18432, 'total_flos': 1764477417553920, 'step': 72}\n",
      "{'loss': 0.561429500579834, 'learning_rate': 8.000000000000001e-06, 'epoch': 0.2048, 'total_flos': 1960530463948800, 'step': 80}\n",
      "Gradient overflow.  Skipping step, loss scaler 0 reducing loss scale to 32768.0\n",
      "{'loss': 0.3742942810058594, 'learning_rate': 8.8e-06, 'epoch': 0.22528, 'total_flos': 2156583510343680, 'step': 88}\n",
      "{'loss': 0.3084239959716797, 'learning_rate': 9.600000000000001e-06, 'epoch': 0.24576, 'total_flos': 2352636556738560, 'step': 96}\n",
      "{'loss': 0.31882238388061523, 'learning_rate': 1.04e-05, 'epoch': 0.26624, 'total_flos': 2548689603133440, 'step': 104}\n",
      "Gradient overflow.  Skipping step, loss scaler 0 reducing loss scale to 8192.0\n",
      "{'loss': 0.27947092056274414, 'learning_rate': 1.1200000000000001e-05, 'epoch': 0.28672, 'total_flos': 2744742649528320, 'step': 112}\n",
      "{'loss': 0.22718524932861328, 'learning_rate': 1.2e-05, 'epoch': 0.3072, 'total_flos': 2940795695923200, 'step': 120}\n",
      "{'loss': 0.26732540130615234, 'learning_rate': 1.2800000000000001e-05, 'epoch': 0.32768, 'total_flos': 3136848742318080, 'step': 128}\n",
      "{'loss': 0.22308826446533203, 'learning_rate': 1.3600000000000002e-05, 'epoch': 0.34816, 'total_flos': 3332901788712960, 'step': 136}\n",
      "{'loss': 0.26937007904052734, 'learning_rate': 1.44e-05, 'epoch': 0.36864, 'total_flos': 3528954835107840, 'step': 144}\n",
      "{'loss': 0.19458866119384766, 'learning_rate': 1.52e-05, 'epoch': 0.38912, 'total_flos': 3725007881502720, 'step': 152}\n",
      "{'loss': 0.1621847152709961, 'learning_rate': 1.6000000000000003e-05, 'epoch': 0.4096, 'total_flos': 3921060927897600, 'step': 160}\n",
      "{'loss': 0.21598434448242188, 'learning_rate': 1.6800000000000002e-05, 'epoch': 0.43008, 'total_flos': 4117113974292480, 'step': 168}\n",
      "{'loss': 0.22854232788085938, 'learning_rate': 1.76e-05, 'epoch': 0.45056, 'total_flos': 4313167020687360, 'step': 176}\n",
      "{'loss': 0.19725894927978516, 'learning_rate': 1.84e-05, 'epoch': 0.47104, 'total_flos': 4509220067082240, 'step': 184}\n",
      "{'loss': 0.2038097381591797, 'learning_rate': 1.9200000000000003e-05, 'epoch': 0.49152, 'total_flos': 4705273113477120, 'step': 192}\n",
      "{'loss': 0.2261800765991211, 'learning_rate': 2e-05, 'epoch': 0.512, 'total_flos': 4901326159872000, 'step': 200}\n",
      "{'loss': 0.15731525421142578, 'learning_rate': 2.08e-05, 'epoch': 0.53248, 'total_flos': 5097379206266880, 'step': 208}\n",
      "{'loss': 0.19995403289794922, 'learning_rate': 2.16e-05, 'epoch': 0.55296, 'total_flos': 5293432252661760, 'step': 216}\n",
      "{'loss': 0.20096683502197266, 'learning_rate': 2.2400000000000002e-05, 'epoch': 0.57344, 'total_flos': 5489485299056640, 'step': 224}\n",
      "{'loss': 0.1756572723388672, 'learning_rate': 2.32e-05, 'epoch': 0.59392, 'total_flos': 5685538345451520, 'step': 232}\n",
      "{'loss': 0.17950439453125, 'learning_rate': 2.4e-05, 'epoch': 0.6144, 'total_flos': 5881591391846400, 'step': 240}\n",
      "{'loss': 0.2048959732055664, 'learning_rate': 2.48e-05, 'epoch': 0.63488, 'total_flos': 6077644438241280, 'step': 248}\n",
      "{'loss': 0.17421817779541016, 'learning_rate': 2.5600000000000002e-05, 'epoch': 0.65536, 'total_flos': 6273697484636160, 'step': 256}\n",
      "{'loss': 0.1600818634033203, 'learning_rate': 2.64e-05, 'epoch': 0.67584, 'total_flos': 6469750531031040, 'step': 264}\n",
      "{'loss': 0.18274497985839844, 'learning_rate': 2.7200000000000004e-05, 'epoch': 0.69632, 'total_flos': 6665803577425920, 'step': 272}\n",
      "{'loss': 0.164276123046875, 'learning_rate': 2.8000000000000003e-05, 'epoch': 0.7168, 'total_flos': 6861856623820800, 'step': 280}\n",
      "{'loss': 0.2068042755126953, 'learning_rate': 2.88e-05, 'epoch': 0.73728, 'total_flos': 7057909670215680, 'step': 288}\n",
      "{'loss': 0.1534576416015625, 'learning_rate': 2.96e-05, 'epoch': 0.75776, 'total_flos': 7253962716610560, 'step': 296}\n",
      "{'loss': 0.2094736099243164, 'learning_rate': 3.04e-05, 'epoch': 0.77824, 'total_flos': 7450015763005440, 'step': 304}\n",
      "{'loss': 0.1772928237915039, 'learning_rate': 3.12e-05, 'epoch': 0.79872, 'total_flos': 7646068809400320, 'step': 312}\n",
      "{'loss': 0.14357566833496094, 'learning_rate': 3.2000000000000005e-05, 'epoch': 0.8192, 'total_flos': 7842121855795200, 'step': 320}\n",
      "{'loss': 0.17278575897216797, 'learning_rate': 3.2800000000000004e-05, 'epoch': 0.83968, 'total_flos': 8038174902190080, 'step': 328}\n",
      "{'loss': 0.2454814910888672, 'learning_rate': 3.3600000000000004e-05, 'epoch': 0.86016, 'total_flos': 8234227948584960, 'step': 336}\n",
      "{'loss': 0.18694019317626953, 'learning_rate': 3.4399999999999996e-05, 'epoch': 0.88064, 'total_flos': 8430280994979840, 'step': 344}\n",
      "{'loss': 0.17967891693115234, 'learning_rate': 3.52e-05, 'epoch': 0.90112, 'total_flos': 8626334041374720, 'step': 352}\n",
      "{'loss': 0.2441082000732422, 'learning_rate': 3.6e-05, 'epoch': 0.9216, 'total_flos': 8822387087769600, 'step': 360}\n",
      "{'loss': 0.23766326904296875, 'learning_rate': 3.68e-05, 'epoch': 0.94208, 'total_flos': 9018440134164480, 'step': 368}\n",
      "{'loss': 0.2522087097167969, 'learning_rate': 3.76e-05, 'epoch': 0.96256, 'total_flos': 9214493180559360, 'step': 376}\n",
      "{'loss': 0.19365978240966797, 'learning_rate': 3.8400000000000005e-05, 'epoch': 0.98304, 'total_flos': 9410546226954240, 'step': 384}\n",
      "\n"
     ]
    },
    {
     "data": {
      "application/vnd.jupyter.widget-view+json": {
       "model_id": "7db384a551f34738b375334dc16dd889",
       "version_major": 2,
       "version_minor": 0
      },
      "text/plain": [
       "HBox(children=(FloatProgress(value=0.0, description='Evaluation', max=3125.0, style=ProgressStyle(description_…"
      ]
     },
     "metadata": {},
     "output_type": "display_data"
    },
    {
     "name": "stderr",
     "output_type": "stream",
     "text": [
      "/opt/conda/conda-bld/pytorch_1587428270644/work/torch/csrc/utils/tensor_numpy.cpp:141: UserWarning: The given NumPy array is not writeable, and PyTorch does not support non-writeable tensors. This means you can write to the underlying (supposedly non-writeable) NumPy array using the tensor. You may want to copy the array to protect its data or make it writeable before converting it to a tensor. This type of warning will be suppressed for the rest of this program.\n",
      "/opt/conda/conda-bld/pytorch_1587428270644/work/torch/csrc/utils/tensor_numpy.cpp:141: UserWarning: The given NumPy array is not writeable, and PyTorch does not support non-writeable tensors. This means you can write to the underlying (supposedly non-writeable) NumPy array using the tensor. You may want to copy the array to protect its data or make it writeable before converting it to a tensor. This type of warning will be suppressed for the rest of this program.\n",
      "/opt/conda/conda-bld/pytorch_1587428270644/work/torch/csrc/utils/tensor_numpy.cpp:141: UserWarning: The given NumPy array is not writeable, and PyTorch does not support non-writeable tensors. This means you can write to the underlying (supposedly non-writeable) NumPy array using the tensor. You may want to copy the array to protect its data or make it writeable before converting it to a tensor. This type of warning will be suppressed for the rest of this program.\n",
      "/opt/conda/conda-bld/pytorch_1587428270644/work/torch/csrc/utils/tensor_numpy.cpp:141: UserWarning: The given NumPy array is not writeable, and PyTorch does not support non-writeable tensors. This means you can write to the underlying (supposedly non-writeable) NumPy array using the tensor. You may want to copy the array to protect its data or make it writeable before converting it to a tensor. This type of warning will be suppressed for the rest of this program.\n",
      "/opt/conda/conda-bld/pytorch_1587428270644/work/torch/csrc/utils/tensor_numpy.cpp:141: UserWarning: The given NumPy array is not writeable, and PyTorch does not support non-writeable tensors. This means you can write to the underlying (supposedly non-writeable) NumPy array using the tensor. You may want to copy the array to protect its data or make it writeable before converting it to a tensor. This type of warning will be suppressed for the rest of this program.\n",
      "/opt/conda/conda-bld/pytorch_1587428270644/work/torch/csrc/utils/tensor_numpy.cpp:141: UserWarning: The given NumPy array is not writeable, and PyTorch does not support non-writeable tensors. This means you can write to the underlying (supposedly non-writeable) NumPy array using the tensor. You may want to copy the array to protect its data or make it writeable before converting it to a tensor. This type of warning will be suppressed for the rest of this program.\n",
      "/opt/conda/conda-bld/pytorch_1587428270644/work/torch/csrc/utils/tensor_numpy.cpp:141: UserWarning: The given NumPy array is not writeable, and PyTorch does not support non-writeable tensors. This means you can write to the underlying (supposedly non-writeable) NumPy array using the tensor. You may want to copy the array to protect its data or make it writeable before converting it to a tensor. This type of warning will be suppressed for the rest of this program.\n",
      "/opt/conda/conda-bld/pytorch_1587428270644/work/torch/csrc/utils/tensor_numpy.cpp:141: UserWarning: The given NumPy array is not writeable, and PyTorch does not support non-writeable tensors. This means you can write to the underlying (supposedly non-writeable) NumPy array using the tensor. You may want to copy the array to protect its data or make it writeable before converting it to a tensor. This type of warning will be suppressed for the rest of this program.\n"
     ]
    },
    {
     "name": "stdout",
     "output_type": "stream",
     "text": [
      "\n",
      "{'eval_loss': 0.1449167009449005, 'eval_accuracy': 0.94616, 'eval_f1': 0.9456951504881789, 'eval_precision': 0.9539313039231646, 'eval_recall': 0.9376, 'epoch': 0.9984, 'total_flos': 9572902656000000, 'step': 390}\n"
     ]
    },
    {
     "data": {
      "application/vnd.jupyter.widget-view+json": {
       "model_id": "0952db0a904a4bc2ae1e8cde508a67fe",
       "version_major": 2,
       "version_minor": 0
      },
      "text/plain": [
       "HBox(children=(FloatProgress(value=0.0, description='Iteration', max=6250.0, style=ProgressStyle(description_w…"
      ]
     },
     "metadata": {},
     "output_type": "display_data"
    },
    {
     "name": "stderr",
     "output_type": "stream",
     "text": [
      "/opt/conda/conda-bld/pytorch_1587428270644/work/torch/csrc/utils/tensor_numpy.cpp:141: UserWarning: The given NumPy array is not writeable, and PyTorch does not support non-writeable tensors. This means you can write to the underlying (supposedly non-writeable) NumPy array using the tensor. You may want to copy the array to protect its data or make it writeable before converting it to a tensor. This type of warning will be suppressed for the rest of this program.\n",
      "/opt/conda/conda-bld/pytorch_1587428270644/work/torch/csrc/utils/tensor_numpy.cpp:141: UserWarning: The given NumPy array is not writeable, and PyTorch does not support non-writeable tensors. This means you can write to the underlying (supposedly non-writeable) NumPy array using the tensor. You may want to copy the array to protect its data or make it writeable before converting it to a tensor. This type of warning will be suppressed for the rest of this program.\n",
      "/opt/conda/conda-bld/pytorch_1587428270644/work/torch/csrc/utils/tensor_numpy.cpp:141: UserWarning: The given NumPy array is not writeable, and PyTorch does not support non-writeable tensors. This means you can write to the underlying (supposedly non-writeable) NumPy array using the tensor. You may want to copy the array to protect its data or make it writeable before converting it to a tensor. This type of warning will be suppressed for the rest of this program.\n",
      "/opt/conda/conda-bld/pytorch_1587428270644/work/torch/csrc/utils/tensor_numpy.cpp:141: UserWarning: The given NumPy array is not writeable, and PyTorch does not support non-writeable tensors. This means you can write to the underlying (supposedly non-writeable) NumPy array using the tensor. You may want to copy the array to protect its data or make it writeable before converting it to a tensor. This type of warning will be suppressed for the rest of this program.\n",
      "/opt/conda/conda-bld/pytorch_1587428270644/work/torch/csrc/utils/tensor_numpy.cpp:141: UserWarning: The given NumPy array is not writeable, and PyTorch does not support non-writeable tensors. This means you can write to the underlying (supposedly non-writeable) NumPy array using the tensor. You may want to copy the array to protect its data or make it writeable before converting it to a tensor. This type of warning will be suppressed for the rest of this program.\n",
      "/opt/conda/conda-bld/pytorch_1587428270644/work/torch/csrc/utils/tensor_numpy.cpp:141: UserWarning: The given NumPy array is not writeable, and PyTorch does not support non-writeable tensors. This means you can write to the underlying (supposedly non-writeable) NumPy array using the tensor. You may want to copy the array to protect its data or make it writeable before converting it to a tensor. This type of warning will be suppressed for the rest of this program.\n",
      "/opt/conda/conda-bld/pytorch_1587428270644/work/torch/csrc/utils/tensor_numpy.cpp:141: UserWarning: The given NumPy array is not writeable, and PyTorch does not support non-writeable tensors. This means you can write to the underlying (supposedly non-writeable) NumPy array using the tensor. You may want to copy the array to protect its data or make it writeable before converting it to a tensor. This type of warning will be suppressed for the rest of this program.\n",
      "/opt/conda/conda-bld/pytorch_1587428270644/work/torch/csrc/utils/tensor_numpy.cpp:141: UserWarning: The given NumPy array is not writeable, and PyTorch does not support non-writeable tensors. This means you can write to the underlying (supposedly non-writeable) NumPy array using the tensor. You may want to copy the array to protect its data or make it writeable before converting it to a tensor. This type of warning will be suppressed for the rest of this program.\n"
     ]
    },
    {
     "name": "stdout",
     "output_type": "stream",
     "text": [
      "{'loss': 0.14230632781982422, 'learning_rate': 3.9200000000000004e-05, 'epoch': 1.00512, 'total_flos': 9621915917598720, 'step': 392}\n",
      "{'loss': 0.15784072875976562, 'learning_rate': 4e-05, 'epoch': 1.0256, 'total_flos': 9817968963993600, 'step': 400}\n",
      "{'loss': 0.19977474212646484, 'learning_rate': 4.08e-05, 'epoch': 1.04608, 'total_flos': 10014022010388480, 'step': 408}\n",
      "{'loss': 0.16539669036865234, 'learning_rate': 4.16e-05, 'epoch': 1.06656, 'total_flos': 10210075056783360, 'step': 416}\n",
      "{'loss': 0.1585712432861328, 'learning_rate': 4.24e-05, 'epoch': 1.08704, 'total_flos': 10406128103178240, 'step': 424}\n",
      "{'loss': 0.1286754608154297, 'learning_rate': 4.32e-05, 'epoch': 1.10752, 'total_flos': 10602181149573120, 'step': 432}\n",
      "{'loss': 0.1681814193725586, 'learning_rate': 4.4000000000000006e-05, 'epoch': 1.1280000000000001, 'total_flos': 10798234195968000, 'step': 440}\n",
      "{'loss': 0.1376943588256836, 'learning_rate': 4.4800000000000005e-05, 'epoch': 1.14848, 'total_flos': 10994287242362880, 'step': 448}\n",
      "{'loss': 0.17532730102539062, 'learning_rate': 4.5600000000000004e-05, 'epoch': 1.16896, 'total_flos': 11190340288757760, 'step': 456}\n",
      "{'loss': 0.12209129333496094, 'learning_rate': 4.64e-05, 'epoch': 1.18944, 'total_flos': 11386393335152640, 'step': 464}\n",
      "{'loss': 0.21451950073242188, 'learning_rate': 4.72e-05, 'epoch': 1.2099199999999999, 'total_flos': 11582446381547520, 'step': 472}\n",
      "{'loss': 0.17693138122558594, 'learning_rate': 4.8e-05, 'epoch': 1.2304, 'total_flos': 11778499427942400, 'step': 480}\n",
      "{'loss': 0.16374969482421875, 'learning_rate': 4.88e-05, 'epoch': 1.25088, 'total_flos': 11974552474337280, 'step': 488}\n",
      "{'loss': 0.17246437072753906, 'learning_rate': 4.96e-05, 'epoch': 1.27136, 'total_flos': 12170605520732160, 'step': 496}\n",
      "{'loss': 0.15305328369140625, 'learning_rate': 4.9701492537313436e-05, 'epoch': 1.29184, 'total_flos': 12366658567127040, 'step': 504}\n",
      "{'loss': 0.17861366271972656, 'learning_rate': 4.91044776119403e-05, 'epoch': 1.31232, 'total_flos': 12562711613521920, 'step': 512}\n",
      "{'loss': 0.18726348876953125, 'learning_rate': 4.850746268656717e-05, 'epoch': 1.3328, 'total_flos': 12758764659916800, 'step': 520}\n",
      "{'loss': 0.20580101013183594, 'learning_rate': 4.7910447761194035e-05, 'epoch': 1.35328, 'total_flos': 12954817706311680, 'step': 528}\n",
      "{'loss': 0.1889190673828125, 'learning_rate': 4.7313432835820895e-05, 'epoch': 1.3737599999999999, 'total_flos': 13150870752706560, 'step': 536}\n",
      "{'loss': 0.17593955993652344, 'learning_rate': 4.671641791044776e-05, 'epoch': 1.39424, 'total_flos': 13346923799101440, 'step': 544}\n",
      "{'loss': 0.19124221801757812, 'learning_rate': 4.611940298507463e-05, 'epoch': 1.41472, 'total_flos': 13542976845496320, 'step': 552}\n",
      "{'loss': 0.18042373657226562, 'learning_rate': 4.5522388059701495e-05, 'epoch': 1.4352, 'total_flos': 13739029891891200, 'step': 560}\n",
      "{'loss': 0.18535614013671875, 'learning_rate': 4.492537313432836e-05, 'epoch': 1.45568, 'total_flos': 13935082938286080, 'step': 568}\n",
      "{'loss': 0.1877117156982422, 'learning_rate': 4.432835820895523e-05, 'epoch': 1.4761600000000001, 'total_flos': 14131135984680960, 'step': 576}\n",
      "{'loss': 0.12593841552734375, 'learning_rate': 4.3731343283582094e-05, 'epoch': 1.49664, 'total_flos': 14327189031075840, 'step': 584}\n",
      "{'loss': 0.1947765350341797, 'learning_rate': 4.313432835820896e-05, 'epoch': 1.51712, 'total_flos': 14523242077470720, 'step': 592}\n",
      "{'loss': 0.13353729248046875, 'learning_rate': 4.253731343283582e-05, 'epoch': 1.5375999999999999, 'total_flos': 14719295123865600, 'step': 600}\n",
      "{'loss': 0.13941383361816406, 'learning_rate': 4.194029850746269e-05, 'epoch': 1.55808, 'total_flos': 14915348170260480, 'step': 608}\n",
      "{'loss': 0.1500682830810547, 'learning_rate': 4.1343283582089554e-05, 'epoch': 1.57856, 'total_flos': 15111401216655360, 'step': 616}\n",
      "Gradient overflow.  Skipping step, loss scaler 0 reducing loss scale to 65536.0\n",
      "Gradient overflow.  Skipping step, loss scaler 0 reducing loss scale to 32768.0\n",
      "{'loss': 0.20276260375976562, 'learning_rate': 4.074626865671642e-05, 'epoch': 1.59904, 'total_flos': 15307454263050240, 'step': 624}\n",
      "{'loss': 0.16960525512695312, 'learning_rate': 4.014925373134329e-05, 'epoch': 1.61952, 'total_flos': 15503507309445120, 'step': 632}\n",
      "{'loss': 0.1301097869873047, 'learning_rate': 3.9552238805970146e-05, 'epoch': 1.6400000000000001, 'total_flos': 15699560355840000, 'step': 640}\n",
      "{'loss': 0.12379264831542969, 'learning_rate': 3.895522388059702e-05, 'epoch': 1.66048, 'total_flos': 15895613402234880, 'step': 648}\n",
      "{'loss': 0.11203765869140625, 'learning_rate': 3.8358208955223886e-05, 'epoch': 1.68096, 'total_flos': 16091666448629760, 'step': 656}\n",
      "{'loss': 0.1348247528076172, 'learning_rate': 3.776119402985075e-05, 'epoch': 1.7014399999999998, 'total_flos': 16287719495024640, 'step': 664}\n",
      "{'loss': 0.11657333374023438, 'learning_rate': 3.716417910447761e-05, 'epoch': 1.72192, 'total_flos': 16483772541419520, 'step': 672}\n",
      "{'loss': 0.1448841094970703, 'learning_rate': 3.656716417910448e-05, 'epoch': 1.7424, 'total_flos': 16679825587814400, 'step': 680}\n",
      "{'loss': 0.18575096130371094, 'learning_rate': 3.5970149253731346e-05, 'epoch': 1.76288, 'total_flos': 16875878634209280, 'step': 688}\n",
      "{'loss': 0.16820907592773438, 'learning_rate': 3.537313432835821e-05, 'epoch': 1.78336, 'total_flos': 17071931680604160, 'step': 696}\n",
      "{'loss': 0.17115020751953125, 'learning_rate': 3.477611940298507e-05, 'epoch': 1.80384, 'total_flos': 17267984726999040, 'step': 704}\n",
      "{'loss': 0.17747879028320312, 'learning_rate': 3.417910447761194e-05, 'epoch': 1.8243200000000002, 'total_flos': 17464037773393920, 'step': 712}\n",
      "{'loss': 0.20140647888183594, 'learning_rate': 3.358208955223881e-05, 'epoch': 1.8448, 'total_flos': 17660090819788800, 'step': 720}\n",
      "{'loss': 0.13241004943847656, 'learning_rate': 3.298507462686568e-05, 'epoch': 1.86528, 'total_flos': 17856143866183680, 'step': 728}\n",
      "{'loss': 0.13538360595703125, 'learning_rate': 3.238805970149254e-05, 'epoch': 1.8857599999999999, 'total_flos': 18052196912578560, 'step': 736}\n",
      "{'loss': 0.1541614532470703, 'learning_rate': 3.1791044776119405e-05, 'epoch': 1.90624, 'total_flos': 18248249958973440, 'step': 744}\n",
      "{'loss': 0.153839111328125, 'learning_rate': 3.119402985074627e-05, 'epoch': 1.92672, 'total_flos': 18444303005368320, 'step': 752}\n",
      "{'loss': 0.15275955200195312, 'learning_rate': 3.059701492537314e-05, 'epoch': 1.9472, 'total_flos': 18640356051763200, 'step': 760}\n",
      "{'loss': 0.08915901184082031, 'learning_rate': 3e-05, 'epoch': 1.96768, 'total_flos': 18836409098158080, 'step': 768}\n",
      "{'loss': 0.14661026000976562, 'learning_rate': 2.9402985074626864e-05, 'epoch': 1.9881600000000001, 'total_flos': 19032462144552960, 'step': 776}\n",
      "\n"
     ]
    },
    {
     "data": {
      "application/vnd.jupyter.widget-view+json": {
       "model_id": "072e2203cd9a4afebfd15ee84ce4ea95",
       "version_major": 2,
       "version_minor": 0
      },
      "text/plain": [
       "HBox(children=(FloatProgress(value=0.0, description='Evaluation', max=3125.0, style=ProgressStyle(description_…"
      ]
     },
     "metadata": {},
     "output_type": "display_data"
    },
    {
     "name": "stderr",
     "output_type": "stream",
     "text": [
      "/opt/conda/conda-bld/pytorch_1587428270644/work/torch/csrc/utils/tensor_numpy.cpp:141: UserWarning: The given NumPy array is not writeable, and PyTorch does not support non-writeable tensors. This means you can write to the underlying (supposedly non-writeable) NumPy array using the tensor. You may want to copy the array to protect its data or make it writeable before converting it to a tensor. This type of warning will be suppressed for the rest of this program.\n",
      "/opt/conda/conda-bld/pytorch_1587428270644/work/torch/csrc/utils/tensor_numpy.cpp:141: UserWarning: The given NumPy array is not writeable, and PyTorch does not support non-writeable tensors. This means you can write to the underlying (supposedly non-writeable) NumPy array using the tensor. You may want to copy the array to protect its data or make it writeable before converting it to a tensor. This type of warning will be suppressed for the rest of this program.\n",
      "/opt/conda/conda-bld/pytorch_1587428270644/work/torch/csrc/utils/tensor_numpy.cpp:141: UserWarning: The given NumPy array is not writeable, and PyTorch does not support non-writeable tensors. This means you can write to the underlying (supposedly non-writeable) NumPy array using the tensor. You may want to copy the array to protect its data or make it writeable before converting it to a tensor. This type of warning will be suppressed for the rest of this program.\n",
      "/opt/conda/conda-bld/pytorch_1587428270644/work/torch/csrc/utils/tensor_numpy.cpp:141: UserWarning: The given NumPy array is not writeable, and PyTorch does not support non-writeable tensors. This means you can write to the underlying (supposedly non-writeable) NumPy array using the tensor. You may want to copy the array to protect its data or make it writeable before converting it to a tensor. This type of warning will be suppressed for the rest of this program.\n",
      "/opt/conda/conda-bld/pytorch_1587428270644/work/torch/csrc/utils/tensor_numpy.cpp:141: UserWarning: The given NumPy array is not writeable, and PyTorch does not support non-writeable tensors. This means you can write to the underlying (supposedly non-writeable) NumPy array using the tensor. You may want to copy the array to protect its data or make it writeable before converting it to a tensor. This type of warning will be suppressed for the rest of this program.\n",
      "/opt/conda/conda-bld/pytorch_1587428270644/work/torch/csrc/utils/tensor_numpy.cpp:141: UserWarning: The given NumPy array is not writeable, and PyTorch does not support non-writeable tensors. This means you can write to the underlying (supposedly non-writeable) NumPy array using the tensor. You may want to copy the array to protect its data or make it writeable before converting it to a tensor. This type of warning will be suppressed for the rest of this program.\n",
      "/opt/conda/conda-bld/pytorch_1587428270644/work/torch/csrc/utils/tensor_numpy.cpp:141: UserWarning: The given NumPy array is not writeable, and PyTorch does not support non-writeable tensors. This means you can write to the underlying (supposedly non-writeable) NumPy array using the tensor. You may want to copy the array to protect its data or make it writeable before converting it to a tensor. This type of warning will be suppressed for the rest of this program.\n",
      "/opt/conda/conda-bld/pytorch_1587428270644/work/torch/csrc/utils/tensor_numpy.cpp:141: UserWarning: The given NumPy array is not writeable, and PyTorch does not support non-writeable tensors. This means you can write to the underlying (supposedly non-writeable) NumPy array using the tensor. You may want to copy the array to protect its data or make it writeable before converting it to a tensor. This type of warning will be suppressed for the rest of this program.\n"
     ]
    },
    {
     "name": "stdout",
     "output_type": "stream",
     "text": [
      "\n",
      "{'eval_loss': 0.14722128438472748, 'eval_accuracy': 0.95012, 'eval_f1': 0.9501738122827347, 'eval_precision': 0.9491498363534765, 'eval_recall': 0.9512, 'epoch': 1.9984, 'total_flos': 19145805312000000, 'step': 780}\n"
     ]
    },
    {
     "data": {
      "application/vnd.jupyter.widget-view+json": {
       "model_id": "7db05b50f8b94951ae58d1b6c9e6617c",
       "version_major": 2,
       "version_minor": 0
      },
      "text/plain": [
       "HBox(children=(FloatProgress(value=0.0, description='Iteration', max=6250.0, style=ProgressStyle(description_w…"
      ]
     },
     "metadata": {},
     "output_type": "display_data"
    },
    {
     "name": "stderr",
     "output_type": "stream",
     "text": [
      "/opt/conda/conda-bld/pytorch_1587428270644/work/torch/csrc/utils/tensor_numpy.cpp:141: UserWarning: The given NumPy array is not writeable, and PyTorch does not support non-writeable tensors. This means you can write to the underlying (supposedly non-writeable) NumPy array using the tensor. You may want to copy the array to protect its data or make it writeable before converting it to a tensor. This type of warning will be suppressed for the rest of this program.\n",
      "/opt/conda/conda-bld/pytorch_1587428270644/work/torch/csrc/utils/tensor_numpy.cpp:141: UserWarning: The given NumPy array is not writeable, and PyTorch does not support non-writeable tensors. This means you can write to the underlying (supposedly non-writeable) NumPy array using the tensor. You may want to copy the array to protect its data or make it writeable before converting it to a tensor. This type of warning will be suppressed for the rest of this program.\n",
      "/opt/conda/conda-bld/pytorch_1587428270644/work/torch/csrc/utils/tensor_numpy.cpp:141: UserWarning: The given NumPy array is not writeable, and PyTorch does not support non-writeable tensors. This means you can write to the underlying (supposedly non-writeable) NumPy array using the tensor. You may want to copy the array to protect its data or make it writeable before converting it to a tensor. This type of warning will be suppressed for the rest of this program.\n",
      "/opt/conda/conda-bld/pytorch_1587428270644/work/torch/csrc/utils/tensor_numpy.cpp:141: UserWarning: The given NumPy array is not writeable, and PyTorch does not support non-writeable tensors. This means you can write to the underlying (supposedly non-writeable) NumPy array using the tensor. You may want to copy the array to protect its data or make it writeable before converting it to a tensor. This type of warning will be suppressed for the rest of this program.\n",
      "/opt/conda/conda-bld/pytorch_1587428270644/work/torch/csrc/utils/tensor_numpy.cpp:141: UserWarning: The given NumPy array is not writeable, and PyTorch does not support non-writeable tensors. This means you can write to the underlying (supposedly non-writeable) NumPy array using the tensor. You may want to copy the array to protect its data or make it writeable before converting it to a tensor. This type of warning will be suppressed for the rest of this program.\n",
      "/opt/conda/conda-bld/pytorch_1587428270644/work/torch/csrc/utils/tensor_numpy.cpp:141: UserWarning: The given NumPy array is not writeable, and PyTorch does not support non-writeable tensors. This means you can write to the underlying (supposedly non-writeable) NumPy array using the tensor. You may want to copy the array to protect its data or make it writeable before converting it to a tensor. This type of warning will be suppressed for the rest of this program.\n",
      "/opt/conda/conda-bld/pytorch_1587428270644/work/torch/csrc/utils/tensor_numpy.cpp:141: UserWarning: The given NumPy array is not writeable, and PyTorch does not support non-writeable tensors. This means you can write to the underlying (supposedly non-writeable) NumPy array using the tensor. You may want to copy the array to protect its data or make it writeable before converting it to a tensor. This type of warning will be suppressed for the rest of this program.\n",
      "/opt/conda/conda-bld/pytorch_1587428270644/work/torch/csrc/utils/tensor_numpy.cpp:141: UserWarning: The given NumPy array is not writeable, and PyTorch does not support non-writeable tensors. This means you can write to the underlying (supposedly non-writeable) NumPy array using the tensor. You may want to copy the array to protect its data or make it writeable before converting it to a tensor. This type of warning will be suppressed for the rest of this program.\n"
     ]
    },
    {
     "name": "stdout",
     "output_type": "stream",
     "text": [
      "{'loss': 0.13996124267578125, 'learning_rate': 2.880597014925373e-05, 'epoch': 2.01024, 'total_flos': 19243831835197440, 'step': 784}\n",
      "{'loss': 0.08258056640625, 'learning_rate': 2.82089552238806e-05, 'epoch': 2.03072, 'total_flos': 19439884881592320, 'step': 792}\n",
      "{'loss': 0.06771278381347656, 'learning_rate': 2.7611940298507467e-05, 'epoch': 2.0512, 'total_flos': 19635937927987200, 'step': 800}\n",
      "{'loss': 0.07229995727539062, 'learning_rate': 2.701492537313433e-05, 'epoch': 2.07168, 'total_flos': 19831990974382080, 'step': 808}\n",
      "{'loss': 0.08003616333007812, 'learning_rate': 2.6417910447761197e-05, 'epoch': 2.09216, 'total_flos': 20028044020776960, 'step': 816}\n",
      "Gradient overflow.  Skipping step, loss scaler 0 reducing loss scale to 32768.0\n",
      "{'loss': 0.10630416870117188, 'learning_rate': 2.582089552238806e-05, 'epoch': 2.11264, 'total_flos': 20224097067171840, 'step': 824}\n",
      "{'loss': 0.07814216613769531, 'learning_rate': 2.5223880597014926e-05, 'epoch': 2.13312, 'total_flos': 20420150113566720, 'step': 832}\n",
      "{'loss': 0.060138702392578125, 'learning_rate': 2.4626865671641793e-05, 'epoch': 2.1536, 'total_flos': 20616203159961600, 'step': 840}\n",
      "{'loss': 0.10052108764648438, 'learning_rate': 2.402985074626866e-05, 'epoch': 2.17408, 'total_flos': 20812256206356480, 'step': 848}\n",
      "{'loss': 0.08211135864257812, 'learning_rate': 2.3432835820895522e-05, 'epoch': 2.19456, 'total_flos': 21008309252751360, 'step': 856}\n",
      "{'loss': 0.07333946228027344, 'learning_rate': 2.283582089552239e-05, 'epoch': 2.21504, 'total_flos': 21204362299146240, 'step': 864}\n",
      "{'loss': 0.10522651672363281, 'learning_rate': 2.2238805970149256e-05, 'epoch': 2.23552, 'total_flos': 21400415345541120, 'step': 872}\n",
      "{'loss': 0.05667304992675781, 'learning_rate': 2.164179104477612e-05, 'epoch': 2.2560000000000002, 'total_flos': 21596468391936000, 'step': 880}\n",
      "{'loss': 0.05938911437988281, 'learning_rate': 2.1044776119402985e-05, 'epoch': 2.27648, 'total_flos': 21792521438330880, 'step': 888}\n",
      "{'loss': 0.05573844909667969, 'learning_rate': 2.0447761194029852e-05, 'epoch': 2.29696, 'total_flos': 21988574484725760, 'step': 896}\n",
      "{'loss': 0.06256866455078125, 'learning_rate': 1.9850746268656718e-05, 'epoch': 2.31744, 'total_flos': 22184627531120640, 'step': 904}\n",
      "{'loss': 0.06437873840332031, 'learning_rate': 1.925373134328358e-05, 'epoch': 2.33792, 'total_flos': 22380680577515520, 'step': 912}\n",
      "{'loss': 0.060577392578125, 'learning_rate': 1.865671641791045e-05, 'epoch': 2.3584, 'total_flos': 22576733623910400, 'step': 920}\n",
      "{'loss': 0.06936836242675781, 'learning_rate': 1.8059701492537314e-05, 'epoch': 2.37888, 'total_flos': 22772786670305280, 'step': 928}\n",
      "{'loss': 0.06119728088378906, 'learning_rate': 1.746268656716418e-05, 'epoch': 2.39936, 'total_flos': 22968839716700160, 'step': 936}\n",
      "{'loss': 0.08090591430664062, 'learning_rate': 1.6865671641791044e-05, 'epoch': 2.4198399999999998, 'total_flos': 23164892763095040, 'step': 944}\n",
      "{'loss': 0.060123443603515625, 'learning_rate': 1.626865671641791e-05, 'epoch': 2.44032, 'total_flos': 23360945809489920, 'step': 952}\n",
      "{'loss': 0.042995452880859375, 'learning_rate': 1.5671641791044777e-05, 'epoch': 2.4608, 'total_flos': 23556998855884800, 'step': 960}\n",
      "{'loss': 0.09428215026855469, 'learning_rate': 1.5074626865671642e-05, 'epoch': 2.48128, 'total_flos': 23753051902279680, 'step': 968}\n",
      "{'loss': 0.09759902954101562, 'learning_rate': 1.4477611940298509e-05, 'epoch': 2.50176, 'total_flos': 23949104948674560, 'step': 976}\n",
      "{'loss': 0.06276893615722656, 'learning_rate': 1.3880597014925373e-05, 'epoch': 2.52224, 'total_flos': 24145157995069440, 'step': 984}\n",
      "{'loss': 0.0719146728515625, 'learning_rate': 1.328358208955224e-05, 'epoch': 2.54272, 'total_flos': 24341211041464320, 'step': 992}\n",
      "{'loss': 0.060199737548828125, 'learning_rate': 1.2686567164179105e-05, 'epoch': 2.5632, 'total_flos': 24537264087859200, 'step': 1000}\n",
      "{'loss': 0.08887100219726562, 'learning_rate': 1.2089552238805971e-05, 'epoch': 2.58368, 'total_flos': 24733317134254080, 'step': 1008}\n",
      "{'loss': 0.05847358703613281, 'learning_rate': 1.1492537313432836e-05, 'epoch': 2.6041600000000003, 'total_flos': 24929370180648960, 'step': 1016}\n",
      "{'loss': 0.06302642822265625, 'learning_rate': 1.0895522388059703e-05, 'epoch': 2.62464, 'total_flos': 25125423227043840, 'step': 1024}\n",
      "{'loss': 0.12223243713378906, 'learning_rate': 1.0298507462686568e-05, 'epoch': 2.64512, 'total_flos': 25321476273438720, 'step': 1032}\n",
      "{'loss': 0.07596015930175781, 'learning_rate': 9.701492537313434e-06, 'epoch': 2.6656, 'total_flos': 25517529319833600, 'step': 1040}\n",
      "{'loss': 0.05639076232910156, 'learning_rate': 9.104477611940299e-06, 'epoch': 2.68608, 'total_flos': 25713582366228480, 'step': 1048}\n",
      "{'loss': 0.04538917541503906, 'learning_rate': 8.507462686567165e-06, 'epoch': 2.70656, 'total_flos': 25909635412623360, 'step': 1056}\n",
      "{'loss': 0.04943084716796875, 'learning_rate': 7.91044776119403e-06, 'epoch': 2.72704, 'total_flos': 26105688459018240, 'step': 1064}\n",
      "{'loss': 0.05520820617675781, 'learning_rate': 7.313432835820897e-06, 'epoch': 2.7475199999999997, 'total_flos': 26301741505413120, 'step': 1072}\n",
      "{'loss': 0.04843711853027344, 'learning_rate': 6.716417910447762e-06, 'epoch': 2.768, 'total_flos': 26497794551808000, 'step': 1080}\n",
      "{'loss': 0.0497589111328125, 'learning_rate': 6.119402985074627e-06, 'epoch': 2.78848, 'total_flos': 26693847598202880, 'step': 1088}\n",
      "Gradient overflow.  Skipping step, loss scaler 0 reducing loss scale to 65536.0\n",
      "{'loss': 0.07294654846191406, 'learning_rate': 5.522388059701493e-06, 'epoch': 2.80896, 'total_flos': 26889900644597760, 'step': 1096}\n",
      "{'loss': 0.03569793701171875, 'learning_rate': 4.925373134328359e-06, 'epoch': 2.82944, 'total_flos': 27085953690992640, 'step': 1104}\n",
      "{'loss': 0.1310577392578125, 'learning_rate': 4.328358208955224e-06, 'epoch': 2.84992, 'total_flos': 27282006737387520, 'step': 1112}\n",
      "{'loss': 0.09212303161621094, 'learning_rate': 3.7313432835820893e-06, 'epoch': 2.8704, 'total_flos': 27478059783782400, 'step': 1120}\n",
      "{'loss': 0.04401969909667969, 'learning_rate': 3.134328358208955e-06, 'epoch': 2.89088, 'total_flos': 27674112830177280, 'step': 1128}\n",
      "{'loss': 0.07784271240234375, 'learning_rate': 2.537313432835821e-06, 'epoch': 2.91136, 'total_flos': 27870165876572160, 'step': 1136}\n",
      "{'loss': 0.08031272888183594, 'learning_rate': 1.9402985074626867e-06, 'epoch': 2.9318400000000002, 'total_flos': 28066218922967040, 'step': 1144}\n",
      "{'loss': 0.07895469665527344, 'learning_rate': 1.3432835820895522e-06, 'epoch': 2.9523200000000003, 'total_flos': 28262271969361920, 'step': 1152}\n",
      "{'loss': 0.12014961242675781, 'learning_rate': 7.462686567164179e-07, 'epoch': 2.9728, 'total_flos': 28458325015756800, 'step': 1160}\n",
      "{'loss': 0.03470611572265625, 'learning_rate': 1.4925373134328358e-07, 'epoch': 2.99328, 'total_flos': 28654378062151680, 'step': 1168}\n",
      "\n"
     ]
    },
    {
     "data": {
      "application/vnd.jupyter.widget-view+json": {
       "model_id": "b13686dbb88c4a39be412aeb490e89bc",
       "version_major": 2,
       "version_minor": 0
      },
      "text/plain": [
       "HBox(children=(FloatProgress(value=0.0, description='Evaluation', max=3125.0, style=ProgressStyle(description_…"
      ]
     },
     "metadata": {},
     "output_type": "display_data"
    },
    {
     "name": "stderr",
     "output_type": "stream",
     "text": [
      "/opt/conda/conda-bld/pytorch_1587428270644/work/torch/csrc/utils/tensor_numpy.cpp:141: UserWarning: The given NumPy array is not writeable, and PyTorch does not support non-writeable tensors. This means you can write to the underlying (supposedly non-writeable) NumPy array using the tensor. You may want to copy the array to protect its data or make it writeable before converting it to a tensor. This type of warning will be suppressed for the rest of this program.\n",
      "/opt/conda/conda-bld/pytorch_1587428270644/work/torch/csrc/utils/tensor_numpy.cpp:141: UserWarning: The given NumPy array is not writeable, and PyTorch does not support non-writeable tensors. This means you can write to the underlying (supposedly non-writeable) NumPy array using the tensor. You may want to copy the array to protect its data or make it writeable before converting it to a tensor. This type of warning will be suppressed for the rest of this program.\n",
      "/opt/conda/conda-bld/pytorch_1587428270644/work/torch/csrc/utils/tensor_numpy.cpp:141: UserWarning: The given NumPy array is not writeable, and PyTorch does not support non-writeable tensors. This means you can write to the underlying (supposedly non-writeable) NumPy array using the tensor. You may want to copy the array to protect its data or make it writeable before converting it to a tensor. This type of warning will be suppressed for the rest of this program.\n",
      "/opt/conda/conda-bld/pytorch_1587428270644/work/torch/csrc/utils/tensor_numpy.cpp:141: UserWarning: The given NumPy array is not writeable, and PyTorch does not support non-writeable tensors. This means you can write to the underlying (supposedly non-writeable) NumPy array using the tensor. You may want to copy the array to protect its data or make it writeable before converting it to a tensor. This type of warning will be suppressed for the rest of this program.\n",
      "/opt/conda/conda-bld/pytorch_1587428270644/work/torch/csrc/utils/tensor_numpy.cpp:141: UserWarning: The given NumPy array is not writeable, and PyTorch does not support non-writeable tensors. This means you can write to the underlying (supposedly non-writeable) NumPy array using the tensor. You may want to copy the array to protect its data or make it writeable before converting it to a tensor. This type of warning will be suppressed for the rest of this program.\n",
      "/opt/conda/conda-bld/pytorch_1587428270644/work/torch/csrc/utils/tensor_numpy.cpp:141: UserWarning: The given NumPy array is not writeable, and PyTorch does not support non-writeable tensors. This means you can write to the underlying (supposedly non-writeable) NumPy array using the tensor. You may want to copy the array to protect its data or make it writeable before converting it to a tensor. This type of warning will be suppressed for the rest of this program.\n",
      "/opt/conda/conda-bld/pytorch_1587428270644/work/torch/csrc/utils/tensor_numpy.cpp:141: UserWarning: The given NumPy array is not writeable, and PyTorch does not support non-writeable tensors. This means you can write to the underlying (supposedly non-writeable) NumPy array using the tensor. You may want to copy the array to protect its data or make it writeable before converting it to a tensor. This type of warning will be suppressed for the rest of this program.\n",
      "/opt/conda/conda-bld/pytorch_1587428270644/work/torch/csrc/utils/tensor_numpy.cpp:141: UserWarning: The given NumPy array is not writeable, and PyTorch does not support non-writeable tensors. This means you can write to the underlying (supposedly non-writeable) NumPy array using the tensor. You may want to copy the array to protect its data or make it writeable before converting it to a tensor. This type of warning will be suppressed for the rest of this program.\n"
     ]
    },
    {
     "name": "stdout",
     "output_type": "stream",
     "text": [
      "\n",
      "{'eval_loss': 0.14871138486862182, 'eval_accuracy': 0.95652, 'eval_f1': 0.9568188138084455, 'eval_precision': 0.9502880138877929, 'eval_recall': 0.96344, 'epoch': 2.9984, 'total_flos': 28703391323750400, 'step': 1170}\n",
      "\n"
     ]
    },
    {
     "data": {
      "text/plain": [
       "TrainOutput(global_step=1170, training_loss=0.1800367176023304)"
      ]
     },
     "execution_count": 10,
     "metadata": {},
     "output_type": "execute_result"
    }
   ],
   "source": [
    "# train the model\n",
    "trainer.train()"
   ]
  },
  {
   "cell_type": "markdown",
   "metadata": {},
   "source": [
    "After the training has been completed we can evaluate the performance of the model and make sure we are loading the right model."
   ]
  },
  {
   "cell_type": "code",
   "execution_count": 12,
   "metadata": {},
   "outputs": [
    {
     "data": {
      "application/vnd.jupyter.widget-view+json": {
       "model_id": "0fb2cc862cb34bfab05193114bcf7a46",
       "version_major": 2,
       "version_minor": 0
      },
      "text/plain": [
       "HBox(children=(FloatProgress(value=0.0, description='Evaluation', max=3125.0, style=ProgressStyle(description_…"
      ]
     },
     "metadata": {},
     "output_type": "display_data"
    },
    {
     "name": "stderr",
     "output_type": "stream",
     "text": [
      "/opt/conda/conda-bld/pytorch_1587428270644/work/torch/csrc/utils/tensor_numpy.cpp:141: UserWarning: The given NumPy array is not writeable, and PyTorch does not support non-writeable tensors. This means you can write to the underlying (supposedly non-writeable) NumPy array using the tensor. You may want to copy the array to protect its data or make it writeable before converting it to a tensor. This type of warning will be suppressed for the rest of this program.\n",
      "/opt/conda/conda-bld/pytorch_1587428270644/work/torch/csrc/utils/tensor_numpy.cpp:141: UserWarning: The given NumPy array is not writeable, and PyTorch does not support non-writeable tensors. This means you can write to the underlying (supposedly non-writeable) NumPy array using the tensor. You may want to copy the array to protect its data or make it writeable before converting it to a tensor. This type of warning will be suppressed for the rest of this program.\n"
     ]
    }
   ],
   "source": [
    "trainer.evaluate()"
   ]
  },
  {
   "cell_type": "markdown",
   "metadata": {},
   "source": [
    "The best iteration of our model achieved an accuracy 0.9565, which would put us on [third place](http://nlpprogress.com/english/sentiment_analysis.html) in the leaderboard of sentiment analysis classification with IMDB.\n",
    "\n",
    "![](images/eval_roberta.svg)\n",
    "\n",
    "Thats it for this tutorial, hopefully you will find this helpful."
   ]
  }
 ],
 "metadata": {
  "kernelspec": {
   "display_name": "Python [conda env:torch] *",
   "language": "python",
   "name": "conda-env-torch-py"
  },
  "language_info": {
   "codemirror_mode": {
    "name": "ipython",
    "version": 3
   },
   "file_extension": ".py",
   "mimetype": "text/x-python",
   "name": "python",
   "nbconvert_exporter": "python",
   "pygments_lexer": "ipython3",
   "version": "3.6.9"
  }
 },
 "nbformat": 4,
 "nbformat_minor": 4
}
